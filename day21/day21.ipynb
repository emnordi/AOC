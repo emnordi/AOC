{
 "cells": [
  {
   "cell_type": "code",
   "execution_count": 140,
   "id": "250f3690",
   "metadata": {},
   "outputs": [],
   "source": [
    "import numpy as np\n",
    "import itertools\n",
    "import time"
   ]
  },
  {
   "cell_type": "code",
   "execution_count": 78,
   "id": "cc632ed8",
   "metadata": {},
   "outputs": [],
   "source": [
    "def get_score(dc, p_pos, p_score):\n",
    "    p_pos = p_pos + dc\n",
    "    if p_pos % 10 != 0:\n",
    "        p_pos = p_pos - (p_pos//10)*10\n",
    "    else:\n",
    "        p_pos = p_pos - (p_pos//10)*10\n",
    "        p_pos+=10\n",
    "    return p_pos, p_score+p_pos"
   ]
  },
  {
   "cell_type": "code",
   "execution_count": 194,
   "id": "4ce45fd3",
   "metadata": {},
   "outputs": [
    {
     "name": "stdout",
     "output_type": "stream",
     "text": [
      "p1_score 1000\n",
      "p2_score 694\n",
      "rolls 747\n",
      "part1 518418\n"
     ]
    }
   ],
   "source": [
    "p1 = 8\n",
    "p2 = 1\n",
    "rolls = 0\n",
    "p1_score = 0\n",
    "p2_score = 0\n",
    "win_score = 1000\n",
    "die_count = 1\n",
    "while(p1_score < win_score and p2_score < win_score):\n",
    "    die_sum = 0\n",
    "    for i in range(3):\n",
    "        if die_count > 100:\n",
    "            die_count = 1\n",
    "        die_sum += die_count\n",
    "        die_count += 1\n",
    "    if rolls%2 == 0:\n",
    "        p1, p1_score = get_score(die_sum, p1, p1_score)\n",
    "    else:\n",
    "        p2, p2_score = get_score(die_sum, p2, p2_score)\n",
    "    rolls += 3\n",
    "print(f'p1_score {p1_score}')\n",
    "print(f'p2_score {p2_score}')\n",
    "print(f'rolls {rolls}')\n",
    "print(f'part1 {rolls*min(p1_score, p2_score)}')"
   ]
  },
  {
   "cell_type": "code",
   "execution_count": 3,
   "id": "99a3df93",
   "metadata": {},
   "outputs": [],
   "source": [
    "def other_player(player):\n",
    "    if player == 'p1':\n",
    "        return 'p2'\n",
    "    else:\n",
    "        return 'p1'"
   ]
  },
  {
   "cell_type": "code",
   "execution_count": 187,
   "id": "84af7298",
   "metadata": {},
   "outputs": [],
   "source": [
    "@functools.lru_cache(maxsize=None)\n",
    "\n",
    "def go_deep(cur_pos, cur_score, op_pos, op_score):\n",
    "    p1_wins = 0\n",
    "    p2_wins = 0\n",
    "    for x in combs:\n",
    "        new_cur_p, new_cur_score = get_score(x, cur_pos, cur_score)\n",
    "        if new_cur_score > 20:\n",
    "            p1_wins += 1\n",
    "        else:\n",
    "            p2s, p1s = go_deep(op_pos, op_score, new_cur_p, new_cur_score)\n",
    "            p1_wins += p1s\n",
    "            p2_wins += p2s\n",
    "    return p1_wins, p2_wins"
   ]
  },
  {
   "cell_type": "code",
   "execution_count": 179,
   "id": "be8e3ad8",
   "metadata": {},
   "outputs": [],
   "source": [
    "combs = list(itertools.product([1,2,3], repeat=3))\n",
    "combs = [sum(x) for x in combs]"
   ]
  },
  {
   "cell_type": "code",
   "execution_count": 188,
   "id": "d762eb39",
   "metadata": {},
   "outputs": [
    {
     "name": "stdout",
     "output_type": "stream",
     "text": [
      "time: 0.5062260627746582\n",
      "116741133558209\n"
     ]
    }
   ],
   "source": [
    "p1 = 8\n",
    "p2 = 1\n",
    "p1wins = 0\n",
    "p2wins = 0\n",
    "f_list = np.array([])\n",
    "t0 = time.time()\n",
    "p1wins, p2wins = go_deep(p1, 0, p2, 0)\n",
    "t1 = time.time()\n",
    "total = t1-t0\n",
    "print(f'time: {total}')\n",
    "print(max(p1wins, p2wins))"
   ]
  }
 ],
 "metadata": {
  "kernelspec": {
   "display_name": "Python 3 (ipykernel)",
   "language": "python",
   "name": "python3"
  },
  "language_info": {
   "codemirror_mode": {
    "name": "ipython",
    "version": 3
   },
   "file_extension": ".py",
   "mimetype": "text/x-python",
   "name": "python",
   "nbconvert_exporter": "python",
   "pygments_lexer": "ipython3",
   "version": "3.10.1"
  }
 },
 "nbformat": 4,
 "nbformat_minor": 5
}
