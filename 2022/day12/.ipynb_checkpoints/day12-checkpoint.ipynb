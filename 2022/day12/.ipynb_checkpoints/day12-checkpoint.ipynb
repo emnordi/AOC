{
 "cells": [
  {
   "cell_type": "code",
   "execution_count": 87,
   "id": "4b7047c4",
   "metadata": {},
   "outputs": [],
   "source": [
    "import astar\n",
    "import numpy as np"
   ]
  },
  {
   "cell_type": "code",
   "execution_count": 78,
   "id": "8d8e790d",
   "metadata": {},
   "outputs": [],
   "source": [
    "def get_data(fname):\n",
    "    arr = []\n",
    "    with open(fname) as f:\n",
    "        for l in f.readlines():\n",
    "            digits = [x for x in str(l).rstrip()]\n",
    "            arr.append(digits)\n",
    "        return arr\n"
   ]
  },
  {
   "cell_type": "code",
   "execution_count": 79,
   "id": "919c83f4",
   "metadata": {},
   "outputs": [],
   "source": [
    "def ord2(val):\n",
    "    if val == 'S':\n",
    "        return ord('a')\n",
    "    elif val == 'E':\n",
    "        return ord('z')\n",
    "    else:\n",
    "        return ord(val)"
   ]
  },
  {
   "cell_type": "code",
   "execution_count": 216,
   "id": "45188cee",
   "metadata": {},
   "outputs": [],
   "source": [
    "def create_graph(inp):\n",
    "    n = {}\n",
    "    for row in range(len(inp)):\n",
    "        for col in range(len(inp[row])):\n",
    "            n[((inp[row][col], row, col), ord2(inp[row][col]))] = []\n",
    "            if row != 0 and ord2(inp[row-1][col]) in range(0, ord2(inp[row][col])+2):\n",
    "                n[((inp[row][col], row, col),ord2(inp[row][col]))].append(((inp[row-1][col], row-1, col), ord2(inp[row-1][col])))\n",
    "            \n",
    "            if row != len(inp) -1 and ord2(inp[row+1][col]) in range(0, ord2(inp[row][col])+2):\n",
    "                n[((inp[row][col], row, col),ord2(inp[row][col]))].append(((inp[row+1][col], row+1, col), ord2(inp[row+1][col])))\n",
    "            \n",
    "            if col != 0 and ord2(inp[row][col-1]) in range(0, ord2(inp[row][col])+2):\n",
    "                n[((inp[row][col], row, col),ord2(inp[row][col]))].append(((inp[row][col-1], row, col-1), ord2(inp[row][col-1])))\n",
    "            \n",
    "            if col != len(inp[row])-1 and ord2(inp[row][col+1]) in range(0, ord2(inp[row][col])+2):\n",
    "                n[((inp[row][col], row, col),ord2(inp[row][col]))].append(((inp[row][col+1], row, col+1), ord2(inp[row][col+1])))\n",
    "    return n"
   ]
  },
  {
   "cell_type": "code",
   "execution_count": 217,
   "id": "4fb59d05",
   "metadata": {},
   "outputs": [],
   "source": [
    "def neighbors(n):\n",
    "    for n1 in nodes[n]:\n",
    "        yield n1\n",
    "\n",
    "def distance(n1, n2):\n",
    "    return 1\n",
    "\n",
    "def cost(n, goal):\n",
    "    return 1"
   ]
  },
  {
   "cell_type": "code",
   "execution_count": 218,
   "id": "8869d0e0",
   "metadata": {},
   "outputs": [],
   "source": [
    "data = get_data('input.txt')\n",
    "nodes = create_graph(data)"
   ]
  },
  {
   "cell_type": "code",
   "execution_count": 219,
   "id": "f11c68d7",
   "metadata": {},
   "outputs": [
    {
     "name": "stdout",
     "output_type": "stream",
     "text": [
      "Part 1 408\n"
     ]
    }
   ],
   "source": [
    "start_pos = np.argwhere(np.array(data) == 'S')[0]\n",
    "end_pos = np.argwhere(np.array(data) == 'E')[0]\n",
    "path = list(astar.find_path((('S', start_pos[0], start_pos[1]), 97), (('E', end_pos[0], end_pos[1]), 122), neighbors_fnct=neighbors,\n",
    "                                heuristic_cost_estimate_fnct=cost, distance_between_fnct=distance))\n",
    "print('Part 1', len(path)-1)"
   ]
  },
  {
   "cell_type": "code",
   "execution_count": 222,
   "id": "556b8729",
   "metadata": {},
   "outputs": [],
   "source": [
    "start_pos2 = list(zip(*np.where(np.array(data) == 'a')))"
   ]
  },
  {
   "cell_type": "code",
   "execution_count": 225,
   "id": "bb4e044c",
   "metadata": {},
   "outputs": [
    {
     "name": "stdout",
     "output_type": "stream",
     "text": [
      "Part 2 399\n"
     ]
    }
   ],
   "source": [
    "lens = []\n",
    "for row, col in start_pos2:\n",
    "    try:\n",
    "        lens.append(len(list(astar.find_path((('a', row, col), 97), (('E', end_pos[0], end_pos[1]), 122), neighbors_fnct=neighbors,\n",
    "                                             heuristic_cost_estimate_fnct=cost, distance_between_fnct=distance))))\n",
    "    except:\n",
    "        pass\n",
    "        #no path\n",
    "print('Part 2', min(lens)-1)"
   ]
  },
  {
   "cell_type": "code",
   "execution_count": null,
   "id": "30d06480",
   "metadata": {},
   "outputs": [],
   "source": []
  }
 ],
 "metadata": {
  "kernelspec": {
   "display_name": "Python 3 (ipykernel)",
   "language": "python",
   "name": "python3"
  },
  "language_info": {
   "codemirror_mode": {
    "name": "ipython",
    "version": 3
   },
   "file_extension": ".py",
   "mimetype": "text/x-python",
   "name": "python",
   "nbconvert_exporter": "python",
   "pygments_lexer": "ipython3",
   "version": "3.10.6"
  }
 },
 "nbformat": 4,
 "nbformat_minor": 5
}
