{
 "cells": [
  {
   "cell_type": "code",
   "execution_count": 3,
   "id": "7af8d044",
   "metadata": {},
   "outputs": [],
   "source": [
    "import math\n",
    "import numpy as np"
   ]
  },
  {
   "cell_type": "code",
   "execution_count": 304,
   "id": "902fd4cd",
   "metadata": {},
   "outputs": [],
   "source": [
    "def get_data(fname):\n",
    "    instr = []\n",
    "    with open(fname) as f:\n",
    "        lines = f.readlines()\n",
    "        for line in lines:\n",
    "            instr.append(line.rstrip().split(' '))\n",
    "    return instr"
   ]
  },
  {
   "cell_type": "code",
   "execution_count": 305,
   "id": "625e6c4c",
   "metadata": {},
   "outputs": [],
   "source": [
    "def touching(h_pos, t_pos):\n",
    "    return math.floor(math.dist(h_pos, t_pos)) <= 1"
   ]
  },
  {
   "cell_type": "code",
   "execution_count": 306,
   "id": "e43dd1d1",
   "metadata": {},
   "outputs": [],
   "source": [
    "def update_pos(in_pos, direction):\n",
    "    if direction == 'U':\n",
    "        in_pos[1] += 1\n",
    "    elif direction == 'D':\n",
    "        in_pos[1] -= 1\n",
    "    elif direction == 'L':\n",
    "        in_pos[0] -= 1\n",
    "    elif direction == 'R':\n",
    "        in_pos[0] += 1\n",
    "    return in_pos"
   ]
  },
  {
   "cell_type": "code",
   "execution_count": 311,
   "id": "9d4a2aff",
   "metadata": {},
   "outputs": [],
   "source": [
    "def update_t_pos(h_pos, t_pos):\n",
    "    if math.dist(h_pos, t_pos) > 2:\n",
    "        t_pos[0] += np.sign(h_pos[0]-t_pos[0])\n",
    "        t_pos[1] += np.sign(h_pos[1]-t_pos[1])\n",
    "        return  t_pos\n",
    "    elif not touching(h_pos, t_pos):\n",
    "        t_pos[0] += np.sign(h_pos[0]-t_pos[0])\n",
    "        t_pos[1] += np.sign(h_pos[1]-t_pos[1])\n",
    "        return  t_pos\n",
    "    else:\n",
    "        return t_pos"
   ]
  },
  {
   "cell_type": "code",
   "execution_count": 312,
   "id": "3291246e",
   "metadata": {},
   "outputs": [],
   "source": [
    "data = get_data('input.txt')"
   ]
  },
  {
   "cell_type": "code",
   "execution_count": 315,
   "id": "d40fb321",
   "metadata": {},
   "outputs": [],
   "source": [
    "def do_task(knots):\n",
    "    visited = set()\n",
    "    t_currents = [[0,0]]*knots\n",
    "    visited.add(tuple(t_currents[0]))\n",
    "    for (direction, distance) in data:\n",
    "        for j in range(int(distance)):\n",
    "            t_currents[0] = update_pos(t_currents[0].copy(), direction)\n",
    "            for i in range(1, len(t_currents)):\n",
    "                new_t_pos = update_t_pos(t_currents[i-1].copy(), t_currents[i].copy())\n",
    "                t_currents[i] = new_t_pos.copy()\n",
    "                if i == len(t_currents)-1:\n",
    "                    visited.add(tuple(t_currents[i]))\n",
    "    return len(visited)"
   ]
  },
  {
   "cell_type": "code",
   "execution_count": 314,
   "id": "fad89e1b",
   "metadata": {},
   "outputs": [
    {
     "name": "stdout",
     "output_type": "stream",
     "text": [
      "Part 1 6037\n",
      "Part 2 2485\n"
     ]
    }
   ],
   "source": [
    "print('Part 1', do_task(2))\n",
    "print('Part 2', do_task(10))"
   ]
  }
 ],
 "metadata": {
  "kernelspec": {
   "display_name": "Python 3 (ipykernel)",
   "language": "python",
   "name": "python3"
  },
  "language_info": {
   "codemirror_mode": {
    "name": "ipython",
    "version": 3
   },
   "file_extension": ".py",
   "mimetype": "text/x-python",
   "name": "python",
   "nbconvert_exporter": "python",
   "pygments_lexer": "ipython3",
   "version": "3.10.6"
  }
 },
 "nbformat": 4,
 "nbformat_minor": 5
}
