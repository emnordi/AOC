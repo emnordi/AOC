{
 "cells": [
  {
   "cell_type": "code",
   "execution_count": 2,
   "id": "47a97c8b",
   "metadata": {},
   "outputs": [],
   "source": [
    "import numpy as np"
   ]
  },
  {
   "cell_type": "code",
   "execution_count": 36,
   "id": "2134b41d",
   "metadata": {},
   "outputs": [],
   "source": [
    "def get_data(fname):\n",
    "    nums = []\n",
    "    with open(fname) as f:\n",
    "        lines = f.readlines()\n",
    "        for line in lines:\n",
    "            l = line.rstrip()\n",
    "            l1, l2 = l.split(' ')\n",
    "            nums.append([letter_to_number(l1), letter_to_number(l2)])\n",
    "        return nums"
   ]
  },
  {
   "cell_type": "code",
   "execution_count": 37,
   "id": "f2759f7c",
   "metadata": {},
   "outputs": [],
   "source": [
    "def letter_to_number(letter):\n",
    "    if letter == 'A' or letter == 'X':\n",
    "        return 1\n",
    "    elif letter == 'B' or letter == 'Y':\n",
    "        return 2\n",
    "    elif letter == 'C' or letter == 'Z':\n",
    "        return 3"
   ]
  },
  {
   "cell_type": "code",
   "execution_count": 88,
   "id": "3ee85a1c",
   "metadata": {},
   "outputs": [],
   "source": [
    "def wins_against(a):\n",
    "    if a == 1:\n",
    "        return 2\n",
    "    elif a == 2:\n",
    "        return 3\n",
    "    elif a == 3:\n",
    "        return 1"
   ]
  },
  {
   "cell_type": "code",
   "execution_count": 89,
   "id": "235b868b",
   "metadata": {},
   "outputs": [],
   "source": [
    "def win_points(them, you):\n",
    "    if them == you:\n",
    "        return 3\n",
    "    elif you == wins_against(them):\n",
    "        return 6\n",
    "    else:\n",
    "        return 0"
   ]
  },
  {
   "cell_type": "code",
   "execution_count": 93,
   "id": "efd33fb8",
   "metadata": {},
   "outputs": [],
   "source": [
    "data = get_data('input.txt')"
   ]
  },
  {
   "cell_type": "code",
   "execution_count": 94,
   "id": "e8c31eef",
   "metadata": {},
   "outputs": [
    {
     "name": "stdout",
     "output_type": "stream",
     "text": [
      "Part 1: 14531\n",
      "Part 2: 11258\n"
     ]
    }
   ],
   "source": [
    "total = 0\n",
    "total_2 = 0\n",
    "for a, b in data:\n",
    "    total += win_points(a, b) + b\n",
    "    if b == 1:\n",
    "        total_2 += wins_against(wins_against(a))\n",
    "    elif b == 2:\n",
    "        total_2 += a + 3\n",
    "    elif b == 3:\n",
    "        total_2 += wins_against(a) + 6\n",
    "print('Part 1:', total)\n",
    "print('Part 2:', total_2)"
   ]
  },
  {
   "cell_type": "code",
   "execution_count": null,
   "id": "557c69cb",
   "metadata": {},
   "outputs": [],
   "source": []
  }
 ],
 "metadata": {
  "kernelspec": {
   "display_name": "Python 3 (ipykernel)",
   "language": "python",
   "name": "python3"
  },
  "language_info": {
   "codemirror_mode": {
    "name": "ipython",
    "version": 3
   },
   "file_extension": ".py",
   "mimetype": "text/x-python",
   "name": "python",
   "nbconvert_exporter": "python",
   "pygments_lexer": "ipython3",
   "version": "3.10.6"
  }
 },
 "nbformat": 4,
 "nbformat_minor": 5
}
