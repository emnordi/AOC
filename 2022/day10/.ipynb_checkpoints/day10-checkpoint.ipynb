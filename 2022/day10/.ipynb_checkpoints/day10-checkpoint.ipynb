{
 "cells": [
  {
   "cell_type": "code",
   "execution_count": 381,
   "id": "a8389c0e",
   "metadata": {},
   "outputs": [],
   "source": [
    "def get_data(fname):\n",
    "    arr = []\n",
    "    with open(fname) as f:\n",
    "        lines = f.readlines()\n",
    "        for line in lines:\n",
    "            arr.append(line.rstrip())\n",
    "        return arr"
   ]
  },
  {
   "cell_type": "code",
   "execution_count": 382,
   "id": "56d9ff70",
   "metadata": {},
   "outputs": [],
   "source": [
    "data = get_data('input.txt')"
   ]
  },
  {
   "cell_type": "code",
   "execution_count": 383,
   "id": "ac3a68fa",
   "metadata": {},
   "outputs": [],
   "source": [
    "def get_compval(c):\n",
    "    if c in range(1, 41):\n",
    "        return c\n",
    "    if c in range(41, 81):\n",
    "        return c - 40\n",
    "    if c in range(81, 121):\n",
    "        return c - 80\n",
    "    if c in range(121, 161):\n",
    "        return c - 120\n",
    "    if c in range(161, 201):\n",
    "        return c - 160\n",
    "    if c in range(201, 241):\n",
    "        return c - 200"
   ]
  },
  {
   "cell_type": "code",
   "execution_count": 384,
   "id": "abb68dd2",
   "metadata": {},
   "outputs": [],
   "source": [
    "def inc_cycle(c, total, sc, x_val):\n",
    "    if c in [20, 60, 100, 140, 180, 220]:\n",
    "        total += x_val*c\n",
    "    compval = get_compval(c)\n",
    "    if compval in [x_val, x_val + 1, x_val + 2]:\n",
    "        sc[(c-1)//40] += '#'\n",
    "    else:\n",
    "        sc[(c-1)//40] += ' '\n",
    "    return c + 1, total, sc"
   ]
  },
  {
   "cell_type": "code",
   "execution_count": 385,
   "id": "d027e563",
   "metadata": {},
   "outputs": [
    {
     "name": "stdout",
     "output_type": "stream",
     "text": [
      "Part 1 17180\n",
      "Part 2\n",
      "###  #### #  # ###  ###  #    #  # ###  \n",
      "#  # #    #  # #  # #  # #    #  # #  # \n",
      "#  # ###  #### #  # #  # #    #  # ###  \n",
      "###  #    #  # ###  ###  #    #  # #  # \n",
      "# #  #    #  # #    # #  #    #  # #  # \n",
      "#  # #### #  # #    #  # ####  ##  ###  \n"
     ]
    }
   ],
   "source": [
    "x = 1\n",
    "cycle = 1\n",
    "to_add = 0\n",
    "total = 0\n",
    "screen2 = ['', '', '', '', '', '']\n",
    "for d in data:\n",
    "    operation = d.split(' ')\n",
    "    if operation[0] == 'addx':\n",
    "        to_add = int(operation[1])\n",
    "    cycle, total, screen2 = inc_cycle(cycle, total, screen2.copy(), x)\n",
    "    if to_add != 0:\n",
    "        cycle, total, screen2 = inc_cycle(cycle, total, screen2.copy(), x)\n",
    "        x += to_add\n",
    "        to_add = 0\n",
    "print('Part 1', total)\n",
    "print('Part 2')\n",
    "for f in screen2:\n",
    "    print(f)"
   ]
  }
 ],
 "metadata": {
  "kernelspec": {
   "display_name": "Python 3 (ipykernel)",
   "language": "python",
   "name": "python3"
  },
  "language_info": {
   "codemirror_mode": {
    "name": "ipython",
    "version": 3
   },
   "file_extension": ".py",
   "mimetype": "text/x-python",
   "name": "python",
   "nbconvert_exporter": "python",
   "pygments_lexer": "ipython3",
   "version": "3.10.6"
  }
 },
 "nbformat": 4,
 "nbformat_minor": 5
}
