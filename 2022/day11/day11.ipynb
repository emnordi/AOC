{
 "cells": [
  {
   "cell_type": "code",
   "execution_count": 422,
   "id": "3dcc78ea",
   "metadata": {},
   "outputs": [],
   "source": [
    "import math\n",
    "import time\n",
    "from functools import reduce"
   ]
  },
  {
   "cell_type": "code",
   "execution_count": 423,
   "id": "bbaaaaa3",
   "metadata": {},
   "outputs": [],
   "source": [
    "class Monkey:\n",
    "  def __init__(self, hold_items, operation, divis, true_to, false_to):\n",
    "    self.hold_items = hold_items\n",
    "    self.operation = operation\n",
    "    self.divis = divis\n",
    "    self.true_to = true_to\n",
    "    self.false_to = false_to\n",
    "    self.inspects = 0\n",
    "    self.common_divisor = 0\n",
    "\n",
    "  def set_common_divisor(self, div):\n",
    "        self.common_divisor = div\n",
    "  def get_item(self, worry):\n",
    "    self.hold_items.append(worry)\n",
    "    \n",
    "  def divide_item(self, item):\n",
    "    self.hold_items[item] = math.floor(self.hold_items[item]/3)\n",
    "\n",
    "  def inspect_items(self, divide_worry, all_monkeys):\n",
    "    oper, val = self.operation.split(' ')\n",
    "    \n",
    "    for idx, worry in enumerate(self.hold_items):\n",
    "        self.inspects += 1\n",
    "        if oper == '+':\n",
    "            self.hold_items[idx] += int(val)\n",
    "        elif oper == '*':\n",
    "            if val.startswith('old'):\n",
    "                self.hold_items[idx] *= worry\n",
    "            else:\n",
    "                self.hold_items[idx] *= int(val)\n",
    "        if divide_worry:\n",
    "            self.divide_item(idx)\n",
    "        all_monkeys[self.test_item(idx)].hold_items.append(self.hold_items[idx])\n",
    "        \n",
    "  def test_item(self, idx):\n",
    "    if self.hold_items[idx] % self.common_divisor == 0:\n",
    "        self.hold_items[idx] = self.common_divisor\n",
    "    elif self.hold_items[idx] > self.common_divisor:\n",
    "        self.hold_items[idx] = self.hold_items[idx] % self.common_divisor\n",
    "        \n",
    "    if self.hold_items[idx] % self.divis == 0:\n",
    "        return self.true_to\n",
    "    else:\n",
    "        return self.false_to\n",
    "  def do_turn(self, all_monkeys, divide_worry):\n",
    "    self.inspect_items(divide_worry, all_monkeys)\n",
    "    self.hold_items = []"
   ]
  },
  {
   "cell_type": "code",
   "execution_count": 424,
   "id": "af70ceb8",
   "metadata": {},
   "outputs": [],
   "source": [
    "def get_data(fname):\n",
    "    monkeys = []\n",
    "    with open(fname) as file:\n",
    "        lines = file.readlines()\n",
    "        divisors = []\n",
    "        for i in range(len(lines)):\n",
    "            if lines[i].startswith('Monkey'):\n",
    "                hodl = list(map(int,lines[i+1][18:].rstrip().split(', ')))\n",
    "                operation = lines[i+2][23:]\n",
    "                divis = int(lines[i+3][21:])\n",
    "                divisors.append(divis)\n",
    "                true_monk = int(lines[i+4][29:])\n",
    "                false_monk = int(lines[i+5][30:])\n",
    "                monkeys.append(Monkey(hodl, operation, divis, true_monk, false_monk))\n",
    "        common_divisor = reduce(lambda x, y: x * y, divisors)\n",
    "        for m in monkeys:\n",
    "            m.set_common_divisor(common_divisor)\n",
    "        return monkeys"
   ]
  },
  {
   "cell_type": "code",
   "execution_count": 431,
   "id": "c1ef556d",
   "metadata": {},
   "outputs": [],
   "source": [
    "def do_task(rounds, div):\n",
    "    monkeys = get_data('input.txt')\n",
    "    start = time.time()\n",
    "    for i in range(rounds):\n",
    "        for m in monkeys:\n",
    "            m.do_turn(monkeys, div)\n",
    "    end = time.time()\n",
    "    print(end - start)\n",
    "    inspect_list = []\n",
    "    for m_ind, m in enumerate(monkeys):\n",
    "        inspect_list.append(m.inspects)\n",
    "    inspect_list.sort(reverse=True)\n",
    "    return inspect_list[0]*inspect_list[1]"
   ]
  },
  {
   "cell_type": "code",
   "execution_count": 432,
   "id": "e640e8f9",
   "metadata": {},
   "outputs": [
    {
     "name": "stdout",
     "output_type": "stream",
     "text": [
      "0.0015017986297607422\n",
      "Part 1 121800\n"
     ]
    }
   ],
   "source": [
    "print('Part 1', do_task(20, True))"
   ]
  },
  {
   "cell_type": "code",
   "execution_count": 433,
   "id": "69447e2c",
   "metadata": {},
   "outputs": [
    {
     "name": "stdout",
     "output_type": "stream",
     "text": [
      "0.6440532207489014\n",
      "Part 2 39109444654\n"
     ]
    }
   ],
   "source": [
    "print('Part 2', do_task(10000, False))"
   ]
  }
 ],
 "metadata": {
  "kernelspec": {
   "display_name": "Python 3 (ipykernel)",
   "language": "python",
   "name": "python3"
  },
  "language_info": {
   "codemirror_mode": {
    "name": "ipython",
    "version": 3
   },
   "file_extension": ".py",
   "mimetype": "text/x-python",
   "name": "python",
   "nbconvert_exporter": "python",
   "pygments_lexer": "ipython3",
   "version": "3.10.6"
  }
 },
 "nbformat": 4,
 "nbformat_minor": 5
}
