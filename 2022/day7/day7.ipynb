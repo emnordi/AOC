{
 "cells": [
  {
   "cell_type": "code",
   "execution_count": 247,
   "id": "21e682cd",
   "metadata": {},
   "outputs": [],
   "source": [
    "def get_data(fname):\n",
    "    data = []\n",
    "    with open(fname) as f:\n",
    "        lines = f.readlines()\n",
    "        for line in lines:\n",
    "            data.append(line.rstrip())\n",
    "    return data"
   ]
  },
  {
   "cell_type": "code",
   "execution_count": 271,
   "id": "6272c35b",
   "metadata": {},
   "outputs": [],
   "source": [
    "def get_file(lines, fsizes, files):\n",
    "        line = lines[0]\n",
    "        if line.startswith('dir'):\n",
    "            files[line[4:]] = {}\n",
    "        else:\n",
    "            fsize, fname = line.split(' ')\n",
    "            files[fname] = int(fsize)\n",
    "            fsizes += int(fsize)\n",
    "        if len(lines) == 1:\n",
    "            return [fsizes, files]\n",
    "        else:\n",
    "            return get_file(lines[1:], fsizes, files)"
   ]
  },
  {
   "cell_type": "code",
   "execution_count": 273,
   "id": "1d762aa1",
   "metadata": {},
   "outputs": [],
   "source": [
    "def change_directory(dname, path):\n",
    "    dname = dname.replace('/', '')\n",
    "    if path == '':\n",
    "        path += '/'\n",
    "    if dname == '..':\n",
    "        spl = path.rsplit('/', 1)\n",
    "        path = spl[0]\n",
    "        if path == '':\n",
    "            path = '/'\n",
    "    else:\n",
    "        if path[-1] == '/':\n",
    "            path += dname\n",
    "        else:\n",
    "            path += '/' + dname\n",
    "    return path"
   ]
  },
  {
   "cell_type": "code",
   "execution_count": 274,
   "id": "b5284996",
   "metadata": {},
   "outputs": [],
   "source": [
    "def get_ls_lines(all_lines):\n",
    "    for idx, line in enumerate(all_lines):\n",
    "        if line.startswith('$'):\n",
    "            return idx\n",
    "        elif idx == len(all_lines)-1:\n",
    "            return idx + 1"
   ]
  },
  {
   "cell_type": "code",
   "execution_count": 275,
   "id": "7c165fce",
   "metadata": {},
   "outputs": [],
   "source": [
    "def get_filestruct(lines):\n",
    "    global_filestruct = {}\n",
    "    current_path = ''\n",
    "    i = 0\n",
    "    current_path_val = 0\n",
    "    while i < len(lines):\n",
    "        if lines[i].startswith('$ cd'):\n",
    "            _, cdir = lines[i].split('$ cd ')\n",
    "            old_path = current_path\n",
    "            current_path = change_directory(cdir, current_path)\n",
    "            if cdir == '..':\n",
    "                global_filestruct[current_path][0] +=  global_filestruct[old_path][0]\n",
    "        elif lines[i].startswith('$ ls'):\n",
    "            ls_end = get_ls_lines(lines[i+1:])\n",
    "            [fsizes, files] = get_file(lines[i+1:i+1+ls_end], 0, {})\n",
    "            global_filestruct[current_path] = [fsizes, files]\n",
    "            i+= ls_end\n",
    "        i += 1\n",
    "        if i >= len(lines):\n",
    "            while current_path != '/':\n",
    "                old_path = current_path\n",
    "                current_path = change_directory('..', current_path)\n",
    "                global_filestruct[current_path][0] +=  global_filestruct[old_path][0]\n",
    "    return global_filestruct;"
   ]
  },
  {
   "cell_type": "code",
   "execution_count": 276,
   "id": "e2a8b49c",
   "metadata": {},
   "outputs": [],
   "source": [
    "lines = get_data('input.txt')"
   ]
  },
  {
   "cell_type": "code",
   "execution_count": 279,
   "id": "e302fabb",
   "metadata": {},
   "outputs": [],
   "source": [
    "filestructure = get_filestruct(lines)"
   ]
  },
  {
   "cell_type": "code",
   "execution_count": 284,
   "id": "37152647",
   "metadata": {},
   "outputs": [
    {
     "name": "stdout",
     "output_type": "stream",
     "text": [
      "Part1: 1581595\n",
      "Part2: 1544176\n"
     ]
    }
   ],
   "source": [
    "part1 = 0\n",
    "for x in filestructure.keys():\n",
    "    if filestructure[x][0] <= 100000:\n",
    "        part1 += filestructure[x][0]\n",
    "print('Part1:', part1)\n",
    "\n",
    "fs_size = filestructure['/'][0]\n",
    "candidates = []\n",
    "for x in filestructure.keys():\n",
    "    if fs_size - filestructure[x][0] <= 40000000:\n",
    "        candidates.append(filestructure[x][0])\n",
    "print('Part2:', min(candidates))"
   ]
  }
 ],
 "metadata": {
  "kernelspec": {
   "display_name": "Python 3 (ipykernel)",
   "language": "python",
   "name": "python3"
  },
  "language_info": {
   "codemirror_mode": {
    "name": "ipython",
    "version": 3
   },
   "file_extension": ".py",
   "mimetype": "text/x-python",
   "name": "python",
   "nbconvert_exporter": "python",
   "pygments_lexer": "ipython3",
   "version": "3.10.6"
  }
 },
 "nbformat": 4,
 "nbformat_minor": 5
}
