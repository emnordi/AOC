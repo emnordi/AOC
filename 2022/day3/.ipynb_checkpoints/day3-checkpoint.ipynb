{
 "cells": [
  {
   "cell_type": "code",
   "execution_count": 45,
   "id": "02189afe",
   "metadata": {},
   "outputs": [],
   "source": [
    "def get_data(fname):\n",
    "    data = []\n",
    "    with open(fname) as f:\n",
    "        lines = f.readlines()\n",
    "        for line in lines:\n",
    "            l = line.rstrip()\n",
    "            data.append(l)\n",
    "        return data"
   ]
  },
  {
   "cell_type": "code",
   "execution_count": 46,
   "id": "d09083fc",
   "metadata": {},
   "outputs": [],
   "source": [
    "def char_to_val(c):\n",
    "    if c.isupper():\n",
    "        return ord(c) -38\n",
    "    else:\n",
    "        return ord(c) -96"
   ]
  },
  {
   "cell_type": "code",
   "execution_count": 60,
   "id": "49d37033",
   "metadata": {},
   "outputs": [],
   "source": [
    "data = get_data('input.txt')"
   ]
  },
  {
   "cell_type": "code",
   "execution_count": 61,
   "id": "171c065f",
   "metadata": {},
   "outputs": [
    {
     "name": "stdout",
     "output_type": "stream",
     "text": [
      "Part 1: 8153\n",
      "Part 2: 2342\n"
     ]
    }
   ],
   "source": [
    "tot = 0\n",
    "tot2 = 0\n",
    "for d in data:\n",
    "    l1 = d[:len(d)//2]\n",
    "    l2 = d[len(d)//2:]\n",
    "    intersect = list(set(l1) & set(l2))\n",
    "    tot += char_to_val(intersect[0])\n",
    "\n",
    "i = 0\n",
    "while i < len(data):\n",
    "    intersect = list(set(data[i]) & set(data[i+1]) & set(data[i+2]))\n",
    "    tot2 += char_to_val(intersect[0])\n",
    "    i += 3\n",
    "print('Part 1:', tot)\n",
    "print('Part 2:', tot2)"
   ]
  }
 ],
 "metadata": {
  "kernelspec": {
   "display_name": "Python 3 (ipykernel)",
   "language": "python",
   "name": "python3"
  },
  "language_info": {
   "codemirror_mode": {
    "name": "ipython",
    "version": 3
   },
   "file_extension": ".py",
   "mimetype": "text/x-python",
   "name": "python",
   "nbconvert_exporter": "python",
   "pygments_lexer": "ipython3",
   "version": "3.10.6"
  }
 },
 "nbformat": 4,
 "nbformat_minor": 5
}
