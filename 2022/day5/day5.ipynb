{
 "cells": [
  {
   "cell_type": "code",
   "execution_count": 59,
   "id": "c22c57d5",
   "metadata": {},
   "outputs": [],
   "source": [
    "def get_data(fname):\n",
    "    instructions = []\n",
    "    with open(fname) as f:\n",
    "        lines = f.readlines()\n",
    "        for line in lines:\n",
    "            l = line.rstrip()\n",
    "            l = l.replace('move ', '').replace('from ', '').replace('to ', '')\n",
    "            instructions.append([int(n) for n in l.split(' ')])\n",
    "    return instructions"
   ]
  },
  {
   "cell_type": "code",
   "execution_count": 105,
   "id": "c3d5dda2",
   "metadata": {},
   "outputs": [],
   "source": [
    "start = [\n",
    "    ['N','C','R','T','M','Z','P'],\n",
    "    ['D','N','T','S','B','Z'],\n",
    "    ['M','H','Q','R','F','C','T','G'],\n",
    "    ['G','R','Z'],\n",
    "    ['Z','N','R','H'],\n",
    "    ['F','H','S','W','P','Z','L','D'],\n",
    "    ['W','D','Z','R','C','G','M'],\n",
    "    ['S','J','F','L','H','W','Z','Q'],\n",
    "    ['S','Q','P','W','N']\n",
    "]"
   ]
  },
  {
   "cell_type": "code",
   "execution_count": 106,
   "id": "0116c1b7",
   "metadata": {},
   "outputs": [],
   "source": [
    "def do_task(instructions, start_data, rev):\n",
    "    sdata = start_data.copy()\n",
    "    for amount, fr, to in instructions:\n",
    "        to_move = sdata[fr-1][-amount:]\n",
    "        if rev:\n",
    "            to_move.reverse()\n",
    "        sdata[to-1] = sdata[to-1] + to_move\n",
    "        sdata[fr-1] = sdata[fr-1][:-amount]\n",
    "    return sdata"
   ]
  },
  {
   "cell_type": "code",
   "execution_count": 107,
   "id": "a22bfcca",
   "metadata": {},
   "outputs": [],
   "source": [
    "data = get_data('input.txt')"
   ]
  },
  {
   "cell_type": "code",
   "execution_count": 108,
   "id": "26c9eb69",
   "metadata": {},
   "outputs": [
    {
     "name": "stdout",
     "output_type": "stream",
     "text": [
      "Part 1: RTGWZTHLD\n",
      "Part 2: STHGRZZFR\n"
     ]
    }
   ],
   "source": [
    "t1 = do_task(data, start, True)\n",
    "t2 = do_task(data, start, False)\n",
    "ans1 = ''\n",
    "ans2 = ''\n",
    "for x in range(len(start)):\n",
    "    ans1 += t1[x][-1]\n",
    "    ans2 += t2[x][-1]\n",
    "\n",
    "print('Part 1:', ans1)\n",
    "print('Part 2:', ans2)"
   ]
  },
  {
   "cell_type": "code",
   "execution_count": null,
   "id": "ae0f3f54",
   "metadata": {},
   "outputs": [],
   "source": []
  }
 ],
 "metadata": {
  "kernelspec": {
   "display_name": "Python 3 (ipykernel)",
   "language": "python",
   "name": "python3"
  },
  "language_info": {
   "codemirror_mode": {
    "name": "ipython",
    "version": 3
   },
   "file_extension": ".py",
   "mimetype": "text/x-python",
   "name": "python",
   "nbconvert_exporter": "python",
   "pygments_lexer": "ipython3",
   "version": "3.10.6"
  }
 },
 "nbformat": 4,
 "nbformat_minor": 5
}
