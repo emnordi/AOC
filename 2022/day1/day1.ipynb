{
 "cells": [
  {
   "cell_type": "code",
   "execution_count": 77,
   "id": "2d40e7a5",
   "metadata": {},
   "outputs": [],
   "source": [
    "def get_data(fname):\n",
    "    elves_calories = []\n",
    "    temp = []\n",
    "    with open(fname) as f:\n",
    "        lines = f.readlines()\n",
    "        for line in lines:\n",
    "            l = line.rstrip()\n",
    "            if l.isnumeric():\n",
    "                temp.append(int(l))\n",
    "            else:\n",
    "                elves_calories.append(temp)\n",
    "                temp = []\n",
    "        elves_calories.append(temp)\n",
    "        return elves_calories"
   ]
  },
  {
   "cell_type": "code",
   "execution_count": 78,
   "id": "afdaad3f",
   "metadata": {},
   "outputs": [],
   "source": [
    "def find_fattest_3_elves(caldata):\n",
    "    top3 = [0, 0, 0]\n",
    "    for c in caldata:\n",
    "        sumc = sum(c)\n",
    "        if sumc > top3[2]:\n",
    "            top3.pop()\n",
    "            top3.append(sumc)\n",
    "            top3.sort(reverse=True)\n",
    "    return top3"
   ]
  },
  {
   "cell_type": "code",
   "execution_count": 79,
   "id": "b344e3d5",
   "metadata": {},
   "outputs": [],
   "source": [
    "data = get_data('input.txt')"
   ]
  },
  {
   "cell_type": "code",
   "execution_count": 80,
   "id": "22a37160",
   "metadata": {},
   "outputs": [
    {
     "name": "stdout",
     "output_type": "stream",
     "text": [
      "Part 1: 71502\n",
      "Part 2 208191\n"
     ]
    }
   ],
   "source": [
    "top3 = find_fattest_3_elves(data)\n",
    "print('Part 1:', top3[0])\n",
    "print('Part 2', sum(top3))"
   ]
  }
 ],
 "metadata": {
  "kernelspec": {
   "display_name": "Python 3 (ipykernel)",
   "language": "python",
   "name": "python3"
  },
  "language_info": {
   "codemirror_mode": {
    "name": "ipython",
    "version": 3
   },
   "file_extension": ".py",
   "mimetype": "text/x-python",
   "name": "python",
   "nbconvert_exporter": "python",
   "pygments_lexer": "ipython3",
   "version": "3.10.6"
  }
 },
 "nbformat": 4,
 "nbformat_minor": 5
}
