{
 "cells": [
  {
   "cell_type": "code",
   "execution_count": 12,
   "id": "c9b061ad",
   "metadata": {},
   "outputs": [],
   "source": [
    "import numpy as np"
   ]
  },
  {
   "cell_type": "code",
   "execution_count": 92,
   "id": "a5dee635",
   "metadata": {},
   "outputs": [],
   "source": [
    "def get_data(fname):\n",
    "    \n",
    "    with open(fname) as f:\n",
    "        lines = f.readlines()\n",
    "        arr = []\n",
    "        for idx, line in enumerate(lines):\n",
    "            l = line.rstrip()\n",
    "            l1, l2 = l.split(',')\n",
    "            temp = []\n",
    "            n1 = l1.split('-')\n",
    "            n2 = l2.split('-')\n",
    "            temp.append(list(np.arange(int(n1[0]), int(n1[1])+1)))\n",
    "            temp.append(list(np.arange(int(n2[0]), int(n2[1])+1)))\n",
    "            arr.append(temp)\n",
    "        return arr"
   ]
  },
  {
   "cell_type": "code",
   "execution_count": 101,
   "id": "713800b3",
   "metadata": {},
   "outputs": [],
   "source": [
    "def subset_and_overlap(l1, l2):\n",
    "    s1 = set(l1)\n",
    "    s2 = set(l2)\n",
    "    return (s1.issubset(s2) or s2.issubset(s1), s1 & s2)"
   ]
  },
  {
   "cell_type": "code",
   "execution_count": 98,
   "id": "4a7d5ba6",
   "metadata": {},
   "outputs": [],
   "source": [
    "data = get_data('input.txt')"
   ]
  },
  {
   "cell_type": "code",
   "execution_count": 102,
   "id": "a673c39a",
   "metadata": {},
   "outputs": [
    {
     "name": "stdout",
     "output_type": "stream",
     "text": [
      "Part 1: 483\n",
      "Part 2: 874\n"
     ]
    }
   ],
   "source": [
    "subsets = 0\n",
    "overlaps = 0\n",
    "for d1, d2 in data:\n",
    "    subset, overlap = subset_and_overlap(d1, d2)\n",
    "    if subset:\n",
    "        subsets += 1\n",
    "    if overlap: \n",
    "        overlaps += 1\n",
    "print('Part 1:', subsets)\n",
    "print('Part 2:', overlaps)"
   ]
  }
 ],
 "metadata": {
  "kernelspec": {
   "display_name": "Python 3 (ipykernel)",
   "language": "python",
   "name": "python3"
  },
  "language_info": {
   "codemirror_mode": {
    "name": "ipython",
    "version": 3
   },
   "file_extension": ".py",
   "mimetype": "text/x-python",
   "name": "python",
   "nbconvert_exporter": "python",
   "pygments_lexer": "ipython3",
   "version": "3.10.6"
  }
 },
 "nbformat": 4,
 "nbformat_minor": 5
}
