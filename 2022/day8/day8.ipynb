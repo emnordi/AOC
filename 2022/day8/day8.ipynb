{
 "cells": [
  {
   "cell_type": "code",
   "execution_count": 201,
   "id": "53f10812",
   "metadata": {},
   "outputs": [],
   "source": [
    "import numpy as np"
   ]
  },
  {
   "cell_type": "code",
   "execution_count": 213,
   "id": "50fe9069",
   "metadata": {},
   "outputs": [],
   "source": [
    "def get_data(fname):\n",
    "    data = []\n",
    "    with open(fname) as f:\n",
    "        lines = f.readlines()\n",
    "        for line in lines:\n",
    "            data.append(list(np.array(list(line.rstrip()), dtype=int)))\n",
    "        return data;"
   ]
  },
  {
   "cell_type": "code",
   "execution_count": 244,
   "id": "f448f1f1",
   "metadata": {},
   "outputs": [],
   "source": [
    "def check_min(col_i, row_i):\n",
    "    #Cant be seen from north AND Cant be seen from south\n",
    "    if not all(data[row_i][col_i] > data[:, col_i][:row_i]) and not all(data[row_i][col_i] > data[:, col_i][row_i+1:]):\n",
    "        #Cant be seen from west AND Cant be seen from east\n",
    "        if not all(data[row_i][col_i] > data[row_i, :][:col_i]) and not all(data[row_i][col_i] > data[row_i, :][col_i+1:]):\n",
    "            not_visibles[row_i][col_i] = 1"
   ]
  },
  {
   "cell_type": "code",
   "execution_count": 245,
   "id": "2bdfd2b7",
   "metadata": {},
   "outputs": [],
   "source": [
    "def tree_score(col_i, row_i):\n",
    "    east = 0\n",
    "    for i in range(col_i+1, w):\n",
    "        east += 1\n",
    "        if data[row_i][col_i] <= data[row_i][i]:\n",
    "            break\n",
    "    west = 0\n",
    "    for i in range(1, col_i+1):\n",
    "        west += 1\n",
    "        if data[row_i][col_i] <= data[row_i][col_i-i]:\n",
    "            break\n",
    "    north = 0\n",
    "    for i in range(1, row_i+1):\n",
    "        north += 1\n",
    "        if data[row_i][col_i] <= data[row_i-i][col_i]:\n",
    "            break\n",
    "    south = 0\n",
    "    for i in range(row_i+1, h):\n",
    "        south += 1\n",
    "        if data[row_i][col_i] <= data[i][col_i]:\n",
    "            break\n",
    "    return east*west*north*south"
   ]
  },
  {
   "cell_type": "code",
   "execution_count": 250,
   "id": "b1308420",
   "metadata": {},
   "outputs": [],
   "source": [
    "data = np.array(get_data('input.txt'))"
   ]
  },
  {
   "cell_type": "code",
   "execution_count": 253,
   "id": "dd105432",
   "metadata": {},
   "outputs": [],
   "source": [
    "w,h = data.shape\n",
    "not_visibles = np.zeros((len(data), len(data[0])), dtype=int)\n",
    "max_ts = 0\n",
    "for row_ind in range(w):\n",
    "    for col_ind in range(h):\n",
    "        if row_ind > 0 and col_ind > 0 and row_ind < w-1 and col_ind < h-1:\n",
    "            check_min(col_ind, row_ind)\n",
    "            ts = tree_score(col_ind, row_ind)\n",
    "            max_ts = max(ts, max_ts)"
   ]
  },
  {
   "cell_type": "code",
   "execution_count": 254,
   "id": "e75c92af",
   "metadata": {},
   "outputs": [
    {
     "name": "stdout",
     "output_type": "stream",
     "text": [
      "Task 1: 1543\n",
      "Task 2: 595080\n"
     ]
    }
   ],
   "source": [
    "print('Task 1:', (not_visibles == 0).sum())\n",
    "print('Task 2:', max_ts)"
   ]
  }
 ],
 "metadata": {
  "kernelspec": {
   "display_name": "Python 3 (ipykernel)",
   "language": "python",
   "name": "python3"
  },
  "language_info": {
   "codemirror_mode": {
    "name": "ipython",
    "version": 3
   },
   "file_extension": ".py",
   "mimetype": "text/x-python",
   "name": "python",
   "nbconvert_exporter": "python",
   "pygments_lexer": "ipython3",
   "version": "3.10.6"
  }
 },
 "nbformat": 4,
 "nbformat_minor": 5
}
