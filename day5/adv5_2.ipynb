{
 "cells": [
  {
   "cell_type": "code",
   "execution_count": 16,
   "id": "6dfc7343",
   "metadata": {},
   "outputs": [
    {
     "name": "stdout",
     "output_type": "stream",
     "text": [
      "[[0. 0. 0. ... 0. 0. 0.]\n",
      " [0. 0. 0. ... 0. 0. 0.]\n",
      " [0. 0. 0. ... 0. 0. 0.]\n",
      " ...\n",
      " [0. 0. 0. ... 0. 0. 0.]\n",
      " [0. 0. 0. ... 0. 0. 0.]\n",
      " [0. 0. 0. ... 0. 0. 0.]]\n",
      "17604\n"
     ]
    }
   ],
   "source": [
    "import numpy as np \n",
    "\n",
    "def check_vents(vents):\n",
    "    rows, cols = np.where(vents > 1)\n",
    "    return len(rows)\n",
    "\n",
    "def get_input():\n",
    "    arr = []\n",
    "    with open('input.txt') as f:\n",
    "        lines = f.readlines()\n",
    "        for line in lines:\n",
    "            fr, to = line.split(' -> ')\n",
    "            x1, y1 = fr.split(',')\n",
    "            x2, y2 = to.split(',')\n",
    "            arr.append([(int(x1),int(y1)), (int(x2),int(y2))])\n",
    "        return arr\n",
    "\n",
    "def get_max_val(arr):\n",
    "    return np.amax(arr)\n",
    "\n",
    "def create_vents_map(maxval):\n",
    "    return np.zeros((maxval, maxval))\n",
    "\n",
    "def add_vents(ventsmap, c1, c2):\n",
    "    x1, y1 = c1\n",
    "    x2, y2 = c2\n",
    "    if x1 == x2:\n",
    "        for i in range(min(y1, y2), max(y1, y2)+1):\n",
    "            ventsmap[i][x1] += 1\n",
    "    elif y1 == y2:\n",
    "        for i in range(min(x1, x2), max(x1, x2)+1):\n",
    "            ventsmap[y1][i] += 1\n",
    "    elif x1 < x2 and y1 < y2 or x1 > x2 and y1 > y2:\n",
    "        ventsmap = diag1(min(x1,x2), max(x1,x2), min(y1,y2), max(y1,y2), ventsmap)\n",
    "    elif (x1 > x2 and y1 < y2) or (x1 < x2 and y1 > y2):\n",
    "        ventsmap = diag2(min(x1, x2), max(x1,x2), max(y1,y2), min(y1,y2), ventsmap)\n",
    "    return ventsmap\n",
    "\n",
    "def diag1(tx1, tx2, ty1, ty2, ventsm):\n",
    "    while tx1 <= tx2 and ty1 <= ty2:\n",
    "        ventsm[ty1][tx1] += 1\n",
    "        tx1 += 1\n",
    "        ty1 += 1\n",
    "    return ventsm\n",
    "\n",
    "def diag2(tx1, tx2, ty1, ty2, ventsm):\n",
    "    while tx1 <= tx2 and ty1 >= ty2:\n",
    "        ventsm[ty1][tx1] += 1\n",
    "        tx1 += 1\n",
    "        ty1 -= 1\n",
    "    return ventsm\n",
    "\n",
    "coords = get_input()\n",
    "maxval = get_max_val(coords)\n",
    "ventsmap = create_vents_map(maxval+1)\n",
    "\n",
    "for c1, c2 in coords:\n",
    "    ventsmap = add_vents(ventsmap, c1, c2)\n",
    "\n",
    "#print(ventsmap)    \n",
    "print(check_vents(ventsmap))"
   ]
  }
 ],
 "metadata": {
  "kernelspec": {
   "display_name": "Python 3 (ipykernel)",
   "language": "python",
   "name": "python3"
  },
  "language_info": {
   "codemirror_mode": {
    "name": "ipython",
    "version": 3
   },
   "file_extension": ".py",
   "mimetype": "text/x-python",
   "name": "python",
   "nbconvert_exporter": "python",
   "pygments_lexer": "ipython3",
   "version": "3.7.7"
  }
 },
 "nbformat": 4,
 "nbformat_minor": 5
}
