{
 "cells": [
  {
   "cell_type": "code",
   "execution_count": 39,
   "id": "c2597938",
   "metadata": {},
   "outputs": [],
   "source": [
    "def get_data(fname):\n",
    "    arr = []\n",
    "    with open(fname) as f:\n",
    "        lines = f.readlines()\n",
    "        for line in lines:\n",
    "            arr.append(line.rstrip())\n",
    "        return arr"
   ]
  },
  {
   "cell_type": "code",
   "execution_count": 42,
   "id": "8e78700e",
   "metadata": {},
   "outputs": [],
   "source": [
    "def check_line(line):\n",
    "    unclosed = []\n",
    "    for c in line:\n",
    "        if c in close_brackets:\n",
    "            if unclosed[-1] != open_brackets[close_brackets.index(c)]:\n",
    "                return get_val(c)\n",
    "            else:\n",
    "                unclosed.pop()\n",
    "        else:\n",
    "            unclosed.append(c)\n",
    "    return 0"
   ]
  },
  {
   "cell_type": "code",
   "execution_count": 46,
   "id": "e8623641",
   "metadata": {},
   "outputs": [],
   "source": [
    "def unf_line(line):\n",
    "    unclosed = []\n",
    "    for c in line:\n",
    "        if c in close_brackets:\n",
    "            if unclosed[-1] != open_brackets[close_brackets.index(c)]:\n",
    "                return []\n",
    "            else:\n",
    "                unclosed.pop()\n",
    "        else:\n",
    "            unclosed.append(c)\n",
    "    return unclosed"
   ]
  },
  {
   "cell_type": "code",
   "execution_count": 1,
   "id": "a08035c4",
   "metadata": {},
   "outputs": [],
   "source": [
    "open_brackets = ['[', '(', '{', '<']\n",
    "close_brackets = [']', ')', '}', '>']"
   ]
  },
  {
   "cell_type": "code",
   "execution_count": 25,
   "id": "56933a1a",
   "metadata": {},
   "outputs": [],
   "source": [
    "def get_val(c):\n",
    "    switcher={\n",
    "                ')':3,\n",
    "                ']':57,\n",
    "                '}':1197,\n",
    "                '>':25137\n",
    "             }\n",
    "    return switcher.get(c,0)"
   ]
  },
  {
   "cell_type": "code",
   "execution_count": 62,
   "id": "cc58d9c3",
   "metadata": {},
   "outputs": [],
   "source": [
    "def get_val2(c):\n",
    "    switcher2={\n",
    "                '(':1,\n",
    "                '[':2,\n",
    "                '{':3,\n",
    "                '<':4\n",
    "             }\n",
    "    return switcher2.get(c,0)"
   ]
  },
  {
   "cell_type": "code",
   "execution_count": 44,
   "id": "12b5a816",
   "metadata": {},
   "outputs": [
    {
     "name": "stdout",
     "output_type": "stream",
     "text": [
      "265527\n"
     ]
    }
   ],
   "source": [
    "data = get_data('input.txt')\n",
    "tot = 0\n",
    "for l in data:\n",
    "    tot += check_line(l)\n",
    "    \n",
    "print(tot)"
   ]
  },
  {
   "cell_type": "code",
   "execution_count": 72,
   "id": "4ce4922a",
   "metadata": {},
   "outputs": [],
   "source": [
    "import bisect \n",
    "data = get_data('input.txt')\n",
    "a = []\n",
    "for line in data:\n",
    "    tot = 0\n",
    "    unf = unf_line(line)\n",
    "    if unf:\n",
    "        for c in reversed(unf):\n",
    "            tot = tot*5 + get_val2(c)\n",
    "        bisect.insort(a, tot)"
   ]
  },
  {
   "cell_type": "code",
   "execution_count": 73,
   "id": "e11cb6b1",
   "metadata": {},
   "outputs": [
    {
     "data": {
      "text/plain": [
       "3969823589"
      ]
     },
     "execution_count": 73,
     "metadata": {},
     "output_type": "execute_result"
    }
   ],
   "source": [
    "a[int(len(a)/2)]"
   ]
  },
  {
   "cell_type": "code",
   "execution_count": 69,
   "id": "a475f7e4",
   "metadata": {},
   "outputs": [
    {
     "data": {
      "text/plain": [
       "1"
      ]
     },
     "execution_count": 69,
     "metadata": {},
     "output_type": "execute_result"
    }
   ],
   "source": []
  }
 ],
 "metadata": {
  "kernelspec": {
   "display_name": "Python 3 (ipykernel)",
   "language": "python",
   "name": "python3"
  },
  "language_info": {
   "codemirror_mode": {
    "name": "ipython",
    "version": 3
   },
   "file_extension": ".py",
   "mimetype": "text/x-python",
   "name": "python",
   "nbconvert_exporter": "python",
   "pygments_lexer": "ipython3",
   "version": "3.7.7"
  }
 },
 "nbformat": 4,
 "nbformat_minor": 5
}
