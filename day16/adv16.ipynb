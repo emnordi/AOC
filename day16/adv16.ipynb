{
 "cells": [
  {
   "cell_type": "code",
   "execution_count": 118,
   "id": "e986b5f2",
   "metadata": {},
   "outputs": [],
   "source": [
    "def get_data(fname):\n",
    "    with open(fname) as f:\n",
    "        my_hexdata = f.readlines()[0]\n",
    "    scale = 16 ## equals to hexadecimal\n",
    "    num_of_bits = len(my_hexdata)*4\n",
    "    return bin(int(my_hexdata, scale))[2:].zfill(num_of_bits)"
   ]
  },
  {
   "cell_type": "code",
   "execution_count": 197,
   "id": "9cd677d2",
   "metadata": {},
   "outputs": [],
   "source": [
    "def get_literal(bin_data):\n",
    "    res = ''\n",
    "    for i in range(0, len(bin_data), 5):\n",
    "        if bin_data[i] == '1':\n",
    "            res += bin_data[i+1:i+5]\n",
    "        else:\n",
    "            res += bin_data[i+1:i+5]\n",
    "            return (res, i+5)"
   ]
  },
  {
   "cell_type": "code",
   "execution_count": 297,
   "id": "38e025a3",
   "metadata": {},
   "outputs": [],
   "source": [
    "def get_packet(data):\n",
    "    version = int(data[0:3], 2)\n",
    "    type_id = int(data[3:6], 2)\n",
    "    data = data[6:]\n",
    "    i = 6\n",
    "    \n",
    "    if type_id == 4:\n",
    "        numb, ind = get_literal(data)\n",
    "        return (type_id, 'literal', numb, i+ind)\n",
    "    else:\n",
    "        len_type_id = data[0]\n",
    "    \n",
    "        data = data[1:]\n",
    "        i+=1\n",
    "    \n",
    "        if len_type_id == '0':\n",
    "            sp_len = int(data[0:15], 2)\n",
    "            return (type_id, 'len', sp_len, i+15)\n",
    "        else:\n",
    "            no_sp = int(data[0:11], 2)\n",
    "            return (type_id, 'num', no_sp, i+11)"
   ]
  },
  {
   "cell_type": "code",
   "execution_count": 332,
   "id": "7d003c01",
   "metadata": {},
   "outputs": [],
   "source": [
    "def do_stuff(binary_data):\n",
    "    version, p_type, content, index = get_packet(binary_data)\n",
    "    print(get_packet(binary_data))\n",
    "    binary_data = binary_data[index:]\n",
    "    tot_vers = version\n",
    "    if p_type == 'len':\n",
    "        cur_len = 0\n",
    "        w_ind = 0\n",
    "        while w_ind < content:\n",
    "            temp = len(binary_data)\n",
    "            vers, binary_data = do_stuff(binary_data)\n",
    "            tot_vers += vers\n",
    "            w_ind += temp - len(binary_data)\n",
    "#             print(f'wind {w_ind} / {content}')\n",
    "    elif p_type == 'num':\n",
    "        for i in range(content):\n",
    "            vers, binary_data = do_stuff(binary_data)\n",
    "            tot_vers += vers\n",
    "    return tot_vers, binary_data"
   ]
  },
  {
   "cell_type": "code",
   "execution_count": 380,
   "id": "939cee3b",
   "metadata": {},
   "outputs": [],
   "source": [
    "def do_stuff(binary_data): #remade for part 2\n",
    "    version, p_type, content, index = get_packet(binary_data)\n",
    "    eqn = [get_packet(binary_data)]\n",
    "    binary_data = binary_data[index:]\n",
    "    if p_type == 'len':\n",
    "        cur_len = 0\n",
    "        w_ind = 0\n",
    "        while w_ind < content:\n",
    "            temp = len(binary_data)\n",
    "            eq, binary_data = do_stuff(binary_data)\n",
    "            eqn.append(eq)\n",
    "            w_ind += temp - len(binary_data)\n",
    "#             print(f'wind {w_ind} / {content}')\n",
    "    elif p_type == 'num':\n",
    "        for i in range(content):\n",
    "            eq, binary_data = do_stuff(binary_data)\n",
    "            eqn.append(eq)\n",
    "    return eqn, binary_data"
   ]
  },
  {
   "cell_type": "code",
   "execution_count": 374,
   "id": "a300d5f3",
   "metadata": {},
   "outputs": [],
   "source": [
    "def get_fvalue(eqn):\n",
    "    if eqn[0][0] == 4:\n",
    "        return int(eqn[0][2],2)\n",
    "    \n",
    "    values = [get_fvalue(sub) for sub in eqn[1:]]\n",
    "    \n",
    "    if eqn[0][0] == 0:\n",
    "        return sum(values)\n",
    "    elif eqn[0][0] == 1:\n",
    "        prod = 1\n",
    "        for value in values:\n",
    "            prod *= value\n",
    "        return prod\n",
    "    elif eqn[0][0] == 2:\n",
    "        return min(values)\n",
    "    elif eqn[0][0] == 3:\n",
    "        return max(values) \n",
    "    elif eqn[0][0] == 5:\n",
    "        return 1 if values[0] > values[1] else 0\n",
    "    elif eqn[0][0] == 6: # less than\n",
    "        return 1 if values[0] < values[1] else 0\n",
    "    else:\n",
    "        return 1 if values[0] == values[1] else 0"
   ]
  },
  {
   "cell_type": "code",
   "execution_count": 379,
   "id": "0d113608",
   "metadata": {},
   "outputs": [
    {
     "name": "stdout",
     "output_type": "stream",
     "text": [
      "7936430475134\n"
     ]
    }
   ],
   "source": [
    "binary_data = get_data('input.txt')\n",
    "equation = do_stuff(binary_data)[0]\n",
    "print(get_fvalue(equation))"
   ]
  }
 ],
 "metadata": {
  "kernelspec": {
   "display_name": "Python 3 (ipykernel)",
   "language": "python",
   "name": "python3"
  },
  "language_info": {
   "codemirror_mode": {
    "name": "ipython",
    "version": 3
   },
   "file_extension": ".py",
   "mimetype": "text/x-python",
   "name": "python",
   "nbconvert_exporter": "python",
   "pygments_lexer": "ipython3",
   "version": "3.10.1"
  }
 },
 "nbformat": 4,
 "nbformat_minor": 5
}
