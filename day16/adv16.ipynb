{
 "cells": [
  {
   "cell_type": "code",
   "execution_count": 28,
   "id": "e986b5f2",
   "metadata": {},
   "outputs": [],
   "source": [
    "def get_data(fname):\n",
    "    with open(fname) as f:\n",
    "        my_hexdata = f.readlines()[0]\n",
    "    scale = 16 ## equals to hexadecimal\n",
    "    num_of_bits = len(my_hexdata)*4\n",
    "    return bin(int(my_hexdata, scale))[2:].zfill(num_of_bits)"
   ]
  },
  {
   "cell_type": "code",
   "execution_count": 95,
   "id": "0b1129d0",
   "metadata": {},
   "outputs": [],
   "source": [
    "def get_literal(bin_data):\n",
    "    res = ''\n",
    "    for i in range(0, len(bin_data), 5):\n",
    "        if bin_data[i] == '1':\n",
    "            res += binary_data[i+1:i+5]\n",
    "        else:\n",
    "            res += binary_data[i+1:i+5]\n",
    "            return res"
   ]
  },
  {
   "cell_type": "code",
   "execution_count": 110,
   "id": "f023090a",
   "metadata": {},
   "outputs": [],
   "source": [
    "def get_packet(data):\n",
    "    version = int(data[0:3], 2)\n",
    "    type_id = int(data[3:6], 2)\n",
    "    data = data[6:]\n",
    "    \n",
    "    if type_id == 4:\n",
    "        return (version, 'literal', get_literal(data), data)\n",
    "    else:\n",
    "        len_type_id = data[0]\n",
    "    \n",
    "        data = data[1:]\n",
    "    \n",
    "        if len_type_id == '0':\n",
    "            sp_len = int(data[0:15], 2)\n",
    "            return (version, 'len', sp_len, data)\n",
    "        else:\n",
    "            no_sp = int(data[0:11], 2)\n",
    "            return (version, 'num', no_sp, data)"
   ]
  },
  {
   "cell_type": "code",
   "execution_count": 115,
   "id": "7c7836d4",
   "metadata": {},
   "outputs": [],
   "source": [
    "def do_stuff(inp):\n",
    "    version, p_type, content, binary_data = inp\n",
    "    tot_vers = version\n",
    "    if p_type == 'len':\n",
    "        cur_len = 0\n",
    "        while cur_len < content:\n",
    "            conts = get_packet(binary_data)\n",
    "            _,_,_,binary_data2 = conts\n",
    "            tot_vers += do_stuff(conts)\n",
    "            cur_len += len(binary_data) - len(binary_data2)\n",
    "    elif p_type == 'num':\n",
    "        for i in range(content):\n",
    "            print(binary_data)\n",
    "            conts = get_packet(binary_data)\n",
    "            _,_,_,binary_data = conts\n",
    "            tot_vers += do_stuff(conts)\n",
    "    return tot_vers"
   ]
  },
  {
   "cell_type": "code",
   "execution_count": 116,
   "id": "2554d601",
   "metadata": {},
   "outputs": [],
   "source": [
    "binary_data = get_data('test.txt')"
   ]
  },
  {
   "cell_type": "code",
   "execution_count": 117,
   "id": "0d113608",
   "metadata": {},
   "outputs": [
    {
     "name": "stdout",
     "output_type": "stream",
     "text": [
      "11101000101001010010001001000000000\n",
      "0101001010010001001000000000\n",
      "1010010001001000000000\n",
      "001001000000000\n",
      "00000000\n",
      "0\n"
     ]
    },
    {
     "ename": "ValueError",
     "evalue": "invalid literal for int() with base 2: ''",
     "output_type": "error",
     "traceback": [
      "\u001b[1;31m---------------------------------------------------------------------------\u001b[0m",
      "\u001b[1;31mValueError\u001b[0m                                Traceback (most recent call last)",
      "\u001b[1;32m~\\AppData\\Local\\Temp/ipykernel_23012/4019010182.py\u001b[0m in \u001b[0;36m<module>\u001b[1;34m\u001b[0m\n\u001b[1;32m----> 1\u001b[1;33m \u001b[0mtot_vers\u001b[0m \u001b[1;33m=\u001b[0m \u001b[0mdo_stuff\u001b[0m\u001b[1;33m(\u001b[0m\u001b[0mget_packet\u001b[0m\u001b[1;33m(\u001b[0m\u001b[0mbinary_data\u001b[0m\u001b[1;33m)\u001b[0m\u001b[1;33m)\u001b[0m\u001b[1;33m\u001b[0m\u001b[1;33m\u001b[0m\u001b[0m\n\u001b[0m",
      "\u001b[1;32m~\\AppData\\Local\\Temp/ipykernel_23012/1615797223.py\u001b[0m in \u001b[0;36mdo_stuff\u001b[1;34m(inp)\u001b[0m\n\u001b[0;32m      7\u001b[0m             \u001b[0mconts\u001b[0m \u001b[1;33m=\u001b[0m \u001b[0mget_packet\u001b[0m\u001b[1;33m(\u001b[0m\u001b[0mbinary_data\u001b[0m\u001b[1;33m)\u001b[0m\u001b[1;33m\u001b[0m\u001b[1;33m\u001b[0m\u001b[0m\n\u001b[0;32m      8\u001b[0m             \u001b[0m_\u001b[0m\u001b[1;33m,\u001b[0m\u001b[0m_\u001b[0m\u001b[1;33m,\u001b[0m\u001b[0m_\u001b[0m\u001b[1;33m,\u001b[0m\u001b[0mbinary_data2\u001b[0m \u001b[1;33m=\u001b[0m \u001b[0mconts\u001b[0m\u001b[1;33m\u001b[0m\u001b[1;33m\u001b[0m\u001b[0m\n\u001b[1;32m----> 9\u001b[1;33m             \u001b[0mtot_vers\u001b[0m \u001b[1;33m+=\u001b[0m \u001b[0mdo_stuff\u001b[0m\u001b[1;33m(\u001b[0m\u001b[0mconts\u001b[0m\u001b[1;33m)\u001b[0m\u001b[1;33m\u001b[0m\u001b[1;33m\u001b[0m\u001b[0m\n\u001b[0m\u001b[0;32m     10\u001b[0m             \u001b[0mcur_len\u001b[0m \u001b[1;33m+=\u001b[0m \u001b[0mlen\u001b[0m\u001b[1;33m(\u001b[0m\u001b[0mbinary_data\u001b[0m\u001b[1;33m)\u001b[0m \u001b[1;33m-\u001b[0m \u001b[0mlen\u001b[0m\u001b[1;33m(\u001b[0m\u001b[0mbinary_data2\u001b[0m\u001b[1;33m)\u001b[0m\u001b[1;33m\u001b[0m\u001b[1;33m\u001b[0m\u001b[0m\n\u001b[0;32m     11\u001b[0m     \u001b[1;32melif\u001b[0m \u001b[0mp_type\u001b[0m \u001b[1;33m==\u001b[0m \u001b[1;34m'num'\u001b[0m\u001b[1;33m:\u001b[0m\u001b[1;33m\u001b[0m\u001b[1;33m\u001b[0m\u001b[0m\n",
      "\u001b[1;32m~\\AppData\\Local\\Temp/ipykernel_23012/1615797223.py\u001b[0m in \u001b[0;36mdo_stuff\u001b[1;34m(inp)\u001b[0m\n\u001b[0;32m      7\u001b[0m             \u001b[0mconts\u001b[0m \u001b[1;33m=\u001b[0m \u001b[0mget_packet\u001b[0m\u001b[1;33m(\u001b[0m\u001b[0mbinary_data\u001b[0m\u001b[1;33m)\u001b[0m\u001b[1;33m\u001b[0m\u001b[1;33m\u001b[0m\u001b[0m\n\u001b[0;32m      8\u001b[0m             \u001b[0m_\u001b[0m\u001b[1;33m,\u001b[0m\u001b[0m_\u001b[0m\u001b[1;33m,\u001b[0m\u001b[0m_\u001b[0m\u001b[1;33m,\u001b[0m\u001b[0mbinary_data2\u001b[0m \u001b[1;33m=\u001b[0m \u001b[0mconts\u001b[0m\u001b[1;33m\u001b[0m\u001b[1;33m\u001b[0m\u001b[0m\n\u001b[1;32m----> 9\u001b[1;33m             \u001b[0mtot_vers\u001b[0m \u001b[1;33m+=\u001b[0m \u001b[0mdo_stuff\u001b[0m\u001b[1;33m(\u001b[0m\u001b[0mconts\u001b[0m\u001b[1;33m)\u001b[0m\u001b[1;33m\u001b[0m\u001b[1;33m\u001b[0m\u001b[0m\n\u001b[0m\u001b[0;32m     10\u001b[0m             \u001b[0mcur_len\u001b[0m \u001b[1;33m+=\u001b[0m \u001b[0mlen\u001b[0m\u001b[1;33m(\u001b[0m\u001b[0mbinary_data\u001b[0m\u001b[1;33m)\u001b[0m \u001b[1;33m-\u001b[0m \u001b[0mlen\u001b[0m\u001b[1;33m(\u001b[0m\u001b[0mbinary_data2\u001b[0m\u001b[1;33m)\u001b[0m\u001b[1;33m\u001b[0m\u001b[1;33m\u001b[0m\u001b[0m\n\u001b[0;32m     11\u001b[0m     \u001b[1;32melif\u001b[0m \u001b[0mp_type\u001b[0m \u001b[1;33m==\u001b[0m \u001b[1;34m'num'\u001b[0m\u001b[1;33m:\u001b[0m\u001b[1;33m\u001b[0m\u001b[1;33m\u001b[0m\u001b[0m\n",
      "\u001b[1;32m~\\AppData\\Local\\Temp/ipykernel_23012/1615797223.py\u001b[0m in \u001b[0;36mdo_stuff\u001b[1;34m(inp)\u001b[0m\n\u001b[0;32m     12\u001b[0m         \u001b[1;32mfor\u001b[0m \u001b[0mi\u001b[0m \u001b[1;32min\u001b[0m \u001b[0mrange\u001b[0m\u001b[1;33m(\u001b[0m\u001b[0mcontent\u001b[0m\u001b[1;33m)\u001b[0m\u001b[1;33m:\u001b[0m\u001b[1;33m\u001b[0m\u001b[1;33m\u001b[0m\u001b[0m\n\u001b[0;32m     13\u001b[0m             \u001b[0mprint\u001b[0m\u001b[1;33m(\u001b[0m\u001b[0mbinary_data\u001b[0m\u001b[1;33m)\u001b[0m\u001b[1;33m\u001b[0m\u001b[1;33m\u001b[0m\u001b[0m\n\u001b[1;32m---> 14\u001b[1;33m             \u001b[0mconts\u001b[0m \u001b[1;33m=\u001b[0m \u001b[0mget_packet\u001b[0m\u001b[1;33m(\u001b[0m\u001b[0mbinary_data\u001b[0m\u001b[1;33m)\u001b[0m\u001b[1;33m\u001b[0m\u001b[1;33m\u001b[0m\u001b[0m\n\u001b[0m\u001b[0;32m     15\u001b[0m             \u001b[0m_\u001b[0m\u001b[1;33m,\u001b[0m\u001b[0m_\u001b[0m\u001b[1;33m,\u001b[0m\u001b[0m_\u001b[0m\u001b[1;33m,\u001b[0m\u001b[0mbinary_data\u001b[0m \u001b[1;33m=\u001b[0m \u001b[0mconts\u001b[0m\u001b[1;33m\u001b[0m\u001b[1;33m\u001b[0m\u001b[0m\n\u001b[0;32m     16\u001b[0m             \u001b[0mtot_vers\u001b[0m \u001b[1;33m+=\u001b[0m \u001b[0mdo_stuff\u001b[0m\u001b[1;33m(\u001b[0m\u001b[0mconts\u001b[0m\u001b[1;33m)\u001b[0m\u001b[1;33m\u001b[0m\u001b[1;33m\u001b[0m\u001b[0m\n",
      "\u001b[1;32m~\\AppData\\Local\\Temp/ipykernel_23012/3465594871.py\u001b[0m in \u001b[0;36mget_packet\u001b[1;34m(data)\u001b[0m\n\u001b[0;32m      1\u001b[0m \u001b[1;32mdef\u001b[0m \u001b[0mget_packet\u001b[0m\u001b[1;33m(\u001b[0m\u001b[0mdata\u001b[0m\u001b[1;33m)\u001b[0m\u001b[1;33m:\u001b[0m\u001b[1;33m\u001b[0m\u001b[1;33m\u001b[0m\u001b[0m\n\u001b[0;32m      2\u001b[0m     \u001b[0mversion\u001b[0m \u001b[1;33m=\u001b[0m \u001b[0mint\u001b[0m\u001b[1;33m(\u001b[0m\u001b[0mdata\u001b[0m\u001b[1;33m[\u001b[0m\u001b[1;36m0\u001b[0m\u001b[1;33m:\u001b[0m\u001b[1;36m3\u001b[0m\u001b[1;33m]\u001b[0m\u001b[1;33m,\u001b[0m \u001b[1;36m2\u001b[0m\u001b[1;33m)\u001b[0m\u001b[1;33m\u001b[0m\u001b[1;33m\u001b[0m\u001b[0m\n\u001b[1;32m----> 3\u001b[1;33m     \u001b[0mtype_id\u001b[0m \u001b[1;33m=\u001b[0m \u001b[0mint\u001b[0m\u001b[1;33m(\u001b[0m\u001b[0mdata\u001b[0m\u001b[1;33m[\u001b[0m\u001b[1;36m3\u001b[0m\u001b[1;33m:\u001b[0m\u001b[1;36m6\u001b[0m\u001b[1;33m]\u001b[0m\u001b[1;33m,\u001b[0m \u001b[1;36m2\u001b[0m\u001b[1;33m)\u001b[0m\u001b[1;33m\u001b[0m\u001b[1;33m\u001b[0m\u001b[0m\n\u001b[0m\u001b[0;32m      4\u001b[0m     \u001b[0mdata\u001b[0m \u001b[1;33m=\u001b[0m \u001b[0mdata\u001b[0m\u001b[1;33m[\u001b[0m\u001b[1;36m6\u001b[0m\u001b[1;33m:\u001b[0m\u001b[1;33m]\u001b[0m\u001b[1;33m\u001b[0m\u001b[1;33m\u001b[0m\u001b[0m\n\u001b[0;32m      5\u001b[0m \u001b[1;33m\u001b[0m\u001b[0m\n",
      "\u001b[1;31mValueError\u001b[0m: invalid literal for int() with base 2: ''"
     ]
    }
   ],
   "source": [
    "tot_vers = do_stuff(get_packet(binary_data))"
   ]
  },
  {
   "cell_type": "code",
   "execution_count": 114,
   "id": "5bd97d8d",
   "metadata": {
    "scrolled": true
   },
   "outputs": [
    {
     "data": {
      "text/plain": [
       "False"
      ]
     },
     "execution_count": 114,
     "metadata": {},
     "output_type": "execute_result"
    }
   ],
   "source": [
    "all([y in 'ac' for y in 'abcd'])"
   ]
  }
 ],
 "metadata": {
  "kernelspec": {
   "display_name": "Python 3 (ipykernel)",
   "language": "python",
   "name": "python3"
  },
  "language_info": {
   "codemirror_mode": {
    "name": "ipython",
    "version": 3
   },
   "file_extension": ".py",
   "mimetype": "text/x-python",
   "name": "python",
   "nbconvert_exporter": "python",
   "pygments_lexer": "ipython3",
   "version": "3.7.7"
  }
 },
 "nbformat": 4,
 "nbformat_minor": 5
}
