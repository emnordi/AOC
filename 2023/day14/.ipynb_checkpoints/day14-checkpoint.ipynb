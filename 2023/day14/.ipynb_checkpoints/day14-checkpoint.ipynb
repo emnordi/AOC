{
 "cells": [
  {
   "cell_type": "code",
   "execution_count": 24,
   "id": "097501a3",
   "metadata": {},
   "outputs": [],
   "source": [
    "import numpy as np"
   ]
  },
  {
   "cell_type": "code",
   "execution_count": 5,
   "id": "d0b7c20f",
   "metadata": {},
   "outputs": [],
   "source": [
    "def get_data(fname):\n",
    "    with open(fname) as f:\n",
    "        lines = [list(line.rstrip()) for line in f.readlines()]\n",
    "    return lines"
   ]
  },
  {
   "cell_type": "code",
   "execution_count": 73,
   "id": "28659a1c",
   "metadata": {},
   "outputs": [],
   "source": [
    "def roll_north(inp):\n",
    "    updated = inp\n",
    "    changed = 1\n",
    "    while changed > 0:\n",
    "        changed = 0\n",
    "        for col, line in enumerate(updated):\n",
    "            if col > 0:\n",
    "                for row, c in enumerate(line):\n",
    "                    if c == 'O' and updated[col-1][row] == '.':\n",
    "                        updated[col][row] = '.'\n",
    "                        updated[col-1][row] = 'O'\n",
    "                        changed = 1\n",
    "    return updated"
   ]
  },
  {
   "cell_type": "code",
   "execution_count": 74,
   "id": "b6216490",
   "metadata": {},
   "outputs": [],
   "source": [
    "def do_cycle(inp):\n",
    "    updated = inp\n",
    "    for i in range(4):\n",
    "        rolled = roll_north(updated)\n",
    "        updated = np.rot90(rolled, 3)\n",
    "    return updated"
   ]
  },
  {
   "cell_type": "code",
   "execution_count": 94,
   "id": "c706eda4",
   "metadata": {},
   "outputs": [],
   "source": [
    "def task2(inp):\n",
    "    res = inp\n",
    "    visited = []\n",
    "    for i in range(1000000000):\n",
    "        res = do_cycle(res)\n",
    "        score = calculate_score(res)\n",
    "        if score in visited:\n",
    "            return score\n",
    "        else:\n",
    "            visited.append(score)\n",
    "    return score"
   ]
  },
  {
   "cell_type": "code",
   "execution_count": 95,
   "id": "7b06092f",
   "metadata": {},
   "outputs": [],
   "source": [
    "data = np.array(get_data('task.txt'))"
   ]
  },
  {
   "cell_type": "code",
   "execution_count": 96,
   "id": "b194bd57",
   "metadata": {},
   "outputs": [],
   "source": [
    "def calculate_score(inp):\n",
    "    tot = 0\n",
    "    for i, line in enumerate(inp):\n",
    "        tot += (len(inp)-i) * list(line).count('O')\n",
    "    return tot"
   ]
  },
  {
   "cell_type": "code",
   "execution_count": 97,
   "id": "d57e33c2",
   "metadata": {},
   "outputs": [
    {
     "name": "stdout",
     "output_type": "stream",
     "text": [
      "Task 1: 109833\n"
     ]
    }
   ],
   "source": [
    "rolled = roll_north(data)\n",
    "print('Task 1:', calculate_score(rolled))"
   ]
  },
  {
   "cell_type": "code",
   "execution_count": 98,
   "id": "052dc883",
   "metadata": {},
   "outputs": [
    {
     "name": "stdout",
     "output_type": "stream",
     "text": [
      "Task 2: 99380\n"
     ]
    }
   ],
   "source": [
    "result = task2(data)\n",
    "print('Task 2:', result)"
   ]
  },
  {
   "cell_type": "code",
   "execution_count": null,
   "id": "06c93575",
   "metadata": {},
   "outputs": [],
   "source": []
  }
 ],
 "metadata": {
  "kernelspec": {
   "display_name": "Python 3 (ipykernel)",
   "language": "python",
   "name": "python3"
  },
  "language_info": {
   "codemirror_mode": {
    "name": "ipython",
    "version": 3
   },
   "file_extension": ".py",
   "mimetype": "text/x-python",
   "name": "python",
   "nbconvert_exporter": "python",
   "pygments_lexer": "ipython3",
   "version": "3.10.6"
  }
 },
 "nbformat": 4,
 "nbformat_minor": 5
}
