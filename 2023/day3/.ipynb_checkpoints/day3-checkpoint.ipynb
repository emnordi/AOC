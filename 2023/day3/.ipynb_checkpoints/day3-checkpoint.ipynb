{
 "cells": [
  {
   "cell_type": "code",
   "execution_count": 1,
   "id": "31bcf5fc",
   "metadata": {},
   "outputs": [],
   "source": [
    "import math"
   ]
  },
  {
   "cell_type": "code",
   "execution_count": 31,
   "id": "cee8d020",
   "metadata": {},
   "outputs": [],
   "source": [
    "def get_data(fname):\n",
    "    with open(fname) as f:\n",
    "        data = f.read().splitlines() \n",
    "    return data"
   ]
  },
  {
   "cell_type": "code",
   "execution_count": 32,
   "id": "7b6baa41",
   "metadata": {},
   "outputs": [],
   "source": [
    "def find_digit_cords(line, lineno):\n",
    "    all_nums = []\n",
    "    current_number = []\n",
    "    for i in range(len(line)):\n",
    "        if(line[i].isdigit()):\n",
    "            current_number.append([i, lineno])\n",
    "        if (i == len(line) - 1 or not line[i].isdigit()) and len(current_number) > 0:\n",
    "            all_nums.append(current_number)\n",
    "            current_number = []\n",
    "    return all_nums"
   ]
  },
  {
   "cell_type": "code",
   "execution_count": 33,
   "id": "d6b285e8",
   "metadata": {},
   "outputs": [],
   "source": [
    "def is_symbol(char):\n",
    "    return not char.isdigit() and char != '.'"
   ]
  },
  {
   "cell_type": "code",
   "execution_count": 34,
   "id": "7e240a6e",
   "metadata": {},
   "outputs": [],
   "source": [
    "def is_star(char):\n",
    "    return char == '*'"
   ]
  },
  {
   "cell_type": "code",
   "execution_count": 35,
   "id": "f6ad0500",
   "metadata": {},
   "outputs": [],
   "source": [
    "def check_row(x, y, data):\n",
    "    if is_symbol(data[y][x]):\n",
    "        return 1\n",
    "    if x != 0 and is_symbol(data[y][x-1]):\n",
    "        return 1\n",
    "    if x != len(data[0]) - 1 and is_symbol(data[y][x+1]):\n",
    "        return 1\n",
    "    return 0"
   ]
  },
  {
   "cell_type": "code",
   "execution_count": 36,
   "id": "ee20582c",
   "metadata": {},
   "outputs": [],
   "source": [
    "def check_for_symbol(coord, data):\n",
    "    x, y = coord\n",
    "    has_symbol = 0\n",
    "    #Check above\n",
    "    if y != 0:\n",
    "        has_symbol += check_row(x, y-1, data)\n",
    "    #Check below\n",
    "    if y != len(data) - 1:\n",
    "        has_symbol += check_row(x, y+1, data)\n",
    "    #Check same row\n",
    "    has_symbol += check_row(x, y, data)\n",
    "    return has_symbol > 0"
   ]
  },
  {
   "cell_type": "code",
   "execution_count": 37,
   "id": "11c164a7",
   "metadata": {},
   "outputs": [],
   "source": [
    "def get_number_from_coords(coords):\n",
    "    numb = ''\n",
    "    for [x, y] in coords:\n",
    "        numb += data[y][x]\n",
    "    return int(numb)"
   ]
  },
  {
   "cell_type": "code",
   "execution_count": 38,
   "id": "4b8fd13c",
   "metadata": {},
   "outputs": [],
   "source": [
    "def get_numbers_next_symbols(number_coordinates):\n",
    "    numbers_adjacent_to_symbols = []\n",
    "    for current_line in number_coordinates:\n",
    "            for number_coords in current_line:\n",
    "                for numb in number_coords:\n",
    "                    if check_for_symbol(numb, data):\n",
    "                        numbers_adjacent_to_symbols.append(get_number_from_coords(number_coords))\n",
    "                        break\n",
    "    return numbers_adjacent_to_symbols"
   ]
  },
  {
   "cell_type": "code",
   "execution_count": 39,
   "id": "54651a84",
   "metadata": {},
   "outputs": [],
   "source": [
    "def neighbours(c1, c2):\n",
    "    return math.dist(c1, c2) < 2"
   ]
  },
  {
   "cell_type": "code",
   "execution_count": 40,
   "id": "4095c495",
   "metadata": {},
   "outputs": [],
   "source": [
    "def next_to_number(star_coord, num_coords):\n",
    "    for num in num_coords:\n",
    "        if neighbours(star_coord, num):\n",
    "            return num_coords"
   ]
  },
  {
   "cell_type": "code",
   "execution_count": 41,
   "id": "aaf66fea",
   "metadata": {},
   "outputs": [],
   "source": [
    "def next_to_two_numbers(star_coord, all_nums):\n",
    "    all_neightbours = []\n",
    "    for row in all_nums:\n",
    "        for numb_arr in row:\n",
    "            res = next_to_number(star_coord, numb_arr)\n",
    "            if res != None:\n",
    "                all_neightbours.append(res)\n",
    "    if len(all_neightbours) == 2:\n",
    "        return all_neightbours"
   ]
  },
  {
   "cell_type": "code",
   "execution_count": 42,
   "id": "30cffc82",
   "metadata": {},
   "outputs": [],
   "source": [
    "data = get_data('task.txt')"
   ]
  },
  {
   "cell_type": "code",
   "execution_count": 43,
   "id": "034e6d38",
   "metadata": {},
   "outputs": [],
   "source": [
    "def get_all_number_coordinates():\n",
    "    number_coordinates = []\n",
    "    for i, line in enumerate(data):\n",
    "        coords = find_digit_cords(line, i)\n",
    "        if len(coords) > 0:\n",
    "            number_coordinates.append(coords)\n",
    "    return number_coordinates"
   ]
  },
  {
   "cell_type": "code",
   "execution_count": 44,
   "id": "4761e5c1",
   "metadata": {},
   "outputs": [],
   "source": [
    "def get_all_star_coordinates():\n",
    "    star_coordinates = []\n",
    "    for y, line in enumerate(data):\n",
    "        for x, c in enumerate(line):\n",
    "            if is_star(c):\n",
    "                star_coordinates.append([x, y])\n",
    "    return star_coordinates"
   ]
  },
  {
   "cell_type": "code",
   "execution_count": 45,
   "id": "1b463fd6",
   "metadata": {},
   "outputs": [],
   "source": [
    "def task1():\n",
    "    number_coordinates = get_all_number_coordinates()\n",
    "    numbers_adjacent_to_symbols = get_numbers_next_symbols(number_coordinates)\n",
    "    print(sum(numbers_adjacent_to_symbols))"
   ]
  },
  {
   "cell_type": "code",
   "execution_count": 46,
   "id": "6a9715cc",
   "metadata": {},
   "outputs": [],
   "source": [
    "def task2():\n",
    "    pairs = []\n",
    "    number_coordinates = get_all_number_coordinates()\n",
    "    numbers_adjacent_to_symbols = get_numbers_next_symbols(number_coordinates)\n",
    "    star_coords = get_all_star_coordinates()\n",
    "    for star_coord in star_coords:\n",
    "        res_for_star = next_to_two_numbers(star_coord, number_coordinates)\n",
    "        if res_for_star != None:\n",
    "            pairs.append(res_for_star)\n",
    "    total = 0\n",
    "    for [p1, p2] in pairs:\n",
    "        total += get_number_from_coords(p1) * get_number_from_coords(p2)\n",
    "    print(total)"
   ]
  },
  {
   "cell_type": "code",
   "execution_count": 47,
   "id": "e7a7f85e",
   "metadata": {},
   "outputs": [
    {
     "name": "stdout",
     "output_type": "stream",
     "text": [
      "540131\n"
     ]
    }
   ],
   "source": [
    "task1()"
   ]
  },
  {
   "cell_type": "code",
   "execution_count": 48,
   "id": "5f465afb",
   "metadata": {},
   "outputs": [
    {
     "name": "stdout",
     "output_type": "stream",
     "text": [
      "86879020\n"
     ]
    }
   ],
   "source": [
    "task2()"
   ]
  },
  {
   "cell_type": "code",
   "execution_count": null,
   "id": "b01848a2",
   "metadata": {},
   "outputs": [],
   "source": []
  }
 ],
 "metadata": {
  "kernelspec": {
   "display_name": "Python 3 (ipykernel)",
   "language": "python",
   "name": "python3"
  },
  "language_info": {
   "codemirror_mode": {
    "name": "ipython",
    "version": 3
   },
   "file_extension": ".py",
   "mimetype": "text/x-python",
   "name": "python",
   "nbconvert_exporter": "python",
   "pygments_lexer": "ipython3",
   "version": "3.10.6"
  }
 },
 "nbformat": 4,
 "nbformat_minor": 5
}
