{
 "cells": [
  {
   "cell_type": "code",
   "execution_count": 32,
   "id": "c6d87c08",
   "metadata": {},
   "outputs": [],
   "source": [
    "from collections import defaultdict \n",
    "import re\n",
    "def get_data(fname):\n",
    "    with open(fname) as f:\n",
    "        workflows = []\n",
    "        wdict =  defaultdict(list) \n",
    "        temp = []\n",
    "        parts = []\n",
    "        lines = f.readlines()\n",
    "        for line in lines:\n",
    "            if line == '\\n':\n",
    "                workflows = temp\n",
    "                temp = []\n",
    "            else:\n",
    "                temp.append(line.rstrip())\n",
    "        for w in workflows:\n",
    "            key, ops = w.replace('}', '').split('{')\n",
    "            wdict[key] = ops.split(',')\n",
    "        for t in temp:\n",
    "            pstring = t.replace('}', '').replace('{', '').split(',')\n",
    "            parts.append([int(p[2:]) for p in pstring])\n",
    "        return (wdict, parts)"
   ]
  },
  {
   "cell_type": "code",
   "execution_count": 33,
   "id": "7abc47a9",
   "metadata": {},
   "outputs": [],
   "source": [
    "def char_to_int(char):\n",
    "    if char == 'x':\n",
    "        return 0\n",
    "    if char == 'm':\n",
    "        return 1\n",
    "    if char == 'a':\n",
    "        return 2\n",
    "    if char == 's':\n",
    "        return 3"
   ]
  },
  {
   "cell_type": "code",
   "execution_count": 65,
   "id": "c88cad4d",
   "metadata": {},
   "outputs": [],
   "source": [
    "workflows, parts = get_data('test.txt')"
   ]
  },
  {
   "cell_type": "code",
   "execution_count": 66,
   "id": "e709f915",
   "metadata": {},
   "outputs": [],
   "source": [
    "accepted = []\n",
    "visited = []\n",
    "for p in parts:\n",
    "    temp = []\n",
    "    flow = ['in']\n",
    "    while(flow):\n",
    "        f = flow.pop()\n",
    "        temp.append(f)\n",
    "        if f == 'A':\n",
    "            accepted.append(p)\n",
    "            visited = visited + temp\n",
    "            temp = []\n",
    "        for w in workflows[f]:\n",
    "            if ':' not in w:\n",
    "                flow.append(w)\n",
    "                break\n",
    "            comparison, next_flow = w.split(':')\n",
    "            char, numb = re.split('<|>', comparison)\n",
    "            if '<' in comparison:\n",
    "                if p[char_to_int(char)] < int(numb):\n",
    "                    flow.append(next_flow)\n",
    "                    break\n",
    "            else:\n",
    "                if p[char_to_int(char)] > int(numb):\n",
    "                    flow.append(next_flow)\n",
    "                    break"
   ]
  },
  {
   "cell_type": "code",
   "execution_count": 67,
   "id": "ddf66f06",
   "metadata": {},
   "outputs": [
    {
     "name": "stdout",
     "output_type": "stream",
     "text": [
      "Task 1: 19114\n"
     ]
    }
   ],
   "source": [
    "print('Task 1:', sum([sum(a) for a in accepted]))"
   ]
  },
  {
   "cell_type": "code",
   "execution_count": 70,
   "id": "39c86a5d",
   "metadata": {},
   "outputs": [],
   "source": [
    "unique_visited = list(set(visited))"
   ]
  },
  {
   "cell_type": "code",
   "execution_count": 71,
   "id": "31616409",
   "metadata": {},
   "outputs": [
    {
     "name": "stdout",
     "output_type": "stream",
     "text": [
      "['s<1351:px', 'qqz']\n",
      "['s<537:gd', 'x>2440:R', 'A']\n",
      "['a>1716:R', 'A']\n",
      "['m>1548:A', 'A']\n",
      "[]\n",
      "['m>838:A', 'pv']\n",
      "['s>3448:A', 'lnx']\n",
      "['a<2006:qkq', 'm>2090:A', 'rfg']\n",
      "['s>2770:qs', 'm<1801:hdj', 'R']\n"
     ]
    }
   ],
   "source": [
    "for u in unique_visited:\n",
    "    for w in workflows[u]:\n",
    "        if ':' in w:\n",
    "            comparison, next_flow = w.split(':')\n",
    "            if next_flow in unique_visited:\n",
    "                "
   ]
  },
  {
   "cell_type": "code",
   "execution_count": null,
   "id": "219c7dc2",
   "metadata": {},
   "outputs": [],
   "source": []
  }
 ],
 "metadata": {
  "kernelspec": {
   "display_name": "Python 3 (ipykernel)",
   "language": "python",
   "name": "python3"
  },
  "language_info": {
   "codemirror_mode": {
    "name": "ipython",
    "version": 3
   },
   "file_extension": ".py",
   "mimetype": "text/x-python",
   "name": "python",
   "nbconvert_exporter": "python",
   "pygments_lexer": "ipython3",
   "version": "3.10.6"
  }
 },
 "nbformat": 4,
 "nbformat_minor": 5
}
