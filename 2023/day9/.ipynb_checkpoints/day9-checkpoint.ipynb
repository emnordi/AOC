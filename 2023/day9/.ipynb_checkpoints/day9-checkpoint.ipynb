{
 "cells": [
  {
   "cell_type": "code",
   "execution_count": 158,
   "id": "f9a45d9c",
   "metadata": {},
   "outputs": [],
   "source": [
    "import numpy as np"
   ]
  },
  {
   "cell_type": "code",
   "execution_count": 159,
   "id": "fb64d13a",
   "metadata": {},
   "outputs": [],
   "source": [
    "def get_differences(inp):\n",
    "    differences = [np.diff(inp)]\n",
    "    curr = []\n",
    "    while True:\n",
    "        curr = np.diff(differences[-1])\n",
    "        if np.all(curr == 0):\n",
    "            return differences\n",
    "        else:\n",
    "            differences.append(curr)"
   ]
  },
  {
   "cell_type": "code",
   "execution_count": 160,
   "id": "c3ed891e",
   "metadata": {},
   "outputs": [
    {
     "name": "stdout",
     "output_type": "stream",
     "text": [
      "Task1: 1581679977.0\n",
      "Task2: 889.0\n"
     ]
    }
   ],
   "source": [
    "data = np.genfromtxt(\"task.txt\", delimiter=\" \")\n",
    "total = 0\n",
    "total_2 = 0\n",
    "for d in data:\n",
    "    diffs = get_differences(d)\n",
    "    total += d[-1] + sum([di[-1] for di in diffs])\n",
    "    diffs.reverse()\n",
    "    prev = 0\n",
    "    for n in diffs:\n",
    "        prev = n[0] - prev\n",
    "    total_2 += d[0] - prev\n",
    "print('Task1:', total)\n",
    "print('Task2:', total_2)"
   ]
  },
  {
   "cell_type": "code",
   "execution_count": null,
   "id": "c2b3ed63",
   "metadata": {},
   "outputs": [],
   "source": []
  }
 ],
 "metadata": {
  "kernelspec": {
   "display_name": "Python 3 (ipykernel)",
   "language": "python",
   "name": "python3"
  },
  "language_info": {
   "codemirror_mode": {
    "name": "ipython",
    "version": 3
   },
   "file_extension": ".py",
   "mimetype": "text/x-python",
   "name": "python",
   "nbconvert_exporter": "python",
   "pygments_lexer": "ipython3",
   "version": "3.10.6"
  }
 },
 "nbformat": 4,
 "nbformat_minor": 5
}
