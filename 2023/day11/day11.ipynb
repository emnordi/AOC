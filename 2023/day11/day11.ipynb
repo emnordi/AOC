{
 "cells": [
  {
   "cell_type": "code",
   "execution_count": 60,
   "id": "26ca6c1c",
   "metadata": {},
   "outputs": [],
   "source": [
    "import numpy as np\n",
    "from scipy.spatial import distance\n",
    "def get_data(fname):\n",
    "    arr = []\n",
    "    with open(fname) as f:\n",
    "        lines = [l.rstrip().replace('.', '0').replace('#', '1') for l in f.readlines()]\n",
    "        for line in lines:\n",
    "            line = [int(l) for l in line]\n",
    "            arr.append(line)\n",
    "        return np.array(arr)\n",
    "            "
   ]
  },
  {
   "cell_type": "code",
   "execution_count": 70,
   "id": "c206358a",
   "metadata": {},
   "outputs": [],
   "source": [
    "def get_empty_rows(all_data):\n",
    "    empty_rows = []\n",
    "    for i, line in enumerate(all_data):\n",
    "        if not 1 in line:\n",
    "            empty_rows.append(i)\n",
    "    return empty_rows"
   ]
  },
  {
   "cell_type": "code",
   "execution_count": 83,
   "id": "b25e4824",
   "metadata": {},
   "outputs": [],
   "source": [
    "def get_empty_cols(all_data):\n",
    "    empty_cols = []\n",
    "    for i in range(all_data.shape[1]):\n",
    "        if not 1 in all_data[:, i]:\n",
    "            empty_cols.append(i)\n",
    "    return empty_cols"
   ]
  },
  {
   "cell_type": "code",
   "execution_count": 68,
   "id": "34effe27",
   "metadata": {},
   "outputs": [],
   "source": [
    "def crossing_empties(c1, c2, empty_rows, empty_cols):\n",
    "    x_crossings = 0\n",
    "    y_crossings = 0\n",
    "    x1, y1 = c1\n",
    "    x2, y2 = c2\n",
    "    for ey, ex in zip(empty_rows, empty_cols):\n",
    "        if ey > min(x1, x2) and ey < max(x1, x2):\n",
    "            x_crossings += 1\n",
    "        if ex > min(y1, y2) and ex < max(y1, y2):\n",
    "            y_crossings += 1\n",
    "    return x_crossings + y_crossings"
   ]
  },
  {
   "cell_type": "code",
   "execution_count": 95,
   "id": "95e5764b",
   "metadata": {},
   "outputs": [],
   "source": [
    "def compare_all_pairs(pairs):\n",
    "    for i, p1 in enumerate(pairs):\n",
    "        for p2 in pairs[i:]:\n",
    "            if p1 != p2:\n",
    "                print(p1, p2)"
   ]
  },
  {
   "cell_type": "code",
   "execution_count": 87,
   "id": "e1849505",
   "metadata": {},
   "outputs": [],
   "source": [
    "data = get_data('test.txt')\n",
    "empty_rows = get_empty_rows(data)\n",
    "empty_cols = get_empty_cols(data)"
   ]
  },
  {
   "cell_type": "code",
   "execution_count": 56,
   "id": "857d1f67",
   "metadata": {},
   "outputs": [],
   "source": [
    "y_cords, x_cords = np.where(data == 1)\n",
    "coords = []\n",
    "for x, y in zip(x_cords, y_cords):\n",
    "    coords.append([x, y])\n",
    "coords = np.array(pairs)"
   ]
  },
  {
   "cell_type": "code",
   "execution_count": 59,
   "id": "04c7d655",
   "metadata": {},
   "outputs": [
    {
     "data": {
      "text/plain": [
       "array([[ 0.,  5.,  5.,  7.,  7., 12., 12., 12., 10.],\n",
       "       [ 5.,  0.,  8.,  4., 10.,  7.,  7., 15., 11.],\n",
       "       [ 5.,  8.,  0.,  8.,  4., 13., 13.,  7., 11.],\n",
       "       [ 7.,  4.,  8.,  0.,  6.,  5.,  5., 11.,  7.],\n",
       "       [ 7., 10.,  4.,  6.,  0.,  9.,  9.,  5.,  7.],\n",
       "       [12.,  7., 13.,  5.,  9.,  0.,  4., 12.,  8.],\n",
       "       [12.,  7., 13.,  5.,  9.,  4.,  0.,  8.,  4.],\n",
       "       [12., 15.,  7., 11.,  5., 12.,  8.,  0.,  4.],\n",
       "       [10., 11., 11.,  7.,  7.,  8.,  4.,  4.,  0.]])"
      ]
     },
     "execution_count": 59,
     "metadata": {},
     "output_type": "execute_result"
    }
   ],
   "source": [
    "distance.cdist(coords, coords, 'cityblock')"
   ]
  },
  {
   "cell_type": "code",
   "execution_count": null,
   "id": "7dd1a1d4",
   "metadata": {},
   "outputs": [],
   "source": []
  }
 ],
 "metadata": {
  "kernelspec": {
   "display_name": "Python 3 (ipykernel)",
   "language": "python",
   "name": "python3"
  },
  "language_info": {
   "codemirror_mode": {
    "name": "ipython",
    "version": 3
   },
   "file_extension": ".py",
   "mimetype": "text/x-python",
   "name": "python",
   "nbconvert_exporter": "python",
   "pygments_lexer": "ipython3",
   "version": "3.11.5"
  }
 },
 "nbformat": 4,
 "nbformat_minor": 5
}
