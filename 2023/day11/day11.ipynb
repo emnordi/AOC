{
 "cells": [
  {
   "cell_type": "code",
   "execution_count": 215,
   "id": "26ca6c1c",
   "metadata": {},
   "outputs": [],
   "source": [
    "import numpy as np\n",
    "from scipy.spatial import distance\n",
    "def get_data(fname):\n",
    "    arr = []\n",
    "    with open(fname) as f:\n",
    "        lines = [l.rstrip().replace('.', '0').replace('#', '1') for l in f.readlines()]\n",
    "        for line in lines:\n",
    "            line = [int(l) for l in line]\n",
    "            arr.append(line)\n",
    "        return np.array(arr)\n",
    "            "
   ]
  },
  {
   "cell_type": "code",
   "execution_count": 216,
   "id": "c206358a",
   "metadata": {},
   "outputs": [],
   "source": [
    "def get_empty_rows(all_data):\n",
    "    empty_rows = []\n",
    "    for i, line in enumerate(all_data):\n",
    "        if not 1 in line:\n",
    "            empty_rows.append(i)\n",
    "    return empty_rows"
   ]
  },
  {
   "cell_type": "code",
   "execution_count": 217,
   "id": "b25e4824",
   "metadata": {},
   "outputs": [],
   "source": [
    "def get_empty_cols(all_data):\n",
    "    empty_cols = []\n",
    "    for i in range(all_data.shape[1]):\n",
    "        if not 1 in all_data[:, i]:\n",
    "            empty_cols.append(i)\n",
    "    return empty_cols"
   ]
  },
  {
   "cell_type": "code",
   "execution_count": 269,
   "id": "34effe27",
   "metadata": {},
   "outputs": [],
   "source": [
    "def crossing_empties(c1, c2, empty_rows, empty_cols):\n",
    "    x_crossings = 0\n",
    "    y_crossings = 0\n",
    "    x1, y1 = c1\n",
    "    x2, y2 = c2\n",
    "    for ey in empty_rows:\n",
    "        if ey > min(y1, y2) and ey < max(y1, y2):\n",
    "            x_crossings += 1\n",
    "    for ex in empty_cols:\n",
    "        if ex > min(x1, x2) and ex < max(x1, x2):\n",
    "            y_crossings += 1\n",
    "    return x_crossings + y_crossings"
   ]
  },
  {
   "cell_type": "code",
   "execution_count": 270,
   "id": "60d1115d",
   "metadata": {},
   "outputs": [],
   "source": [
    "def compare_all_pairs(pairs, empty_rows, empty_cols):\n",
    "    crossings = []\n",
    "    for p1 in pairs:\n",
    "        temp = []\n",
    "        for p2 in pairs:\n",
    "            if list(p1) != list(p2):\n",
    "                temp.append(crossing_empties(p1, p2, empty_rows, empty_cols))\n",
    "            else:\n",
    "                temp.append(0)\n",
    "        crossings.append(temp)\n",
    "    return crossings"
   ]
  },
  {
   "cell_type": "code",
   "execution_count": 272,
   "id": "e1849505",
   "metadata": {},
   "outputs": [],
   "source": [
    "data = get_data('task.txt')\n",
    "empty_rows = get_empty_rows(data)\n",
    "empty_cols = get_empty_cols(data)"
   ]
  },
  {
   "cell_type": "code",
   "execution_count": 273,
   "id": "857d1f67",
   "metadata": {},
   "outputs": [],
   "source": [
    "y_cords, x_cords = np.where(data == 1)\n",
    "coords = []\n",
    "for x, y in zip(x_cords, y_cords):\n",
    "    coords.append([x, y])\n",
    "coords = np.array(coords)"
   ]
  },
  {
   "cell_type": "code",
   "execution_count": 274,
   "id": "04c7d655",
   "metadata": {},
   "outputs": [],
   "source": [
    "distances = distance.cdist(coords, coords, 'cityblock')"
   ]
  },
  {
   "cell_type": "code",
   "execution_count": 275,
   "id": "7dd1a1d4",
   "metadata": {},
   "outputs": [],
   "source": [
    "crossings = compare_all_pairs(coords, empty_rows, empty_cols)"
   ]
  },
  {
   "cell_type": "code",
   "execution_count": 276,
   "id": "71f710d4",
   "metadata": {},
   "outputs": [],
   "source": [
    "result = np.add(distances, crossings)"
   ]
  },
  {
   "cell_type": "code",
   "execution_count": 281,
   "id": "a3a9d514",
   "metadata": {},
   "outputs": [],
   "source": [
    "crossings2 = np.array(crossings)*999999\n",
    "result2 = np.add(distances, crossings2)"
   ]
  },
  {
   "cell_type": "code",
   "execution_count": 282,
   "id": "ca314bd7",
   "metadata": {},
   "outputs": [],
   "source": [
    "def do_task(res):\n",
    "    tot = 0\n",
    "    for i, row in enumerate(res):\n",
    "            for num in row[i:]:\n",
    "                if num > 0:\n",
    "                    tot += num\n",
    "    return tot"
   ]
  },
  {
   "cell_type": "code",
   "execution_count": 283,
   "id": "c61f19b4",
   "metadata": {},
   "outputs": [
    {
     "name": "stdout",
     "output_type": "stream",
     "text": [
      "Task1: 9684228.0\n"
     ]
    }
   ],
   "source": [
    "print('Task1:', do_task(result))"
   ]
  },
  {
   "cell_type": "code",
   "execution_count": 284,
   "id": "759a10ff",
   "metadata": {},
   "outputs": [
    {
     "name": "stdout",
     "output_type": "stream",
     "text": [
      "Task1: 483844716556.0\n"
     ]
    }
   ],
   "source": [
    "print('Task1:', do_task(result2))"
   ]
  },
  {
   "cell_type": "code",
   "execution_count": null,
   "id": "db1b5f54",
   "metadata": {},
   "outputs": [],
   "source": []
  }
 ],
 "metadata": {
  "kernelspec": {
   "display_name": "Python 3 (ipykernel)",
   "language": "python",
   "name": "python3"
  },
  "language_info": {
   "codemirror_mode": {
    "name": "ipython",
    "version": 3
   },
   "file_extension": ".py",
   "mimetype": "text/x-python",
   "name": "python",
   "nbconvert_exporter": "python",
   "pygments_lexer": "ipython3",
   "version": "3.10.6"
  }
 },
 "nbformat": 4,
 "nbformat_minor": 5
}
