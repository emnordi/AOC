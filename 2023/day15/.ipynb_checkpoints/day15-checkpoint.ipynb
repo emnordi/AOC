{
 "cells": [
  {
   "cell_type": "code",
   "execution_count": 21,
   "id": "6fef2f74",
   "metadata": {},
   "outputs": [],
   "source": [
    "from collections import defaultdict"
   ]
  },
  {
   "cell_type": "code",
   "execution_count": 5,
   "id": "46a356c1",
   "metadata": {},
   "outputs": [],
   "source": [
    "def get_data(fname):\n",
    "    with open(fname) as f:\n",
    "        data = f.readlines()\n",
    "        return data[0].split(',')"
   ]
  },
  {
   "cell_type": "code",
   "execution_count": 11,
   "id": "e1aaf0c4",
   "metadata": {},
   "outputs": [],
   "source": [
    "def do_hash(inp):\n",
    "    cur = 0\n",
    "    for character in inp:\n",
    "        cur += ord(character)\n",
    "        cur = (cur*17) % 256\n",
    "    return cur"
   ]
  },
  {
   "cell_type": "code",
   "execution_count": 62,
   "id": "7c9bfb3e",
   "metadata": {},
   "outputs": [],
   "source": [
    "def calculate_power(finalmap):\n",
    "    tot = 0\n",
    "    for k,v in finalmap.items():\n",
    "        for i, [subk, subv] in enumerate(v.items()):\n",
    "            tot += (k+1) * (i+1) * int(subv)\n",
    "    return tot"
   ]
  },
  {
   "cell_type": "code",
   "execution_count": 64,
   "id": "682118ee",
   "metadata": {},
   "outputs": [],
   "source": [
    "data = get_data('task.txt')"
   ]
  },
  {
   "cell_type": "code",
   "execution_count": 65,
   "id": "2792569c",
   "metadata": {},
   "outputs": [
    {
     "name": "stdout",
     "output_type": "stream",
     "text": [
      "Task 1: 514281\n",
      "Task 2: 244199\n"
     ]
    }
   ],
   "source": [
    "tot = 0\n",
    "hmap = defaultdict(defaultdict)\n",
    "for d in data:\n",
    "    tot += do_hash(d)\n",
    "    if '=' in d:\n",
    "        val, n = d.split('=')\n",
    "        key = do_hash(val)\n",
    "        cur = hmap[key]\n",
    "        cur[val] = n\n",
    "    elif '-' in d:\n",
    "        val = d[:-1]\n",
    "        key = do_hash(val)\n",
    "        cur = hmap[key]\n",
    "        if val in cur:\n",
    "            del cur[val]\n",
    "print('Task 1:', tot)\n",
    "print('Task 2:', calculate_power(hmap))"
   ]
  }
 ],
 "metadata": {
  "kernelspec": {
   "display_name": "Python 3 (ipykernel)",
   "language": "python",
   "name": "python3"
  },
  "language_info": {
   "codemirror_mode": {
    "name": "ipython",
    "version": 3
   },
   "file_extension": ".py",
   "mimetype": "text/x-python",
   "name": "python",
   "nbconvert_exporter": "python",
   "pygments_lexer": "ipython3",
   "version": "3.10.6"
  }
 },
 "nbformat": 4,
 "nbformat_minor": 5
}
