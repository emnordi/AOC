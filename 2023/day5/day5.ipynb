{
 "cells": [
  {
   "cell_type": "code",
   "execution_count": 125,
   "id": "757e3923",
   "metadata": {},
   "outputs": [],
   "source": [
    "def get_data(fname):\n",
    "    with open(fname) as f:\n",
    "        seeds = f.readline().rstrip().split()[1:]\n",
    "        lines = f.readlines()\n",
    "        allmaps = [[int(x) for x in seeds]]\n",
    "        newmap = []\n",
    "        for line in lines:\n",
    "            if line[0].isdigit():\n",
    "                newmap.append([int(x) for x in line.rstrip().split()])\n",
    "            elif len(newmap) > 0:\n",
    "                allmaps.append(newmap)\n",
    "                newmap = []\n",
    "        allmaps.append(newmap)\n",
    "    return allmaps"
   ]
  },
  {
   "cell_type": "code",
   "execution_count": 126,
   "id": "51999917",
   "metadata": {},
   "outputs": [],
   "source": [
    "def do_mapping(li, inp):\n",
    "    for mapping in li:\n",
    "        dest_start, source_start, length = mapping\n",
    "        if inp >= source_start and inp < source_start + length:\n",
    "            return dest_start + (inp - source_start)\n",
    "    return inp"
   ]
  },
  {
   "cell_type": "code",
   "execution_count": 127,
   "id": "ba986b47",
   "metadata": {},
   "outputs": [],
   "source": [
    "def task1(seeds, m):\n",
    "    res = seeds.copy()\n",
    "    for i, s in enumerate(seeds):\n",
    "        res[i] = do_mapping(m, s)\n",
    "    return res"
   ]
  },
  {
   "cell_type": "code",
   "execution_count": 128,
   "id": "f682cbff",
   "metadata": {},
   "outputs": [],
   "source": [
    "def task2(seeds):\n",
    "    seed_starts = seeds[::2] \n",
    "    seed_lengths = seeds[1::2]\n",
    "    seed_list = []\n",
    "    for seed, length in zip(seed_starts, seed_lengths):\n",
    "        for i in range(seed, seed+length):\n",
    "            seed_list.append(i)\n",
    "    return seed_list"
   ]
  },
  {
   "cell_type": "code",
   "execution_count": 129,
   "id": "04695469",
   "metadata": {},
   "outputs": [
    {
     "ename": "MemoryError",
     "evalue": "",
     "output_type": "error",
     "traceback": [
      "\u001b[1;31m---------------------------------------------------------------------------\u001b[0m",
      "\u001b[1;31mMemoryError\u001b[0m                               Traceback (most recent call last)",
      "Cell \u001b[1;32mIn[129], line 3\u001b[0m\n\u001b[0;32m      1\u001b[0m data \u001b[38;5;241m=\u001b[39m get_data(\u001b[38;5;124m'\u001b[39m\u001b[38;5;124mtask.txt\u001b[39m\u001b[38;5;124m'\u001b[39m)\n\u001b[0;32m      2\u001b[0m task1_res \u001b[38;5;241m=\u001b[39m data[\u001b[38;5;241m0\u001b[39m]\n\u001b[1;32m----> 3\u001b[0m task2_res \u001b[38;5;241m=\u001b[39m task2(data[\u001b[38;5;241m0\u001b[39m])\n\u001b[0;32m      4\u001b[0m all_maps \u001b[38;5;241m=\u001b[39m data[\u001b[38;5;241m1\u001b[39m:]\n",
      "Cell \u001b[1;32mIn[128], line 7\u001b[0m, in \u001b[0;36mtask2\u001b[1;34m(seeds)\u001b[0m\n\u001b[0;32m      5\u001b[0m \u001b[38;5;28;01mfor\u001b[39;00m seed, length \u001b[38;5;129;01min\u001b[39;00m \u001b[38;5;28mzip\u001b[39m(seed_starts, seed_lengths):\n\u001b[0;32m      6\u001b[0m     \u001b[38;5;28;01mfor\u001b[39;00m i \u001b[38;5;129;01min\u001b[39;00m \u001b[38;5;28mrange\u001b[39m(seed, seed\u001b[38;5;241m+\u001b[39mlength):\n\u001b[1;32m----> 7\u001b[0m         seed_list\u001b[38;5;241m.\u001b[39mappend(i)\n\u001b[0;32m      8\u001b[0m \u001b[38;5;28;01mreturn\u001b[39;00m seed_list\n",
      "\u001b[1;31mMemoryError\u001b[0m: "
     ]
    }
   ],
   "source": [
    "data = get_data('task.txt')\n",
    "task1_res = data[0]\n",
    "task2_res = task2(data[0])\n",
    "all_maps = data[1:]"
   ]
  },
  {
   "cell_type": "code",
   "execution_count": null,
   "id": "fe160948",
   "metadata": {},
   "outputs": [],
   "source": [
    "for m in all_maps:\n",
    "    #print(m)\n",
    "    task1_res = task1(task1_res, m)\n",
    "    task2_res = task1(task2_res, m)\n",
    "print(min(task1_res))\n",
    "print(min(task2_res))"
   ]
  }
 ],
 "metadata": {
  "kernelspec": {
   "display_name": "Python 3 (ipykernel)",
   "language": "python",
   "name": "python3"
  },
  "language_info": {
   "codemirror_mode": {
    "name": "ipython",
    "version": 3
   },
   "file_extension": ".py",
   "mimetype": "text/x-python",
   "name": "python",
   "nbconvert_exporter": "python",
   "pygments_lexer": "ipython3",
   "version": "3.11.5"
  }
 },
 "nbformat": 4,
 "nbformat_minor": 5
}
