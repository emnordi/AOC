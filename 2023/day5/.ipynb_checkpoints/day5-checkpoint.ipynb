{
 "cells": [
  {
   "cell_type": "code",
   "execution_count": 1,
   "id": "757e3923",
   "metadata": {},
   "outputs": [],
   "source": [
    "def get_data(fname):\n",
    "    with open(fname) as f:\n",
    "        seeds = f.readline().rstrip().split()[1:]\n",
    "        lines = f.readlines()\n",
    "        allmaps = [[int(x) for x in seeds]]\n",
    "        newmap = []\n",
    "        for line in lines:\n",
    "            if line[0].isdigit():\n",
    "                newmap.append([int(x) for x in line.rstrip().split()])\n",
    "            elif len(newmap) > 0:\n",
    "                allmaps.append(newmap)\n",
    "                newmap = []\n",
    "        allmaps.append(newmap)\n",
    "    return allmaps"
   ]
  },
  {
   "cell_type": "code",
   "execution_count": 2,
   "id": "51999917",
   "metadata": {},
   "outputs": [],
   "source": [
    "def do_mapping(li, inp):\n",
    "    for mapping in li:\n",
    "        dest_start, source_start, length = mapping\n",
    "        if inp >= source_start and inp < source_start + length:\n",
    "            return dest_start + (inp - source_start)\n",
    "    return inp"
   ]
  },
  {
   "cell_type": "code",
   "execution_count": 6,
   "id": "ba986b47",
   "metadata": {},
   "outputs": [],
   "source": [
    "def task1(seeds, m):\n",
    "    res = seeds.copy()\n",
    "    for i, s in enumerate(seeds):\n",
    "        res[i] = do_mapping(m, s)\n",
    "    return res"
   ]
  },
  {
   "cell_type": "code",
   "execution_count": 13,
   "id": "f682cbff",
   "metadata": {},
   "outputs": [],
   "source": [
    "def task2(seeds):\n",
    "    seed_starts = seeds[::2] \n",
    "    seed_lengths = seeds[1::2]\n",
    "    seed_list = []\n",
    "    for seed, length in zip(seed_starts[9:], seed_lengths[9:]):\n",
    "        print(seed)\n",
    "        for i in range(seed, seed+length):\n",
    "            seed_list.append(i)\n",
    "        return seed_list"
   ]
  },
  {
   "cell_type": "code",
   "execution_count": 14,
   "id": "04695469",
   "metadata": {},
   "outputs": [
    {
     "name": "stdout",
     "output_type": "stream",
     "text": [
      "412141395\n"
     ]
    }
   ],
   "source": [
    "data = get_data('task.txt')\n",
    "task1_res = data[0]\n",
    "task2_res = task2(data[0])\n",
    "all_maps = data[1:]"
   ]
  },
  {
   "cell_type": "code",
   "execution_count": 16,
   "id": "ba2c6dfa",
   "metadata": {},
   "outputs": [
    {
     "name": "stdout",
     "output_type": "stream",
     "text": [
      "3374647\n"
     ]
    }
   ],
   "source": [
    "for i, m in enumerate(all_maps):\n",
    "    task1_res = task1(task1_res, m)\n",
    "print(min(task1_res))"
   ]
  },
  {
   "cell_type": "code",
   "execution_count": 15,
   "id": "fe160948",
   "metadata": {},
   "outputs": [
    {
     "name": "stdout",
     "output_type": "stream",
     "text": [
      "0\n",
      "1\n",
      "2\n",
      "3\n",
      "4\n",
      "5\n",
      "6\n",
      "6082852\n"
     ]
    }
   ],
   "source": [
    "for i, m in enumerate(all_maps):\n",
    "    print(i)\n",
    "    #task1_res = task1(task1_res, m)\n",
    "    task2_res = task1(task2_res, m)\n",
    "#print(min(task1_res))\n",
    "print(min(task2_res))"
   ]
  },
  {
   "cell_type": "code",
   "execution_count": null,
   "id": "76682157",
   "metadata": {},
   "outputs": [],
   "source": [
    "#Part 2 bruteforced by running for a couple hours. Todo try to improce solution later"
   ]
  }
 ],
 "metadata": {
  "kernelspec": {
   "display_name": "Python 3 (ipykernel)",
   "language": "python",
   "name": "python3"
  },
  "language_info": {
   "codemirror_mode": {
    "name": "ipython",
    "version": 3
   },
   "file_extension": ".py",
   "mimetype": "text/x-python",
   "name": "python",
   "nbconvert_exporter": "python",
   "pygments_lexer": "ipython3",
   "version": "3.10.6"
  }
 },
 "nbformat": 4,
 "nbformat_minor": 5
}
