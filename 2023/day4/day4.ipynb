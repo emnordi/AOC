{
 "cells": [
  {
   "cell_type": "code",
   "execution_count": 4,
   "id": "913351fb",
   "metadata": {},
   "outputs": [
    {
     "name": "stdout",
     "output_type": "stream",
     "text": [
      "Task 1: 26914\n",
      "Task 2: 13080971.0\n"
     ]
    }
   ],
   "source": [
    "import numpy as np\n",
    "def get_data(fname):\n",
    "    with open(fname) as f:\n",
    "        data = f.readlines()\n",
    "    return data\n",
    "\n",
    "lines = get_data('task.txt')\n",
    "lines = [x.rstrip() for x in lines]\n",
    "\n",
    "total = 0\n",
    "all_cards = np.ones(len(lines))\n",
    "for i, line in enumerate(lines):\n",
    "    cardno, numbers = line.split(': ')\n",
    "    tickets, results = numbers.split(' | ')\n",
    "    tickets = tickets.split()\n",
    "    results = results.split()\n",
    "\n",
    "    correct_nums = len(list(set(tickets) & set(results)))\n",
    "    all_cards[i+1: i + correct_nums + 1] += all_cards[i]\n",
    "    if correct_nums > 0:\n",
    "        total +=  pow(2,correct_nums - 1)\n",
    "\n",
    "print('Task 1:', total)\n",
    "print('Task 2:', sum(all_cards))"
   ]
  },
  {
   "cell_type": "code",
   "execution_count": null,
   "id": "25c6265e",
   "metadata": {},
   "outputs": [],
   "source": []
  }
 ],
 "metadata": {
  "kernelspec": {
   "display_name": "Python 3 (ipykernel)",
   "language": "python",
   "name": "python3"
  },
  "language_info": {
   "codemirror_mode": {
    "name": "ipython",
    "version": 3
   },
   "file_extension": ".py",
   "mimetype": "text/x-python",
   "name": "python",
   "nbconvert_exporter": "python",
   "pygments_lexer": "ipython3",
   "version": "3.10.6"
  }
 },
 "nbformat": 4,
 "nbformat_minor": 5
}
