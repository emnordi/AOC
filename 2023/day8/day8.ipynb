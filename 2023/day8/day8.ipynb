{
 "cells": [
  {
   "cell_type": "code",
   "execution_count": 124,
   "id": "32dfa587",
   "metadata": {},
   "outputs": [],
   "source": [
    "import math"
   ]
  },
  {
   "cell_type": "code",
   "execution_count": 125,
   "id": "52980655",
   "metadata": {},
   "outputs": [],
   "source": [
    "def get_data(fname):\n",
    "    data = []\n",
    "    path_dict = {}\n",
    "    starts = []\n",
    "    with open(fname) as f:\n",
    "        directions = f.readline().rstrip()\n",
    "        f.readline()\n",
    "        lines = f.readlines()\n",
    "        for line in lines:\n",
    "            current, paths = line.rstrip().split(' = ')\n",
    "            paths = paths.replace('(', '').replace(')', '').split(', ')\n",
    "            path_dict[current] = paths\n",
    "            if current[-1] == 'A':\n",
    "                starts.append(current)\n",
    "            if current[-1] == 'Z':\n",
    "                ends.append(current)\n",
    "            data.append([current, paths])\n",
    "    return [directions, path_dict, starts]"
   ]
  },
  {
   "cell_type": "code",
   "execution_count": 138,
   "id": "8a1dfeda",
   "metadata": {},
   "outputs": [],
   "source": [
    "def get_steps(start, data, directions):\n",
    "    current_location = start\n",
    "    step = 0\n",
    "    while current_location != 'ZZZ':\n",
    "        current_dir = 0 if directions[step%len(directions)] == 'L' else 1\n",
    "        current_location = data[current_location][current_dir]\n",
    "        step += 1\n",
    "    return step"
   ]
  },
  {
   "cell_type": "code",
   "execution_count": 141,
   "id": "63896904",
   "metadata": {},
   "outputs": [],
   "source": [
    "def get_steps2(start, data, directions):\n",
    "    current_location = start\n",
    "    step = 0\n",
    "    while not current_location[-1] == 'Z':\n",
    "        current_dir = 0 if directions[step%len(directions)] == 'L' else 1\n",
    "        current_location = data[current_location][current_dir]\n",
    "        step += 1\n",
    "    return step"
   ]
  },
  {
   "cell_type": "code",
   "execution_count": 140,
   "id": "e4f3b812",
   "metadata": {},
   "outputs": [
    {
     "name": "stdout",
     "output_type": "stream",
     "text": [
      "Task 1: 22357\n"
     ]
    }
   ],
   "source": [
    "directions, data, _ = get_data('task.txt')\n",
    "current_location = 'AAA'\n",
    "print('Task 1:', get_steps(current_location, data, directions))"
   ]
  },
  {
   "cell_type": "code",
   "execution_count": 142,
   "id": "6ef824c5",
   "metadata": {},
   "outputs": [
    {
     "name": "stdout",
     "output_type": "stream",
     "text": [
      "Task2:  10371555451871\n"
     ]
    }
   ],
   "source": [
    "directions, data, starts = get_data('task.txt')\n",
    "res = 1\n",
    "for s in starts:\n",
    "    res = math.lcm(res, get_steps2(s, data, directions))\n",
    "print('Task2: ', res)"
   ]
  },
  {
   "cell_type": "code",
   "execution_count": null,
   "id": "5613d6b6",
   "metadata": {},
   "outputs": [],
   "source": []
  }
 ],
 "metadata": {
  "kernelspec": {
   "display_name": "Python 3 (ipykernel)",
   "language": "python",
   "name": "python3"
  },
  "language_info": {
   "codemirror_mode": {
    "name": "ipython",
    "version": 3
   },
   "file_extension": ".py",
   "mimetype": "text/x-python",
   "name": "python",
   "nbconvert_exporter": "python",
   "pygments_lexer": "ipython3",
   "version": "3.11.5"
  }
 },
 "nbformat": 4,
 "nbformat_minor": 5
}
