{
 "cells": [
  {
   "cell_type": "code",
   "execution_count": 19,
   "id": "80363618",
   "metadata": {},
   "outputs": [],
   "source": [
    "time_task1 = [47, 98, 66, 98]\n",
    "dist_task1 = [400, 1213, 1011, 1540]"
   ]
  },
  {
   "cell_type": "code",
   "execution_count": 20,
   "id": "5167b2f8",
   "metadata": {},
   "outputs": [],
   "source": [
    "time_task2 = [47986698]\n",
    "dist_task2 = [400121310111540]"
   ]
  },
  {
   "cell_type": "code",
   "execution_count": 23,
   "id": "e2f61830",
   "metadata": {},
   "outputs": [],
   "source": [
    "def do_task(time, dist):\n",
    "    total = 1\n",
    "    for race_no in range(len(time)):\n",
    "        ways_to_win = 0\n",
    "        for i in range (1, time[race_no]):\n",
    "            travelled = (time[race_no] - i) * i\n",
    "            if travelled > dist[race_no]:\n",
    "                ways_to_win += 1\n",
    "            if travelled < dist[race_no] and ways_to_win > 0:\n",
    "                break\n",
    "        total *= ways_to_win\n",
    "    return total"
   ]
  },
  {
   "cell_type": "code",
   "execution_count": 24,
   "id": "ef3a3584",
   "metadata": {},
   "outputs": [
    {
     "name": "stdout",
     "output_type": "stream",
     "text": [
      "Task1: 1660968\n",
      "Task2: 26499773\n"
     ]
    }
   ],
   "source": [
    "print('Task1:', do_task(time_task1, dist_task1))\n",
    "print('Task2:', do_task(time_task2, dist_task2))"
   ]
  }
 ],
 "metadata": {
  "kernelspec": {
   "display_name": "Python 3 (ipykernel)",
   "language": "python",
   "name": "python3"
  },
  "language_info": {
   "codemirror_mode": {
    "name": "ipython",
    "version": 3
   },
   "file_extension": ".py",
   "mimetype": "text/x-python",
   "name": "python",
   "nbconvert_exporter": "python",
   "pygments_lexer": "ipython3",
   "version": "3.11.5"
  }
 },
 "nbformat": 4,
 "nbformat_minor": 5
}
