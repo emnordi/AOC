{
 "cells": [
  {
   "cell_type": "code",
   "execution_count": 6,
   "id": "d30aa5e2",
   "metadata": {},
   "outputs": [],
   "source": [
    "def get_data(fname):\n",
    "    with open(fname) as f:\n",
    "        data = f.readlines()\n",
    "    return data\n",
    "\n",
    "def find_first_number(line):\n",
    "    for i in range(len(line)):\n",
    "        if line[i].isdigit():\n",
    "            return i\n",
    "    return -1\n",
    "\n",
    "def replace_nums(line):\n",
    "    line = line.replace('one', 'one1one')\n",
    "    line = line.replace('two', 'two2two')\n",
    "    line = line.replace('three', 'three3three')\n",
    "    line = line.replace('four', 'four4four')\n",
    "    line = line.replace('five', 'five5five')\n",
    "    line = line.replace('six', 'six6six')\n",
    "    line = line.replace('seven', 'seven7seven')\n",
    "    line = line.replace('eight', 'eight8eight')\n",
    "    line = line.replace('nine', 'nine9nine')\n",
    "    return line\n",
    "\n",
    "def task1():\n",
    "    total = 0\n",
    "    for line in lines:\n",
    "        first = find_first_number(line)\n",
    "        last = find_first_number(line[::-1])\n",
    "        total += int(line[first] + line[::-1][last])\n",
    "\n",
    "    print(\"task 1: \", total)\n",
    "\n",
    "def task2():\n",
    "    total = 0\n",
    "\n",
    "    for line in lines:\n",
    "        lineM = replace_nums(line)\n",
    "        first = find_first_number(lineM)\n",
    "        last = find_first_number(lineM[::-1])\n",
    "        total += int(lineM[first] + lineM[::-1][last])\n",
    "\n",
    "    print(\"task 2: \", total)"
   ]
  },
  {
   "cell_type": "code",
   "execution_count": 7,
   "id": "4f137767",
   "metadata": {},
   "outputs": [
    {
     "name": "stdout",
     "output_type": "stream",
     "text": [
      "task 1:  55447\n",
      "task 2:  54706\n"
     ]
    }
   ],
   "source": [
    "lines = get_data('task.txt')\n",
    "\n",
    "task1()\n",
    "task2()"
   ]
  },
  {
   "cell_type": "code",
   "execution_count": null,
   "id": "19addc22",
   "metadata": {},
   "outputs": [],
   "source": []
  }
 ],
 "metadata": {
  "kernelspec": {
   "display_name": "Python 3 (ipykernel)",
   "language": "python",
   "name": "python3"
  },
  "language_info": {
   "codemirror_mode": {
    "name": "ipython",
    "version": 3
   },
   "file_extension": ".py",
   "mimetype": "text/x-python",
   "name": "python",
   "nbconvert_exporter": "python",
   "pygments_lexer": "ipython3",
   "version": "3.10.6"
  }
 },
 "nbformat": 4,
 "nbformat_minor": 5
}
