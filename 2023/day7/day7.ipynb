{
 "cells": [
  {
   "cell_type": "code",
   "execution_count": 2,
   "id": "fe792922",
   "metadata": {},
   "outputs": [],
   "source": [
    "def get_data(fname):\n",
    "    data = []\n",
    "    with open(fname) as f:\n",
    "        lines = f.readlines()\n",
    "        for line in lines:\n",
    "            data.append(line.rstrip().split())\n",
    "        return data"
   ]
  },
  {
   "cell_type": "code",
   "execution_count": 3,
   "id": "602fd700",
   "metadata": {},
   "outputs": [],
   "source": [
    "def handle_jokers(hand):\n",
    "    counts = [hand.count(x) for x in set(hand)]\n",
    "    counts.sort(reverse=True)\n",
    "    joker_count = hand.count('J')\n",
    "    if joker_count >= 4 or (joker_count == 3 and counts[1] == 2) or (joker_count == 2 and counts[0] == 3) or (joker_count == 1 and counts[0] == 4):\n",
    "        return 6\n",
    "    if joker_count == 3 or (joker_count == 1 and counts[0] == 3) or (joker_count == 2 and counts[0] == 2 and counts[1] == 2):\n",
    "        return 5\n",
    "    if joker_count == 2:\n",
    "        if counts[0] == 3:\n",
    "            return 4\n",
    "        return 3\n",
    "    if counts[0] == 2:\n",
    "        if counts[1] == 2:\n",
    "            return 4\n",
    "        return 3\n",
    "    return 1"
   ]
  },
  {
   "cell_type": "code",
   "execution_count": 4,
   "id": "8d8b1c6a",
   "metadata": {},
   "outputs": [],
   "source": [
    "# 5 of kind = 6, 4 of kind = 5, full house = 4, three of kind = 3, two pair = 2, one pair = 1, high card = 0\n",
    "def get_hand_res(hand, task2):\n",
    "    joker_count = hand.count('J')\n",
    "    if task2 and joker_count > 0:\n",
    "        return handle_jokers(hand)\n",
    "    counts = [hand.count(x) for x in set(hand)]\n",
    "    counts.sort(reverse=True)\n",
    "    if counts[0] > 3:\n",
    "        return counts[0] + 1\n",
    "    if counts[0] == 3:\n",
    "        return 4 if counts[1] == 2 else 3\n",
    "    if counts[0] == 2:\n",
    "        return 2 if counts[1] == 2 else 1\n",
    "    return 0"
   ]
  },
  {
   "cell_type": "code",
   "execution_count": 5,
   "id": "c8e29a8f",
   "metadata": {},
   "outputs": [],
   "source": [
    "def todigit(e, task2):\n",
    "    taskstr = 'J23456789TQKA' if task2 else '23456789TJQKA'\n",
    "    return taskstr.index(e)"
   ]
  },
  {
   "cell_type": "code",
   "execution_count": 6,
   "id": "f1675ba9",
   "metadata": {},
   "outputs": [],
   "source": [
    "def compare_cards(e1, e2, task2):\n",
    "    if e1 == e2:\n",
    "        return 0\n",
    "    return 1 if todigit(e1, task2) > todigit(e2, task2) else 2"
   ]
  },
  {
   "cell_type": "code",
   "execution_count": 7,
   "id": "b20492f0",
   "metadata": {},
   "outputs": [],
   "source": [
    "def insert_in_hand(current_hand, element, e_bid, task2):\n",
    "    new_hand = []\n",
    "    for i, [hand, bid] in enumerate(current_hand):\n",
    "        for e, h in zip(element, hand):\n",
    "            if compare_cards(e, h, task2) == 1:\n",
    "                new_hand.append([element, e_bid])\n",
    "                new_hand.extend(current_hand[i:])\n",
    "                return new_hand\n",
    "                break\n",
    "            elif compare_cards(e, h, task2) == 2:\n",
    "                new_hand.append([hand, bid])\n",
    "                break\n",
    "            \n",
    "    if not [element, e_bid] in new_hand:\n",
    "        new_hand.append([element, e_bid])\n",
    "    return new_hand"
   ]
  },
  {
   "cell_type": "code",
   "execution_count": 8,
   "id": "4793d521",
   "metadata": {},
   "outputs": [],
   "source": [
    "def put_hand_in_map(handsmap, inp, task2):\n",
    "    hand, bid = inp\n",
    "    score = get_hand_res(hand, task2)\n",
    "    handsmap[score] = insert_in_hand(handsmap[score], hand, bid, task2)\n",
    "    return handsmap"
   ]
  },
  {
   "cell_type": "code",
   "execution_count": 9,
   "id": "c12c1dce",
   "metadata": {},
   "outputs": [],
   "source": [
    "def do_task(inp, task2):\n",
    "    handsmap = {6: [], 5: [], 4: [], 3: [], 2: [], 1: [], 0: []}\n",
    "    for i in inp:\n",
    "        handsmap = put_hand_in_map(handsmap, i, task2)\n",
    "    all_hands_order = []\n",
    "    all_hands_order.extend(handsmap[6])\n",
    "    all_hands_order.extend(handsmap[5])\n",
    "    all_hands_order.extend(handsmap[4])\n",
    "    all_hands_order.extend(handsmap[3])\n",
    "    all_hands_order.extend(handsmap[2])\n",
    "    all_hands_order.extend(handsmap[1])\n",
    "    all_hands_order.extend(handsmap[0])\n",
    "    total = 0\n",
    "    tot_len = len(inp)\n",
    "    for i, [_, bid] in enumerate(all_hands_order):\n",
    "        total += int(bid) * (tot_len - i)\n",
    "    return total"
   ]
  },
  {
   "cell_type": "code",
   "execution_count": 10,
   "id": "5039d3ad",
   "metadata": {},
   "outputs": [
    {
     "name": "stdout",
     "output_type": "stream",
     "text": [
      "Task1: 251136060\n",
      "Task2: 249400220\n"
     ]
    }
   ],
   "source": [
    "data = get_data('task.txt')\n",
    "res = do_task(data, False)\n",
    "res2 = do_task(data, True)\n",
    "print('Task1:', res)\n",
    "print('Task2:', res2)"
   ]
  },
  {
   "cell_type": "code",
   "execution_count": null,
   "id": "6a0fd563",
   "metadata": {},
   "outputs": [],
   "source": []
  }
 ],
 "metadata": {
  "kernelspec": {
   "display_name": "Python 3 (ipykernel)",
   "language": "python",
   "name": "python3"
  },
  "language_info": {
   "codemirror_mode": {
    "name": "ipython",
    "version": 3
   },
   "file_extension": ".py",
   "mimetype": "text/x-python",
   "name": "python",
   "nbconvert_exporter": "python",
   "pygments_lexer": "ipython3",
   "version": "3.11.5"
  }
 },
 "nbformat": 4,
 "nbformat_minor": 5
}
