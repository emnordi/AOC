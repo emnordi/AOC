{
 "cells": [
  {
   "cell_type": "code",
   "execution_count": 17,
   "id": "c786574c",
   "metadata": {},
   "outputs": [],
   "source": [
    "import numpy as np\n",
    "from skimage.morphology import flood_fill\n",
    "def get_data(fname):\n",
    "    with open(fname) as f:\n",
    "        lines = f.readlines()\n",
    "        return [line.rstrip().split() for line in lines]"
   ]
  },
  {
   "cell_type": "code",
   "execution_count": 18,
   "id": "b7adb3df",
   "metadata": {},
   "outputs": [],
   "source": [
    "data = get_data('task.txt')"
   ]
  },
  {
   "cell_type": "code",
   "execution_count": 31,
   "id": "7cc8ce19",
   "metadata": {},
   "outputs": [],
   "source": [
    "def task1():\n",
    "    base = np.zeros((347, 373))\n",
    "    curx = 0\n",
    "    cury = 144\n",
    "    for instr in data:\n",
    "        d, steps, colour = instr\n",
    "        if d == 'R':\n",
    "            base[cury][curx:curx+int(steps)+1] = 1\n",
    "            curx = curx+int(steps)\n",
    "        if d == 'L':\n",
    "            base[cury][curx-int(steps):curx+1] = 1\n",
    "            curx = curx-int(steps)\n",
    "        if d == 'U':\n",
    "            base[cury-int(steps):cury+1, curx] = 1\n",
    "            cury = cury-int(steps)\n",
    "        if d == 'D':\n",
    "            base[cury:cury+1+int(steps), curx] = 1\n",
    "            cury = cury+int(steps)\n",
    "    return base"
   ]
  },
  {
   "cell_type": "code",
   "execution_count": 54,
   "id": "8230808a",
   "metadata": {},
   "outputs": [],
   "source": [
    "def task2():\n",
    "    base = np.zeros((100000, 100000))\n",
    "    curx = 0\n",
    "    cury = 144\n",
    "    for instr in data:\n",
    "        _, _, colour = instr\n",
    "        x = colour.replace('(', '').replace(')', '').replace('#', '')\n",
    "        d = x[-1]\n",
    "        steps = int(x[:-1], 16)\n",
    "    return base"
   ]
  },
  {
   "cell_type": "code",
   "execution_count": 55,
   "id": "7cf8ee33",
   "metadata": {},
   "outputs": [],
   "source": [
    "filled = flood_fill(task1(), (1, 102), 1)"
   ]
  },
  {
   "cell_type": "code",
   "execution_count": 56,
   "id": "312a5835",
   "metadata": {},
   "outputs": [
    {
     "name": "stdout",
     "output_type": "stream",
     "text": [
      "Task 1: 40761\n"
     ]
    }
   ],
   "source": [
    "total = np.count_nonzero(filled == 1)\n",
    "print('Task 1:', total)"
   ]
  },
  {
   "cell_type": "code",
   "execution_count": null,
   "id": "3029910a",
   "metadata": {},
   "outputs": [],
   "source": []
  }
 ],
 "metadata": {
  "kernelspec": {
   "display_name": "Python 3 (ipykernel)",
   "language": "python",
   "name": "python3"
  },
  "language_info": {
   "codemirror_mode": {
    "name": "ipython",
    "version": 3
   },
   "file_extension": ".py",
   "mimetype": "text/x-python",
   "name": "python",
   "nbconvert_exporter": "python",
   "pygments_lexer": "ipython3",
   "version": "3.11.5"
  }
 },
 "nbformat": 4,
 "nbformat_minor": 5
}
