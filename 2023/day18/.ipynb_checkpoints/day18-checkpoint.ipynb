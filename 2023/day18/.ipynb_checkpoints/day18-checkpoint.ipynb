{
 "cells": [
  {
   "cell_type": "code",
   "execution_count": 6,
   "id": "c786574c",
   "metadata": {},
   "outputs": [],
   "source": [
    "import numpy as np\n",
    "from skimage.morphology import flood_fill\n",
    "def get_data(fname):\n",
    "    with open(fname) as f:\n",
    "        lines = f.readlines()\n",
    "        return [line.rstrip().split() for line in lines]"
   ]
  },
  {
   "cell_type": "code",
   "execution_count": 7,
   "id": "b7adb3df",
   "metadata": {},
   "outputs": [],
   "source": [
    "data = get_data('task.txt')"
   ]
  },
  {
   "cell_type": "code",
   "execution_count": 69,
   "id": "f84a7b96",
   "metadata": {},
   "outputs": [],
   "source": [
    "def direction_to_letter(d):\n",
    "    if d == '0':\n",
    "        return 'R'\n",
    "    if d == '1':\n",
    "        return 'D'\n",
    "    if d == '2':\n",
    "        return 'L'\n",
    "    if d == '3':\n",
    "        return 'U'"
   ]
  },
  {
   "cell_type": "code",
   "execution_count": 70,
   "id": "8a3f73c3",
   "metadata": {},
   "outputs": [],
   "source": [
    "def get_steps_and_dir(inp, task2):\n",
    "    direction, steps, colour = inp\n",
    "    if task2:\n",
    "        x = colour.replace('(', '').replace(')', '').replace('#', '')\n",
    "        d = direction_to_letter(x[-1])\n",
    "        s = int(x[:-1], 16)\n",
    "        return (d, s)\n",
    "    else:\n",
    "        return (direction, int(steps))"
   ]
  },
  {
   "cell_type": "code",
   "execution_count": 80,
   "id": "8230808a",
   "metadata": {},
   "outputs": [],
   "source": [
    "def do_task(task2):\n",
    "    curx = 10000000\n",
    "    cury = 10000000\n",
    "    vertices = [(curx, cury)]\n",
    "    total = 0\n",
    "    for instr in data:\n",
    "        d, steps = get_steps_and_dir(instr, task2)\n",
    "        total += steps\n",
    "        if d == 'R':\n",
    "            curx = curx+steps\n",
    "        if d == 'L':\n",
    "            curx = curx-steps\n",
    "        if d == 'U':\n",
    "            cury = cury-steps\n",
    "        if d == 'D':\n",
    "            cury = cury+steps\n",
    "        vertices.append((curx, cury))\n",
    "    return (vertices, total)"
   ]
  },
  {
   "cell_type": "code",
   "execution_count": 81,
   "id": "b7023448",
   "metadata": {},
   "outputs": [],
   "source": [
    "def shoelace(v):\n",
    "    s1 = 0\n",
    "    s2 = 0\n",
    "    for i in range(len(verts)-1):\n",
    "        s1 += (verts[i][0]*verts[i+1][1])\n",
    "        s2 += (verts[i][1]*verts[i+1][0])\n",
    "    return abs(s1-s2)/2"
   ]
  },
  {
   "cell_type": "code",
   "execution_count": 82,
   "id": "f5729338",
   "metadata": {},
   "outputs": [
    {
     "name": "stdout",
     "output_type": "stream",
     "text": [
      "Task 1: 40761\n"
     ]
    }
   ],
   "source": [
    "verts, tot = do_task(False)\n",
    "area = shoelace(verts)\n",
    "ans = area - (tot/2) + 1\n",
    "print('Task 1:', int(ans+tot))"
   ]
  },
  {
   "cell_type": "code",
   "execution_count": 83,
   "id": "95208a19",
   "metadata": {},
   "outputs": [
    {
     "name": "stdout",
     "output_type": "stream",
     "text": [
      "Task 2: 106920098354636\n"
     ]
    }
   ],
   "source": [
    "verts, tot = do_task(True)\n",
    "area = shoelace(verts)\n",
    "ans = area - (tot/2) + 1\n",
    "print('Task 2:', int(ans+tot))"
   ]
  },
  {
   "cell_type": "code",
   "execution_count": null,
   "id": "040a9d27",
   "metadata": {},
   "outputs": [],
   "source": []
  }
 ],
 "metadata": {
  "kernelspec": {
   "display_name": "Python 3 (ipykernel)",
   "language": "python",
   "name": "python3"
  },
  "language_info": {
   "codemirror_mode": {
    "name": "ipython",
    "version": 3
   },
   "file_extension": ".py",
   "mimetype": "text/x-python",
   "name": "python",
   "nbconvert_exporter": "python",
   "pygments_lexer": "ipython3",
   "version": "3.10.6"
  }
 },
 "nbformat": 4,
 "nbformat_minor": 5
}
