{
 "cells": [
  {
   "cell_type": "code",
   "execution_count": 7,
   "id": "7a00ee85",
   "metadata": {},
   "outputs": [],
   "source": [
    "import numpy as np"
   ]
  },
  {
   "cell_type": "code",
   "execution_count": 22,
   "id": "dd521c6f",
   "metadata": {},
   "outputs": [],
   "source": [
    "def get_data(fname):\n",
    "    with open(fname) as f:\n",
    "        data = f.readlines()\n",
    "    return data\n",
    "\n",
    "def legal_game(r):\n",
    "    count_dict = {'red': 0, 'green': 0, 'blue': 0}\n",
    "    outcomes = ''.join(r).split(', ')\n",
    "    for o in outcomes:\n",
    "        amount, color = o.split(' ')\n",
    "        count_dict[color] += int(amount)\n",
    "    if count_dict['red'] > max_red or count_dict['green'] > max_green or count_dict['blue'] > max_blue:\n",
    "        return False\n",
    "    return True\n",
    "\n",
    "def mul(li):\n",
    "    total = 1\n",
    "    for i in li:\n",
    "        total *= i\n",
    "    return total\n",
    "\n",
    "def count_min_dice_for_game(r):\n",
    "    count_dict = {'red': 0, 'green': 0, 'blue': 0}\n",
    "    outcomes = ', '.join(r).split(', ')\n",
    "    for o in outcomes:\n",
    "        amount, color = o.split(' ')\n",
    "        if count_dict[color] < int(amount):\n",
    "            count_dict[color] = int(amount)\n",
    "    return np.prod(list(count_dict.values()))\n",
    "\n",
    "def task1():\n",
    "    legal_games = []\n",
    "    for line in lines:\n",
    "        gameno, gamedata = line.rstrip().split(': ')\n",
    "        gameno = gameno.split(' ')[1]\n",
    "        roundresults = gamedata.split('; ')\n",
    "        legal = True\n",
    "        for ro in roundresults:\n",
    "            if (not legal_game(ro)):\n",
    "                legal = False\n",
    "                break\n",
    "        if legal:\n",
    "            legal_games.append(gameno)\n",
    "\n",
    "    total = sum([int(x) for x in legal_games])\n",
    "    print('Task1', total)\n",
    "\n",
    "def task2():\n",
    "    total = 0\n",
    "    for line in lines:\n",
    "        _, gamedata = line.rstrip().split(': ')\n",
    "        roundresults = gamedata.split('; ')\n",
    "        total += count_min_dice_for_game(roundresults)\n",
    "    print('Task2', total)"
   ]
  },
  {
   "cell_type": "code",
   "execution_count": 23,
   "id": "6dd0a7fb",
   "metadata": {},
   "outputs": [
    {
     "name": "stdout",
     "output_type": "stream",
     "text": [
      "Task1 2545\n",
      "Task2 78111\n"
     ]
    }
   ],
   "source": [
    "lines = get_data('task.txt')\n",
    "\n",
    "max_red = 12\n",
    "max_green = 13\n",
    "max_blue = 14\n",
    "\n",
    "task1()\n",
    "task2()"
   ]
  },
  {
   "cell_type": "code",
   "execution_count": null,
   "id": "7a13249d",
   "metadata": {},
   "outputs": [],
   "source": []
  }
 ],
 "metadata": {
  "kernelspec": {
   "display_name": "Python 3 (ipykernel)",
   "language": "python",
   "name": "python3"
  },
  "language_info": {
   "codemirror_mode": {
    "name": "ipython",
    "version": 3
   },
   "file_extension": ".py",
   "mimetype": "text/x-python",
   "name": "python",
   "nbconvert_exporter": "python",
   "pygments_lexer": "ipython3",
   "version": "3.10.6"
  }
 },
 "nbformat": 4,
 "nbformat_minor": 5
}
