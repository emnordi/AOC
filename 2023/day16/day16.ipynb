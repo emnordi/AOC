{
 "cells": [
  {
   "cell_type": "code",
   "execution_count": 24,
   "id": "d0b4497b",
   "metadata": {},
   "outputs": [],
   "source": [
    "def get_data(fname):\n",
    "    with open(fname) as f:\n",
    "        lines = f.readlines()\n",
    "        return [line.rstrip() for line in lines]"
   ]
  },
  {
   "cell_type": "code",
   "execution_count": 25,
   "id": "c25efbcf",
   "metadata": {},
   "outputs": [],
   "source": [
    "def dead_end(cave, x, y, direction):\n",
    "    n = direction == 0 and y == 0 and cave[y][x] not in ['/', '\\\\', '-']\n",
    "    e = direction == 1 and x == len(cave[0])-1 and cave[y][x] not in ['/', '\\\\', '|']\n",
    "    s = direction == 2 and y == len(cave)-1 and cave[y][x] not in ['/', '\\\\', '-']\n",
    "    w = direction == 3 and x == 0 and cave[y][x] not in ['/', '\\\\', '|']\n",
    "    return n or e or s or w"
   ]
  },
  {
   "cell_type": "code",
   "execution_count": 26,
   "id": "b8454fe1",
   "metadata": {},
   "outputs": [],
   "source": [
    "def new_direction(char, direction):\n",
    "    if char == '/':\n",
    "        if direction % 2 == 0:\n",
    "            return direction + 1\n",
    "        else:\n",
    "            return direction - 1\n",
    "    if char == '\\\\':\n",
    "        return 3 - direction\n",
    "    return direction"
   ]
  },
  {
   "cell_type": "code",
   "execution_count": 27,
   "id": "0c4c44c6",
   "metadata": {},
   "outputs": [],
   "source": [
    "def split_directions(cave, x, y, direction):\n",
    "    if direction in [0, 2] and cave[y][x] == '-':\n",
    "        return [1, 3]\n",
    "    if direction in [1, 3] and cave[y][x] == '|':\n",
    "        return [0, 2]\n",
    "    return []"
   ]
  },
  {
   "cell_type": "code",
   "execution_count": 28,
   "id": "12adee48",
   "metadata": {},
   "outputs": [],
   "source": [
    "def move(x, y, direction):\n",
    "    if direction == 0:\n",
    "        return [x, y-1]\n",
    "    if direction == 1:\n",
    "        return [x+1, y] \n",
    "    if direction == 2:\n",
    "        return [x, y+1] \n",
    "    if direction == 3:\n",
    "        return [x-1, y] "
   ]
  },
  {
   "cell_type": "code",
   "execution_count": 29,
   "id": "ad5a09e8",
   "metadata": {},
   "outputs": [],
   "source": [
    "def go(cave, coords, direction, visited_mirrors):\n",
    "    visited = []\n",
    "    cdir = direction\n",
    "    cx, cy = coords\n",
    "    while True:\n",
    "        if [[cx, cy], cdir] in visited_mirrors or cx < 0 or cx > len(cave[0])-1 or cy < 0 or cy > len(data)-1:\n",
    "            return visited\n",
    "        visited.append([[cx, cy], cdir])\n",
    "        if dead_end(cave, cx, cy, cdir):\n",
    "            return visited\n",
    "        cdir = new_direction(cave[cy][cx], cdir)\n",
    "        splitted = split_directions(cave, cx, cy, cdir)\n",
    "        if len(splitted) > 0:\n",
    "            visited_mirrors.append([[cx, cy], cdir])\n",
    "            return visited + go(cave, [cx, cy], splitted[0], visited_mirrors) + go(cave, [cx, cy], splitted[1], visited_mirrors)\n",
    "        cx, cy = move(cx, cy, cdir)"
   ]
  },
  {
   "cell_type": "code",
   "execution_count": 30,
   "id": "0251cee1",
   "metadata": {},
   "outputs": [],
   "source": [
    "data = get_data('task.txt')"
   ]
  },
  {
   "cell_type": "code",
   "execution_count": 31,
   "id": "99b366f4",
   "metadata": {},
   "outputs": [
    {
     "name": "stdout",
     "output_type": "stream",
     "text": [
      "Task 1: 7307\n"
     ]
    }
   ],
   "source": [
    "result = go(data, [0, 0], 1, [])\n",
    "unique = list(set(tuple(l[0]) for l in result))\n",
    "print('Task 1:', len(unique))"
   ]
  },
  {
   "cell_type": "code",
   "execution_count": 34,
   "id": "7905b8f6",
   "metadata": {},
   "outputs": [
    {
     "name": "stdout",
     "output_type": "stream",
     "text": [
      "Task 2: 7635\n"
     ]
    }
   ],
   "source": [
    "largest = 0\n",
    "#Down\n",
    "for x in range(len(data[0])):\n",
    "    res = go(data, [x, 0], 2, [])\n",
    "    l = len(list(set(tuple(l[0]) for l in res)))\n",
    "    largest = max(l, largest)\n",
    "\n",
    "#Left\n",
    "for y in range(len(data)):\n",
    "    res = go(data, [0, y], 1, [])\n",
    "    l = len(list(set(tuple(l[0]) for l in res)))\n",
    "    largest = max(l, largest)\n",
    "    \n",
    "#Right\n",
    "for y in range(len(data)):\n",
    "    res = go(data, [len(data[0])-1, y], 3, [])\n",
    "    l = len(list(set(tuple(l[0]) for l in res)))\n",
    "    largest = max(l, largest)\n",
    "\n",
    "#Up\n",
    "for x in range(len(data[0])):\n",
    "    res = go(data, [x, len(data)-1], 0, [])\n",
    "    l = len(list(set(tuple(l[0]) for l in res)))\n",
    "    largest = max(l, largest)\n",
    "\n",
    "print('Task 2:', largest)"
   ]
  },
  {
   "cell_type": "code",
   "execution_count": null,
   "id": "3bdd0f9a",
   "metadata": {},
   "outputs": [],
   "source": []
  }
 ],
 "metadata": {
  "kernelspec": {
   "display_name": "Python 3 (ipykernel)",
   "language": "python",
   "name": "python3"
  },
  "language_info": {
   "codemirror_mode": {
    "name": "ipython",
    "version": 3
   },
   "file_extension": ".py",
   "mimetype": "text/x-python",
   "name": "python",
   "nbconvert_exporter": "python",
   "pygments_lexer": "ipython3",
   "version": "3.10.6"
  }
 },
 "nbformat": 4,
 "nbformat_minor": 5
}
