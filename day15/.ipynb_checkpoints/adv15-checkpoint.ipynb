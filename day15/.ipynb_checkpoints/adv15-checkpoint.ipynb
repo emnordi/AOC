{
 "cells": [
  {
   "cell_type": "code",
   "execution_count": 35,
   "id": "730f52b4",
   "metadata": {},
   "outputs": [
    {
     "name": "stdout",
     "output_type": "stream",
     "text": [
      "Collecting astar\n",
      "  Downloading astar-0.93-py3-none-any.whl (4.0 kB)\n",
      "Installing collected packages: astar\n",
      "Successfully installed astar-0.93\n"
     ]
    }
   ],
   "source": [
    "!pip install astar"
   ]
  },
  {
   "cell_type": "code",
   "execution_count": 16,
   "id": "0981b011",
   "metadata": {},
   "outputs": [],
   "source": [
    "import astar\n",
    "import numpy as np"
   ]
  },
  {
   "cell_type": "code",
   "execution_count": 67,
   "id": "32976485",
   "metadata": {},
   "outputs": [],
   "source": [
    "np.set_printoptions(linewidth=np.inf)"
   ]
  },
  {
   "cell_type": "code",
   "execution_count": 9,
   "id": "e91032d5",
   "metadata": {},
   "outputs": [],
   "source": [
    "def get_data(fname):\n",
    "    arr = []\n",
    "    with open(fname) as f:\n",
    "        for l in f.readlines():\n",
    "            digits = [int(x) for x in str(l).rstrip()]\n",
    "            arr.append(digits)\n",
    "        return arr"
   ]
  },
  {
   "cell_type": "code",
   "execution_count": 7,
   "id": "5d0c0c0a",
   "metadata": {},
   "outputs": [],
   "source": [
    "def create_graph(inp):\n",
    "    n = {}\n",
    "    for row in range(len(inp)):\n",
    "        for ind in range(len(inp[row])):\n",
    "            n[(row,ind)] = []\n",
    "            if row != 0:\n",
    "                n[(row,ind)].append(((row-1, ind), inp[row-1][ind]))\n",
    "            \n",
    "            if row != len(inp) -1:\n",
    "                n[(row,ind)].append(((row+1, ind), inp[row+1][ind]))\n",
    "            \n",
    "            if ind != 0:\n",
    "                n[(row,ind)].append(((row, ind-1), inp[row][ind-1]))\n",
    "            \n",
    "            if ind != len(inp[row])-1:\n",
    "                n[(row,ind)].append(((row, ind+1), inp[row][ind+1]))\n",
    "    return n\n",
    "\n",
    "#nodes = {'A': [('B', 100), ('C', 20)],\n",
    "#                 'C': [('D', 20)], 'D': [('B', 20)]}\n"
   ]
  },
  {
   "cell_type": "code",
   "execution_count": 50,
   "id": "3bbf4c82",
   "metadata": {},
   "outputs": [],
   "source": [
    "data = get_data('test.txt')"
   ]
  },
  {
   "cell_type": "code",
   "execution_count": 12,
   "id": "3d99a829",
   "metadata": {},
   "outputs": [],
   "source": [
    "nodes = create_graph(data)"
   ]
  },
  {
   "cell_type": "code",
   "execution_count": 13,
   "id": "44894df7",
   "metadata": {},
   "outputs": [],
   "source": [
    "def neighbors(n):\n",
    "    for n1, d in nodes[n]:\n",
    "        yield n1\n",
    "\n",
    "def distance(n1, n2):\n",
    "    for n, d in nodes[n1]:\n",
    "        if n == n2:\n",
    "            return d\n",
    "\n",
    "def cost(n, goal):\n",
    "    return 1\n",
    "path = list(astar.find_path((0,0), (99, 99), neighbors_fnct=neighbors,\n",
    "                                heuristic_cost_estimate_fnct=cost, distance_between_fnct=distance))\n",
    "#print(path)"
   ]
  },
  {
   "cell_type": "code",
   "execution_count": 14,
   "id": "4d36d75f",
   "metadata": {},
   "outputs": [
    {
     "name": "stdout",
     "output_type": "stream",
     "text": [
      "441\n"
     ]
    }
   ],
   "source": [
    "tot = 0\n",
    "for p in path:\n",
    "    if p != (0,0):\n",
    "       tot += data[p[0]][p[1]]\n",
    "print(tot)"
   ]
  },
  {
   "cell_type": "code",
   "execution_count": 193,
   "id": "4fab165a",
   "metadata": {},
   "outputs": [],
   "source": [
    "data = get_data('input.txt')"
   ]
  },
  {
   "cell_type": "code",
   "execution_count": 194,
   "id": "60e2f0a8",
   "metadata": {},
   "outputs": [],
   "source": [
    "data2 = np.array(data)\n",
    "big_data = data2.copy()\n",
    "\n",
    "frow = []\n",
    "frow.append(data2.copy())\n",
    "for i in range(1,5):\n",
    "    data2 += 1\n",
    "    data2[data2 > 9] = 1\n",
    "    frow.append(data2.copy())\n",
    "    big_data = np.concatenate((big_data,data2),axis=1)"
   ]
  },
  {
   "cell_type": "code",
   "execution_count": 195,
   "id": "4dbc825e",
   "metadata": {},
   "outputs": [],
   "source": [
    "for l in frow[:4]:\n",
    "    first = np.array(l)\n",
    "    first += 1\n",
    "    first[first > 9] = 1\n",
    "    cur_sec = first.copy()\n",
    "    for i in range(1,5):\n",
    "        first += 1\n",
    "        first[first > 9] = 1\n",
    "        cur_sec = np.concatenate((cur_sec,first),axis=1)\n",
    "    big_data = np.concatenate((big_data,cur_sec),axis=0)"
   ]
  },
  {
   "cell_type": "code",
   "execution_count": 197,
   "id": "456a1f90",
   "metadata": {},
   "outputs": [],
   "source": [
    "nodes = create_graph(big_data)"
   ]
  },
  {
   "cell_type": "code",
   "execution_count": 198,
   "id": "f1e85a06",
   "metadata": {},
   "outputs": [],
   "source": [
    "def neighbors(n):\n",
    "    for n1, d in nodes[n]:\n",
    "        yield n1\n",
    "\n",
    "def distance(n1, n2):\n",
    "    for n, d in nodes[n1]:\n",
    "        if n == n2:\n",
    "            return d\n",
    "\n",
    "def cost(n, goal):\n",
    "    return 1\n",
    "path = list(astar.find_path((0,0), (499, 499), neighbors_fnct=neighbors,\n",
    "                                heuristic_cost_estimate_fnct=cost, distance_between_fnct=distance))\n",
    "#print(path)"
   ]
  },
  {
   "cell_type": "code",
   "execution_count": 199,
   "id": "b9241f9b",
   "metadata": {},
   "outputs": [
    {
     "name": "stdout",
     "output_type": "stream",
     "text": [
      "2849\n"
     ]
    }
   ],
   "source": [
    "tot = 0\n",
    "for p in path:\n",
    "    if p != (0,0):\n",
    "       tot += big_data[p[0]][p[1]]\n",
    "print(tot)"
   ]
  }
 ],
 "metadata": {
  "kernelspec": {
   "display_name": "Python 3 (ipykernel)",
   "language": "python",
   "name": "python3"
  },
  "language_info": {
   "codemirror_mode": {
    "name": "ipython",
    "version": 3
   },
   "file_extension": ".py",
   "mimetype": "text/x-python",
   "name": "python",
   "nbconvert_exporter": "python",
   "pygments_lexer": "ipython3",
   "version": "3.7.7"
  }
 },
 "nbformat": 4,
 "nbformat_minor": 5
}
