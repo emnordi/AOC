{
 "cells": [
  {
   "cell_type": "code",
   "execution_count": 2,
   "id": "ddaba0fd",
   "metadata": {},
   "outputs": [
    {
     "name": "stdout",
     "output_type": "stream",
     "text": [
      "Part 1: 441\n",
      "Part 2: 2849\n",
      "6.6311891078948975 seconds\n"
     ]
    }
   ],
   "source": [
    "def read_data2():\n",
    "    d={}\n",
    "    dist={}\n",
    "    for i,l in enumerate(open('input.txt')):\n",
    "        for j,e in enumerate(l.strip()):\n",
    "            e=int(e)\n",
    "            d[i,j]=e\n",
    "    d=create_map(d)\n",
    "    s=sum([d[i] for i in d])\n",
    "    for i,j in d:\n",
    "        dist[i,j]=s\n",
    "    return(d,dist)\n",
    "\n",
    "def create_map(d):\n",
    "    a=int(len(d)**0.5)\n",
    "    for i in range(a):\n",
    "        for j in range(a):\n",
    "            for k in range(5):\n",
    "                for l in range(5):\n",
    "                    newi,newj=i+a*k,j+a*l\n",
    "                    d[newi,newj]=d[i,j]+k+l\n",
    "                    if d[newi,newj]>9:\n",
    "                        d[newi,newj]-=9\n",
    "    return(d)\n",
    "\n",
    "def create_table(d):\n",
    "    a=int(len(d)**0.5)\n",
    "    t=[[0 for _ in range(a)] for _ in range(a)]\n",
    "    for i,j in d:\n",
    "        t[i][j]=d[i,j]\n",
    "    return(t)\n",
    "\n",
    "def partX(p2=False):\n",
    "    if p2:\n",
    "        d,_ = read_data2()\n",
    "        d = create_table(d)\n",
    "    else:\n",
    "        d = [[int(i) for i in l.strip()] for l in open('input.txt')]\n",
    "    to_do_list = [(0,0)]\n",
    "    s=sum([sum([d[i][j] for j in range(len(d[0]))]) for i in range(len(d))])\n",
    "    dist = [[s for __ in range(len(d[0]))] for _ in range(len(d))]\n",
    "    dist[0][0]=0\n",
    "    while to_do_list:\n",
    "        i,j=to_do_list.pop(0)\n",
    "        if i<len(d)-1: #Move South\n",
    "            if dist[i][j]+d[i+1][j]<dist[i+1][j]:\n",
    "                dist[i+1][j]=dist[i][j]+d[i+1][j]\n",
    "                to_do_list.append((i+1,j))\n",
    "        if j<len(d[0])-1: #Move East\n",
    "            if dist[i][j]+d[i][j+1]<dist[i][j+1]:\n",
    "                dist[i][j+1]=dist[i][j]+d[i][j+1]\n",
    "                to_do_list.append((i,j+1))\n",
    "        if i>0: #Move North\n",
    "            if dist[i][j]+d[i-1][j]<dist[i-1][j]:\n",
    "                dist[i-1][j]=dist[i][j]+d[i-1][j]\n",
    "                to_do_list.append((i-1,j))\n",
    "        if j>0: #Move West\n",
    "            if dist[i][j]+d[i][j-1]<dist[i][j-1]:\n",
    "                dist[i][j-1]=dist[i][j]+d[i][j-1]\n",
    "                to_do_list.append((i,j-1))\n",
    "    a=2 if p2 else 1\n",
    "    print(f\"Part {a}:\",dist[-1][-1])\n",
    "    return(dist)\n",
    "\n",
    "partX()\n",
    "import time\n",
    "s=time.time()\n",
    "partX(True)\n",
    "print(time.time()-s,'seconds')"
   ]
  }
 ],
 "metadata": {
  "kernelspec": {
   "display_name": "Python 3 (ipykernel)",
   "language": "python",
   "name": "python3"
  },
  "language_info": {
   "codemirror_mode": {
    "name": "ipython",
    "version": 3
   },
   "file_extension": ".py",
   "mimetype": "text/x-python",
   "name": "python",
   "nbconvert_exporter": "python",
   "pygments_lexer": "ipython3",
   "version": "3.7.7"
  }
 },
 "nbformat": 4,
 "nbformat_minor": 5
}
