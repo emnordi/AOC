{
 "cells": [
  {
   "cell_type": "code",
   "execution_count": 3,
   "metadata": {},
   "outputs": [],
   "source": [
    "import numpy as np"
   ]
  },
  {
   "cell_type": "code",
   "execution_count": 77,
   "metadata": {},
   "outputs": [],
   "source": [
    "def get_data(fname):\n",
    "    arr = []\n",
    "    with open(fname) as file:\n",
    "        lines = file.readlines()\n",
    "        for line in lines:\n",
    "            inst = line.rstrip().replace('rotate ', '')\n",
    "            inst = inst.replace('y=', '').replace('by ', '')\n",
    "            inst = inst.replace('x=', '').replace('by ', '')\n",
    "            inst = inst.replace('x', ' ').replace('by ', '')\n",
    "            temp = inst.split(' ')\n",
    "            temp[1] = int(temp[1])\n",
    "            temp[2] = int(temp[2])\n",
    "            arr.append(temp)\n",
    "        return arr"
   ]
  },
  {
   "cell_type": "code",
   "execution_count": 46,
   "metadata": {},
   "outputs": [],
   "source": [
    "def rect(a, b, mon):\n",
    "    mon[:b, :a] = 1\n",
    "    return mon"
   ]
  },
  {
   "cell_type": "code",
   "execution_count": 18,
   "metadata": {},
   "outputs": [],
   "source": [
    "def rotate_y(a, b, mon):\n",
    "    mon[a] = np.roll(mon[a], b)\n",
    "    return mon"
   ]
  },
  {
   "cell_type": "code",
   "execution_count": 31,
   "metadata": {},
   "outputs": [],
   "source": [
    "def rotate_x(a, b, mon):\n",
    "    mon[:, a] = np.roll(mon[:, a], b)\n",
    "    return mon"
   ]
  },
  {
   "cell_type": "code",
   "execution_count": 123,
   "metadata": {},
   "outputs": [],
   "source": [
    "data = get_data('input.txt')"
   ]
  },
  {
   "cell_type": "code",
   "execution_count": 124,
   "metadata": {},
   "outputs": [
    {
     "name": "stdout",
     "output_type": "stream",
     "text": [
      "Part1: 110\n"
     ]
    }
   ],
   "source": [
    "td = np.zeros((6,50))\n",
    "for inst in data:\n",
    "    if inst[0] == 'rect':\n",
    "        td = rect(inst[1], inst[2], td)\n",
    "    elif inst[0] == 'column':\n",
    "        td = rotate_x(inst[1], inst[2], td)\n",
    "    elif inst[0] == 'row':\n",
    "        td = rotate_y(inst[1], inst[2], td)\n",
    "x,y = np.where(td==1)\n",
    "print(f'Part1: {len(x)}')"
   ]
  },
  {
   "cell_type": "code",
   "execution_count": 122,
   "metadata": {},
   "outputs": [
    {
     "name": "stdout",
     "output_type": "stream",
     "text": [
      "[# # # #  ]\n",
      "[      #  ]\n",
      "[    #    ]\n",
      "[  #      ]\n",
      "[#        ]\n",
      "[# # # #  ]\n",
      "------------------\n",
      "[    # #  ]\n",
      "[      #  ]\n",
      "[      #  ]\n",
      "[      #  ]\n",
      "[#     #  ]\n",
      "[  # #    ]\n",
      "------------------\n",
      "[#     #  ]\n",
      "[#     #  ]\n",
      "[# # # #  ]\n",
      "[#     #  ]\n",
      "[#     #  ]\n",
      "[#     #  ]\n",
      "------------------\n",
      "[# # #    ]\n",
      "[#     #  ]\n",
      "[#     #  ]\n",
      "[# # #    ]\n",
      "[#   #    ]\n",
      "[#     #  ]\n",
      "------------------\n",
      "[#     #  ]\n",
      "[#   #    ]\n",
      "[# #      ]\n",
      "[#   #    ]\n",
      "[#   #    ]\n",
      "[#     #  ]\n",
      "------------------\n",
      "[  # #    ]\n",
      "[#     #  ]\n",
      "[#        ]\n",
      "[#        ]\n",
      "[#     #  ]\n",
      "[  # #    ]\n",
      "------------------\n",
      "[# # #    ]\n",
      "[#     #  ]\n",
      "[#     #  ]\n",
      "[# # #    ]\n",
      "[#        ]\n",
      "[#        ]\n",
      "------------------\n",
      "[#        ]\n",
      "[#        ]\n",
      "[#        ]\n",
      "[#        ]\n",
      "[#        ]\n",
      "[# # # #  ]\n",
      "------------------\n",
      "[#       #]\n",
      "[#       #]\n",
      "[  #   #  ]\n",
      "[    #    ]\n",
      "[    #    ]\n",
      "[    #    ]\n",
      "------------------\n",
      "[    # #  ]\n",
      "[      #  ]\n",
      "[      #  ]\n",
      "[      #  ]\n",
      "[#     #  ]\n",
      "[  # #    ]\n",
      "------------------\n"
     ]
    }
   ],
   "source": [
    "for i in range(0, 50, 5):\n",
    "    for x in td[:, i:i+5]:\n",
    "        print(str(x).replace('1.', '#').replace('0.', ' '))\n",
    "    print('------------------')"
   ]
  }
 ],
 "metadata": {
  "kernelspec": {
   "display_name": "Python 3 (ipykernel)",
   "language": "python",
   "name": "python3"
  },
  "language_info": {
   "codemirror_mode": {
    "name": "ipython",
    "version": 3
   },
   "file_extension": ".py",
   "mimetype": "text/x-python",
   "name": "python",
   "nbconvert_exporter": "python",
   "pygments_lexer": "ipython3",
   "version": "3.7.7"
  }
 },
 "nbformat": 4,
 "nbformat_minor": 4
}
