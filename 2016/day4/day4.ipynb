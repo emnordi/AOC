{
 "cells": [
  {
   "cell_type": "code",
   "execution_count": 34,
   "id": "7c73882d",
   "metadata": {},
   "outputs": [],
   "source": [
    "from collections import Counter"
   ]
  },
  {
   "cell_type": "code",
   "execution_count": 28,
   "id": "f5727f9e",
   "metadata": {},
   "outputs": [],
   "source": [
    "def get_data(fname):\n",
    "    arr = []\n",
    "    with open(fname) as file:\n",
    "        lines = file.readlines()\n",
    "        for line in lines:\n",
    "            line = line.rstrip().split('-')\n",
    "            arr.append((line[0:-1], line[-1][0:-1].split('[')))\n",
    "        return arr"
   ]
  },
  {
   "cell_type": "code",
   "execution_count": 86,
   "id": "5fb961ab",
   "metadata": {},
   "outputs": [],
   "source": [
    "data = get_data('input.txt')"
   ]
  },
  {
   "cell_type": "code",
   "execution_count": 105,
   "id": "27a28eda",
   "metadata": {},
   "outputs": [],
   "source": [
    "def shift(s, n):\n",
    "     return ''.join(chr((ord(char) - 97 + n) % 26 + 97) for char in s)"
   ]
  },
  {
   "cell_type": "code",
   "execution_count": 117,
   "id": "5337af66",
   "metadata": {},
   "outputs": [
    {
     "name": "stdout",
     "output_type": "stream",
     "text": [
      "part1: 278221\n",
      "part2: 267\n"
     ]
    }
   ],
   "source": [
    "total = 0\n",
    "legit = []\n",
    "for d in data:\n",
    "    five_most_common = Counter(sorted(''.join(d[0]))).most_common(5)\n",
    "    five_most_common = ''.join([l[0] for l in five_most_common])\n",
    "    if five_most_common == d[1][1]:\n",
    "        total += int(d[1][0])\n",
    "        legit.append(d)\n",
    "print(f'part1: {total}')       \n",
    "for l in legit:\n",
    "    if ' '.join([shift(d, int(l[1][0])) for d in l[0]]) == 'northpole object storage':\n",
    "        print(f'part2: {l[1][0]}')"
   ]
  }
 ],
 "metadata": {
  "kernelspec": {
   "display_name": "Python 3 (ipykernel)",
   "language": "python",
   "name": "python3"
  },
  "language_info": {
   "codemirror_mode": {
    "name": "ipython",
    "version": 3
   },
   "file_extension": ".py",
   "mimetype": "text/x-python",
   "name": "python",
   "nbconvert_exporter": "python",
   "pygments_lexer": "ipython3",
   "version": "3.7.7"
  }
 },
 "nbformat": 4,
 "nbformat_minor": 5
}
