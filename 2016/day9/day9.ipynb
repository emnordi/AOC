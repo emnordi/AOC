{
 "cells": [
  {
   "cell_type": "code",
   "execution_count": null,
   "id": "42ec3ead",
   "metadata": {},
   "outputs": [],
   "source": [
    "import numpy as np"
   ]
  },
  {
   "cell_type": "code",
   "execution_count": 16,
   "id": "e83f2c10",
   "metadata": {},
   "outputs": [],
   "source": [
    "def get_data(fname):\n",
    "    with open(fname) as file:\n",
    "        return file.readline().replace(' ', '')"
   ]
  },
  {
   "cell_type": "code",
   "execution_count": 18,
   "id": "bee5e585",
   "metadata": {},
   "outputs": [],
   "source": [
    "def get_size_and_repeats(text):\n",
    "    nums = text.split('x')\n",
    "    return int(nums[0]), int(nums[1])"
   ]
  },
  {
   "cell_type": "code",
   "execution_count": 140,
   "id": "89c55e0a",
   "metadata": {},
   "outputs": [],
   "source": [
    "comp = get_data('input.txt')"
   ]
  },
  {
   "cell_type": "code",
   "execution_count": 153,
   "id": "6f74ca7c",
   "metadata": {},
   "outputs": [],
   "source": [
    "def go_task(compressed, task2):\n",
    "    start_par = 0\n",
    "    end_par = 0\n",
    "    text_ind = 0\n",
    "    new_str = 0\n",
    "    while(True):\n",
    "        try:\n",
    "          start_par = compressed.index('(', start_par) + 1\n",
    "        except:\n",
    "            return new_str + (len(compressed) - end_par)\n",
    "        new_str += start_par-1 - text_ind\n",
    "        end_par = compressed.index(')', end_par)\n",
    "        size, repeats = get_size_and_repeats(compressed[start_par:end_par])\n",
    "        start_par = end_par+1\n",
    "        end_par += 1+size\n",
    "        if task2:\n",
    "            new_str += repeats*go_task(compressed[start_par:end_par], True)\n",
    "        else:\n",
    "            new_str += size*repeats\n",
    "        start_par = end_par\n",
    "        text_ind = end_par"
   ]
  },
  {
   "cell_type": "code",
   "execution_count": 154,
   "id": "589e652b",
   "metadata": {},
   "outputs": [
    {
     "name": "stdout",
     "output_type": "stream",
     "text": [
      "Part1: 97714\n",
      "Part2: 10762972461\n"
     ]
    }
   ],
   "source": [
    "ans = go_task(comp, False)\n",
    "print(f'Part1: {ans}')\n",
    "ans = go_task(comp, True)\n",
    "print(f'Part2: {ans}')"
   ]
  }
 ],
 "metadata": {
  "kernelspec": {
   "display_name": "Python 3 (ipykernel)",
   "language": "python",
   "name": "python3"
  },
  "language_info": {
   "codemirror_mode": {
    "name": "ipython",
    "version": 3
   },
   "file_extension": ".py",
   "mimetype": "text/x-python",
   "name": "python",
   "nbconvert_exporter": "python",
   "pygments_lexer": "ipython3",
   "version": "3.7.7"
  }
 },
 "nbformat": 4,
 "nbformat_minor": 5
}
