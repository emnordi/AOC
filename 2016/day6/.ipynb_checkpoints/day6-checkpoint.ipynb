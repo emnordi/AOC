{
 "cells": [
  {
   "cell_type": "code",
   "execution_count": 10,
   "id": "9ff6d24b",
   "metadata": {},
   "outputs": [],
   "source": [
    "import numpy as np\n",
    "from collections import Counter"
   ]
  },
  {
   "cell_type": "code",
   "execution_count": 5,
   "id": "958bc6a6",
   "metadata": {},
   "outputs": [],
   "source": [
    "def get_data(fname):\n",
    "    arr = []\n",
    "    with open(fname) as file:\n",
    "        lines = file.readlines()\n",
    "        arr = [list(line.rstrip()) for line in lines]\n",
    "        return np.array(arr)"
   ]
  },
  {
   "cell_type": "code",
   "execution_count": 24,
   "id": "559b5fec",
   "metadata": {},
   "outputs": [
    {
     "name": "stdout",
     "output_type": "stream",
     "text": [
      "Part 1: asvcbhvg\n",
      "Part 1: odqnikqv\n"
     ]
    }
   ],
   "source": [
    "data = get_data('input.txt').T\n",
    "word = ''\n",
    "word2 = ''\n",
    "for d in data:\n",
    "    word += Counter(d).most_common(1)[0][0]\n",
    "    word2 += Counter(d).most_common()[-1][0]\n",
    "print(f'Part 1: {word}')\n",
    "print(f'Part 1: {word2}')"
   ]
  }
 ],
 "metadata": {
  "kernelspec": {
   "display_name": "Python 3 (ipykernel)",
   "language": "python",
   "name": "python3"
  },
  "language_info": {
   "codemirror_mode": {
    "name": "ipython",
    "version": 3
   },
   "file_extension": ".py",
   "mimetype": "text/x-python",
   "name": "python",
   "nbconvert_exporter": "python",
   "pygments_lexer": "ipython3",
   "version": "3.7.7"
  }
 },
 "nbformat": 4,
 "nbformat_minor": 5
}
