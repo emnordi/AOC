{
 "cells": [
  {
   "cell_type": "code",
   "execution_count": 65,
   "id": "1716b67e",
   "metadata": {},
   "outputs": [],
   "source": [
    "def get_data(fname):\n",
    "    with open(fname) as f:\n",
    "        data = f.readline()\n",
    "        return data.split(', ')"
   ]
  },
  {
   "cell_type": "code",
   "execution_count": 77,
   "id": "58852f0a",
   "metadata": {},
   "outputs": [],
   "source": [
    "def n_pos(x, y, steps, direction):\n",
    "    if direction == 0:\n",
    "        walk('y', x, y, steps, 1)\n",
    "        y += steps\n",
    "    elif direction == 1:\n",
    "        walk('x', x, y, steps, 1)\n",
    "        x += steps\n",
    "    elif direction == 2:\n",
    "        walk('y', x, y, steps, -1)\n",
    "        y -= steps\n",
    "    elif direction == 3:\n",
    "        walk('x', x, y, steps, -1)\n",
    "        x -= steps\n",
    "    else:\n",
    "        print('Something went terribly wrong there')\n",
    "    return x, y"
   ]
  },
  {
   "cell_type": "code",
   "execution_count": 79,
   "id": "44c0f7b8",
   "metadata": {},
   "outputs": [],
   "source": [
    "def walk(coord, x, y, steps, mul):\n",
    "    for i in range(1, steps+1):\n",
    "        if coord == 'x':\n",
    "            x+= (1*mul)\n",
    "        else:\n",
    "            y += (1*mul)\n",
    "        check_visited(x, y)\n",
    "        visited.append((x, y))"
   ]
  },
  {
   "cell_type": "code",
   "execution_count": 91,
   "id": "c1cb9c6b",
   "metadata": {},
   "outputs": [],
   "source": [
    "def check_visited(x, y):\n",
    "    if (x,y) in visited and len(p2won) == 0:\n",
    "#         print('x: ' + str(x))\n",
    "#         print('y: ' + str(y))\n",
    "        print(f'Task 2 location {abs(x)+abs(y)} blocks away')\n",
    "        p2won.append(1)"
   ]
  },
  {
   "cell_type": "code",
   "execution_count": 92,
   "id": "6f6c30e5",
   "metadata": {},
   "outputs": [
    {
     "name": "stdout",
     "output_type": "stream",
     "text": [
      "Task 2 location 165 blocks away\n",
      "Task 1 location 307 blocks away\n"
     ]
    }
   ],
   "source": [
    "data = get_data('input.txt')\n",
    "facing = 0 # 0 = N, 1 = E, 2 = S, 3 = W\n",
    "xp = 0\n",
    "yp = 0\n",
    "visited = []\n",
    "p2won = []\n",
    "for d in data:\n",
    "    if d[0] == 'L':\n",
    "        facing = (facing-1)%4\n",
    "    elif d[0] == 'R':\n",
    "        facing = (facing+1)%4\n",
    "    else:\n",
    "        print('Something went terribly wrong here')\n",
    "    xp, yp = n_pos(xp, yp, int(d[1:]), facing)\n",
    "# print('x: ' + str(xp))\n",
    "# print('y: ' + str(yp))\n",
    "print(f'Task 1 location {abs(xp)+abs(yp)} blocks away')"
   ]
  },
  {
   "cell_type": "code",
   "execution_count": 48,
   "id": "aba12105",
   "metadata": {},
   "outputs": [],
   "source": []
  }
 ],
 "metadata": {
  "kernelspec": {
   "display_name": "Python 3 (ipykernel)",
   "language": "python",
   "name": "python3"
  },
  "language_info": {
   "codemirror_mode": {
    "name": "ipython",
    "version": 3
   },
   "file_extension": ".py",
   "mimetype": "text/x-python",
   "name": "python",
   "nbconvert_exporter": "python",
   "pygments_lexer": "ipython3",
   "version": "3.7.7"
  }
 },
 "nbformat": 4,
 "nbformat_minor": 5
}
