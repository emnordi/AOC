{
 "cells": [
  {
   "cell_type": "code",
   "execution_count": 1,
   "id": "e2e7984c",
   "metadata": {},
   "outputs": [],
   "source": [
    "import re"
   ]
  },
  {
   "cell_type": "code",
   "execution_count": 127,
   "id": "c47c8644",
   "metadata": {},
   "outputs": [],
   "source": [
    "def get_data(fname):\n",
    "    arr = []\n",
    "    with open(fname) as file:\n",
    "        lines = file.readlines()\n",
    "        for line in lines:\n",
    "            line = line.rstrip()\n",
    "            within_brackets = re.findall('\\[(.*?)\\]', line)\n",
    "            for w in within_brackets:\n",
    "                line = line.replace('['+w+']', ' ')\n",
    "            arr.append((line, within_brackets))\n",
    "    return arr"
   ]
  },
  {
   "cell_type": "code",
   "execution_count": 128,
   "id": "6f935764",
   "metadata": {},
   "outputs": [],
   "source": [
    "def contains_abba(li):\n",
    "    for text in li:\n",
    "        for i in range(len(text)-3):\n",
    "            if text[i:i+2] == text[i+2:i+4][::-1] and text[i] != text[i+1]:\n",
    "                return True\n",
    "    return False"
   ]
  },
  {
   "cell_type": "code",
   "execution_count": 136,
   "id": "bdd8d7d9",
   "metadata": {},
   "outputs": [],
   "source": [
    "def contains_aba(li):\n",
    "    babs = []\n",
    "    for text in li:\n",
    "        for i in range(len(text)-2):\n",
    "            if text[i] == text[i+2] and text[i+1] != text[i]:\n",
    "                babs.append(text[i+1]+text[i]+text[i+1])\n",
    "    return babs"
   ]
  },
  {
   "cell_type": "code",
   "execution_count": 135,
   "id": "bcfd26a3",
   "metadata": {},
   "outputs": [],
   "source": [
    "def contains_bab(li, ws):\n",
    "    for l in li:\n",
    "        for w in ws:\n",
    "            if w in l:\n",
    "                return True\n",
    "    return False"
   ]
  },
  {
   "cell_type": "code",
   "execution_count": 131,
   "id": "2b551b20",
   "metadata": {},
   "outputs": [],
   "source": [
    "data = get_data('input.txt')"
   ]
  },
  {
   "cell_type": "code",
   "execution_count": 137,
   "id": "c6ba9cff",
   "metadata": {},
   "outputs": [
    {
     "name": "stdout",
     "output_type": "stream",
     "text": [
      "Part 1: 118\n",
      "Part 2: 260\n"
     ]
    }
   ],
   "source": [
    "valid_ips = 0\n",
    "valid_ips2 = 0\n",
    "for d in data:\n",
    "    if not contains_abba(d[1]):\n",
    "        if contains_abba(d[0].split(' ')):\n",
    "            valid_ips += 1\n",
    "    bab = contains_aba(d[0].split(' '))\n",
    "    if bab != '':\n",
    "        if contains_bab(d[1], bab):\n",
    "            valid_ips2 += 1\n",
    "print(f'Part 1: {valid_ips}')\n",
    "print(f'Part 2: {valid_ips2}')"
   ]
  }
 ],
 "metadata": {
  "kernelspec": {
   "display_name": "Python 3 (ipykernel)",
   "language": "python",
   "name": "python3"
  },
  "language_info": {
   "codemirror_mode": {
    "name": "ipython",
    "version": 3
   },
   "file_extension": ".py",
   "mimetype": "text/x-python",
   "name": "python",
   "nbconvert_exporter": "python",
   "pygments_lexer": "ipython3",
   "version": "3.7.7"
  }
 },
 "nbformat": 4,
 "nbformat_minor": 5
}
