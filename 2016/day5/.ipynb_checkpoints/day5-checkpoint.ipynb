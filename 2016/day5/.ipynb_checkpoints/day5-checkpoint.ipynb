{
 "cells": [
  {
   "cell_type": "code",
   "execution_count": 47,
   "id": "4f22985d",
   "metadata": {},
   "outputs": [],
   "source": [
    "import hashlib\n",
    "import time"
   ]
  },
  {
   "cell_type": "code",
   "execution_count": 9,
   "id": "cc9fcf43",
   "metadata": {},
   "outputs": [],
   "source": [
    "def hashify(s):\n",
    "    return hashlib.md5(s.encode()).hexdigest()"
   ]
  },
  {
   "cell_type": "code",
   "execution_count": 45,
   "id": "d85687cd",
   "metadata": {},
   "outputs": [],
   "source": [
    "def part2(arr, ind, inp):\n",
    "    if ind.isdigit():\n",
    "        ind = int(ind)\n",
    "        if ind < 8 and arr[ind] == '':\n",
    "            arr[int(ind)] = inp\n",
    "    return arr"
   ]
  },
  {
   "cell_type": "code",
   "execution_count": 48,
   "id": "90fca8d4",
   "metadata": {},
   "outputs": [
    {
     "name": "stdout",
     "output_type": "stream",
     "text": [
      "Part 1: 801b56a7\n",
      "Part 2: 424a0197\n",
      "--- 41.71282935142517 seconds ---\n"
     ]
    }
   ],
   "source": [
    "inp = 'abbhdwsy'\n",
    "counter = 0\n",
    "password = ''\n",
    "password2 = ['']*8\n",
    "pass_ind = 0\n",
    "start_time = time.time()\n",
    "while len(''.join(password2)) < 8:\n",
    "    hashed = hashify(inp+str(counter))\n",
    "    if hashed[0:5] == '00000':\n",
    "        p = hashed[5]\n",
    "        if len(password) < 8:\n",
    "            password += p\n",
    "        password2 = part2(password2, p, hashed[6])\n",
    "    counter += 1\n",
    "print(f'Part 1: {password}')\n",
    "print(f'Part 2: ' + ''.join(password2))\n",
    "print(\"--- %s seconds ---\" % (time.time() - start_time))"
   ]
  }
 ],
 "metadata": {
  "kernelspec": {
   "display_name": "Python 3 (ipykernel)",
   "language": "python",
   "name": "python3"
  },
  "language_info": {
   "codemirror_mode": {
    "name": "ipython",
    "version": 3
   },
   "file_extension": ".py",
   "mimetype": "text/x-python",
   "name": "python",
   "nbconvert_exporter": "python",
   "pygments_lexer": "ipython3",
   "version": "3.7.7"
  }
 },
 "nbformat": 4,
 "nbformat_minor": 5
}
