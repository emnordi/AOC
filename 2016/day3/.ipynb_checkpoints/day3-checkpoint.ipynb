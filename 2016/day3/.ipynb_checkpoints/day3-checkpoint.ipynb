{
 "cells": [
  {
   "cell_type": "code",
   "execution_count": 54,
   "id": "04675e20",
   "metadata": {},
   "outputs": [],
   "source": [
    "import numpy as np"
   ]
  },
  {
   "cell_type": "code",
   "execution_count": 26,
   "id": "d4102eb3",
   "metadata": {},
   "outputs": [],
   "source": [
    "def get_data(fname):\n",
    "    arr = []\n",
    "    with open(fname) as file:\n",
    "        lines = file.readlines()\n",
    "        for line in lines:\n",
    "            arr.append([int(i) for i in line.lstrip().rstrip().split()])\n",
    "        return arr"
   ]
  },
  {
   "cell_type": "code",
   "execution_count": 43,
   "id": "c4eef20a",
   "metadata": {},
   "outputs": [],
   "source": [
    "def is_triangle(s1, s2, s3):\n",
    "    return (s1 + s2) > s3 and (s1 + s3) > s2 and (s2 + s3) > s1"
   ]
  },
  {
   "cell_type": "code",
   "execution_count": 44,
   "id": "60391573",
   "metadata": {},
   "outputs": [],
   "source": [
    "def check_triangle(sides):\n",
    "    s1, s2, s3 = sides\n",
    "    return is_triangle(s1, s2, s3)"
   ]
  },
  {
   "cell_type": "code",
   "execution_count": 68,
   "id": "7adf56b8",
   "metadata": {},
   "outputs": [],
   "source": [
    "def p2_data(inp):\n",
    "    inp = np.array(inp).T\n",
    "    return inp.reshape(-1, 3)"
   ]
  },
  {
   "cell_type": "code",
   "execution_count": 73,
   "id": "ba8ce8df",
   "metadata": {},
   "outputs": [
    {
     "name": "stdout",
     "output_type": "stream",
     "text": [
      "Part1: 1032\n",
      "Part1: 1838\n"
     ]
    }
   ],
   "source": [
    "data = get_data('input.txt')\n",
    "data2 = p2_data(data)\n",
    "impossible = 0\n",
    "impossible2 = 0\n",
    "for tri, tri2 in zip(data, data2):\n",
    "    if not check_triangle(tri):\n",
    "        impossible += 1\n",
    "    if not check_triangle(tri2):\n",
    "        impossible2 += 1\n",
    "print(f'Part1: {len(data)-impossible}')\n",
    "print(f'Part1: {len(data2)-impossible2}')"
   ]
  }
 ],
 "metadata": {
  "kernelspec": {
   "display_name": "Python 3 (ipykernel)",
   "language": "python",
   "name": "python3"
  },
  "language_info": {
   "codemirror_mode": {
    "name": "ipython",
    "version": 3
   },
   "file_extension": ".py",
   "mimetype": "text/x-python",
   "name": "python",
   "nbconvert_exporter": "python",
   "pygments_lexer": "ipython3",
   "version": "3.7.7"
  }
 },
 "nbformat": 4,
 "nbformat_minor": 5
}
