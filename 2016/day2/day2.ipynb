{
 "cells": [
  {
   "cell_type": "code",
   "execution_count": 10,
   "id": "1ca5e35c",
   "metadata": {},
   "outputs": [],
   "source": [
    "import numpy as np"
   ]
  },
  {
   "cell_type": "code",
   "execution_count": 38,
   "id": "579763b9",
   "metadata": {},
   "outputs": [],
   "source": [
    "def get_data(fname):\n",
    "    arr = []\n",
    "    with open(fname) as file:\n",
    "        lines = file.readlines()\n",
    "        for l in lines:\n",
    "            arr.append(l.rstrip())\n",
    "        return arr"
   ]
  },
  {
   "cell_type": "code",
   "execution_count": 54,
   "id": "1e724926",
   "metadata": {},
   "outputs": [],
   "source": [
    "keypad = np.array([['1','2','3'], ['4','5','6'], ['7','8','9']])"
   ]
  },
  {
   "cell_type": "code",
   "execution_count": 60,
   "id": "2b1d0c93",
   "metadata": {},
   "outputs": [],
   "source": [
    "keypad2 = np.array([['X','X','1','X','X'], ['X','2','3','4','X'], ['5','6','7','8','9'], ['X','A', 'B', 'C', 'X'], ['X','X','D','X','X']])"
   ]
  },
  {
   "cell_type": "code",
   "execution_count": 55,
   "id": "32ab5c0e",
   "metadata": {},
   "outputs": [],
   "source": [
    "def move(direction, cur_no):\n",
    "    cur_y, cur_x = np.where(keypad == cur_no)\n",
    "    cur_x = cur_x[0]\n",
    "    cur_y = cur_y[0]\n",
    "    if direction == 'U':\n",
    "        if cur_y == 0:\n",
    "            return cur_no\n",
    "        else:\n",
    "            return keypad[cur_y-1][cur_x]\n",
    "    elif direction == 'D':\n",
    "         if cur_y == len(keypad)-1:\n",
    "            return cur_no\n",
    "         else:\n",
    "            return keypad[cur_y+1][cur_x]\n",
    "    elif direction == 'L':\n",
    "        if cur_x == 0:\n",
    "            return cur_no\n",
    "        else:\n",
    "            return keypad[cur_y][cur_x-1]\n",
    "    elif direction == 'R':\n",
    "        if cur_x == len(keypad[cur_y])-1:\n",
    "            return cur_no\n",
    "        else:\n",
    "            return keypad[cur_y][cur_x+1]"
   ]
  },
  {
   "cell_type": "code",
   "execution_count": 62,
   "id": "4e0b8d0a",
   "metadata": {},
   "outputs": [],
   "source": [
    "def move2(direction, cur_no):\n",
    "    cur_y, cur_x = np.where(keypad2 == cur_no)\n",
    "    cur_x = cur_x[0]\n",
    "    cur_y = cur_y[0]\n",
    "    if direction == 'U':\n",
    "        if cur_y == 0:\n",
    "            return cur_no\n",
    "        else:\n",
    "            if keypad2[cur_y-1][cur_x] != 'X':\n",
    "                return keypad2[cur_y-1][cur_x]\n",
    "            else:\n",
    "                return cur_no\n",
    "    elif direction == 'D':\n",
    "        if cur_y == len(keypad2)-1:\n",
    "            return cur_no\n",
    "        else:\n",
    "            if keypad2[cur_y+1][cur_x] != 'X':\n",
    "                return keypad2[cur_y+1][cur_x]\n",
    "            else:\n",
    "                return cur_no\n",
    "    elif direction == 'L':\n",
    "        if cur_x == 0:\n",
    "            return cur_no\n",
    "        else:\n",
    "            if keypad2[cur_y][cur_x-1] != 'X':\n",
    "                return keypad2[cur_y][cur_x-1]\n",
    "            else:\n",
    "                return cur_no\n",
    "    elif direction == 'R':\n",
    "        if cur_x == len(keypad2[cur_y])-1:\n",
    "            return cur_no\n",
    "        else:\n",
    "            if keypad2[cur_y][cur_x+1] != 'X':\n",
    "                return keypad2[cur_y][cur_x+1]\n",
    "            else:\n",
    "                return cur_no"
   ]
  },
  {
   "cell_type": "code",
   "execution_count": 68,
   "id": "7a657ed0",
   "metadata": {},
   "outputs": [],
   "source": [
    "data = get_data('input.txt')"
   ]
  },
  {
   "cell_type": "code",
   "execution_count": 69,
   "id": "9d9bac91",
   "metadata": {},
   "outputs": [
    {
     "name": "stdout",
     "output_type": "stream",
     "text": [
      "part1: 74921\n",
      "part2: A6B35\n"
     ]
    }
   ],
   "source": [
    "password = []\n",
    "password2 = []\n",
    "cur = '5'\n",
    "cur2 = '5'\n",
    "for digit in data:\n",
    "    for direc in digit:\n",
    "        cur = move(direc, cur)\n",
    "        cur2 = move2(direc, cur2)\n",
    "    password.append(cur)\n",
    "    password2.append(cur2)\n",
    "print('part1: ' + ''.join(password))\n",
    "print('part2: ' + ''.join(password2))"
   ]
  }
 ],
 "metadata": {
  "kernelspec": {
   "display_name": "Python 3 (ipykernel)",
   "language": "python",
   "name": "python3"
  },
  "language_info": {
   "codemirror_mode": {
    "name": "ipython",
    "version": 3
   },
   "file_extension": ".py",
   "mimetype": "text/x-python",
   "name": "python",
   "nbconvert_exporter": "python",
   "pygments_lexer": "ipython3",
   "version": "3.7.7"
  }
 },
 "nbformat": 4,
 "nbformat_minor": 5
}
