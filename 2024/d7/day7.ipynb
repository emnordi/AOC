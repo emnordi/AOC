{
 "cells": [
  {
   "cell_type": "code",
   "execution_count": 56,
   "id": "f1d340a6",
   "metadata": {},
   "outputs": [],
   "source": [
    "import time\n",
    "import threading"
   ]
  },
  {
   "cell_type": "code",
   "execution_count": 75,
   "id": "48d73fd2",
   "metadata": {},
   "outputs": [],
   "source": [
    "def get_data(fname):\n",
    "    d = []\n",
    "    with open(fname) as f:\n",
    "        for line in f.readlines():\n",
    "            tot, nums = line.rstrip().split(': ')\n",
    "            d.append([int(tot), [int(x) for x in nums.split(' ')]])\n",
    "        return d"
   ]
  },
  {
   "cell_type": "code",
   "execution_count": 106,
   "id": "95678dd2",
   "metadata": {},
   "outputs": [],
   "source": [
    "def makes_total(total, numbers, task2=False):\n",
    "    totals = [numbers[0]]\n",
    "    for n in numbers[1:]:\n",
    "        temp = []\n",
    "        for t in totals:\n",
    "            temp.append(t*n)\n",
    "            temp.append(t+n)\n",
    "            if task2:\n",
    "                temp.append(int(str(t)+str(n)))\n",
    "        totals = temp\n",
    "    if total in totals:\n",
    "        return total\n",
    "    return 0"
   ]
  },
  {
   "cell_type": "code",
   "execution_count": 110,
   "id": "7d15b67f",
   "metadata": {},
   "outputs": [],
   "source": [
    "data = get_data('input.txt')"
   ]
  },
  {
   "cell_type": "code",
   "execution_count": 117,
   "id": "77911891",
   "metadata": {},
   "outputs": [
    {
     "name": "stdout",
     "output_type": "stream",
     "text": [
      "Task 1: 2437272016585\n",
      "Task 2: 162987117690649\n",
      "--- 3.736489772796631 seconds ---\n"
     ]
    }
   ],
   "source": [
    "start_time = time.time()\n",
    "task1 = 0\n",
    "task2 = 0\n",
    "for t, ns in data:\n",
    "    task1 += makes_total(t, ns)\n",
    "    task2 += makes_total(t, ns, True)\n",
    "print('Task 1: ' + str(task1))\n",
    "print('Task 2: ' + str(task2))\n",
    "print(\"--- %s seconds ---\" % (time.time() - start_time))"
   ]
  }
 ],
 "metadata": {
  "kernelspec": {
   "display_name": "Python 3 (ipykernel)",
   "language": "python",
   "name": "python3"
  },
  "language_info": {
   "codemirror_mode": {
    "name": "ipython",
    "version": 3
   },
   "file_extension": ".py",
   "mimetype": "text/x-python",
   "name": "python",
   "nbconvert_exporter": "python",
   "pygments_lexer": "ipython3",
   "version": "3.10.6"
  }
 },
 "nbformat": 4,
 "nbformat_minor": 5
}
