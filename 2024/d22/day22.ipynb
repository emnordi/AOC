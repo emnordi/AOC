{
 "cells": [
  {
   "cell_type": "code",
   "execution_count": 19,
   "id": "867e09c9",
   "metadata": {},
   "outputs": [],
   "source": [
    "from collections import defaultdict\n",
    "from functools import cache\n",
    "import math\n",
    "import time"
   ]
  },
  {
   "cell_type": "code",
   "execution_count": 25,
   "id": "56da0409",
   "metadata": {},
   "outputs": [],
   "source": [
    "def get_data(fname):\n",
    "    data = []\n",
    "    with open(fname) as f:\n",
    "        for line in f.readlines():\n",
    "            data.append(int(line.rstrip()))\n",
    "    return data"
   ]
  },
  {
   "cell_type": "code",
   "execution_count": 30,
   "id": "9c6725e6",
   "metadata": {},
   "outputs": [],
   "source": [
    "@cache\n",
    "def mix(number, other):\n",
    "    return number ^ other"
   ]
  },
  {
   "cell_type": "code",
   "execution_count": 31,
   "id": "5d74cab4",
   "metadata": {},
   "outputs": [],
   "source": [
    "@cache\n",
    "def prune(number):\n",
    "    return number % 16777216"
   ]
  },
  {
   "cell_type": "code",
   "execution_count": 32,
   "id": "0009009f",
   "metadata": {},
   "outputs": [],
   "source": [
    "@cache\n",
    "def operation_one(number):\n",
    "    return prune(mix(number*64, number)) "
   ]
  },
  {
   "cell_type": "code",
   "execution_count": 33,
   "id": "f3473804",
   "metadata": {},
   "outputs": [],
   "source": [
    "@cache\n",
    "def operation_two(number):\n",
    "    return prune(mix(math.floor(number/32), number)) "
   ]
  },
  {
   "cell_type": "code",
   "execution_count": 34,
   "id": "3cad1d51",
   "metadata": {},
   "outputs": [],
   "source": [
    "@cache\n",
    "def operation_three(number):\n",
    "    return prune(mix(number*2048, number)) "
   ]
  },
  {
   "cell_type": "code",
   "execution_count": 188,
   "id": "801fda3e",
   "metadata": {},
   "outputs": [],
   "source": [
    "@cache\n",
    "def secret_number(start_no):\n",
    "    return operation_three(operation_two(operation_one(start_no)))"
   ]
  },
  {
   "cell_type": "code",
   "execution_count": 249,
   "id": "f072a81f",
   "metadata": {},
   "outputs": [],
   "source": [
    "def get_scores(ind):\n",
    "    scores = {}\n",
    "    for i in range(1, len(last_numbers[ind])-3):\n",
    "        sequence = (change_data[ind][i], change_data[ind][i+1], change_data[ind][i+2], change_data[ind][i+3])\n",
    "        if sequence not in scores:\n",
    "            scores[sequence] = last_numbers[ind][i+3]\n",
    "    return scores"
   ]
  },
  {
   "cell_type": "code",
   "execution_count": 253,
   "id": "fe5f0ccc",
   "metadata": {},
   "outputs": [
    {
     "name": "stdout",
     "output_type": "stream",
     "text": [
      "Task 1: 18261820068\n",
      "Task 2: 2044\n",
      "--- 5.568546772003174 seconds ---\n"
     ]
    }
   ],
   "source": [
    "data = get_data('input.txt')\n",
    "start_time = time.time()\n",
    "total = 0\n",
    "change_data = []\n",
    "last_numbers = []\n",
    "for d in data:\n",
    "    number = d\n",
    "    temp = [0]\n",
    "    temp2 = [number%10]\n",
    "    for i in range(2000):\n",
    "        number = secret_number(number)\n",
    "        last_digit = number % 10\n",
    "        temp.append(last_digit-temp2[i])\n",
    "        temp2.append(last_digit)\n",
    "    change_data.append(temp)\n",
    "    last_numbers.append(temp2)\n",
    "    total += number\n",
    "print('Task 1:', total)\n",
    "\n",
    "total_scores = defaultdict(int)\n",
    "for i in range(len(change_data)):\n",
    "    ans_map = get_scores(i)\n",
    "    for k, v in ans_map.items():\n",
    "        total_scores[k] += v\n",
    "print('Task 2:', max(total_scores.values()))\n",
    "\n",
    "print(\"--- %s seconds ---\" % (time.time() - start_time))"
   ]
  }
 ],
 "metadata": {
  "kernelspec": {
   "display_name": "Python 3 (ipykernel)",
   "language": "python",
   "name": "python3"
  },
  "language_info": {
   "codemirror_mode": {
    "name": "ipython",
    "version": 3
   },
   "file_extension": ".py",
   "mimetype": "text/x-python",
   "name": "python",
   "nbconvert_exporter": "python",
   "pygments_lexer": "ipython3",
   "version": "3.10.6"
  }
 },
 "nbformat": 4,
 "nbformat_minor": 5
}
