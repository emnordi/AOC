{
 "cells": [
  {
   "cell_type": "code",
   "execution_count": 82,
   "id": "711e12ae",
   "metadata": {},
   "outputs": [],
   "source": [
    "import numpy as np\n",
    "from collections import defaultdict"
   ]
  },
  {
   "cell_type": "code",
   "execution_count": 7,
   "id": "7c957658",
   "metadata": {},
   "outputs": [],
   "source": [
    "def get_data(fname):\n",
    "    ret = []\n",
    "    with open(fname) as f:\n",
    "        for line in f.readlines():\n",
    "            ret.append([int(x) for x in line.rstrip()])\n",
    "    return np.array(ret)"
   ]
  },
  {
   "cell_type": "code",
   "execution_count": 91,
   "id": "f51a9d7b",
   "metadata": {},
   "outputs": [],
   "source": [
    "def find_path(cur_y, cur_x, el_to_find):\n",
    "    if data[cur_y][cur_x] == 9 and el_to_find == 10:\n",
    "        nines[(cur_y, cur_x)] += 1\n",
    "        return\n",
    "        #return nines.add((cur_y, cur_x))\n",
    "    #left\n",
    "    if cur_x > 0 and data[cur_y][cur_x-1] == el_to_find:\n",
    "        find_path(cur_y, cur_x-1, el_to_find+1)\n",
    "    #right\n",
    "    if cur_x < len(data[cur_y])-1 and data[cur_y][cur_x+1] == el_to_find:\n",
    "        find_path(cur_y, cur_x+1, el_to_find+1)\n",
    "    #up\n",
    "    if cur_y > 0 and data[cur_y-1][cur_x] == el_to_find:\n",
    "        find_path(cur_y-1, cur_x, el_to_find+1)\n",
    "    #down\n",
    "    if cur_y < len(data)-1 and data[cur_y+1][cur_x] == el_to_find:\n",
    "        find_path(cur_y+1, cur_x, el_to_find+1)\n",
    "    "
   ]
  },
  {
   "cell_type": "code",
   "execution_count": 108,
   "id": "2d416bef",
   "metadata": {},
   "outputs": [],
   "source": [
    "data = get_data('input.txt')"
   ]
  },
  {
   "cell_type": "code",
   "execution_count": 109,
   "id": "4695e841",
   "metadata": {},
   "outputs": [
    {
     "name": "stdout",
     "output_type": "stream",
     "text": [
      "Task 1: 535\n",
      "Task 2: 1186\n"
     ]
    }
   ],
   "source": [
    "ys, xs = np.where(data == 0)\n",
    "total = 0\n",
    "total2 = 0\n",
    "for y, x in zip(ys, xs):\n",
    "    nines = defaultdict(int)\n",
    "    find_path(y, x, 1)\n",
    "    total += len(nines)\n",
    "    for d in nines.items():\n",
    "        total2 += d[1]\n",
    "print('Task 1:', total)\n",
    "print('Task 2:', total2)"
   ]
  },
  {
   "cell_type": "code",
   "execution_count": null,
   "id": "0730be81",
   "metadata": {},
   "outputs": [],
   "source": []
  }
 ],
 "metadata": {
  "kernelspec": {
   "display_name": "Python 3 (ipykernel)",
   "language": "python",
   "name": "python3"
  },
  "language_info": {
   "codemirror_mode": {
    "name": "ipython",
    "version": 3
   },
   "file_extension": ".py",
   "mimetype": "text/x-python",
   "name": "python",
   "nbconvert_exporter": "python",
   "pygments_lexer": "ipython3",
   "version": "3.10.6"
  }
 },
 "nbformat": 4,
 "nbformat_minor": 5
}
