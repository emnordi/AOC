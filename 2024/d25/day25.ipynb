{
 "cells": [
  {
   "cell_type": "code",
   "execution_count": 8,
   "id": "af2f97ff",
   "metadata": {},
   "outputs": [],
   "source": [
    "import numpy as np"
   ]
  },
  {
   "cell_type": "code",
   "execution_count": 74,
   "id": "8a1ff066",
   "metadata": {},
   "outputs": [],
   "source": [
    "def get_data(fname):\n",
    "    keys = []\n",
    "    locks = []\n",
    "    with open(fname) as f:\n",
    "        temp = []\n",
    "        key = True\n",
    "        for line in f.readlines():\n",
    "            line = line.rstrip()\n",
    "            if line == '':\n",
    "                if key:\n",
    "                    keys.append(temp)\n",
    "                    temp = []\n",
    "                else:\n",
    "                    locks.append(temp)\n",
    "                    temp = []\n",
    "                continue\n",
    "            elif len(temp) == 0:\n",
    "                if line == '#####':\n",
    "                    key = False\n",
    "                else:\n",
    "                    key = True\n",
    "            temp.append([l for l in line]) \n",
    "        if key:\n",
    "            keys.append(temp)\n",
    "            temp = []\n",
    "        else:\n",
    "            locks.append(temp)\n",
    "            temp = []\n",
    "    return np.array(keys), np.array(locks)"
   ]
  },
  {
   "cell_type": "code",
   "execution_count": 78,
   "id": "e8756614",
   "metadata": {},
   "outputs": [],
   "source": [
    "keys, locks = get_data('input.txt')"
   ]
  },
  {
   "cell_type": "code",
   "execution_count": 80,
   "id": "8a32ebfc",
   "metadata": {},
   "outputs": [
    {
     "name": "stdout",
     "output_type": "stream",
     "text": [
      "Task 1: 2978\n"
     ]
    }
   ],
   "source": [
    "total = 0\n",
    "for i_l in range(len(locks)):\n",
    "    lock_ys, lock_xs = np.where(locks[i_l] == '#')\n",
    "    lock_coords = [(ly, lx) for [ly, lx] in zip(lock_ys, lock_xs)]\n",
    "    for i_k in range(len(keys)):\n",
    "        key_ys, key_xs = np.where(keys[i_k] == '#')\n",
    "        key_coords = [(ky, kx) for [ky, kx] in zip(key_ys, key_xs)]\n",
    "        if set(lock_coords).isdisjoint(key_coords):\n",
    "            total += 1\n",
    "print('Task 1:',total)"
   ]
  },
  {
   "cell_type": "code",
   "execution_count": null,
   "id": "f1c04b7b",
   "metadata": {},
   "outputs": [],
   "source": []
  }
 ],
 "metadata": {
  "kernelspec": {
   "display_name": "Python 3 (ipykernel)",
   "language": "python",
   "name": "python3"
  },
  "language_info": {
   "codemirror_mode": {
    "name": "ipython",
    "version": 3
   },
   "file_extension": ".py",
   "mimetype": "text/x-python",
   "name": "python",
   "nbconvert_exporter": "python",
   "pygments_lexer": "ipython3",
   "version": "3.10.6"
  }
 },
 "nbformat": 4,
 "nbformat_minor": 5
}
