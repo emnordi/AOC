{
 "cells": [
  {
   "cell_type": "code",
   "execution_count": 12,
   "id": "5e795a55",
   "metadata": {},
   "outputs": [],
   "source": [
    "def get_data(fname):\n",
    "    start_dict = {}\n",
    "    instructions = []\n",
    "    stage = 0\n",
    "    with open(fname) as f:\n",
    "        for line in f.readlines():\n",
    "            line = line.rstrip()\n",
    "            if line == '':\n",
    "                stage = 1\n",
    "                continue\n",
    "            if stage == 0:\n",
    "                k, v = line.split(': ')\n",
    "                start_dict[k] = int(v)\n",
    "            else:\n",
    "                instr, result = line.split(' -> ')\n",
    "                instructions.append([instr.split(' '), result])\n",
    "    return start_dict, instructions"
   ]
  },
  {
   "cell_type": "code",
   "execution_count": 28,
   "id": "ff75d7b1",
   "metadata": {},
   "outputs": [],
   "source": [
    "def do_operation(val1, operation, val2):\n",
    "    if operation == 'AND':\n",
    "        return val1 & val2\n",
    "    if operation == 'OR':\n",
    "        return val1 | val2\n",
    "    if operation == 'XOR':\n",
    "        return val1 ^ val2"
   ]
  },
  {
   "cell_type": "code",
   "execution_count": 29,
   "id": "cdaf6758",
   "metadata": {},
   "outputs": [],
   "source": [
    "def remove_elements(to_remove):\n",
    "    for i in reversed(to_remove):\n",
    "        del instructions[i]"
   ]
  },
  {
   "cell_type": "code",
   "execution_count": 189,
   "id": "835d37b9",
   "metadata": {},
   "outputs": [],
   "source": [
    "def remove_elements(to_remove, instructions):\n",
    "    for i in reversed(to_remove):\n",
    "        del instructions[i]"
   ]
  },
  {
   "cell_type": "code",
   "execution_count": 71,
   "id": "d5236e66",
   "metadata": {},
   "outputs": [],
   "source": [
    "def get_decimal(start_letter):\n",
    "    reversed_list = reversed(sorted(state.keys()))\n",
    "    binary_no = ''\n",
    "    for r in reversed_list:\n",
    "        if r[0] == start_letter:\n",
    "            binary_no += str(state[r])\n",
    "    return int(binary_no,2)"
   ]
  },
  {
   "cell_type": "code",
   "execution_count": 182,
   "id": "71a19120",
   "metadata": {},
   "outputs": [],
   "source": [
    "def show_path_to(node, instructions):\n",
    "    for instr, target in instructions:\n",
    "        if target == node:\n",
    "            path.append([instr, target])\n",
    "            show_path_to(instr[0], instructions)\n",
    "            show_path_to(instr[2], instructions)"
   ]
  },
  {
   "cell_type": "code",
   "execution_count": 190,
   "id": "37ecab6d",
   "metadata": {},
   "outputs": [],
   "source": [
    "def do_instructions(instructions, state):\n",
    "    while len(instructions) > 0:\n",
    "        to_remove = []\n",
    "        for i, instr in enumerate(instructions):\n",
    "            [el1, oper, el2], target = instr\n",
    "            if el1 in state.keys() and el2 in state.keys():\n",
    "                state[target] = do_operation(state[el1], oper, state[el2])\n",
    "                to_remove.append(i)\n",
    "        remove_elements(to_remove, instructions)"
   ]
  },
  {
   "cell_type": "code",
   "execution_count": 320,
   "id": "743a0340",
   "metadata": {},
   "outputs": [
    {
     "name": "stdout",
     "output_type": "stream",
     "text": [
      "Task 1: 59619940979346\n"
     ]
    }
   ],
   "source": [
    "state, instructions = get_data('input.txt')\n",
    "initial_state = state.copy()\n",
    "do_instructions(instructions, state)\n",
    "print('Task 1:', get_decimal('z'))"
   ]
  },
  {
   "cell_type": "code",
   "execution_count": 322,
   "id": "8b818b50",
   "metadata": {},
   "outputs": [
    {
     "name": "stdout",
     "output_type": "stream",
     "text": [
      "curr 00\n",
      "z00 1\n",
      "----\n",
      "curr 01\n",
      "z01 1\n",
      "----\n",
      "curr 02\n",
      "z02 1\n",
      "----\n",
      "curr 03\n",
      "z03 1\n",
      "----\n",
      "curr 04\n",
      "z04 1\n",
      "----\n",
      "curr 05\n",
      "z05 1\n",
      "----\n",
      "curr 06\n",
      "z06 1\n",
      "----\n",
      "curr 07\n",
      "z07 1\n",
      "----\n",
      "curr 08\n",
      "z08 1\n",
      "----\n",
      "curr 09\n",
      "z09 1\n",
      "----\n",
      "curr 10\n",
      "z10 1\n",
      "----\n",
      "curr 11\n",
      "z11 1\n",
      "----\n",
      "curr 12\n",
      "z12 1\n",
      "----\n",
      "curr 13\n",
      "z13 1\n",
      "----\n",
      "curr 14\n",
      "z14 1\n",
      "----\n",
      "curr 15\n",
      "z15 1\n",
      "----\n",
      "curr 16\n",
      "z16 1\n",
      "----\n",
      "curr 17\n",
      "z17 1\n",
      "----\n",
      "curr 18\n",
      "z18 1\n",
      "----\n",
      "curr 19\n",
      "z19 1\n",
      "----\n",
      "curr 20\n",
      "z20 1\n",
      "----\n",
      "curr 21\n",
      "z21 1\n",
      "----\n",
      "curr 22\n",
      "z22 1\n",
      "----\n",
      "curr 23\n",
      "z23 1\n",
      "----\n",
      "curr 24\n",
      "z24 1\n",
      "----\n",
      "curr 25\n",
      "z25 1\n",
      "----\n",
      "curr 26\n",
      "z26 1\n",
      "----\n",
      "curr 27\n",
      "z27 1\n",
      "----\n",
      "curr 28\n",
      "z28 1\n",
      "----\n",
      "curr 29\n",
      "z29 1\n",
      "----\n",
      "curr 30\n",
      "z30 1\n",
      "----\n",
      "curr 31\n",
      "z31 1\n",
      "----\n",
      "curr 32\n",
      "z32 1\n",
      "----\n",
      "curr 33\n",
      "z33 1\n",
      "----\n",
      "curr 34\n",
      "z34 1\n",
      "----\n",
      "curr 35\n",
      "z35 1\n",
      "----\n",
      "curr 36\n",
      "z36 1\n",
      "----\n",
      "curr 37\n",
      "z37 1\n",
      "----\n",
      "curr 38\n",
      "z38 1\n",
      "----\n",
      "curr 39\n",
      "z39 1\n",
      "----\n",
      "curr 40\n",
      "z40 1\n",
      "----\n",
      "curr 41\n",
      "z41 1\n",
      "----\n",
      "curr 42\n",
      "z42 1\n",
      "----\n",
      "curr 43\n",
      "z43 1\n",
      "----\n",
      "curr 44\n",
      "z44 1\n",
      "----\n"
     ]
    }
   ],
   "source": [
    "# What I did here was change one number and check what output bits changed. If the wrong bits changed I assumed that one had wired crossed\n",
    "# I then fixed the wires and tried with the fixed input file to confirm it worked correctly\n",
    "state, instructions = get_data('input2.txt')\n",
    "for i in range(45):\n",
    "        curr = str(i).zfill(2)\n",
    "        state['x'+curr] = 0\n",
    "        state['y'+curr] = 0\n",
    "state_copy = state.copy()\n",
    "instructions_copy = instructions.copy()\n",
    "\n",
    "for i in range(45):\n",
    "    state = state_copy.copy()\n",
    "    instructions = instructions_copy.copy()\n",
    "    curr = str(i).zfill(2)\n",
    "    print('curr', curr)\n",
    "    state['x'+curr] = 1\n",
    "    state['y'+curr] = 0\n",
    "    do_instructions(instructions, state)\n",
    "    for s in sorted(state.keys()):\n",
    "        if s == 'z'+curr or (s[0] == 'z' and state[s] == 1):\n",
    "            print(s, state[s])\n",
    "    print('----')"
   ]
  },
  {
   "cell_type": "code",
   "execution_count": 323,
   "id": "4ae746c5",
   "metadata": {},
   "outputs": [
    {
     "name": "stdout",
     "output_type": "stream",
     "text": [
      "147\n",
      "[[['hsn', 'XOR', 'dgg'], 'z37'], [['rpc', 'OR', 'dvm'], 'hsn'], [['x36', 'AND', 'y36'], 'rpc'], [['mvv', 'AND', 'sgr'], 'dvm'], [['x36', 'XOR', 'y36'], 'mvv'], [['cfw', 'OR', 'tnc'], 'sgr'], [['mhn', 'AND', 'mdg'], 'cfw'], [['y35', 'XOR', 'x35'], 'mhn'], [['vrf', 'OR', 'kjj'], 'mdg'], [['dhd', 'AND', 'mvb'], 'vrf'], [['x34', 'XOR', 'y34'], 'dhd'], [['dnc', 'OR', 'vtd'], 'mvb'], [['bdc', 'AND', 'bbd'], 'dnc'], [['qpb', 'OR', 'vdm'], 'bdc'], [['brs', 'AND', 'nmr'], 'qpb'], [['tkc', 'OR', 'mfm'], 'brs'], [['tpf', 'AND', 'mgq'], 'tkc'], [['gqt', 'OR', 'bbk'], 'tpf'], [['qgd', 'AND', 'wrv'], 'gqt'], [['x30', 'XOR', 'y30'], 'qgd'], [['rpw', 'OR', 'gdn'], 'wrv'], [['jqv', 'AND', 'cnd'], 'rpw'], [['tjh', 'OR', 'wpw'], 'jqv'], [['rnh', 'AND', 'rcs'], 'tjh'], [['y28', 'XOR', 'x28'], 'rnh'], [['mhv', 'OR', 'mnv'], 'rcs'], [['x27', 'AND', 'y27'], 'mhv'], [['rhc', 'AND', 'jjj'], 'mnv'], [['x27', 'XOR', 'y27'], 'rhc'], [['dwv', 'OR', 'jvf'], 'jjj'], [['tns', 'AND', 'chq'], 'dwv'], [['x26', 'XOR', 'y26'], 'tns'], [['ctp', 'OR', 'mdt'], 'chq'], [['sfh', 'AND', 'pmf'], 'ctp'], [['pnb', 'OR', 'vjh'], 'sfh'], [['gfg', 'AND', 'pqf'], 'pnb'], [['x24', 'XOR', 'y24'], 'gfg'], [['bwk', 'OR', 'krn'], 'pqf'], [['y23', 'AND', 'x23'], 'bwk'], [['gcn', 'AND', 'tqf'], 'krn'], [['mhd', 'OR', 'tfs'], 'gcn'], [['x22', 'AND', 'y22'], 'mhd'], [['snv', 'AND', 'rqt'], 'tfs'], [['bgn', 'OR', 'wnm'], 'snv'], [['ngm', 'AND', 'nwk'], 'bgn'], [['x21', 'XOR', 'y21'], 'ngm'], [['qtq', 'OR', 'cqn'], 'nwk'], [['x20', 'AND', 'y20'], 'qtq'], [['bvc', 'AND', 'tpw'], 'cqn'], [['vwn', 'OR', 'wpt'], 'bvc'], [['csh', 'AND', 'mst'], 'vwn'], [['x19', 'XOR', 'y19'], 'csh'], [['qsw', 'OR', 'rsd'], 'mst'], [['x18', 'AND', 'y18'], 'qsw'], [['qpf', 'AND', 'mkt'], 'rsd'], [['jfr', 'OR', 'bvg'], 'qpf'], [['rtv', 'AND', 'kfm'], 'jfr'], [['x17', 'XOR', 'y17'], 'rtv'], [['swn', 'OR', 'jrk'], 'kfm'], [['x16', 'AND', 'y16'], 'swn'], [['kmb', 'AND', 'gfj'], 'jrk'], [['x16', 'XOR', 'y16'], 'kmb'], [['mjb', 'OR', 'cpc'], 'gfj'], [['y15', 'AND', 'x15'], 'mjb'], [['dmh', 'AND', 'vfj'], 'cpc'], [['x15', 'XOR', 'y15'], 'dmh'], [['rgj', 'OR', 'bph'], 'vfj'], [['qvt', 'AND', 'qqv'], 'rgj'], [['y14', 'XOR', 'x14'], 'qvt'], [['tdh', 'OR', 'jqm'], 'qqv'], [['y13', 'AND', 'x13'], 'tdh'], [['vdk', 'AND', 'vjn'], 'jqm'], [['y13', 'XOR', 'x13'], 'vdk'], [['ptj', 'OR', 'vqm'], 'vjn'], [['y12', 'AND', 'x12'], 'ptj'], [['knj', 'AND', 'ctw'], 'vqm'], [['wmq', 'OR', 'ngr'], 'knj'], [['y11', 'AND', 'x11'], 'wmq'], [['stv', 'AND', 'jpp'], 'ngr'], [['sgv', 'OR', 'qnf'], 'stv'], [['rvw', 'AND', 'dtb'], 'sgv'], [['prs', 'OR', 'tcv'], 'rvw'], [['y09', 'AND', 'x09'], 'prs'], [['sfp', 'AND', 'sbq'], 'tcv'], [['x09', 'XOR', 'y09'], 'sfp'], [['bpb', 'OR', 'gjp'], 'sbq'], [['y08', 'AND', 'x08'], 'bpb'], [['mpp', 'AND', 'hfd'], 'gjp'], [['rws', 'OR', 'fts'], 'mpp'], [['pkh', 'AND', 'fkp'], 'rws'], [['y07', 'XOR', 'x07'], 'pkh'], [['bpp', 'OR', 'ghf'], 'fkp'], [['x06', 'AND', 'y06'], 'bpp'], [['jgw', 'AND', 'wvr'], 'ghf'], [['x06', 'XOR', 'y06'], 'jgw'], [['shc', 'OR', 'bkk'], 'wvr'], [['ffn', 'AND', 'rdj'], 'shc'], [['x05', 'XOR', 'y05'], 'ffn'], [['cjp', 'OR', 'ptd'], 'rdj'], [['rkm', 'AND', 'dvq'], 'cjp'], [['fwc', 'OR', 'nbc'], 'rkm'], [['wdm', 'AND', 'psv'], 'fwc'], [['qrm', 'OR', 'nss'], 'wdm'], [['pgc', 'AND', 'fvj'], 'qrm'], [['hjc', 'OR', 'hth'], 'pgc'], [['skt', 'AND', 'kjn'], 'hjc'], [['y00', 'AND', 'x00'], 'skt'], [['y01', 'XOR', 'x01'], 'kjn'], [['y01', 'AND', 'x01'], 'hth'], [['x02', 'XOR', 'y02'], 'fvj'], [['x02', 'AND', 'y02'], 'nss'], [['y03', 'XOR', 'x03'], 'psv'], [['x03', 'AND', 'y03'], 'nbc'], [['y04', 'XOR', 'x04'], 'dvq'], [['x04', 'AND', 'y04'], 'ptd'], [['x05', 'AND', 'y05'], 'bkk'], [['y07', 'AND', 'x07'], 'fts'], [['y08', 'XOR', 'x08'], 'hfd'], [['x10', 'XOR', 'y10'], 'dtb'], [['y10', 'AND', 'x10'], 'qnf'], [['x11', 'XOR', 'y11'], 'jpp'], [['x12', 'XOR', 'y12'], 'ctw'], [['y14', 'AND', 'x14'], 'bph'], [['x17', 'AND', 'y17'], 'bvg'], [['y18', 'XOR', 'x18'], 'mkt'], [['y19', 'AND', 'x19'], 'wpt'], [['x20', 'XOR', 'y20'], 'tpw'], [['y21', 'AND', 'x21'], 'wnm'], [['x22', 'XOR', 'y22'], 'rqt'], [['x23', 'XOR', 'y23'], 'tqf'], [['x24', 'AND', 'y24'], 'vjh'], [['x25', 'XOR', 'y25'], 'pmf'], [['x25', 'AND', 'y25'], 'mdt'], [['y26', 'AND', 'x26'], 'jvf'], [['y28', 'AND', 'x28'], 'wpw'], [['y29', 'XOR', 'x29'], 'cnd'], [['x29', 'AND', 'y29'], 'gdn'], [['x30', 'AND', 'y30'], 'bbk'], [['x31', 'XOR', 'y31'], 'mgq'], [['y31', 'AND', 'x31'], 'mfm'], [['y32', 'XOR', 'x32'], 'nmr'], [['y32', 'AND', 'x32'], 'vdm'], [['y33', 'XOR', 'x33'], 'bbd'], [['x33', 'AND', 'y33'], 'vtd'], [['x34', 'AND', 'y34'], 'kjj'], [['x35', 'AND', 'y35'], 'tnc'], [['x37', 'XOR', 'y37'], 'dgg']]\n"
     ]
    }
   ],
   "source": [
    "# I compared the previous state to see the pattern to fix the state that had crossed wires\n",
    "state, instructions = get_data('input2.txt')\n",
    "path = []\n",
    "show_path_to('z37', instructions)\n",
    "print(len(path))\n",
    "print(path)"
   ]
  },
  {
   "cell_type": "code",
   "execution_count": 318,
   "id": "844e2b6f",
   "metadata": {},
   "outputs": [
    {
     "name": "stdout",
     "output_type": "stream",
     "text": [
      "151\n",
      "[[['ntr', 'XOR', 'bpt'], 'z38'], [['kvd', 'OR', 'snc'], 'ntr'], [['y37', 'AND', 'x37'], 'kvd'], [['hsn', 'AND', 'dgg'], 'snc'], [['rpc', 'OR', 'dvm'], 'hsn'], [['x36', 'AND', 'y36'], 'rpc'], [['mvv', 'AND', 'sgr'], 'dvm'], [['x36', 'XOR', 'y36'], 'mvv'], [['cfw', 'OR', 'tnc'], 'sgr'], [['mhn', 'AND', 'mdg'], 'cfw'], [['y35', 'XOR', 'x35'], 'mhn'], [['vrf', 'OR', 'kjj'], 'mdg'], [['dhd', 'AND', 'mvb'], 'vrf'], [['x34', 'XOR', 'y34'], 'dhd'], [['dnc', 'OR', 'vtd'], 'mvb'], [['bdc', 'AND', 'bbd'], 'dnc'], [['qpb', 'OR', 'vdm'], 'bdc'], [['brs', 'AND', 'nmr'], 'qpb'], [['tkc', 'OR', 'mfm'], 'brs'], [['tpf', 'AND', 'mgq'], 'tkc'], [['gqt', 'OR', 'bbk'], 'tpf'], [['qgd', 'AND', 'wrv'], 'gqt'], [['x30', 'XOR', 'y30'], 'qgd'], [['rpw', 'OR', 'gdn'], 'wrv'], [['jqv', 'AND', 'cnd'], 'rpw'], [['tjh', 'OR', 'wpw'], 'jqv'], [['rnh', 'AND', 'rcs'], 'tjh'], [['y28', 'XOR', 'x28'], 'rnh'], [['mhv', 'OR', 'mnv'], 'rcs'], [['x27', 'AND', 'y27'], 'mhv'], [['rhc', 'AND', 'jjj'], 'mnv'], [['x27', 'XOR', 'y27'], 'rhc'], [['dwv', 'OR', 'jvf'], 'jjj'], [['tns', 'AND', 'chq'], 'dwv'], [['x26', 'XOR', 'y26'], 'tns'], [['ctp', 'OR', 'mdt'], 'chq'], [['sfh', 'AND', 'pmf'], 'ctp'], [['pnb', 'OR', 'vjh'], 'sfh'], [['gfg', 'AND', 'pqf'], 'pnb'], [['x24', 'XOR', 'y24'], 'gfg'], [['bwk', 'OR', 'krn'], 'pqf'], [['y23', 'AND', 'x23'], 'bwk'], [['gcn', 'AND', 'tqf'], 'krn'], [['mhd', 'OR', 'tfs'], 'gcn'], [['x22', 'AND', 'y22'], 'mhd'], [['snv', 'AND', 'rqt'], 'tfs'], [['bgn', 'OR', 'wnm'], 'snv'], [['ngm', 'AND', 'nwk'], 'bgn'], [['x21', 'XOR', 'y21'], 'ngm'], [['qtq', 'OR', 'cqn'], 'nwk'], [['x20', 'AND', 'y20'], 'qtq'], [['bvc', 'AND', 'tpw'], 'cqn'], [['vwn', 'OR', 'wpt'], 'bvc'], [['csh', 'AND', 'mst'], 'vwn'], [['x19', 'XOR', 'y19'], 'csh'], [['qsw', 'OR', 'rsd'], 'mst'], [['x18', 'AND', 'y18'], 'qsw'], [['qpf', 'AND', 'mkt'], 'rsd'], [['jfr', 'OR', 'bvg'], 'qpf'], [['rtv', 'AND', 'kfm'], 'jfr'], [['x17', 'XOR', 'y17'], 'rtv'], [['swn', 'OR', 'jrk'], 'kfm'], [['x16', 'AND', 'y16'], 'swn'], [['kmb', 'AND', 'gfj'], 'jrk'], [['x16', 'XOR', 'y16'], 'kmb'], [['mjb', 'OR', 'cpc'], 'gfj'], [['y15', 'AND', 'x15'], 'mjb'], [['dmh', 'AND', 'vfj'], 'cpc'], [['x15', 'XOR', 'y15'], 'dmh'], [['rgj', 'OR', 'bph'], 'vfj'], [['qvt', 'AND', 'qqv'], 'rgj'], [['y14', 'XOR', 'x14'], 'qvt'], [['tdh', 'OR', 'jqm'], 'qqv'], [['y13', 'AND', 'x13'], 'tdh'], [['vdk', 'AND', 'vjn'], 'jqm'], [['y13', 'XOR', 'x13'], 'vdk'], [['ptj', 'OR', 'vqm'], 'vjn'], [['y12', 'AND', 'x12'], 'ptj'], [['knj', 'AND', 'ctw'], 'vqm'], [['wmq', 'OR', 'ngr'], 'knj'], [['y11', 'AND', 'x11'], 'wmq'], [['stv', 'AND', 'jpp'], 'ngr'], [['sgv', 'OR', 'qnf'], 'stv'], [['rvw', 'AND', 'dtb'], 'sgv'], [['prs', 'OR', 'tcv'], 'rvw'], [['y09', 'AND', 'x09'], 'prs'], [['sfp', 'AND', 'sbq'], 'tcv'], [['x09', 'XOR', 'y09'], 'sfp'], [['bpb', 'OR', 'gjp'], 'sbq'], [['y08', 'AND', 'x08'], 'bpb'], [['mpp', 'AND', 'hfd'], 'gjp'], [['rws', 'OR', 'fts'], 'mpp'], [['pkh', 'AND', 'fkp'], 'rws'], [['y07', 'XOR', 'x07'], 'pkh'], [['bpp', 'OR', 'ghf'], 'fkp'], [['x06', 'AND', 'y06'], 'bpp'], [['jgw', 'AND', 'wvr'], 'ghf'], [['x06', 'XOR', 'y06'], 'jgw'], [['shc', 'OR', 'bkk'], 'wvr'], [['ffn', 'AND', 'rdj'], 'shc'], [['x05', 'XOR', 'y05'], 'ffn'], [['cjp', 'OR', 'ptd'], 'rdj'], [['rkm', 'AND', 'dvq'], 'cjp'], [['fwc', 'OR', 'nbc'], 'rkm'], [['wdm', 'AND', 'psv'], 'fwc'], [['qrm', 'OR', 'nss'], 'wdm'], [['pgc', 'AND', 'fvj'], 'qrm'], [['hjc', 'OR', 'hth'], 'pgc'], [['skt', 'AND', 'kjn'], 'hjc'], [['y00', 'AND', 'x00'], 'skt'], [['y01', 'XOR', 'x01'], 'kjn'], [['y01', 'AND', 'x01'], 'hth'], [['x02', 'XOR', 'y02'], 'fvj'], [['x02', 'AND', 'y02'], 'nss'], [['y03', 'XOR', 'x03'], 'psv'], [['x03', 'AND', 'y03'], 'nbc'], [['y04', 'XOR', 'x04'], 'dvq'], [['x04', 'AND', 'y04'], 'ptd'], [['x05', 'AND', 'y05'], 'bkk'], [['y07', 'AND', 'x07'], 'fts'], [['y08', 'XOR', 'x08'], 'hfd'], [['x10', 'XOR', 'y10'], 'dtb'], [['y10', 'AND', 'x10'], 'qnf'], [['x11', 'XOR', 'y11'], 'jpp'], [['x12', 'XOR', 'y12'], 'ctw'], [['y14', 'AND', 'x14'], 'bph'], [['x17', 'AND', 'y17'], 'bvg'], [['y18', 'XOR', 'x18'], 'mkt'], [['y19', 'AND', 'x19'], 'wpt'], [['x20', 'XOR', 'y20'], 'tpw'], [['y21', 'AND', 'x21'], 'wnm'], [['x22', 'XOR', 'y22'], 'rqt'], [['x23', 'XOR', 'y23'], 'tqf'], [['x24', 'AND', 'y24'], 'vjh'], [['x25', 'XOR', 'y25'], 'pmf'], [['x25', 'AND', 'y25'], 'mdt'], [['y26', 'AND', 'x26'], 'jvf'], [['y28', 'AND', 'x28'], 'wpw'], [['y29', 'XOR', 'x29'], 'cnd'], [['x29', 'AND', 'y29'], 'gdn'], [['x30', 'AND', 'y30'], 'bbk'], [['x31', 'XOR', 'y31'], 'mgq'], [['y31', 'AND', 'x31'], 'mfm'], [['y32', 'XOR', 'x32'], 'nmr'], [['y32', 'AND', 'x32'], 'vdm'], [['y33', 'XOR', 'x33'], 'bbd'], [['x33', 'AND', 'y33'], 'vtd'], [['x34', 'AND', 'y34'], 'kjj'], [['x35', 'AND', 'y35'], 'tnc'], [['x37', 'XOR', 'y37'], 'dgg'], [['y38', 'XOR', 'x38'], 'bpt']]\n"
     ]
    }
   ],
   "source": [
    "state, instructions = get_data('input2.txt')\n",
    "path = []\n",
    "show_path_to('z38', instructions)\n",
    "print(len(path))\n",
    "print(path)"
   ]
  },
  {
   "cell_type": "code",
   "execution_count": null,
   "id": "81aaf77f",
   "metadata": {},
   "outputs": [],
   "source": [
    "mfm\n",
    "z31\n",
    "----\n",
    "fkp\n",
    "z06\n",
    "----\n",
    "ngr\n",
    "z11\n",
    "----\n",
    "bpt\n",
    "krj"
   ]
  }
 ],
 "metadata": {
  "kernelspec": {
   "display_name": "Python 3 (ipykernel)",
   "language": "python",
   "name": "python3"
  },
  "language_info": {
   "codemirror_mode": {
    "name": "ipython",
    "version": 3
   },
   "file_extension": ".py",
   "mimetype": "text/x-python",
   "name": "python",
   "nbconvert_exporter": "python",
   "pygments_lexer": "ipython3",
   "version": "3.10.6"
  }
 },
 "nbformat": 4,
 "nbformat_minor": 5
}
