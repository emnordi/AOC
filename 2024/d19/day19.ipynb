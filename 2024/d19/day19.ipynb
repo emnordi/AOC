{
 "cells": [
  {
   "cell_type": "code",
   "execution_count": 329,
   "id": "d119d728",
   "metadata": {},
   "outputs": [],
   "source": [
    "from collections import defaultdict"
   ]
  },
  {
   "cell_type": "code",
   "execution_count": 330,
   "id": "36ad9198",
   "metadata": {},
   "outputs": [],
   "source": [
    "def get_data(fname):\n",
    "    options = []\n",
    "    goals = []\n",
    "    with open(fname) as f:\n",
    "        stage = 0\n",
    "        for line in f.readlines():\n",
    "            if line.rstrip() == '':\n",
    "                stage = 1\n",
    "                continue\n",
    "            if stage == 0:\n",
    "                options = line.rstrip().split(', ')\n",
    "            else:\n",
    "                goals.append(line.rstrip())\n",
    "    return options, goals"
   ]
  },
  {
   "cell_type": "code",
   "execution_count": 331,
   "id": "6a75e2ef",
   "metadata": {},
   "outputs": [],
   "source": [
    "def possible_combination(goal, opt):\n",
    "    relevant_options = list(filter(lambda x: x in goal, opt))\n",
    "    candidates = relevant_options\n",
    "    pattern = set()\n",
    "    for x in candidates:\n",
    "        if x in goal[:len(x)]:\n",
    "            pattern.add(x)\n",
    "            occurrences[x] += 1\n",
    "    candidates = pattern\n",
    "    pattern = set()\n",
    "    while True:\n",
    "        for x in candidates:\n",
    "            if x == goal:\n",
    "                continue\n",
    "            for y in relevant_options:\n",
    "                test_string = x+y\n",
    "                if len(test_string) <= len(goal) and test_string in goal[:len(test_string)]:\n",
    "                    pattern.add(test_string)\n",
    "                    occurrences[test_string] += 1*occurrences[x]\n",
    "            occurrences[x] = 0\n",
    "        if len(pattern) == 0:\n",
    "            break\n",
    "        candidates = pattern\n",
    "        pattern = set()"
   ]
  },
  {
   "cell_type": "code",
   "execution_count": 332,
   "id": "c95ee328",
   "metadata": {},
   "outputs": [],
   "source": [
    "options, goals = get_data('input.txt')"
   ]
  },
  {
   "cell_type": "code",
   "execution_count": 326,
   "id": "f0aca354",
   "metadata": {},
   "outputs": [
    {
     "name": "stdout",
     "output_type": "stream",
     "text": [
      "Task 1: 290\n",
      "Task 2: 712058625427487\n"
     ]
    }
   ],
   "source": [
    "total = 0\n",
    "total_ways = 0\n",
    "for i, g in enumerate(goals):\n",
    "    occurrences = defaultdict(int)\n",
    "    res = possible_combination(g, options)\n",
    "    if occurrences[g] > 0:\n",
    "        total += 1\n",
    "        total_ways += occurrences[g]\n",
    "print('Task 1:', total)\n",
    "print('Task 2:', total_ways)"
   ]
  },
  {
   "cell_type": "code",
   "execution_count": null,
   "id": "b6e9cc35",
   "metadata": {},
   "outputs": [],
   "source": []
  }
 ],
 "metadata": {
  "kernelspec": {
   "display_name": "Python 3 (ipykernel)",
   "language": "python",
   "name": "python3"
  },
  "language_info": {
   "codemirror_mode": {
    "name": "ipython",
    "version": 3
   },
   "file_extension": ".py",
   "mimetype": "text/x-python",
   "name": "python",
   "nbconvert_exporter": "python",
   "pygments_lexer": "ipython3",
   "version": "3.10.6"
  }
 },
 "nbformat": 4,
 "nbformat_minor": 5
}
