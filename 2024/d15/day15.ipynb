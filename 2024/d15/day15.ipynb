{
 "cells": [
  {
   "cell_type": "code",
   "execution_count": 1,
   "id": "4281f37c",
   "metadata": {},
   "outputs": [],
   "source": [
    "import numpy as np"
   ]
  },
  {
   "cell_type": "code",
   "execution_count": 2,
   "id": "1c9706b4",
   "metadata": {},
   "outputs": [],
   "source": [
    "def get_data(fname):\n",
    "    with open(fname) as f:\n",
    "        lines = f.read().splitlines()\n",
    "        split_idx = lines.index('')\n",
    "        start = [list(line) for line in lines[:split_idx]]\n",
    "        expanded = [list(line.translate(str.maketrans(\n",
    "        {'#':'##', '.':'..', 'O':'[]', '@':'@.'}))) for line in lines[:split_idx]]\n",
    "        instructions = ''.join(lines[split_idx + 1:])\n",
    "    return np.array(start), np.array(expanded), instructions"
   ]
  },
  {
   "cell_type": "code",
   "execution_count": 3,
   "id": "a34a6ff1",
   "metadata": {},
   "outputs": [],
   "source": [
    "def move(c, y, x, dy, dx):\n",
    "    y += dy\n",
    "    x += dx\n",
    "    if all([\n",
    "        data[y][x] != '[' or move(c, y, x+1, dy, dx) and move(c, y, x, dy, dx),\n",
    "        data[y][x] != ']' or move(c, y, x-1, dy, dx) and move(c, y, x, dy, dx),\n",
    "        data[y][x] != 'O' or move(c, y, x, dy, dx), data[y][x] != '#']):\n",
    "            data[y][x], data[y-dy][x-dx] = data[y-dy][x-dx], data[y][x]\n",
    "            return True"
   ]
  },
  {
   "cell_type": "code",
   "execution_count": 6,
   "id": "6a7722f0",
   "metadata": {},
   "outputs": [
    {
     "name": "stdout",
     "output_type": "stream",
     "text": [
      "Task 1: 1360570\n",
      "Task 2: 1381446\n"
     ]
    }
   ],
   "source": [
    "orig, expanded, instructions = get_data('input.txt')\n",
    "\n",
    "directions = {'^': (-1, 0), '>': (0, 1), 'v': (1, 0), '<': (0, -1)}\n",
    "\n",
    "for i, data in enumerate([orig, expanded]):\n",
    "    start_y, start_x = np.where(data == '@')\n",
    "    y, x = start_y[0], start_x[0]\n",
    "    for c in instructions:\n",
    "        copy = np.copy(data)\n",
    "        dy, dx = directions[c]\n",
    "        if move(c, y, x, dy, dx):\n",
    "            y += dy\n",
    "            x += dx\n",
    "        else:\n",
    "            data = copy\n",
    "\n",
    "    ys, xs = np.where((data == 'O') | (data == '['))\n",
    "    score = sum(100 * y + x for y, x in zip(ys, xs))\n",
    "    print('Task ' + str(i+1) + ':', score)"
   ]
  },
  {
   "cell_type": "code",
   "execution_count": null,
   "id": "1d67b816",
   "metadata": {},
   "outputs": [],
   "source": []
  }
 ],
 "metadata": {
  "kernelspec": {
   "display_name": "Python 3 (ipykernel)",
   "language": "python",
   "name": "python3"
  },
  "language_info": {
   "codemirror_mode": {
    "name": "ipython",
    "version": 3
   },
   "file_extension": ".py",
   "mimetype": "text/x-python",
   "name": "python",
   "nbconvert_exporter": "python",
   "pygments_lexer": "ipython3",
   "version": "3.10.6"
  }
 },
 "nbformat": 4,
 "nbformat_minor": 5
}
