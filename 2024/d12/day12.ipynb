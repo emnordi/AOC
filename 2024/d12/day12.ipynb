{
 "cells": [
  {
   "cell_type": "code",
   "execution_count": 1,
   "id": "0795e989",
   "metadata": {},
   "outputs": [],
   "source": [
    "def read_input_file(filename):\n",
    "    grid_data = []\n",
    "    with open(filename) as file:\n",
    "        for line in file.readlines():\n",
    "            grid_data.append([char for char in line.rstrip()])\n",
    "    return grid_data"
   ]
  },
  {
   "cell_type": "code",
   "execution_count": 2,
   "id": "c49504eb",
   "metadata": {},
   "outputs": [],
   "source": [
    "def convert_to_complex_grid(grid_data):\n",
    "    return {(row_idx + col_idx * 1j): cell for row_idx, row in enumerate(grid_data) for col_idx, cell in enumerate(row)}"
   ]
  },
  {
   "cell_type": "code",
   "execution_count": 3,
   "id": "c1f91d31",
   "metadata": {},
   "outputs": [],
   "source": [
    "def explore_region(cell, cell_type, current_region, boundary, grid, directions, visited, direction=None):\n",
    "    if cell in visited and grid.get(cell) == cell_type:\n",
    "        return\n",
    "    if grid.get(cell) != cell_type:\n",
    "        boundary.add((cell, direction))\n",
    "        return\n",
    "    visited.add(cell)\n",
    "    current_region.add(cell)\n",
    "    for direction in directions:\n",
    "        explore_region(cell + direction, cell_type, current_region, boundary, grid, directions, visited, direction)"
   ]
  },
  {
   "cell_type": "code",
   "execution_count": 4,
   "id": "f0e01fef",
   "metadata": {},
   "outputs": [],
   "source": [
    "def identify_regions(grid):\n",
    "    directions = (1, -1, 1j, -1j)\n",
    "    visited_cells = set()\n",
    "    regions_data = []\n",
    "\n",
    "    for cell, cell_type in grid.items():\n",
    "        if cell not in visited_cells:\n",
    "            current_region, boundary = set(), set()\n",
    "            explore_region(cell, cell_type, current_region, boundary, grid, directions, visited_cells)\n",
    "            adjacent_cells = {(cell + direction * 1j, direction) for cell, direction in boundary}\n",
    "            regions_data.append((len(current_region), len(boundary), len(boundary - adjacent_cells)))\n",
    "    return regions_data"
   ]
  },
  {
   "cell_type": "code",
   "execution_count": 5,
   "id": "b93d2027",
   "metadata": {},
   "outputs": [
    {
     "name": "stdout",
     "output_type": "stream",
     "text": [
      "Task1 1421958\n",
      "Task2 885394\n"
     ]
    }
   ],
   "source": [
    "grid_data = read_input_file('input.txt')\n",
    "grid = convert_to_complex_grid(grid_data)\n",
    "regions_data = identify_regions(grid)\n",
    "\n",
    "task1 = sum(region_size * perimeter for region_size, perimeter, _ in regions_data)\n",
    "task2 = sum(region_size * boundary for region_size, _, boundary in regions_data)\n",
    "\n",
    "print('Task1', task1)\n",
    "print('Task2', task2)"
   ]
  },
  {
   "cell_type": "code",
   "execution_count": null,
   "id": "ed7b5883",
   "metadata": {},
   "outputs": [],
   "source": []
  }
 ],
 "metadata": {
  "kernelspec": {
   "display_name": "Python 3 (ipykernel)",
   "language": "python",
   "name": "python3"
  },
  "language_info": {
   "codemirror_mode": {
    "name": "ipython",
    "version": 3
   },
   "file_extension": ".py",
   "mimetype": "text/x-python",
   "name": "python",
   "nbconvert_exporter": "python",
   "pygments_lexer": "ipython3",
   "version": "3.10.6"
  }
 },
 "nbformat": 4,
 "nbformat_minor": 5
}
