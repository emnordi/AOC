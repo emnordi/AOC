{
 "cells": [
  {
   "cell_type": "code",
   "execution_count": 56,
   "id": "b34c61c2",
   "metadata": {},
   "outputs": [],
   "source": [
    "import numpy as np\n",
    "from collections import Counter\n",
    "from itertools import combinations"
   ]
  },
  {
   "cell_type": "code",
   "execution_count": 173,
   "id": "1ce3c688",
   "metadata": {},
   "outputs": [],
   "source": [
    "def get_data(fname):\n",
    "    d = []\n",
    "    with open(fname) as f:\n",
    "        for line in f.readlines():\n",
    "            d.append([x for x in line.rstrip()])\n",
    "    return d"
   ]
  },
  {
   "cell_type": "code",
   "execution_count": 174,
   "id": "bfdda7cb",
   "metadata": {},
   "outputs": [],
   "source": [
    "def assign_mapping(y_coord, x_coord, y_increase, x_increase, mapping, task2=False):\n",
    "    x_to_put = x_coord + x_increase\n",
    "    y_to_put = y_coord + y_increase\n",
    "    while(True):\n",
    "        if x_to_put >= 0 and x_to_put < len(mapping[0]) and y_to_put >= 0 and y_to_put < len(mapping):\n",
    "            mapping[y_to_put][x_to_put] = 1\n",
    "            x_to_put += x_increase\n",
    "            y_to_put += y_increase\n",
    "        else:\n",
    "            return\n",
    "        if not task2:\n",
    "            return"
   ]
  },
  {
   "cell_type": "code",
   "execution_count": 175,
   "id": "4fc710e0",
   "metadata": {},
   "outputs": [
    {
     "name": "stdout",
     "output_type": "stream",
     "text": [
      "Task 1 result:  214\n",
      "Task 2 result:  809\n"
     ]
    }
   ],
   "source": [
    "data = np.array(get_data('input.txt'))\n",
    "anti_mapping = np.zeros((len(data), len(data[0])))\n",
    "anti_mapping_2 = np.copy(anti_mapping)\n",
    "count_dict = Counter([item for sublist in data for item in sublist])\n",
    "for key in count_dict.keys():\n",
    "    char_count = count_dict.get(key)\n",
    "    if key == '.' or char_count == 1:\n",
    "        continue\n",
    "    locations = np.argwhere(data == key)\n",
    "    pairs = list(combinations(locations, 2))\n",
    "    for p1, p2 in pairs:\n",
    "        y1, x1 = p1\n",
    "        y2, x2 = p2\n",
    "        assign_mapping(y1, x1, (y1-y2), (x1-x2), anti_mapping)\n",
    "        assign_mapping(y2, x2, (y2-y1), (x2-x1), anti_mapping)\n",
    "        #Task 2\n",
    "        anti_mapping_2[y1][x1] = 1\n",
    "        anti_mapping_2[y2][x2] = 1\n",
    "        assign_mapping(y1, x1, (y1-y2), (x1-x2), anti_mapping_2, True)\n",
    "        assign_mapping(y2, x2, (y2-y1), (x2-x1), anti_mapping_2, True)\n",
    "        \n",
    "        \n",
    "print('Task 1 result: ', np.count_nonzero(anti_mapping == 1))\n",
    "print('Task 2 result: ', np.count_nonzero(anti_mapping_2 == 1))"
   ]
  },
  {
   "cell_type": "code",
   "execution_count": null,
   "id": "91f67521",
   "metadata": {},
   "outputs": [],
   "source": []
  }
 ],
 "metadata": {
  "kernelspec": {
   "display_name": "Python 3 (ipykernel)",
   "language": "python",
   "name": "python3"
  },
  "language_info": {
   "codemirror_mode": {
    "name": "ipython",
    "version": 3
   },
   "file_extension": ".py",
   "mimetype": "text/x-python",
   "name": "python",
   "nbconvert_exporter": "python",
   "pygments_lexer": "ipython3",
   "version": "3.10.6"
  }
 },
 "nbformat": 4,
 "nbformat_minor": 5
}
