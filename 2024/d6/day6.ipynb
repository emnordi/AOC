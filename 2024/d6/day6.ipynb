{
 "cells": [
  {
   "cell_type": "code",
   "execution_count": 1,
   "id": "e42c5ca4",
   "metadata": {},
   "outputs": [],
   "source": [
    "import numpy as np"
   ]
  },
  {
   "cell_type": "code",
   "execution_count": 98,
   "id": "8eaa7fde",
   "metadata": {},
   "outputs": [],
   "source": [
    "def get_data(fname):\n",
    "    res = []\n",
    "    with open(fname) as f:\n",
    "        for line in f.readlines():\n",
    "            res.append(list(line.rstrip()))\n",
    "    return res"
   ]
  },
  {
   "cell_type": "code",
   "execution_count": 150,
   "id": "db78f334",
   "metadata": {},
   "outputs": [],
   "source": [
    "def turn_right(direction):\n",
    "    if direction == 'up':\n",
    "        return 'right'\n",
    "    if direction == 'right':\n",
    "        return 'down'\n",
    "    if direction == 'down':\n",
    "        return 'left'\n",
    "    if direction == 'left':\n",
    "        return 'up'"
   ]
  },
  {
   "cell_type": "code",
   "execution_count": 260,
   "id": "9d391830",
   "metadata": {},
   "outputs": [],
   "source": [
    "def get_obstacle_index(arr, max_val):\n",
    "    o = np.where(arr == '#')[0]\n",
    "    if len(o) == 0:\n",
    "        return -1\n",
    "    else:\n",
    "        if max_val:\n",
    "            return o[len(o)-1]\n",
    "        else:\n",
    "            return o[0]"
   ]
  },
  {
   "cell_type": "code",
   "execution_count": 261,
   "id": "ebad72c6",
   "metadata": {},
   "outputs": [],
   "source": [
    "def find_end():\n",
    "    current_x = start_x\n",
    "    current_y = start_y\n",
    "    current_direction = 'up'\n",
    "    visited = []\n",
    "    while(True):\n",
    "        if [current_x,current_y] in visited:\n",
    "            return True\n",
    "        visited.append([current_x, current_y])\n",
    "        if current_direction == 'up':\n",
    "            obstacle = get_obstacle_index(data[:,current_x][0:current_y], True)\n",
    "            if obstacle == -1:\n",
    "                data[:,current_x][0:current_y+1] = 'X'\n",
    "                return False\n",
    "            else:\n",
    "                data[:,current_x][obstacle+1:current_y+1] = 'X'\n",
    "            current_y = obstacle+1\n",
    "            current_direction = turn_right(current_direction)\n",
    "            \n",
    "        if current_direction == 'right':\n",
    "            obstacle = get_obstacle_index(data[current_y][current_x:], False)\n",
    "            if obstacle == -1:\n",
    "                data[current_y][current_x:] = 'X'\n",
    "                return False\n",
    "            else:\n",
    "                data[current_y][current_x:current_x+obstacle] = 'X'\n",
    "            current_x = current_x + obstacle - 1\n",
    "            current_direction = turn_right(current_direction)\n",
    "            \n",
    "        if current_direction == 'down':\n",
    "            obstacle = get_obstacle_index(data[:,current_x][current_y:], False)\n",
    "            if obstacle == -1:\n",
    "                data[:,current_x][current_y:] = 'X'\n",
    "                return False\n",
    "            else:\n",
    "                data[:,current_x][current_y:current_y + obstacle] = 'X'\n",
    "            current_y = current_y + obstacle - 1\n",
    "            current_direction = turn_right(current_direction)\n",
    "            \n",
    "        if current_direction == 'left':\n",
    "            obstacle = get_obstacle_index(data[current_y][0:current_x], True)\n",
    "            if obstacle == -1:\n",
    "                data[current_y][0:current_x+1] = 'X'\n",
    "                return False\n",
    "            else:\n",
    "                data[current_y][obstacle+1:current_x] = 'X'\n",
    "            current_x = obstacle + 1\n",
    "            current_direction = turn_right(current_direction)"
   ]
  },
  {
   "cell_type": "code",
   "execution_count": 270,
   "id": "9280abac",
   "metadata": {},
   "outputs": [
    {
     "data": {
      "text/plain": [
       "array([['.', '.', '.', ..., '.', '.', '.'],\n",
       "       ['.', '.', '.', ..., '#', '.', '.'],\n",
       "       ['.', '.', '.', ..., '.', '.', '.'],\n",
       "       ...,\n",
       "       ['.', '.', '.', ..., '.', '.', '.'],\n",
       "       ['.', '.', '.', ..., '.', '.', '.'],\n",
       "       ['.', '.', '.', ..., '.', '.', '.']], dtype='<U1')"
      ]
     },
     "execution_count": 270,
     "metadata": {},
     "output_type": "execute_result"
    }
   ],
   "source": [
    "data = np.array(get_data('input.txt'))\n",
    "y, x = np.where(data == '^')\n",
    "start_y = y[0]\n",
    "start_x = x[0]\n",
    "data"
   ]
  },
  {
   "cell_type": "code",
   "execution_count": 271,
   "id": "58e7a0de",
   "metadata": {},
   "outputs": [
    {
     "data": {
      "text/plain": [
       "array([['.', '.', '.', ..., '.', '.', '.'],\n",
       "       ['.', '.', '.', ..., '#', '.', '.'],\n",
       "       ['.', '.', '.', ..., '.', '.', '.'],\n",
       "       ...,\n",
       "       ['.', '.', '.', ..., '.', '.', '.'],\n",
       "       ['.', '.', '.', ..., '.', '.', '.'],\n",
       "       ['.', '.', '.', ..., '.', '.', '.']], dtype='<U1')"
      ]
     },
     "execution_count": 271,
     "metadata": {},
     "output_type": "execute_result"
    }
   ],
   "source": [
    "find_end()\n",
    "data"
   ]
  },
  {
   "cell_type": "code",
   "execution_count": 272,
   "id": "d19805a3",
   "metadata": {},
   "outputs": [
    {
     "name": "stdout",
     "output_type": "stream",
     "text": [
      "Task 1: 4819\n"
     ]
    }
   ],
   "source": [
    "print('Task 1: ' + str(np.count_nonzero(data == 'X')))"
   ]
  },
  {
   "cell_type": "code",
   "execution_count": 273,
   "id": "65473515",
   "metadata": {},
   "outputs": [
    {
     "name": "stdout",
     "output_type": "stream",
     "text": [
      "Task 2: 1796\n"
     ]
    }
   ],
   "source": [
    "y_s, x_s = np.where(data == 'X')\n",
    "\n",
    "causes_loop = []\n",
    "\n",
    "old_data = np.copy(data)\n",
    "\n",
    "for x, y in zip(x_s, y_s):\n",
    "    data[y][x] = '#'\n",
    "    if find_end():\n",
    "        causes_loop.append([x,y])\n",
    "    data = np.copy(old_data)\n",
    "print('Task 2: ' + str(len(causes_loop)))"
   ]
  }
 ],
 "metadata": {
  "kernelspec": {
   "display_name": "Python 3 (ipykernel)",
   "language": "python",
   "name": "python3"
  },
  "language_info": {
   "codemirror_mode": {
    "name": "ipython",
    "version": 3
   },
   "file_extension": ".py",
   "mimetype": "text/x-python",
   "name": "python",
   "nbconvert_exporter": "python",
   "pygments_lexer": "ipython3",
   "version": "3.10.6"
  }
 },
 "nbformat": 4,
 "nbformat_minor": 5
}
