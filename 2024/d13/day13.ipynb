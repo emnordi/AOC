{
 "cells": [
  {
   "cell_type": "code",
   "execution_count": 36,
   "id": "ed861223",
   "metadata": {},
   "outputs": [],
   "source": [
    "import math"
   ]
  },
  {
   "cell_type": "code",
   "execution_count": 48,
   "id": "d8a61a90",
   "metadata": {},
   "outputs": [],
   "source": [
    "def get_data(fname):\n",
    "    data = []\n",
    "    with open(fname) as f:\n",
    "        temp = []\n",
    "        lines = f.readlines()\n",
    "        for line in lines:\n",
    "            line = line.rstrip().replace('Button A: X+', '').replace('Button B: X+', '').replace('Prize: X=', '').replace(' Y+', '').replace(' Y=', '')\n",
    "            if line == '':\n",
    "                data.append(temp)\n",
    "                temp = []\n",
    "            else:\n",
    "                temp.append([float(x) for x in line.split(',')])\n",
    "        data.append(temp)\n",
    "    return data"
   ]
  },
  {
   "cell_type": "code",
   "execution_count": 33,
   "id": "309ed046",
   "metadata": {},
   "outputs": [],
   "source": [
    "def calculate_a(button_a, button_b, prize):\n",
    "    x1, y1 = button_a\n",
    "    x2, y2 = button_b\n",
    "    px, py = prize\n",
    "    return (py - (y2*px/x2))/(y1-(y2*x1/x2))"
   ]
  },
  {
   "cell_type": "code",
   "execution_count": 34,
   "id": "b649298b",
   "metadata": {},
   "outputs": [],
   "source": [
    "def calculate_b(button_a, button_b, prize, a_val):\n",
    "    x1, _ = button_a\n",
    "    x2, _ = button_b\n",
    "    px, _ = prize\n",
    "    return (px - (x1*a_val))/x2"
   ]
  },
  {
   "cell_type": "code",
   "execution_count": 57,
   "id": "3e922155",
   "metadata": {},
   "outputs": [],
   "source": [
    "def valid_values(button_a, button_b, prize, a_val, b_val):\n",
    "    x1, y1 = button_a\n",
    "    x2, y2 = button_b\n",
    "    px, py = prize\n",
    "    return x1*a_val + x2*b_val == px and y1*a_val + y2*b_val == py"
   ]
  },
  {
   "cell_type": "code",
   "execution_count": 63,
   "id": "e7905ed2",
   "metadata": {},
   "outputs": [],
   "source": [
    "def do_task(data, multiplier):\n",
    "    total = 0\n",
    "    for d in data:\n",
    "        b1, b2, p = d\n",
    "        p_x, p_y = p\n",
    "        p = [p_x+multiplier, p_y+multiplier]\n",
    "        a = calculate_a(b1, b2, p)\n",
    "        a_vals = set()\n",
    "        combinations = []\n",
    "        a_vals.add(math.floor(a))\n",
    "        a_vals.add(math.ceil(a))\n",
    "        for a_option in a_vals:\n",
    "            b_val = calculate_b(b1, b2, p, a_option)\n",
    "            if b_val.is_integer():\n",
    "                combinations.append([a_option, b_val])\n",
    "        costs = []\n",
    "        for a_v, b_v in combinations:\n",
    "            if valid_values(b1, b2, p, a_v, b_v):\n",
    "                costs.append(a_v*3 + b_v)\n",
    "        if len(costs) > 0:\n",
    "            total += min(costs)\n",
    "    return total"
   ]
  },
  {
   "cell_type": "code",
   "execution_count": 66,
   "id": "354e1af8",
   "metadata": {},
   "outputs": [
    {
     "name": "stdout",
     "output_type": "stream",
     "text": [
      "Task 1: 31897.0\n",
      "Task 2: 87596249540359.0\n"
     ]
    }
   ],
   "source": [
    "data = get_data('input.txt')\n",
    "print('Task 1:', do_task(data, 0))\n",
    "print('Task 2:', do_task(data, 10000000000000))"
   ]
  }
 ],
 "metadata": {
  "kernelspec": {
   "display_name": "Python 3 (ipykernel)",
   "language": "python",
   "name": "python3"
  },
  "language_info": {
   "codemirror_mode": {
    "name": "ipython",
    "version": 3
   },
   "file_extension": ".py",
   "mimetype": "text/x-python",
   "name": "python",
   "nbconvert_exporter": "python",
   "pygments_lexer": "ipython3",
   "version": "3.10.6"
  }
 },
 "nbformat": 4,
 "nbformat_minor": 5
}
