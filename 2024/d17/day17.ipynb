{
 "cells": [
  {
   "cell_type": "code",
   "execution_count": 1,
   "id": "fff0b426",
   "metadata": {},
   "outputs": [],
   "source": [
    "from collections import defaultdict\n",
    "import math\n",
    "import time\n",
    "from functools import cache"
   ]
  },
  {
   "cell_type": "code",
   "execution_count": 2,
   "id": "fa149551",
   "metadata": {},
   "outputs": [],
   "source": [
    "def get_combo(literal):\n",
    "    if literal < 4:\n",
    "        return literal\n",
    "    return d[literal]"
   ]
  },
  {
   "cell_type": "code",
   "execution_count": 3,
   "id": "a212903d",
   "metadata": {},
   "outputs": [],
   "source": [
    "@cache\n",
    "def adv_bdv_cdv(a_val, combo):\n",
    "    return math.trunc(a_val/pow(2,combo))"
   ]
  },
  {
   "cell_type": "code",
   "execution_count": 4,
   "id": "41063771",
   "metadata": {},
   "outputs": [],
   "source": [
    "@cache\n",
    "def adv_bdv_cdv(a_val, combo):\n",
    "    return a_val >> combo"
   ]
  },
  {
   "cell_type": "code",
   "execution_count": 5,
   "id": "33ac4a77",
   "metadata": {},
   "outputs": [],
   "source": [
    "def do_task(a_start):\n",
    "    d[4] = a_start\n",
    "    d[5] = 0\n",
    "    d[6] = 0\n",
    "    i = 0\n",
    "    out = []\n",
    "    adv_codes = [0, 6, 7]\n",
    "    count = 0\n",
    "    while i < len(program):\n",
    "        op_code = program[i]\n",
    "        literal = program[i+1]\n",
    "        if op_code == 1:\n",
    "            d[5] ^=literal\n",
    "        if op_code == 2:\n",
    "            d[5] = get_combo(literal)%8\n",
    "        if op_code == 4:\n",
    "            d[5] ^= d[6]\n",
    "        if op_code == 5:\n",
    "             out.append(get_combo(literal)%8)\n",
    "        if op_code in adv_codes:\n",
    "            d[4+adv_codes.index(op_code)] = adv_bdv_cdv(d[4], get_combo(literal))\n",
    "        if op_code == 3 and d[4] != 0:\n",
    "            i = literal\n",
    "        else:\n",
    "            i += 2\n",
    "    return out"
   ]
  },
  {
   "cell_type": "code",
   "execution_count": 6,
   "id": "c2362914",
   "metadata": {},
   "outputs": [
    {
     "name": "stdout",
     "output_type": "stream",
     "text": [
      "Task 1: 3,1,5,3,7,4,2,7,5\n"
     ]
    }
   ],
   "source": [
    "d = defaultdict(int)\n",
    "program = [2,4,1,2,7,5,1,7,4,4,0,3,5,5,3,0]\n",
    "out = do_task(41644071)\n",
    "print('Task 1:', ','.join([str(o) for o in out]))"
   ]
  },
  {
   "cell_type": "code",
   "execution_count": 7,
   "id": "bea61435",
   "metadata": {},
   "outputs": [
    {
     "name": "stdout",
     "output_type": "stream",
     "text": [
      "0\n",
      "1000000\n",
      "2000000\n",
      "3000000\n",
      "4000000\n",
      "Task 2: 190593310997519\n",
      "--- 258.00741147994995 seconds ---\n"
     ]
    }
   ],
   "source": [
    "start_time = time.time()\n",
    "d = defaultdict(int)\n",
    "program = [2,4,1,2,7,5,1,7,4,4,0,3,5,5,3,0]\n",
    "i = 0\n",
    "#This was just sad bruteforcing looking for patterns where the first 6 digits are correct and incrementing by that\n",
    "for a_test in range(100000053410831 + (52808821*(262144*6)), 200000000000000, 262144*6):\n",
    "    if i % 1000000 == 0:\n",
    "        print(i)\n",
    "    i+=1\n",
    "    out = do_task(a_test)\n",
    "    if out == program:\n",
    "        print('Task 2:', a_test)\n",
    "        break\n",
    "print(\"--- %s seconds ---\" % (time.time() - start_time))"
   ]
  }
 ],
 "metadata": {
  "kernelspec": {
   "display_name": "Python 3 (ipykernel)",
   "language": "python",
   "name": "python3"
  },
  "language_info": {
   "codemirror_mode": {
    "name": "ipython",
    "version": 3
   },
   "file_extension": ".py",
   "mimetype": "text/x-python",
   "name": "python",
   "nbconvert_exporter": "python",
   "pygments_lexer": "ipython3",
   "version": "3.10.6"
  }
 },
 "nbformat": 4,
 "nbformat_minor": 5
}
