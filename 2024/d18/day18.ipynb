{
 "cells": [
  {
   "cell_type": "code",
   "execution_count": 58,
   "id": "8154bda6",
   "metadata": {},
   "outputs": [],
   "source": [
    "from collections import deque\n",
    "import time"
   ]
  },
  {
   "cell_type": "code",
   "execution_count": 34,
   "id": "ae62abc6",
   "metadata": {},
   "outputs": [],
   "source": [
    "def get_data(fname):\n",
    "    with open(fname) as f:\n",
    "        t = [f.rstrip().split(',') for f in f.readlines()]\n",
    "        return [complex(int(x),int(y)) for x,y in t]"
   ]
  },
  {
   "cell_type": "code",
   "execution_count": 79,
   "id": "85c56015",
   "metadata": {},
   "outputs": [],
   "source": [
    "def shortest_path(start, end, obstacles):\n",
    "    rows, cols = 71, 71\n",
    "\n",
    "    # (up, down, left, right)\n",
    "    directions = [1j, 1, -1j, -1]\n",
    "\n",
    "    queue = deque([(start, 0)])\n",
    "    visited = set()\n",
    "    visited.add((start))\n",
    "\n",
    "    while queue:\n",
    "        pos, steps = queue.popleft()\n",
    "        if pos == end:\n",
    "            return steps\n",
    "\n",
    "        for direction in directions:\n",
    "            npos = pos+direction\n",
    "            if 0 <= npos.real < rows and 0 <= npos.imag < cols and npos not in obstacles and npos not in visited:\n",
    "                queue.append((npos, steps + 1))\n",
    "                visited.add(npos)\n",
    "\n",
    "    return -1"
   ]
  },
  {
   "cell_type": "code",
   "execution_count": 80,
   "id": "15dae478",
   "metadata": {},
   "outputs": [],
   "source": [
    "obstacles = get_data('data.txt')"
   ]
  },
  {
   "cell_type": "code",
   "execution_count": 81,
   "id": "42caad56",
   "metadata": {},
   "outputs": [
    {
     "name": "stdout",
     "output_type": "stream",
     "text": [
      "Task 1: 384\n"
     ]
    }
   ],
   "source": [
    "print('Task 1:',shortest_path(0, complex(70,70), obstacles[:1024])) "
   ]
  },
  {
   "cell_type": "code",
   "execution_count": 82,
   "id": "2ec48cfe",
   "metadata": {},
   "outputs": [
    {
     "name": "stdout",
     "output_type": "stream",
     "text": [
      "Task 2: (36+10j)\n",
      "--- 0.16937661170959473 seconds ---\n"
     ]
    }
   ],
   "source": [
    "start_time = time.time()\n",
    "for i in reversed(range(1025, len(obstacles))):\n",
    "    sp = shortest_path(0, complex(70,70), set(obstacles[:i]))\n",
    "    if sp != -1:\n",
    "        print('Task 2:', obstacles[i])\n",
    "        break\n",
    "print(\"--- %s seconds ---\" % (time.time() - start_time))"
   ]
  },
  {
   "cell_type": "code",
   "execution_count": null,
   "id": "6b930d2e",
   "metadata": {},
   "outputs": [],
   "source": []
  }
 ],
 "metadata": {
  "kernelspec": {
   "display_name": "Python 3 (ipykernel)",
   "language": "python",
   "name": "python3"
  },
  "language_info": {
   "codemirror_mode": {
    "name": "ipython",
    "version": 3
   },
   "file_extension": ".py",
   "mimetype": "text/x-python",
   "name": "python",
   "nbconvert_exporter": "python",
   "pygments_lexer": "ipython3",
   "version": "3.10.6"
  }
 },
 "nbformat": 4,
 "nbformat_minor": 5
}
