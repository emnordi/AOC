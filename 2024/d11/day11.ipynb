{
 "cells": [
  {
   "cell_type": "code",
   "execution_count": 97,
   "id": "b8773e1a",
   "metadata": {},
   "outputs": [],
   "source": [
    "import re\n",
    "import time\n",
    "from functools import cache\n",
    "from collections import defaultdict"
   ]
  },
  {
   "cell_type": "code",
   "execution_count": 127,
   "id": "3adbf32c",
   "metadata": {},
   "outputs": [],
   "source": [
    "def get_data(fname):\n",
    "    with open(fname) as f:\n",
    "        return [int(x) for x in f.readline().strip().split(' ')]"
   ]
  },
  {
   "cell_type": "code",
   "execution_count": 153,
   "id": "fac81d1a",
   "metadata": {},
   "outputs": [],
   "source": [
    "@cache\n",
    "def halve_number(inp):\n",
    "    inp_str = str(inp)\n",
    "    inp_len = len(inp_str)\n",
    "    return [int(inp_str[:int(inp_len/2)]), int(inp_str[int(inp_len/2):])]"
   ]
  },
  {
   "cell_type": "code",
   "execution_count": 154,
   "id": "633ca207",
   "metadata": {},
   "outputs": [],
   "source": [
    "@cache\n",
    "def apply_rules(inp):\n",
    "    if inp == 0:\n",
    "        return [1]\n",
    "    elif len(str(inp)) % 2 == 0:\n",
    "        return halve_number(inp)\n",
    "    else:\n",
    "        return [inp*2024]"
   ]
  },
  {
   "cell_type": "code",
   "execution_count": 155,
   "id": "375f85b1",
   "metadata": {},
   "outputs": [],
   "source": [
    "def increment_key(key, amount):\n",
    "    occurrences[key] += amount"
   ]
  },
  {
   "cell_type": "code",
   "execution_count": 156,
   "id": "3df90eb6",
   "metadata": {},
   "outputs": [],
   "source": [
    "def decrement_key(key, amount):\n",
    "    if occurrences[key] > 0:\n",
    "        occurrences[key] -= amount"
   ]
  },
  {
   "cell_type": "code",
   "execution_count": 157,
   "id": "68d1eef8",
   "metadata": {},
   "outputs": [],
   "source": [
    "def do_task(cycles):\n",
    "    total = 0\n",
    "    for i in range(cycles):\n",
    "        item_list = occurrences.copy().items()\n",
    "        for key, val in item_list:\n",
    "            x = apply_rules(key)\n",
    "            increment_key(x[0], val)\n",
    "            if len(x) == 2:\n",
    "                increment_key(x[1], val)\n",
    "            decrement_key(key, val)\n",
    "    #calculate final number of occurrences\n",
    "    for k, v in occurrences.items():\n",
    "        total += v\n",
    "    return total"
   ]
  },
  {
   "cell_type": "code",
   "execution_count": 158,
   "id": "19584666",
   "metadata": {},
   "outputs": [
    {
     "name": "stdout",
     "output_type": "stream",
     "text": [
      "Task1: 193269\n",
      "Task2: 228449040027793\n",
      "--- 0.12901854515075684 seconds ---\n"
     ]
    }
   ],
   "source": [
    "data = get_data('input.txt')\n",
    "occurrences = defaultdict(int)\n",
    "for d in data:\n",
    "    increment_key(d, 1)\n",
    "\n",
    "start_time = time.time()\n",
    "print('Task1:', do_task(25))\n",
    "occurrences = defaultdict(int)\n",
    "for d in data:\n",
    "    increment_key(d, 1)\n",
    "print('Task2:', do_task(75))\n",
    "print(\"--- %s seconds ---\" % (time.time() - start_time))"
   ]
  },
  {
   "cell_type": "code",
   "execution_count": null,
   "id": "2635b508",
   "metadata": {},
   "outputs": [],
   "source": []
  }
 ],
 "metadata": {
  "kernelspec": {
   "display_name": "Python 3 (ipykernel)",
   "language": "python",
   "name": "python3"
  },
  "language_info": {
   "codemirror_mode": {
    "name": "ipython",
    "version": 3
   },
   "file_extension": ".py",
   "mimetype": "text/x-python",
   "name": "python",
   "nbconvert_exporter": "python",
   "pygments_lexer": "ipython3",
   "version": "3.10.6"
  }
 },
 "nbformat": 4,
 "nbformat_minor": 5
}
