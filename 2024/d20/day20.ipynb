{
 "cells": [
  {
   "cell_type": "code",
   "execution_count": 1,
   "id": "78b90a99",
   "metadata": {},
   "outputs": [],
   "source": [
    "from collections import deque\n",
    "import time"
   ]
  },
  {
   "cell_type": "code",
   "execution_count": 29,
   "id": "631b430b",
   "metadata": {},
   "outputs": [],
   "source": [
    "def get_data(fname):\n",
    "    with open(fname) as f:\n",
    "        lines = f.readlines()\n",
    "        rows, columns = len(lines)-2, len(lines[0].rstrip())-2\n",
    "        obstacles = []\n",
    "        start = 0\n",
    "        end = 0\n",
    "        for y, line in enumerate(lines[1:len(lines)-1]):\n",
    "            for x, char in enumerate(line[1:len(line.rstrip())-1]):\n",
    "                if char == '#':\n",
    "                    obstacles.append(complex(x,y))\n",
    "                if char == 'S':\n",
    "                    start = complex(x,y)\n",
    "                if char == 'E':\n",
    "                    end = complex(x,y)\n",
    "        return obstacles, rows, columns, start, end"
   ]
  },
  {
   "cell_type": "code",
   "execution_count": 85,
   "id": "fb169dc0",
   "metadata": {},
   "outputs": [],
   "source": [
    "def shortest_path(start, end, obstacles, rows, cols):\n",
    "    # (up, down, left, right)\n",
    "    directions = [1j, 1, -1j, -1]\n",
    "\n",
    "    queue = deque([(start, 0)])\n",
    "    visited = dict()\n",
    "    visited[(start)] = 0\n",
    "\n",
    "    while queue:\n",
    "        pos, steps = queue.popleft()\n",
    "        if pos == end:\n",
    "            return steps, visited\n",
    "\n",
    "        for direction in directions:\n",
    "            npos = pos+direction\n",
    "            if 0 <= npos.real < rows and 0 <= npos.imag < cols and npos not in obstacles and npos not in visited:\n",
    "                queue.append((npos, steps + 1))\n",
    "                visited[(npos)] = steps + 1\n",
    "\n",
    "    return -1"
   ]
  },
  {
   "cell_type": "code",
   "execution_count": 86,
   "id": "55877560",
   "metadata": {},
   "outputs": [],
   "source": [
    "def remove_closed_off_obs(obstables):\n",
    "    res = set(obstacles.copy())\n",
    "    for o in obstacles:\n",
    "        if all(p in obstacles for p in [o+direction for direction in directions]):\n",
    "            res.remove(o)\n",
    "    return list(res)"
   ]
  },
  {
   "cell_type": "code",
   "execution_count": 87,
   "id": "870effe9",
   "metadata": {},
   "outputs": [
    {
     "name": "stdout",
     "output_type": "stream",
     "text": [
      "Task 1: 1389\n",
      "--- 181.99469447135925 seconds ---\n"
     ]
    }
   ],
   "source": [
    "start_time = time.time()\n",
    "obstacles, rows, columns, start, end = get_data('input.txt')\n",
    "shortened = remove_closed_off_obs(obstacles)\n",
    "obs = shortened.copy()\n",
    "initial_len, visited = shortest_path(start, end, set(obstacles), rows, columns)\n",
    "cheats = 0\n",
    "save_goal = 100\n",
    "for i in range(len(shortened)):\n",
    "    obs.pop(i)\n",
    "    nl, _ = shortest_path(start, end, set(obs), rows, columns)\n",
    "    if initial_len - nl >= save_goal:\n",
    "        cheats += 1\n",
    "    obs = shortened.copy()\n",
    "print('Task 1:', cheats)\n",
    "print(\"--- %s seconds ---\" % (time.time() - start_time))"
   ]
  },
  {
   "cell_type": "code",
   "execution_count": 80,
   "id": "f3ce97c9",
   "metadata": {},
   "outputs": [
    {
     "name": "stdout",
     "output_type": "stream",
     "text": [
      "Task 2: 1005068\n"
     ]
    }
   ],
   "source": [
    "cheats = 0\n",
    "path = sorted(visited, key=visited.get)\n",
    "for end_ind in range(save_goal, len(path)):\n",
    "    for start_ind in range(end_ind - save_goal):\n",
    "        distance = abs(path[start_ind].real-path[end_ind].real) + abs(path[start_ind].imag-path[end_ind].imag)\n",
    "        if distance <= 20 and end_ind - start_ind - distance >= save_goal:\n",
    "            cheats += 1\n",
    "\n",
    "print('Task 2:', cheats)"
   ]
  },
  {
   "cell_type": "code",
   "execution_count": null,
   "id": "11854409",
   "metadata": {},
   "outputs": [],
   "source": []
  }
 ],
 "metadata": {
  "kernelspec": {
   "display_name": "Python 3 (ipykernel)",
   "language": "python",
   "name": "python3"
  },
  "language_info": {
   "codemirror_mode": {
    "name": "ipython",
    "version": 3
   },
   "file_extension": ".py",
   "mimetype": "text/x-python",
   "name": "python",
   "nbconvert_exporter": "python",
   "pygments_lexer": "ipython3",
   "version": "3.10.6"
  }
 },
 "nbformat": 4,
 "nbformat_minor": 5
}
