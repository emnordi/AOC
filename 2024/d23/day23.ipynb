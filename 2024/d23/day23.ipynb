{
 "cells": [
  {
   "cell_type": "code",
   "execution_count": 34,
   "id": "af2dca41",
   "metadata": {},
   "outputs": [],
   "source": [
    "from functools import cache\n",
    "import time"
   ]
  },
  {
   "cell_type": "code",
   "execution_count": 1,
   "id": "2ff0a2fd",
   "metadata": {},
   "outputs": [],
   "source": [
    "def get_data(fname):\n",
    "    with open(fname) as f:\n",
    "        data = []\n",
    "        for line in f.readlines():\n",
    "            data.append(line.rstrip().split('-'))\n",
    "        return data"
   ]
  },
  {
   "cell_type": "code",
   "execution_count": 51,
   "id": "252b157d",
   "metadata": {},
   "outputs": [],
   "source": [
    "@cache\n",
    "def get_candidates(e1, e2):\n",
    "    candidates = []\n",
    "    distinct_nodes = []\n",
    "    for d in data:\n",
    "        if d[0] in [e1, e2] and d[1] not in [e1, e2]:\n",
    "            candidates.append(d)\n",
    "            distinct_nodes.append(d[1])\n",
    "        if d[1] in [e1, e2] and d[0] not in [e1, e2]:\n",
    "            candidates.append(d)\n",
    "            distinct_nodes.append(d[0])\n",
    "    return candidates, distinct_nodes"
   ]
  },
  {
   "cell_type": "code",
   "execution_count": 62,
   "id": "c2e80d1b",
   "metadata": {},
   "outputs": [],
   "source": [
    "@cache\n",
    "def connected_to(el1, el2):\n",
    "    for c in data:\n",
    "        if el1 in c and el2 in c:\n",
    "            return True\n",
    "    return False"
   ]
  },
  {
   "cell_type": "code",
   "execution_count": 54,
   "id": "d7e09020",
   "metadata": {},
   "outputs": [],
   "source": [
    "def connected_to_all(cand, els):\n",
    "    return all([connected_to(cand, e) for e in els])"
   ]
  },
  {
   "cell_type": "code",
   "execution_count": 63,
   "id": "64b2a56f",
   "metadata": {},
   "outputs": [
    {
     "name": "stdout",
     "output_type": "stream",
     "text": [
      "Task 1: 1327\n",
      "Task 2: df,kg,la,mp,pb,qh,sk,th,vn,ww,xp,yp,zk\n",
      "--- 2.5926525592803955 seconds ---\n"
     ]
    }
   ],
   "source": [
    "data = get_data('input.txt')\n",
    "start_time = time.time()\n",
    "clusters = set()\n",
    "triples = set()\n",
    "for e1, e2 in data:\n",
    "    cluster = set()\n",
    "    cluster.update([e1, e2])\n",
    "    candidates, distinct_els = get_candidates(e1, e2)\n",
    "    for dist in distinct_els:\n",
    "        if connected_to_all(dist, cluster):\n",
    "            cluster.add(dist)\n",
    "        if connected_to_all(dist, [e1, e2]):\n",
    "            triples.add(','.join(sorted([dist, e1, e2])))\n",
    "    clusters.add(','.join(sorted(cluster)))\n",
    "    \n",
    "total = 0\n",
    "for t in triples:\n",
    "    t1, t2, t3 = t.split(',')\n",
    "    if 't' in [t1[0], t2[0], t3[0]]:\n",
    "        total += 1\n",
    "print('Task 1:', total)\n",
    "\n",
    "largest_cluster = ''  \n",
    "for c in clusters:\n",
    "    if len(c.split(',')) > len(largest_cluster.split(',')):\n",
    "        largest_cluster = c\n",
    "print('Task 2:', largest_cluster)\n",
    "print(\"--- %s seconds ---\" % (time.time() - start_time))"
   ]
  },
  {
   "cell_type": "code",
   "execution_count": null,
   "id": "691105cf",
   "metadata": {},
   "outputs": [],
   "source": []
  }
 ],
 "metadata": {
  "kernelspec": {
   "display_name": "Python 3 (ipykernel)",
   "language": "python",
   "name": "python3"
  },
  "language_info": {
   "codemirror_mode": {
    "name": "ipython",
    "version": 3
   },
   "file_extension": ".py",
   "mimetype": "text/x-python",
   "name": "python",
   "nbconvert_exporter": "python",
   "pygments_lexer": "ipython3",
   "version": "3.10.6"
  }
 },
 "nbformat": 4,
 "nbformat_minor": 5
}
