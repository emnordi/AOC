{
 "cells": [
  {
   "cell_type": "code",
   "execution_count": 1,
   "id": "b140360b",
   "metadata": {},
   "outputs": [],
   "source": [
    "import numpy as np\n",
    "import time"
   ]
  },
  {
   "cell_type": "code",
   "execution_count": 43,
   "id": "b5963930",
   "metadata": {},
   "outputs": [],
   "source": [
    "def get_data(fname):\n",
    "    return np.loadtxt(fname, delimiter=',', dtype='int')"
   ]
  },
  {
   "cell_type": "code",
   "execution_count": 37,
   "id": "de82735c",
   "metadata": {},
   "outputs": [],
   "source": [
    "def check_cost(positions, target):\n",
    "    costs = []\n",
    "    for pos in positions:\n",
    "        costs.append(abs(int(pos)-target))\n",
    "    return costs"
   ]
  },
  {
   "cell_type": "code",
   "execution_count": 51,
   "id": "73da8737",
   "metadata": {},
   "outputs": [],
   "source": [
    "def check_cost(positions, target):\n",
    "    costs = []\n",
    "    for pos in positions:\n",
    "        costs.append(count_fuel(abs(int(pos)-target)))\n",
    "    return costs"
   ]
  },
  {
   "cell_type": "code",
   "execution_count": 50,
   "id": "b504d0db",
   "metadata": {},
   "outputs": [],
   "source": [
    "def count_fuel(steps):\n",
    "    return (steps*(steps+1))/2"
   ]
  },
  {
   "cell_type": "code",
   "execution_count": 54,
   "id": "7e1d16dd",
   "metadata": {},
   "outputs": [
    {
     "name": "stdout",
     "output_type": "stream",
     "text": [
      "min fuel: 101079875.0 at position: 478\n"
     ]
    }
   ],
   "source": [
    "crab_positions = get_data('input.txt')\n",
    "\n",
    "\n",
    "min_fuel = 1000000000000\n",
    "min_fuel_index = 0\n",
    "\n",
    "for i in range(max(crab_positions)):\n",
    "    c = check_cost(crab_positions, i)\n",
    "    if sum(c) < min_fuel:\n",
    "        min_fuel = sum(c)\n",
    "        min_fuel_index = i\n",
    "print('min fuel: ' + str(min_fuel) + ' at position: ' + str(min_fuel_index))"
   ]
  }
 ],
 "metadata": {
  "kernelspec": {
   "display_name": "Python 3 (ipykernel)",
   "language": "python",
   "name": "python3"
  },
  "language_info": {
   "codemirror_mode": {
    "name": "ipython",
    "version": 3
   },
   "file_extension": ".py",
   "mimetype": "text/x-python",
   "name": "python",
   "nbconvert_exporter": "python",
   "pygments_lexer": "ipython3",
   "version": "3.7.7"
  }
 },
 "nbformat": 4,
 "nbformat_minor": 5
}
