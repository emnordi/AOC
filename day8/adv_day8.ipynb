{
 "cells": [
  {
   "cell_type": "code",
   "execution_count": 14,
   "id": "d9bebb51",
   "metadata": {},
   "outputs": [],
   "source": [
    "import time\n",
    "\n",
    "def get_data(fname):\n",
    "    with open(fname) as f:\n",
    "        lines = f.readlines()\n",
    "        for idx, line in enumerate(lines):\n",
    "            lines[idx] = line.split(' | ')\n",
    "    return lines"
   ]
  },
  {
   "cell_type": "code",
   "execution_count": 27,
   "id": "32a26cce",
   "metadata": {},
   "outputs": [
    {
     "name": "stdout",
     "output_type": "stream",
     "text": [
      "367\n"
     ]
    }
   ],
   "source": [
    "data = get_data('input.txt')\n",
    "tot = 0\n",
    "for d in data:\n",
    "    nums = d[1].split()\n",
    "    for n in nums:\n",
    "        if len(n) in (2,3,4,7):\n",
    "            tot+=1\n",
    "print(tot)"
   ]
  },
  {
   "cell_type": "code",
   "execution_count": 41,
   "id": "5b78a04c",
   "metadata": {},
   "outputs": [],
   "source": [
    "def find_w_l(drow, le):\n",
    "    for n in drow: \n",
    "        if len(n) == le:\n",
    "            return n"
   ]
  },
  {
   "cell_type": "code",
   "execution_count": 78,
   "id": "31e1bd1b",
   "metadata": {},
   "outputs": [],
   "source": [
    "def find_l6(drow, charlist):\n",
    "    if set(charlist[4]).issubset(drow):\n",
    "        charlist[9] = drow\n",
    "    elif set(charlist[1]).issubset(drow):\n",
    "        charlist[0] = drow\n",
    "    else:\n",
    "        charlist[6] = drow\n",
    "    return charlist"
   ]
  },
  {
   "cell_type": "code",
   "execution_count": 83,
   "id": "b8b9f897",
   "metadata": {},
   "outputs": [],
   "source": [
    "def find_l5(drow, charlist):\n",
    "    if set(charlist[1]).issubset(drow):\n",
    "        charlist[3] = drow\n",
    "    elif match_three(drow, charlist):\n",
    "        charlist[5] = drow\n",
    "    else:\n",
    "        charlist[2] = drow\n",
    "    return charlist"
   ]
  },
  {
   "cell_type": "code",
   "execution_count": 86,
   "id": "d2cbd6d4",
   "metadata": {},
   "outputs": [],
   "source": [
    "def match_three(drow, charlist):\n",
    "    if set([charlist[4][0], charlist[4][1], charlist[4][2]]).issubset(drow) or set([charlist[4][0], charlist[4][1], charlist[4][3]]).issubset(drow) or set([charlist[4][0], charlist[4][2], charlist[4][3]]).issubset(drow) or set([charlist[4][1], charlist[4][2], charlist[4][3]]).issubset(drow):\n",
    "        return True"
   ]
  },
  {
   "cell_type": "code",
   "execution_count": 102,
   "id": "ed42dd57",
   "metadata": {},
   "outputs": [],
   "source": [
    "def sum_out(charlist, outcode):\n",
    "    tot = ''\n",
    "    for o in outcode:\n",
    "        if len(o) == 2:\n",
    "            tot += '1'\n",
    "        elif len(o) == 3:\n",
    "            tot += '7'\n",
    "        elif len(o) == 4:\n",
    "            tot += '4'\n",
    "        elif len(o) == 7:\n",
    "            tot += '8'\n",
    "        elif len(o) == 6:\n",
    "            if set(charlist[9]).issubset(o):\n",
    "                tot += '9'\n",
    "            elif set(charlist[0]).issubset(o):\n",
    "                tot += '0'\n",
    "            else:\n",
    "                tot += '6'\n",
    "        elif len(o) == 5:\n",
    "            if set(charlist[3]).issubset(o):\n",
    "                tot += '3'\n",
    "            elif set(charlist[5]).issubset(o):\n",
    "                tot += '5'\n",
    "            else:\n",
    "                tot += '2'\n",
    "    return tot\n",
    "            "
   ]
  },
  {
   "cell_type": "code",
   "execution_count": 103,
   "id": "b3a12c24",
   "metadata": {},
   "outputs": [
    {
     "name": "stdout",
     "output_type": "stream",
     "text": [
      "974512\n"
     ]
    }
   ],
   "source": [
    "data = get_data('input.txt')\n",
    "\n",
    "chararr = ['','','','','','','','','','']\n",
    "total_sum = 0\n",
    "for d in data:\n",
    "    chararr = ['','','','','','','','','','']\n",
    "    nums = d[0].split()\n",
    "    code = d[1].split()\n",
    "    chararr[1] = find_w_l(nums, 2)\n",
    "    chararr[4] = find_w_l(nums, 4)\n",
    "    chararr[7] = find_w_l(nums, 3)\n",
    "    chararr[8] = find_w_l(nums, 7)\n",
    "    for n in nums:\n",
    "        if len(n) == 6:\n",
    "            chararr = find_l6(n, chararr)\n",
    "        elif len(n) == 5:\n",
    "            chararr = find_l5(n, chararr)\n",
    "    total_sum += int(sum_out(chararr, code))\n",
    "print(total_sum)"
   ]
  },
  {
   "cell_type": "code",
   "execution_count": null,
   "id": "a1c674bb",
   "metadata": {},
   "outputs": [],
   "source": [
    "chararr.index('')"
   ]
  }
 ],
 "metadata": {
  "kernelspec": {
   "display_name": "Python 3 (ipykernel)",
   "language": "python",
   "name": "python3"
  },
  "language_info": {
   "codemirror_mode": {
    "name": "ipython",
    "version": 3
   },
   "file_extension": ".py",
   "mimetype": "text/x-python",
   "name": "python",
   "nbconvert_exporter": "python",
   "pygments_lexer": "ipython3",
   "version": "3.7.7"
  }
 },
 "nbformat": 4,
 "nbformat_minor": 5
}
