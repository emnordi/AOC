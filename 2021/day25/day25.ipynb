{
 "cells": [
  {
   "cell_type": "code",
   "execution_count": 1,
   "id": "bc5256f3",
   "metadata": {},
   "outputs": [],
   "source": [
    "import numpy as np"
   ]
  },
  {
   "cell_type": "code",
   "execution_count": 19,
   "id": "8cca911b",
   "metadata": {},
   "outputs": [],
   "source": [
    "def getdata(fname):\n",
    "    arr = []\n",
    "    with open(fname) as f:\n",
    "        lines = f.readlines()\n",
    "        for line in lines:\n",
    "            arr.append(list(line.rstrip()))\n",
    "    return np.array(arr)"
   ]
  },
  {
   "cell_type": "code",
   "execution_count": 41,
   "id": "af661b23",
   "metadata": {},
   "outputs": [],
   "source": [
    "def move_east(inp):\n",
    "    temp = inp.copy()\n",
    "    xs, ys = np.where(inp == '>')\n",
    "    for x,y in zip(xs, ys):\n",
    "        if y == len(inp[0])-1:\n",
    "            if inp[x][0] == '.':\n",
    "                temp[x][y] = '.'\n",
    "                temp[x][0] = '>'\n",
    "        else:\n",
    "            if inp[x][y+1] == '.':\n",
    "                temp[x][y] = '.'\n",
    "                temp[x][y+1] = '>'\n",
    "    return temp"
   ]
  },
  {
   "cell_type": "code",
   "execution_count": 44,
   "id": "2f5db872",
   "metadata": {},
   "outputs": [],
   "source": [
    "def move_west(inp):\n",
    "    temp = inp.copy()\n",
    "    xs, ys = np.where(inp == 'v')\n",
    "    for x,y in zip(xs, ys):\n",
    "        if x == len(inp)-1:\n",
    "            if inp[0][y] == '.':\n",
    "                temp[x][y] = '.'\n",
    "                temp[0][y] = 'v'\n",
    "        else:\n",
    "            if inp[x+1][y] == '.':\n",
    "                temp[x][y] = '.'\n",
    "                temp[x+1][y] = 'v'\n",
    "    return temp"
   ]
  },
  {
   "cell_type": "code",
   "execution_count": 62,
   "id": "8a1fcdab",
   "metadata": {},
   "outputs": [
    {
     "name": "stdout",
     "output_type": "stream",
     "text": [
      "389\n"
     ]
    }
   ],
   "source": [
    "data = getdata('input.txt')\n",
    "steps = 10000\n",
    "for i in range(1, steps):\n",
    "    data2 = data.copy()\n",
    "    data = move_east(data)\n",
    "    data = move_west(data)\n",
    "    if (data == data2).all():\n",
    "        print(i)\n",
    "        break"
   ]
  }
 ],
 "metadata": {
  "kernelspec": {
   "display_name": "Python 3 (ipykernel)",
   "language": "python",
   "name": "python3"
  },
  "language_info": {
   "codemirror_mode": {
    "name": "ipython",
    "version": 3
   },
   "file_extension": ".py",
   "mimetype": "text/x-python",
   "name": "python",
   "nbconvert_exporter": "python",
   "pygments_lexer": "ipython3",
   "version": "3.10.1"
  }
 },
 "nbformat": 4,
 "nbformat_minor": 5
}
