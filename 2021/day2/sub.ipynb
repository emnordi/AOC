{
 "cells": [
  {
   "cell_type": "code",
   "execution_count": 3,
   "id": "e38a1506",
   "metadata": {},
   "outputs": [],
   "source": [
    "with open('advent_of_code/day2/input.txt') as f:\n",
    "    lines = f.readlines()"
   ]
  },
  {
   "cell_type": "code",
   "execution_count": 12,
   "id": "7a84e88f",
   "metadata": {},
   "outputs": [
    {
     "name": "stdout",
     "output_type": "stream",
     "text": [
      "1989265\n",
      "955\n"
     ]
    }
   ],
   "source": [
    "horizontal = 0\n",
    "depth = 0\n",
    "for line in lines:\n",
    "    x,y = line.split()\n",
    "    y = int(y)\n",
    "    if x == 'forward':\n",
    "        horizontal += y\n",
    "    elif x == 'down':\n",
    "        depth += y\n",
    "    elif x == 'up':\n",
    "        depth -= y\n",
    "    else:\n",
    "        print(x)\n",
    "print(horizontal*depth)"
   ]
  },
  {
   "cell_type": "code",
   "execution_count": 14,
   "id": "0dcdf9d0",
   "metadata": {},
   "outputs": [
    {
     "name": "stdout",
     "output_type": "stream",
     "text": [
      "2089174012\n"
     ]
    }
   ],
   "source": [
    "horizontal = 0\n",
    "depth = 0\n",
    "aim = 0\n",
    "for line in lines:\n",
    "    x,y = line.split()\n",
    "    y = int(y)\n",
    "    if x == 'forward':\n",
    "        horizontal += y\n",
    "        depth += aim*y\n",
    "    elif x == 'down':\n",
    "        aim += y\n",
    "    elif x == 'up':\n",
    "        aim -= y\n",
    "    else:\n",
    "        print(x)\n",
    "print(horizontal*depth)"
   ]
  },
  {
   "cell_type": "code",
   "execution_count": null,
   "id": "d13eaf8d",
   "metadata": {},
   "outputs": [],
   "source": []
  }
 ],
 "metadata": {
  "kernelspec": {
   "display_name": "Python 3 (ipykernel)",
   "language": "python",
   "name": "python3"
  },
  "language_info": {
   "codemirror_mode": {
    "name": "ipython",
    "version": 3
   },
   "file_extension": ".py",
   "mimetype": "text/x-python",
   "name": "python",
   "nbconvert_exporter": "python",
   "pygments_lexer": "ipython3",
   "version": "3.7.7"
  }
 },
 "nbformat": 4,
 "nbformat_minor": 5
}
