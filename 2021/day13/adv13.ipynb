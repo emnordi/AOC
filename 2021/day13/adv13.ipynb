{
 "cells": [
  {
   "cell_type": "code",
   "execution_count": 1,
   "id": "b38fa7e5",
   "metadata": {},
   "outputs": [],
   "source": [
    "import numpy as np"
   ]
  },
  {
   "cell_type": "code",
   "execution_count": 63,
   "id": "6cfc6519",
   "metadata": {},
   "outputs": [],
   "source": [
    "def get_data(fname):\n",
    "    arr = []\n",
    "    with open(fname) as f:\n",
    "        lines = f.readlines()\n",
    "        for line in lines:\n",
    "            arr.append(line.rstrip().split(','))\n",
    "        return np.array(arr).astype('int')"
   ]
  },
  {
   "cell_type": "code",
   "execution_count": 66,
   "id": "871bcdaa",
   "metadata": {},
   "outputs": [],
   "source": [
    "def get_folds(fname):\n",
    "    with open(fname) as f:\n",
    "        arr = []\n",
    "        lines = f.readlines()\n",
    "        for line in lines:\n",
    "            arr.append(line[11:].rstrip())\n",
    "        return arr"
   ]
  },
  {
   "cell_type": "code",
   "execution_count": 174,
   "id": "a6df680d",
   "metadata": {},
   "outputs": [],
   "source": [
    "def vert_fold(arr, points, y_fold):\n",
    "    arr2 = np.zeros((y_fold, arr.shape[1]))\n",
    "    for pix, point in enumerate(points):\n",
    "        x, y = point\n",
    "        if y > y_fold:\n",
    "            arr2[2*y_fold - y][x] = 1\n",
    "            data[pix] = (x, 2*y_fold - y)\n",
    "        else:\n",
    "            arr2[y][x] = 1\n",
    "    return arr2"
   ]
  },
  {
   "cell_type": "code",
   "execution_count": 173,
   "id": "bde03055",
   "metadata": {},
   "outputs": [],
   "source": [
    "def hor_fold(arr, points, x_fold):\n",
    "    arr2 = np.zeros((arr.shape[0], x_fold))\n",
    "    for pix, point in enumerate(points):\n",
    "        x, y = point\n",
    "        if x > x_fold:\n",
    "            arr2[y][2*x_fold - x] = 1\n",
    "            data[pix] = (2*x_fold - x, y)\n",
    "        else:\n",
    "            arr2[y][x] = 1\n",
    "    return arr2"
   ]
  },
  {
   "cell_type": "code",
   "execution_count": 197,
   "id": "40500d11",
   "metadata": {},
   "outputs": [
    {
     "name": "stdout",
     "output_type": "stream",
     "text": [
      "[[1. 1. 1. 0. 0. 1. 1. 1. 1. 0. 1. 0. 0. 1. 0. 1. 1. 1. 0. 0. 1. 0. 0. 1.\n",
      "  0. 1. 1. 1. 0. 0. 1. 0. 0. 1. 0. 1. 1. 1. 0. 0.]\n",
      " [1. 0. 0. 1. 0. 1. 0. 0. 0. 0. 1. 0. 0. 1. 0. 1. 0. 0. 1. 0. 1. 0. 0. 1.\n",
      "  0. 1. 0. 0. 1. 0. 1. 0. 1. 0. 0. 1. 0. 0. 1. 0.]\n",
      " [1. 0. 0. 1. 0. 1. 1. 1. 0. 0. 1. 0. 0. 1. 0. 1. 0. 0. 1. 0. 1. 0. 0. 1.\n",
      "  0. 1. 0. 0. 1. 0. 1. 1. 0. 0. 0. 1. 0. 0. 1. 0.]\n",
      " [1. 1. 1. 0. 0. 1. 0. 0. 0. 0. 1. 0. 0. 1. 0. 1. 1. 1. 0. 0. 1. 0. 0. 1.\n",
      "  0. 1. 1. 1. 0. 0. 1. 0. 1. 0. 0. 1. 1. 1. 0. 0.]\n",
      " [1. 0. 1. 0. 0. 1. 0. 0. 0. 0. 1. 0. 0. 1. 0. 1. 0. 0. 0. 0. 1. 0. 0. 1.\n",
      "  0. 1. 0. 0. 0. 0. 1. 0. 1. 0. 0. 1. 0. 1. 0. 0.]\n",
      " [1. 0. 0. 1. 0. 1. 1. 1. 1. 0. 0. 1. 1. 0. 0. 1. 0. 0. 0. 0. 0. 1. 1. 0.\n",
      "  0. 1. 0. 0. 0. 0. 1. 0. 0. 1. 0. 1. 0. 0. 1. 0.]]\n"
     ]
    }
   ],
   "source": [
    "data = get_data('input.txt')\n",
    "folds = get_folds('input_f.txt')\n",
    "xmax, ymax = data.max(axis=0)\n",
    "init_arr = np.zeros((ymax+1, xmax+1))\n",
    "for f in folds:\n",
    "    if f[0] == 'y':\n",
    "        init_arr = vert_fold(init_arr, data, int(f[2:]))\n",
    "    else:\n",
    "        init_arr = hor_fold(init_arr, data, int(f[2:]))\n",
    "print(init_arr)"
   ]
  },
  {
   "cell_type": "code",
   "execution_count": 206,
   "id": "052a233b",
   "metadata": {},
   "outputs": [
    {
     "name": "stdout",
     "output_type": "stream",
     "text": [
      "███  ████ █  █ ███  █  █ ███  █  █ ███  \n",
      "█  █ █    █  █ █  █ █  █ █  █ █ █  █  █ \n",
      "█  █ ███  █  █ █  █ █  █ █  █ ██   █  █ \n",
      "███  █    █  █ ███  █  █ ███  █ █  ███  \n",
      "█ █  █    █  █ █    █  █ █    █ █  █ █  \n",
      "█  █ ████  ██  █     ██  █    █  █ █  █ \n"
     ]
    }
   ],
   "source": [
    "print(\"\\n\".join(\"\".join(\"█\" if init_arr[y][x] == 1 else \" \" for x in range(40)) for y in range(6)))"
   ]
  },
  {
   "cell_type": "code",
   "execution_count": 175,
   "id": "d8033c2b",
   "metadata": {},
   "outputs": [],
   "source": [
    "data = get_data('input.txt')\n",
    "folds = get_folds('input_f.txt')\n",
    "xmax, ymax = data.max(axis=0)\n",
    "init_arr = np.zeros((ymax+1, xmax+1))"
   ]
  },
  {
   "cell_type": "code",
   "execution_count": 205,
   "id": "8c009d2c",
   "metadata": {},
   "outputs": [
    {
     "name": "stdout",
     "output_type": "stream",
     "text": [
      "(6, 40)\n"
     ]
    }
   ],
   "source": [
    "print(init_arr.shape)"
   ]
  },
  {
   "cell_type": "code",
   "execution_count": 177,
   "id": "dd2044bb",
   "metadata": {},
   "outputs": [
    {
     "data": {
      "text/plain": [
       "['x=655',\n",
       " 'y=447',\n",
       " 'x=327',\n",
       " 'y=223',\n",
       " 'x=163',\n",
       " 'y=111',\n",
       " 'x=81',\n",
       " 'y=55',\n",
       " 'x=40',\n",
       " 'y=27',\n",
       " 'y=13',\n",
       " 'y=6']"
      ]
     },
     "execution_count": 177,
     "metadata": {},
     "output_type": "execute_result"
    }
   ],
   "source": [
    "folds"
   ]
  },
  {
   "cell_type": "code",
   "execution_count": 178,
   "id": "6f39d21f",
   "metadata": {},
   "outputs": [],
   "source": [
    "init_arr = hor_fold(init_arr, data, 655)"
   ]
  },
  {
   "cell_type": "code",
   "execution_count": 179,
   "id": "f73029b5",
   "metadata": {},
   "outputs": [
    {
     "name": "stdout",
     "output_type": "stream",
     "text": [
      "(894, 655)\n"
     ]
    }
   ],
   "source": [
    "print(init_arr.shape)"
   ]
  },
  {
   "cell_type": "code",
   "execution_count": 180,
   "id": "377f3fd1",
   "metadata": {},
   "outputs": [],
   "source": [
    "init_arr2 = vert_fold(init_arr, data, 447)"
   ]
  },
  {
   "cell_type": "code",
   "execution_count": 181,
   "id": "e570d362",
   "metadata": {},
   "outputs": [
    {
     "name": "stdout",
     "output_type": "stream",
     "text": [
      "(447, 655)\n"
     ]
    }
   ],
   "source": [
    "print(init_arr2.shape)"
   ]
  },
  {
   "cell_type": "code",
   "execution_count": 182,
   "id": "642c4033",
   "metadata": {},
   "outputs": [],
   "source": [
    "init_arr3 = hor_fold(init_arr2, data, 327)"
   ]
  },
  {
   "cell_type": "code",
   "execution_count": 183,
   "id": "65b2094a",
   "metadata": {},
   "outputs": [
    {
     "name": "stdout",
     "output_type": "stream",
     "text": [
      "(447, 327)\n"
     ]
    }
   ],
   "source": [
    "print(init_arr3.shape)"
   ]
  },
  {
   "cell_type": "code",
   "execution_count": 184,
   "id": "7b67bd56",
   "metadata": {},
   "outputs": [],
   "source": [
    "init_arr4 = vert_fold(init_arr3, data, 223)"
   ]
  }
 ],
 "metadata": {
  "kernelspec": {
   "display_name": "Python 3 (ipykernel)",
   "language": "python",
   "name": "python3"
  },
  "language_info": {
   "codemirror_mode": {
    "name": "ipython",
    "version": 3
   },
   "file_extension": ".py",
   "mimetype": "text/x-python",
   "name": "python",
   "nbconvert_exporter": "python",
   "pygments_lexer": "ipython3",
   "version": "3.7.7"
  }
 },
 "nbformat": 4,
 "nbformat_minor": 5
}
