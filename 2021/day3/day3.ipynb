{
 "cells": [
  {
   "cell_type": "code",
   "execution_count": 1,
   "id": "aed8f236",
   "metadata": {},
   "outputs": [],
   "source": [
    "with open('input1.txt') as f:\n",
    "    lines = f.readlines()"
   ]
  },
  {
   "cell_type": "code",
   "execution_count": 157,
   "id": "d2231386",
   "metadata": {},
   "outputs": [],
   "source": [
    "from array import *\n",
    "import numpy as np\n",
    "\n",
    "colsum = array('i', [0]*12)\n",
    "for line in lines:\n",
    "    for i in range(12):\n",
    "        colsum[i] += int(line[i])\n"
   ]
  },
  {
   "cell_type": "code",
   "execution_count": 28,
   "id": "5b363331",
   "metadata": {},
   "outputs": [],
   "source": [
    "data = np.array(lines)"
   ]
  },
  {
   "cell_type": "code",
   "execution_count": 26,
   "id": "cf039d6e",
   "metadata": {},
   "outputs": [
    {
     "name": "stdout",
     "output_type": "stream",
     "text": [
      "2498354\n"
     ]
    }
   ],
   "source": [
    "gamma = ''\n",
    "epsilon = ''\n",
    "for val in colsum:\n",
    "    if val > 500:\n",
    "        gamma += '1'\n",
    "        epsilon += '0'\n",
    "    else:\n",
    "        gamma += '0'\n",
    "        epsilon += '1'\n",
    "print(int(gamma, 2)*int(epsilon, 2))"
   ]
  },
  {
   "cell_type": "code",
   "execution_count": 143,
   "id": "a3894ff4",
   "metadata": {},
   "outputs": [
    {
     "data": {
      "text/plain": [
       "array('i', [512, 501, 498, 517, 479, 484, 484, 505, 486, 501, 491, 512])"
      ]
     },
     "execution_count": 143,
     "metadata": {},
     "output_type": "execute_result"
    }
   ],
   "source": [
    "colsum"
   ]
  },
  {
   "cell_type": "code",
   "execution_count": 191,
   "id": "e836d509",
   "metadata": {},
   "outputs": [],
   "source": [
    "def most_common_val(values, index):\n",
    "    tot = 0\n",
    "    for v in values:\n",
    "        tot += int(v[index])\n",
    "    if tot >= 500:\n",
    "        return '1'\n",
    "    else:\n",
    "        return '0'"
   ]
  },
  {
   "cell_type": "code",
   "execution_count": 145,
   "id": "30176722",
   "metadata": {},
   "outputs": [],
   "source": [
    "colsum_b = []"
   ]
  },
  {
   "cell_type": "code",
   "execution_count": 146,
   "id": "e7590063",
   "metadata": {},
   "outputs": [
    {
     "name": "stdout",
     "output_type": "stream",
     "text": [
      "[1, 1, 0, 1, 0, 0, 0, 1, 0, 1, 0, 1]\n"
     ]
    }
   ],
   "source": [
    "for v in colsum:\n",
    "    if v >= 500:\n",
    "        colsum_b.append(1)\n",
    "    else:\n",
    "        colsum_b.append(0)\n",
    "print(colsum_b)"
   ]
  },
  {
   "cell_type": "code",
   "execution_count": 147,
   "id": "ce8bae62",
   "metadata": {},
   "outputs": [],
   "source": [
    "colsum_b2 = []"
   ]
  },
  {
   "cell_type": "code",
   "execution_count": 148,
   "id": "611b19c1",
   "metadata": {},
   "outputs": [
    {
     "name": "stdout",
     "output_type": "stream",
     "text": [
      "[0, 0, 1, 0, 1, 1, 1, 0, 1, 0, 1, 0]\n"
     ]
    }
   ],
   "source": [
    "for v in colsum:\n",
    "    if v >= 501:\n",
    "        colsum_b2.append(0)\n",
    "    else:\n",
    "        colsum_b2.append(1)\n",
    "print(colsum_b2)"
   ]
  },
  {
   "cell_type": "code",
   "execution_count": 194,
   "id": "71c78389",
   "metadata": {},
   "outputs": [],
   "source": [
    "def remove_from_list(values, index, value):\n",
    "    vals = values.copy()\n",
    "    for v in vals:\n",
    "        if v[index] != value:\n",
    "            vals.remove(v)\n",
    "    return vals"
   ]
  },
  {
   "cell_type": "code",
   "execution_count": 195,
   "id": "135e58d0",
   "metadata": {},
   "outputs": [],
   "source": [
    "oxygen = lines.copy()\n",
    "count = 0\n",
    "\n",
    "for i in range(12):\n",
    "    mc = most_common_val(oxygen, i)\n",
    "    temp = remove_from_list(oxygen, i, mc)\n",
    "    if len(temp) == 0:\n",
    "        break\n",
    "    else:\n",
    "        oxygen = temp"
   ]
  },
  {
   "cell_type": "code",
   "execution_count": 196,
   "id": "e0f5d908",
   "metadata": {},
   "outputs": [
    {
     "data": {
      "text/plain": [
       "['100100110100\\n',\n",
       " '100000000001\\n',\n",
       " '100100101010\\n',\n",
       " '001000000000\\n',\n",
       " '110000000011\\n',\n",
       " '010101010001\\n']"
      ]
     },
     "execution_count": 196,
     "metadata": {},
     "output_type": "execute_result"
    }
   ],
   "source": [
    "oxygen"
   ]
  },
  {
   "cell_type": "code",
   "execution_count": 150,
   "id": "4f9cc0ae",
   "metadata": {},
   "outputs": [
    {
     "data": {
      "text/plain": [
       "159"
      ]
     },
     "execution_count": 150,
     "metadata": {},
     "output_type": "execute_result"
    }
   ],
   "source": [
    "most_similar_ind"
   ]
  },
  {
   "cell_type": "code",
   "execution_count": 151,
   "id": "01c4c986",
   "metadata": {},
   "outputs": [
    {
     "data": {
      "text/plain": [
       "'110100010111\\n'"
      ]
     },
     "execution_count": 151,
     "metadata": {},
     "output_type": "execute_result"
    }
   ],
   "source": [
    "most_similar_val"
   ]
  },
  {
   "cell_type": "code",
   "execution_count": 152,
   "id": "4eba4fb1",
   "metadata": {},
   "outputs": [],
   "source": [
    "most_similar_ind2 = 0\n",
    "most_similar_val2 = ''\n",
    "most_similar_count2 = 0\n",
    "count = 0\n",
    "for ind, line in enumerate(lines):\n",
    "    for x,y in enumerate(colsum_b2):\n",
    "        if line[x] == str(y):\n",
    "            count += 1\n",
    "        else:\n",
    "            #print(str(count) + ' ' + str(ind))\n",
    "            if count > most_similar_count2:\n",
    "                most_similar_ind2 = ind\n",
    "                most_similar_val2 = line\n",
    "                most_similar_count2 = count\n",
    "            count = 0\n",
    "            break"
   ]
  },
  {
   "cell_type": "code",
   "execution_count": 153,
   "id": "e1704aad",
   "metadata": {},
   "outputs": [
    {
     "data": {
      "text/plain": [
       "176"
      ]
     },
     "execution_count": 153,
     "metadata": {},
     "output_type": "execute_result"
    }
   ],
   "source": [
    "most_similar_ind2"
   ]
  },
  {
   "cell_type": "code",
   "execution_count": 154,
   "id": "b601d704",
   "metadata": {},
   "outputs": [
    {
     "data": {
      "text/plain": [
       "'001011101011\\n'"
      ]
     },
     "execution_count": 154,
     "metadata": {},
     "output_type": "execute_result"
    }
   ],
   "source": [
    "most_similar_val2"
   ]
  }
 ],
 "metadata": {
  "kernelspec": {
   "display_name": "Python 3 (ipykernel)",
   "language": "python",
   "name": "python3"
  },
  "language_info": {
   "codemirror_mode": {
    "name": "ipython",
    "version": 3
   },
   "file_extension": ".py",
   "mimetype": "text/x-python",
   "name": "python",
   "nbconvert_exporter": "python",
   "pygments_lexer": "ipython3",
   "version": "3.7.7"
  }
 },
 "nbformat": 4,
 "nbformat_minor": 5
}
