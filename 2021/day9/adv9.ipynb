{
 "cells": [
  {
   "cell_type": "code",
   "execution_count": 25,
   "id": "ba152a4f",
   "metadata": {},
   "outputs": [],
   "source": [
    "def get_data(fname):\n",
    "    arr = []\n",
    "    with open(fname) as f:\n",
    "        lines = f.readlines()\n",
    "        for line in lines:\n",
    "            arr.append([int(d) for d in str(line).rstrip()])\n",
    "        return arr"
   ]
  },
  {
   "cell_type": "raw",
   "id": "9368c90f",
   "metadata": {},
   "source": [
    "def check_all(arr):\n",
    "    risk = 0\n",
    "    for row_i, row_data in enumerate(arr):\n",
    "        for num_i, num in enumerate(row_data):\n",
    "            if num_i == 0:\n",
    "                risk += check_neigbours_l_edge(arr, row_i, num_i)\n",
    "            elif num_i == len(row_data)-1:\n",
    "                risk += check_neigbours_r_edge(arr, row_i, num_i)\n",
    "            else:\n",
    "                risk += check_neighbours_reg(arr, row_i, num_i)\n",
    "    return risk"
   ]
  },
  {
   "cell_type": "code",
   "execution_count": null,
   "id": "4a2ad726",
   "metadata": {},
   "outputs": [],
   "source": []
  },
  {
   "cell_type": "code",
   "execution_count": 52,
   "id": "3a3d2429",
   "metadata": {},
   "outputs": [],
   "source": [
    "def check_neighbours_reg(arr, row, ind):\n",
    "    if row == 0:\n",
    "        if (arr[row][ind] < arr[row][ind-1]\n",
    "        and arr[row][ind] < arr[row][ind+1]\n",
    "        and arr[row][ind] < arr[row+1][ind]):\n",
    "            return arr[row][ind] + 1\n",
    "        else:\n",
    "            return 0\n",
    "    if row == len(arr)-1:\n",
    "        if (arr[row][ind] < arr[row-1][ind]\n",
    "        and arr[row][ind] < arr[row][ind-1]\n",
    "        and arr[row][ind] < arr[row][ind+1]):\n",
    "            return arr[row][ind] + 1\n",
    "        else:\n",
    "            return 0\n",
    "    if (arr[row][ind] < arr[row-1][ind] \n",
    "        and arr[row][ind] < arr[row][ind+1] \n",
    "        and arr[row][ind] < arr[row+1][ind] \n",
    "        and arr[row][ind] < arr[row][ind-1]):\n",
    "            return arr[row][ind] + 1\n",
    "    return 0"
   ]
  },
  {
   "cell_type": "code",
   "execution_count": 53,
   "id": "0d8c9cb9",
   "metadata": {},
   "outputs": [],
   "source": [
    "def check_neigbours_l_edge(arr, row, ind):\n",
    "    if row == 0: \n",
    "        if (arr[row][ind] < arr[row][ind+1]\n",
    "        and arr[row][ind] < arr[row+1][ind]):\n",
    "            return arr[row][ind] + 1\n",
    "        else:\n",
    "            return 0\n",
    "    \n",
    "    if row == len(arr)-1:\n",
    "        if (arr[row][ind] < arr[row][ind+1]\n",
    "        and arr[row][ind] < arr[row-1][ind]):\n",
    "            return arr[row][ind] + 1\n",
    "        else:\n",
    "            return 0\n",
    "        \n",
    "    if (arr[row][ind] < arr[row-1][ind] \n",
    "        and arr[row][ind] < arr[row][ind+1] \n",
    "        and arr[row][ind] < arr[row+1][ind]):\n",
    "            return arr[row][ind] + 1\n",
    "    return 0"
   ]
  },
  {
   "cell_type": "code",
   "execution_count": 55,
   "id": "2443fec9",
   "metadata": {},
   "outputs": [],
   "source": [
    "def check_neigbours_r_edge(arr, row, ind):\n",
    "    if row == 0:\n",
    "        if (arr[row][ind] < arr[row][ind-1]\n",
    "        and arr[row][ind] < arr[row+1][ind]):\n",
    "            return arr[row][ind] + 1\n",
    "        else:\n",
    "            return 0\n",
    "    \n",
    "    if row == len(arr)-1:\n",
    "        if (arr[row][ind] < arr[row][ind-1]\n",
    "        and arr[row][ind] < arr[row-1][ind]):\n",
    "            return arr[row][ind] + 1\n",
    "        else:\n",
    "            return 0\n",
    "        \n",
    "    if (arr[row][ind] < arr[row-1][ind] \n",
    "        and arr[row][ind] < arr[row][ind-1] \n",
    "        and arr[row][ind] < arr[row+1][ind]):\n",
    "            return arr[row][ind] + 1\n",
    "    return 0"
   ]
  },
  {
   "cell_type": "code",
   "execution_count": 62,
   "id": "a45bd1b9",
   "metadata": {},
   "outputs": [],
   "source": [
    "def check_basin(indxs, arr):\n",
    "    for ind in indxs:\n",
    "        r, i = ind\n",
    "        "
   ]
  },
  {
   "cell_type": "code",
   "execution_count": 82,
   "id": "e85e12e5",
   "metadata": {},
   "outputs": [],
   "source": [
    "def checker(r, i, arr, tot):\n",
    "    if check_top(arr, r, i):\n",
    "        return tot+checker(r-1, i, arr, tot+1)\n",
    "    if check_bot(arr, r, i):\n",
    "        return tot+checker(r+1, i, arr, tot+1)\n",
    "    if check_right(arr, r, i):\n",
    "        return tot+checker(r, i+1, arr, tot+1)\n",
    "    if check_left(arr, r, i):\n",
    "        return tot+checker(r, i-1, arr, tot+1)\n",
    "    return tot"
   ]
  },
  {
   "cell_type": "code",
   "execution_count": 111,
   "id": "38a874c7",
   "metadata": {},
   "outputs": [],
   "source": [
    "def check_top(arr, r, i):\n",
    "    if r == 0:\n",
    "        return False\n",
    "    if arr[r-1][i] == 9:\n",
    "        return False\n",
    "    if arr[r][i] < arr[r-1][i]:\n",
    "        return True"
   ]
  },
  {
   "cell_type": "code",
   "execution_count": 114,
   "id": "2a9cd39e",
   "metadata": {},
   "outputs": [],
   "source": [
    "def check_bot(arr, r, i):\n",
    "    if r == len(arr)-1:\n",
    "        return False\n",
    "    if arr[r+1][i] == 9:\n",
    "        return False\n",
    "    if arr[r][i] < arr[r+1][i]:\n",
    "        return True"
   ]
  },
  {
   "cell_type": "code",
   "execution_count": 115,
   "id": "3c573c3e",
   "metadata": {},
   "outputs": [],
   "source": [
    "def check_left(arr, r, i):\n",
    "    if i == 0:\n",
    "        return False\n",
    "    if arr[r][i-1] == 9:\n",
    "        return False\n",
    "    if arr[r][i] < arr[r][i-1]:\n",
    "        return True"
   ]
  },
  {
   "cell_type": "code",
   "execution_count": 118,
   "id": "eb04d56c",
   "metadata": {},
   "outputs": [],
   "source": [
    "def check_right(arr, r, i):\n",
    "    if i == len(arr[r])-1:\n",
    "        return False\n",
    "    if arr[r][i+1] == 9:\n",
    "        return False\n",
    "    if arr[r][i] < arr[r][i+1]:\n",
    "        return True"
   ]
  },
  {
   "cell_type": "code",
   "execution_count": 73,
   "id": "ad6a3c0e",
   "metadata": {},
   "outputs": [
    {
     "name": "stdout",
     "output_type": "stream",
     "text": [
      "[(0, 1), (0, 9), (2, 2), (4, 6)]\n"
     ]
    }
   ],
   "source": [
    "smol_indexes = []\n",
    "def check_all(arr):\n",
    "    risk = 0\n",
    "    for row_i, row_data in enumerate(arr):\n",
    "        for num_i, num in enumerate(row_data):\n",
    "            if num_i == 0:\n",
    "                if check_neigbours_l_edge(arr, row_i, num_i) > 0:\n",
    "                    smol_indexes.append((row_i, num_i))\n",
    "            elif num_i == len(row_data)-1:\n",
    "                if check_neigbours_r_edge(arr, row_i, num_i) > 0:\n",
    "                    smol_indexes.append((row_i, num_i))\n",
    "            else:\n",
    "                if check_neighbours_reg(arr, row_i, num_i) > 0:\n",
    "                    smol_indexes.append((row_i, num_i))\n",
    "    return smol_indexes\n",
    "\n",
    "data = get_data('test.txt')\n",
    "\n",
    "risk = check_all(data)\n",
    "\n",
    "print(risk)"
   ]
  },
  {
   "cell_type": "code",
   "execution_count": 119,
   "id": "f6abf5ff",
   "metadata": {},
   "outputs": [
    {
     "name": "stdout",
     "output_type": "stream",
     "text": [
      "3\n"
     ]
    }
   ],
   "source": [
    "tot = checker(2, 2, data, 1)\n",
    "\n",
    "print(tot)"
   ]
  },
  {
   "cell_type": "code",
   "execution_count": 75,
   "id": "2c5fb433",
   "metadata": {},
   "outputs": [
    {
     "data": {
      "text/plain": [
       "[[2, 1, 9, 9, 9, 4, 3, 2, 1, 0],\n",
       " [3, 9, 8, 7, 8, 9, 4, 9, 2, 1],\n",
       " [9, 8, 5, 6, 7, 8, 9, 8, 9, 2],\n",
       " [8, 7, 6, 7, 8, 9, 6, 7, 8, 9],\n",
       " [9, 8, 9, 9, 9, 6, 5, 6, 7, 8]]"
      ]
     },
     "execution_count": 75,
     "metadata": {},
     "output_type": "execute_result"
    }
   ],
   "source": [
    "data"
   ]
  },
  {
   "cell_type": "code",
   "execution_count": 92,
   "id": "e8a130a4",
   "metadata": {},
   "outputs": [
    {
     "name": "stdout",
     "output_type": "stream",
     "text": [
      "Requirement already satisfied: scipy in c:\\users\\emil\\appdata\\local\\programs\\python\\python37\\lib\\site-packages (1.7.3)\n",
      "Requirement already satisfied: numpy<1.23.0,>=1.16.5 in c:\\users\\emil\\appdata\\local\\programs\\python\\python37\\lib\\site-packages (from scipy) (1.18.5)\n"
     ]
    }
   ],
   "source": [
    "import numpy as np\n",
    "\n",
    "import sys\n",
    "!{sys.executable} -m pip install scipy\n",
    "\n",
    "from scipy.ndimage import measurements\n",
    "from collections import Counter\n",
    "from functools import reduce"
   ]
  },
  {
   "cell_type": "code",
   "execution_count": 154,
   "id": "9b3d88ec",
   "metadata": {},
   "outputs": [],
   "source": [
    "with open(\"test.txt\") as f:\n",
    "    data = f.readlines()"
   ]
  },
  {
   "cell_type": "code",
   "execution_count": 155,
   "id": "7208a9a8",
   "metadata": {},
   "outputs": [],
   "source": [
    "data = [list(row.strip()) for row in data]\n",
    "data = [[int(num) for num in row] for row in data]"
   ]
  },
  {
   "cell_type": "code",
   "execution_count": 136,
   "id": "12d8170f",
   "metadata": {},
   "outputs": [],
   "source": [
    "data = [[int(num) for num in row] for row in data]"
   ]
  },
  {
   "cell_type": "code",
   "execution_count": 157,
   "id": "855edb16",
   "metadata": {},
   "outputs": [],
   "source": [
    "data_binary = [[1 if num < 9 else 0 for num in row] for row in data]"
   ]
  },
  {
   "cell_type": "code",
   "execution_count": 159,
   "id": "0e8cdf61",
   "metadata": {},
   "outputs": [
    {
     "data": {
      "text/plain": [
       "[[1, 1, 0, 0, 0, 1, 1, 1, 1, 1],\n",
       " [1, 0, 1, 1, 1, 0, 1, 0, 1, 1],\n",
       " [0, 1, 1, 1, 1, 1, 0, 1, 0, 1],\n",
       " [1, 1, 1, 1, 1, 0, 1, 1, 1, 0],\n",
       " [0, 1, 0, 0, 0, 1, 1, 1, 1, 1]]"
      ]
     },
     "execution_count": 159,
     "metadata": {},
     "output_type": "execute_result"
    }
   ],
   "source": [
    "data_binary"
   ]
  },
  {
   "cell_type": "code",
   "execution_count": 160,
   "id": "49ea853e",
   "metadata": {},
   "outputs": [],
   "source": [
    "basins, num_basins = measurements.label(data_binary)"
   ]
  },
  {
   "cell_type": "code",
   "execution_count": 126,
   "id": "2ba9fbc1",
   "metadata": {},
   "outputs": [
    {
     "data": {
      "text/plain": [
       "array([[1, 1, 0, 0, 0, 2, 2, 2, 2, 2],\n",
       "       [1, 0, 3, 3, 3, 0, 2, 0, 2, 2],\n",
       "       [0, 3, 3, 3, 3, 3, 0, 4, 0, 2],\n",
       "       [3, 3, 3, 3, 3, 0, 4, 4, 4, 0],\n",
       "       [0, 3, 0, 0, 0, 4, 4, 4, 4, 4]])"
      ]
     },
     "execution_count": 126,
     "metadata": {},
     "output_type": "execute_result"
    }
   ],
   "source": [
    "basins"
   ]
  },
  {
   "cell_type": "code",
   "execution_count": 140,
   "id": "c22dc253",
   "metadata": {},
   "outputs": [],
   "source": [
    "lgest = []\n",
    "for i in range (1, num_basins+1):\n",
    "    lgest.append(len(np.where(basins == i)[0]))"
   ]
  },
  {
   "cell_type": "code",
   "execution_count": 142,
   "id": "765dfbad",
   "metadata": {},
   "outputs": [
    {
     "data": {
      "text/plain": [
       "102"
      ]
     },
     "execution_count": 142,
     "metadata": {},
     "output_type": "execute_result"
    }
   ],
   "source": [
    "max(lgest)"
   ]
  },
  {
   "cell_type": "code",
   "execution_count": 147,
   "id": "3281a15a",
   "metadata": {},
   "outputs": [
    {
     "data": {
      "text/plain": [
       "102"
      ]
     },
     "execution_count": 147,
     "metadata": {},
     "output_type": "execute_result"
    }
   ],
   "source": [
    "lgest.index(102)\n",
    "lgest.pop(149)"
   ]
  },
  {
   "cell_type": "code",
   "execution_count": 148,
   "id": "adfa4b44",
   "metadata": {},
   "outputs": [
    {
     "data": {
      "text/plain": [
       "96"
      ]
     },
     "execution_count": 148,
     "metadata": {},
     "output_type": "execute_result"
    }
   ],
   "source": [
    "max(lgest)"
   ]
  },
  {
   "cell_type": "code",
   "execution_count": 151,
   "id": "c765aad7",
   "metadata": {},
   "outputs": [
    {
     "data": {
      "text/plain": [
       "96"
      ]
     },
     "execution_count": 151,
     "metadata": {},
     "output_type": "execute_result"
    }
   ],
   "source": [
    "lgest.index(96)\n",
    "lgest.pop(22)"
   ]
  },
  {
   "cell_type": "code",
   "execution_count": 152,
   "id": "7825b6bc",
   "metadata": {},
   "outputs": [
    {
     "data": {
      "text/plain": [
       "92"
      ]
     },
     "execution_count": 152,
     "metadata": {},
     "output_type": "execute_result"
    }
   ],
   "source": [
    "max(lgest)"
   ]
  },
  {
   "cell_type": "code",
   "execution_count": 153,
   "id": "a0ae0ebb",
   "metadata": {},
   "outputs": [
    {
     "data": {
      "text/plain": [
       "900864"
      ]
     },
     "execution_count": 153,
     "metadata": {},
     "output_type": "execute_result"
    }
   ],
   "source": [
    "102*96*92"
   ]
  }
 ],
 "metadata": {
  "kernelspec": {
   "display_name": "Python 3 (ipykernel)",
   "language": "python",
   "name": "python3"
  },
  "language_info": {
   "codemirror_mode": {
    "name": "ipython",
    "version": 3
   },
   "file_extension": ".py",
   "mimetype": "text/x-python",
   "name": "python",
   "nbconvert_exporter": "python",
   "pygments_lexer": "ipython3",
   "version": "3.7.7"
  }
 },
 "nbformat": 4,
 "nbformat_minor": 5
}
