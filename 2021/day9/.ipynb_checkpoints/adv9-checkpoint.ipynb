{
 "cells": [
  {
   "cell_type": "code",
   "execution_count": 25,
   "id": "41203e5f",
   "metadata": {},
   "outputs": [],
   "source": [
    "def get_data(fname):\n",
    "    arr = []\n",
    "    with open(fname) as f:\n",
    "        lines = f.readlines()\n",
    "        for line in lines:\n",
    "            arr.append([int(d) for d in str(line).rstrip()])\n",
    "        return arr"
   ]
  },
  {
   "cell_type": "raw",
   "id": "4898eda0",
   "metadata": {},
   "source": [
    "def check_all(arr):\n",
    "    risk = 0\n",
    "    for row_i, row_data in enumerate(arr):\n",
    "        for num_i, num in enumerate(row_data):\n",
    "            if num_i == 0:\n",
    "                risk += check_neigbours_l_edge(arr, row_i, num_i)\n",
    "            elif num_i == len(row_data)-1:\n",
    "                risk += check_neigbours_r_edge(arr, row_i, num_i)\n",
    "            else:\n",
    "                risk += check_neighbours_reg(arr, row_i, num_i)\n",
    "    return risk"
   ]
  },
  {
   "cell_type": "code",
   "execution_count": null,
   "id": "5db9fc93",
   "metadata": {},
   "outputs": [],
   "source": []
  },
  {
   "cell_type": "code",
   "execution_count": 52,
   "id": "cfbe80ec",
   "metadata": {},
   "outputs": [],
   "source": [
    "def check_neighbours_reg(arr, row, ind):\n",
    "    if row == 0:\n",
    "        if (arr[row][ind] < arr[row][ind-1]\n",
    "        and arr[row][ind] < arr[row][ind+1]\n",
    "        and arr[row][ind] < arr[row+1][ind]):\n",
    "            return arr[row][ind] + 1\n",
    "        else:\n",
    "            return 0\n",
    "    if row == len(arr)-1:\n",
    "        if (arr[row][ind] < arr[row-1][ind]\n",
    "        and arr[row][ind] < arr[row][ind-1]\n",
    "        and arr[row][ind] < arr[row][ind+1]):\n",
    "            return arr[row][ind] + 1\n",
    "        else:\n",
    "            return 0\n",
    "    if (arr[row][ind] < arr[row-1][ind] \n",
    "        and arr[row][ind] < arr[row][ind+1] \n",
    "        and arr[row][ind] < arr[row+1][ind] \n",
    "        and arr[row][ind] < arr[row][ind-1]):\n",
    "            return arr[row][ind] + 1\n",
    "    return 0"
   ]
  },
  {
   "cell_type": "code",
   "execution_count": 53,
   "id": "bd54edd0",
   "metadata": {},
   "outputs": [],
   "source": [
    "def check_neigbours_l_edge(arr, row, ind):\n",
    "    if row == 0: \n",
    "        if (arr[row][ind] < arr[row][ind+1]\n",
    "        and arr[row][ind] < arr[row+1][ind]):\n",
    "            return arr[row][ind] + 1\n",
    "        else:\n",
    "            return 0\n",
    "    \n",
    "    if row == len(arr)-1:\n",
    "        if (arr[row][ind] < arr[row][ind+1]\n",
    "        and arr[row][ind] < arr[row-1][ind]):\n",
    "            return arr[row][ind] + 1\n",
    "        else:\n",
    "            return 0\n",
    "        \n",
    "    if (arr[row][ind] < arr[row-1][ind] \n",
    "        and arr[row][ind] < arr[row][ind+1] \n",
    "        and arr[row][ind] < arr[row+1][ind]):\n",
    "            return arr[row][ind] + 1\n",
    "    return 0"
   ]
  },
  {
   "cell_type": "code",
   "execution_count": 55,
   "id": "fe2d591e",
   "metadata": {},
   "outputs": [],
   "source": [
    "def check_neigbours_r_edge(arr, row, ind):\n",
    "    if row == 0:\n",
    "        if (arr[row][ind] < arr[row][ind-1]\n",
    "        and arr[row][ind] < arr[row+1][ind]):\n",
    "            return arr[row][ind] + 1\n",
    "        else:\n",
    "            return 0\n",
    "    \n",
    "    if row == len(arr)-1:\n",
    "        if (arr[row][ind] < arr[row][ind-1]\n",
    "        and arr[row][ind] < arr[row-1][ind]):\n",
    "            return arr[row][ind] + 1\n",
    "        else:\n",
    "            return 0\n",
    "        \n",
    "    if (arr[row][ind] < arr[row-1][ind] \n",
    "        and arr[row][ind] < arr[row][ind-1] \n",
    "        and arr[row][ind] < arr[row+1][ind]):\n",
    "            return arr[row][ind] + 1\n",
    "    return 0"
   ]
  },
  {
   "cell_type": "code",
   "execution_count": 62,
   "id": "1ec1657c",
   "metadata": {},
   "outputs": [],
   "source": [
    "def check_basin(indxs, arr):\n",
    "    for ind in indxs:\n",
    "        r, i = ind\n",
    "        "
   ]
  },
  {
   "cell_type": "code",
   "execution_count": 68,
   "id": "942847ac",
   "metadata": {},
   "outputs": [],
   "source": [
    "def checker(r, i, arr, tot):\n",
    "    if check_top(arr, r, i):\n",
    "        checker(r-1, i, arr, tot+1)\n",
    "    if check_bot(arr, r, i):\n",
    "        checker(r+1, i, arr, tot+1)\n",
    "    if check_right(arr, r, i):\n",
    "        checker(r, i+1, arr, tot+1)\n",
    "    if check_left(arr, r, i):\n",
    "        checker(r, i-1, arr, tot+1)\n",
    "    return tot"
   ]
  },
  {
   "cell_type": "code",
   "execution_count": 69,
   "id": "9711db73",
   "metadata": {},
   "outputs": [],
   "source": [
    "def check_top(arr, r, i):\n",
    "    if r == 0:\n",
    "        return False\n",
    "    if arr[r][i] < arr[r-1][i]:\n",
    "        return True"
   ]
  },
  {
   "cell_type": "code",
   "execution_count": 70,
   "id": "7c3e0385",
   "metadata": {},
   "outputs": [],
   "source": [
    "def check_bot(arr, r, i):\n",
    "    if r == len(arr)-1:\n",
    "        return False\n",
    "    if arr[r][i] < arr[r+1][i]:\n",
    "        return True"
   ]
  },
  {
   "cell_type": "code",
   "execution_count": 71,
   "id": "97d33d75",
   "metadata": {},
   "outputs": [],
   "source": [
    "def check_left(arr, r, i):\n",
    "    if i == 0:\n",
    "        return False\n",
    "    if arr[r][i] < arr[r][i-1]:\n",
    "        return True"
   ]
  },
  {
   "cell_type": "code",
   "execution_count": 72,
   "id": "a8136990",
   "metadata": {},
   "outputs": [],
   "source": [
    "def check_right(arr, r, i):\n",
    "    if i == len(arr[r])-1:\n",
    "        return False\n",
    "    if arr[r][i] < arr[r][i+1]:\n",
    "        return True"
   ]
  },
  {
   "cell_type": "code",
   "execution_count": 73,
   "id": "b9782090",
   "metadata": {},
   "outputs": [
    {
     "name": "stdout",
     "output_type": "stream",
     "text": [
      "[(0, 1), (0, 9), (2, 2), (4, 6)]\n"
     ]
    }
   ],
   "source": [
    "smol_indexes = []\n",
    "def check_all(arr):\n",
    "    risk = 0\n",
    "    for row_i, row_data in enumerate(arr):\n",
    "        for num_i, num in enumerate(row_data):\n",
    "            if num_i == 0:\n",
    "                if check_neigbours_l_edge(arr, row_i, num_i) > 0:\n",
    "                    smol_indexes.append((row_i, num_i))\n",
    "            elif num_i == len(row_data)-1:\n",
    "                if check_neigbours_r_edge(arr, row_i, num_i) > 0:\n",
    "                    smol_indexes.append((row_i, num_i))\n",
    "            else:\n",
    "                if check_neighbours_reg(arr, row_i, num_i) > 0:\n",
    "                    smol_indexes.append((row_i, num_i))\n",
    "    return smol_indexes\n",
    "\n",
    "data = get_data('test.txt')\n",
    "\n",
    "risk = check_all(data)\n",
    "\n",
    "print(risk)"
   ]
  },
  {
   "cell_type": "code",
   "execution_count": 63,
   "id": "ee07b0ee",
   "metadata": {},
   "outputs": [
    {
     "name": "stdout",
     "output_type": "stream",
     "text": [
      "0\n",
      "1\n",
      "0\n",
      "9\n",
      "2\n",
      "2\n",
      "4\n",
      "6\n"
     ]
    }
   ],
   "source": [
    "check_basin(risk)"
   ]
  }
 ],
 "metadata": {
  "kernelspec": {
   "display_name": "Python 3 (ipykernel)",
   "language": "python",
   "name": "python3"
  },
  "language_info": {
   "codemirror_mode": {
    "name": "ipython",
    "version": 3
   },
   "file_extension": ".py",
   "mimetype": "text/x-python",
   "name": "python",
   "nbconvert_exporter": "python",
   "pygments_lexer": "ipython3",
   "version": "3.7.7"
  }
 },
 "nbformat": 4,
 "nbformat_minor": 5
}
