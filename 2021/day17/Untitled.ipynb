{
 "cells": [
  {
   "cell_type": "code",
   "execution_count": 162,
   "id": "a1579dd6",
   "metadata": {},
   "outputs": [],
   "source": [
    "def move_probe(pos, xvel, yvel):\n",
    "    pos[0] += xvel\n",
    "    pos[1] += yvel\n",
    "    return pos"
   ]
  },
  {
   "cell_type": "code",
   "execution_count": 165,
   "id": "c0a3a492",
   "metadata": {},
   "outputs": [
    {
     "name": "stdout",
     "output_type": "stream",
     "text": [
      "10296\n",
      "(14, 143)\n"
     ]
    }
   ],
   "source": [
    "target_x1 = 96\n",
    "target_x2 = 125\n",
    "\n",
    "target_y1 = -144\n",
    "target_y2 = -98\n",
    "\n",
    "cur_pos = [0,0]\n",
    "\n",
    "max_y = 0\n",
    "max_y_start = (0, 0)\n",
    "\n",
    "max_y_temp = 0\n",
    "found = 0\n",
    "for y in range(1000):\n",
    "    for x in range(1000):\n",
    "        xvel = x\n",
    "        yvel = y\n",
    "        max_y_start_temp = (x,y)\n",
    "        max_y_temp = max_y\n",
    "        while cur_pos[0] <= target_x2 and cur_pos[1] >= target_y1:\n",
    "            cur_pos = move_probe(cur_pos, xvel, yvel)\n",
    "            if cur_pos[1] > max_y_temp:\n",
    "                max_y_temp = cur_pos[1]\n",
    "            yvel -= 1\n",
    "            if xvel > 0:\n",
    "                xvel -= 1\n",
    "            elif xvel < 0:\n",
    "                xvel += 1\n",
    "            if target_x1 <= cur_pos[0] and target_x2 >= cur_pos[0]:\n",
    "                if target_y1 <= cur_pos[1] and target_y2 >= cur_pos[1]:\n",
    "                    found = 1\n",
    "                    break\n",
    "        if found == 1:\n",
    "            if max_y_temp > max_y:\n",
    "                max_y = max_y_temp\n",
    "                max_y_start = max_y_start_temp\n",
    "        cur_pos = [0,0]\n",
    "        found = 0\n",
    "        \n",
    "print(max_y)\n",
    "print(max_y_start)"
   ]
  },
  {
   "cell_type": "code",
   "execution_count": 169,
   "id": "ec06a359",
   "metadata": {},
   "outputs": [
    {
     "name": "stdout",
     "output_type": "stream",
     "text": [
      "2371\n"
     ]
    }
   ],
   "source": [
    "target_x1 = 96\n",
    "target_x2 = 125\n",
    "\n",
    "target_y1 = -144\n",
    "target_y2 = -98\n",
    "\n",
    "cur_pos = [0,0]\n",
    "\n",
    "pairs = []\n",
    "for y in range(-2000, 2000):\n",
    "    for x in range(2000):\n",
    "        xvel = x\n",
    "        yvel = y\n",
    "        while cur_pos[0] <= target_x2 and cur_pos[1] >= target_y1:\n",
    "            cur_pos = move_probe(cur_pos, xvel, yvel)\n",
    "            yvel -= 1\n",
    "            if xvel > 0:\n",
    "                xvel -= 1\n",
    "            elif xvel < 0:\n",
    "                xvel += 1\n",
    "            if target_x1 <= cur_pos[0] and target_x2 >= cur_pos[0]:\n",
    "                if target_y1 <= cur_pos[1] and target_y2 >= cur_pos[1]:\n",
    "                    pairs.append((x,y))\n",
    "                    break\n",
    "        cur_pos = [0,0]\n",
    "        found = 0\n",
    "        \n",
    "print(len(pairs))"
   ]
  }
 ],
 "metadata": {
  "kernelspec": {
   "display_name": "Python 3 (ipykernel)",
   "language": "python",
   "name": "python3"
  },
  "language_info": {
   "codemirror_mode": {
    "name": "ipython",
    "version": 3
   },
   "file_extension": ".py",
   "mimetype": "text/x-python",
   "name": "python",
   "nbconvert_exporter": "python",
   "pygments_lexer": "ipython3",
   "version": "3.7.7"
  }
 },
 "nbformat": 4,
 "nbformat_minor": 5
}
