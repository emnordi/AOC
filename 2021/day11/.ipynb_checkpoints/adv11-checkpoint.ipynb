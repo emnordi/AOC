{
 "cells": [
  {
   "cell_type": "code",
   "execution_count": 1,
   "id": "7e793713",
   "metadata": {},
   "outputs": [],
   "source": [
    "import numpy as np\n",
    "def get_data(fname):\n",
    "    return np.genfromtxt(fname, delimiter=1, dtype=int)"
   ]
  },
  {
   "cell_type": "code",
   "execution_count": 116,
   "id": "0070a32a",
   "metadata": {},
   "outputs": [],
   "source": [
    "def inc_neighbours(arr, r, i):\n",
    "    if r != 0:\n",
    "        if i != 0:\n",
    "            try:\n",
    "                arr[r-1][i-1] += 1\n",
    "            except IndexError: \n",
    "                pass\n",
    "\n",
    "        arr[r-1][i] += 1\n",
    "\n",
    "        try:\n",
    "            arr[r-1][i+1] += 1\n",
    "        except IndexError: \n",
    "            pass\n",
    "    if i != 0:\n",
    "        try:\n",
    "            arr[r][i-1] += 1\n",
    "        except IndexError: \n",
    "            pass\n",
    "        \n",
    "        try:\n",
    "            arr[r+1][i-1] += 1\n",
    "        except IndexError: \n",
    "            pass\n",
    "\n",
    "    try:\n",
    "        arr[r][i+1] += 1\n",
    "    except IndexError: \n",
    "        pass\n",
    "\n",
    "    try:\n",
    "        arr[r+1][i] += 1\n",
    "    except IndexError: \n",
    "        pass\n",
    "\n",
    "    try:\n",
    "        arr[r+1][i+1] += 1\n",
    "    except IndexError: \n",
    "        pass\n",
    "    return arr"
   ]
  },
  {
   "cell_type": "code",
   "execution_count": 14,
   "id": "b23cf598",
   "metadata": {},
   "outputs": [],
   "source": [
    "def reset_flashed(arr, flashed):\n",
    "    for r,i in flashed:\n",
    "        arr[r][i] = 0\n",
    "    return arr"
   ]
  },
  {
   "cell_type": "code",
   "execution_count": 142,
   "id": "611b2057",
   "metadata": {},
   "outputs": [
    {
     "name": "stdout",
     "output_type": "stream",
     "text": [
      "[[4 3 4 1 3 4 7 6 4 3]\n",
      " [5 4 7 7 7 2 8 4 5 1]\n",
      " [2 3 2 2 7 3 3 8 7 8]\n",
      " [5 4 5 3 7 6 2 5 5 6]\n",
      " [2 7 1 8 1 2 3 4 2 1]\n",
      " [4 2 3 7 8 8 6 1 1 5]\n",
      " [5 6 3 1 6 1 7 1 1 4]\n",
      " [2 2 1 7 6 6 7 2 2 7]\n",
      " [4 2 3 6 5 8 1 2 5 5]\n",
      " [4 4 8 2 6 2 7 6 4 1]]\n"
     ]
    }
   ],
   "source": [
    "data = get_data('input.txt')\n",
    "steps = 0\n",
    "flashes = 0\n",
    "\n",
    "print(data)"
   ]
  },
  {
   "cell_type": "code",
   "execution_count": 137,
   "id": "6c947952",
   "metadata": {},
   "outputs": [
    {
     "name": "stdout",
     "output_type": "stream",
     "text": [
      "all flash at step: 345\n",
      "[[11 12 13 13 13 13 13 13 13 12]\n",
      " [12 13 15 15 15 15 15 15 15 13]\n",
      " [13 15 18 18 18 18 18 18 18 15]\n",
      " [13 15 18 18 18 18 18 18 18 15]\n",
      " [13 15 18 18 18 18 18 18 18 15]\n",
      " [13 15 18 18 18 18 18 18 18 15]\n",
      " [13 15 18 18 18 18 18 18 18 15]\n",
      " [13 15 18 18 18 18 18 19 19 16]\n",
      " [13 15 18 18 18 18 18 19 17 16]\n",
      " [12 13 15 15 15 15 15 16 16 14]]\n",
      "5532\n"
     ]
    }
   ],
   "source": [
    "flashed = []\n",
    "cont = True\n",
    "#for s in range(steps):\n",
    "while(cont):\n",
    "    data = data +1\n",
    "    while(True):\n",
    "        rows, inds = np.where(data > 9)\n",
    "        if len(rows) == 100:\n",
    "            print('all flash at step: ' + str(steps))\n",
    "            cont = False\n",
    "            break\n",
    "        if len(rows) > 0:\n",
    "            for r, i in zip(rows, inds):\n",
    "                if (r,i) not in flashed:\n",
    "                    flashes += 1\n",
    "                    flashed.append((r,i))\n",
    "                    data = inc_neighbours(data, r, i)\n",
    "        if len(np.where(data > 9)[0]) == len(flashed):\n",
    "            break\n",
    "    data = reset_flashed(data, flashed)\n",
    "    flashed = []\n",
    "    steps += 1\n",
    "print(data)\n",
    "print(flashes)"
   ]
  },
  {
   "cell_type": "code",
   "execution_count": 143,
   "id": "ee498a00",
   "metadata": {},
   "outputs": [
    {
     "name": "stdout",
     "output_type": "stream",
     "text": [
      "[[0 0 0 0 0 0 0 0 0 0]\n",
      " [0 0 0 0 0 0 0 0 0 0]\n",
      " [0 0 0 0 0 0 0 0 0 0]\n",
      " [0 0 0 0 0 0 0 0 0 0]\n",
      " [0 0 0 0 0 0 0 0 0 0]\n",
      " [0 0 0 0 0 0 0 0 0 0]\n",
      " [0 0 0 0 0 0 0 0 0 0]\n",
      " [0 0 0 0 0 0 0 0 0 0]\n",
      " [0 0 0 0 0 0 0 0 0 0]\n",
      " [0 0 0 0 0 0 0 0 0 0]]\n",
      "5551\n"
     ]
    }
   ],
   "source": [
    "flashed = []\n",
    "steps = 344\n",
    "cont = True\n",
    "for s in range(steps):\n",
    "    steps += 1\n",
    "    data = data +1\n",
    "    while(True):\n",
    "        rows, inds = np.where(data > 9)\n",
    "        if len(rows) > 0:\n",
    "            for r, i in zip(rows, inds):\n",
    "                if (r,i) not in flashed:\n",
    "                    flashes += 1\n",
    "                    flashed.append((r,i))\n",
    "                    data = inc_neighbours(data, r, i)\n",
    "        if len(np.where(data > 9)[0]) == len(flashed):\n",
    "            break\n",
    "    data = reset_flashed(data, flashed)\n",
    "    flashed = []\n",
    "print(data)\n",
    "print(flashes)"
   ]
  }
 ],
 "metadata": {
  "kernelspec": {
   "display_name": "Python 3 (ipykernel)",
   "language": "python",
   "name": "python3"
  },
  "language_info": {
   "codemirror_mode": {
    "name": "ipython",
    "version": 3
   },
   "file_extension": ".py",
   "mimetype": "text/x-python",
   "name": "python",
   "nbconvert_exporter": "python",
   "pygments_lexer": "ipython3",
   "version": "3.7.7"
  }
 },
 "nbformat": 4,
 "nbformat_minor": 5
}
