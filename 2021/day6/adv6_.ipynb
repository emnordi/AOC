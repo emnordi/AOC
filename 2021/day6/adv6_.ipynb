{
 "cells": [
  {
   "cell_type": "code",
   "execution_count": 68,
   "id": "66ba5511",
   "metadata": {},
   "outputs": [],
   "source": [
    "import numpy as np\n",
    "import time"
   ]
  },
  {
   "cell_type": "code",
   "execution_count": 48,
   "id": "d5eb81ad",
   "metadata": {},
   "outputs": [],
   "source": [
    "def get_data(fname):\n",
    "    return np.loadtxt(fname, delimiter=',')\n",
    "\n",
    "def new_day(fish_l):\n",
    "    return fish_l-1"
   ]
  },
  {
   "cell_type": "code",
   "execution_count": 72,
   "id": "e8f7529c",
   "metadata": {},
   "outputs": [],
   "source": [
    "def go_days(f_list, days):\n",
    "    for i in range(days):\n",
    "        for fdx, fish in enumerate(f_list):\n",
    "            if fish == 0:\n",
    "                f_list = np.append(f_list, 9)\n",
    "                f_list[fdx] = 7\n",
    "        f_list = new_day(f_list)\n",
    "    return f_list"
   ]
  },
  {
   "cell_type": "code",
   "execution_count": 73,
   "id": "3d3754c5",
   "metadata": {},
   "outputs": [],
   "source": [
    "def go_days1(f_list, days):\n",
    "    for i in range(days):\n",
    "        ind = np.where(f_list == 0)\n",
    "        if len(ind[0]) > 0:\n",
    "            f_list[ind] = 7\n",
    "            for i in range(len(ind[0])):\n",
    "                f_list = np.append(f_list, 9)\n",
    "        f_list = new_day(f_list)\n",
    "    return f_list"
   ]
  },
  {
   "cell_type": "code",
   "execution_count": 81,
   "id": "86b80a27",
   "metadata": {},
   "outputs": [],
   "source": [
    "def go_days2(f_list, days):\n",
    "    for i in range(days):\n",
    "        ind = np.where(f_list == 0)\n",
    "        if len(ind[0]) > 0:\n",
    "            f_list[ind] = 7\n",
    "            f_list = np.concatenate((f_list,[9]*len(ind[0])))\n",
    "        f_list = new_day(f_list)\n",
    "    return f_list"
   ]
  },
  {
   "cell_type": "code",
   "execution_count": 77,
   "id": "44bac513",
   "metadata": {},
   "outputs": [
    {
     "name": "stdout",
     "output_type": "stream",
     "text": [
      "61892\n",
      "0.8462250232696533\n"
     ]
    }
   ],
   "source": [
    "fishies = get_data('input.txt')\n",
    "start = time.time()\n",
    "fishies = go_days(fishies, 60)\n",
    "print(len(fishies))\n",
    "end = time.time()\n",
    "print(end - start)"
   ]
  },
  {
   "cell_type": "code",
   "execution_count": 82,
   "id": "ef58b168",
   "metadata": {},
   "outputs": [
    {
     "ename": "MemoryError",
     "evalue": "Unable to allocate 34.8 GiB for an array with shape (4673292954,) and data type float64",
     "output_type": "error",
     "traceback": [
      "\u001b[1;31m---------------------------------------------------------------------------\u001b[0m",
      "\u001b[1;31mMemoryError\u001b[0m                               Traceback (most recent call last)",
      "\u001b[1;32m~\\AppData\\Local\\Temp/ipykernel_38288/1863425672.py\u001b[0m in \u001b[0;36m<module>\u001b[1;34m\u001b[0m\n\u001b[0;32m      1\u001b[0m \u001b[0mfishies\u001b[0m \u001b[1;33m=\u001b[0m \u001b[0mget_data\u001b[0m\u001b[1;33m(\u001b[0m\u001b[1;34m'input.txt'\u001b[0m\u001b[1;33m)\u001b[0m\u001b[1;33m\u001b[0m\u001b[1;33m\u001b[0m\u001b[0m\n\u001b[0;32m      2\u001b[0m \u001b[0mstart\u001b[0m \u001b[1;33m=\u001b[0m \u001b[0mtime\u001b[0m\u001b[1;33m.\u001b[0m\u001b[0mtime\u001b[0m\u001b[1;33m(\u001b[0m\u001b[1;33m)\u001b[0m\u001b[1;33m\u001b[0m\u001b[1;33m\u001b[0m\u001b[0m\n\u001b[1;32m----> 3\u001b[1;33m \u001b[0mfishies\u001b[0m \u001b[1;33m=\u001b[0m \u001b[0mgo_days2\u001b[0m\u001b[1;33m(\u001b[0m\u001b[0mfishies\u001b[0m\u001b[1;33m,\u001b[0m \u001b[1;36m256\u001b[0m\u001b[1;33m)\u001b[0m\u001b[1;33m\u001b[0m\u001b[1;33m\u001b[0m\u001b[0m\n\u001b[0m\u001b[0;32m      4\u001b[0m \u001b[0mprint\u001b[0m\u001b[1;33m(\u001b[0m\u001b[0mlen\u001b[0m\u001b[1;33m(\u001b[0m\u001b[0mfishies\u001b[0m\u001b[1;33m)\u001b[0m\u001b[1;33m)\u001b[0m\u001b[1;33m\u001b[0m\u001b[1;33m\u001b[0m\u001b[0m\n\u001b[0;32m      5\u001b[0m \u001b[0mend\u001b[0m \u001b[1;33m=\u001b[0m \u001b[0mtime\u001b[0m\u001b[1;33m.\u001b[0m\u001b[0mtime\u001b[0m\u001b[1;33m(\u001b[0m\u001b[1;33m)\u001b[0m\u001b[1;33m\u001b[0m\u001b[1;33m\u001b[0m\u001b[0m\n",
      "\u001b[1;32m~\\AppData\\Local\\Temp/ipykernel_38288/3227503401.py\u001b[0m in \u001b[0;36mgo_days2\u001b[1;34m(f_list, days)\u001b[0m\n\u001b[0;32m      4\u001b[0m         \u001b[1;32mif\u001b[0m \u001b[0mlen\u001b[0m\u001b[1;33m(\u001b[0m\u001b[0mind\u001b[0m\u001b[1;33m[\u001b[0m\u001b[1;36m0\u001b[0m\u001b[1;33m]\u001b[0m\u001b[1;33m)\u001b[0m \u001b[1;33m>\u001b[0m \u001b[1;36m0\u001b[0m\u001b[1;33m:\u001b[0m\u001b[1;33m\u001b[0m\u001b[1;33m\u001b[0m\u001b[0m\n\u001b[0;32m      5\u001b[0m             \u001b[0mf_list\u001b[0m\u001b[1;33m[\u001b[0m\u001b[0mind\u001b[0m\u001b[1;33m]\u001b[0m \u001b[1;33m=\u001b[0m \u001b[1;36m7\u001b[0m\u001b[1;33m\u001b[0m\u001b[1;33m\u001b[0m\u001b[0m\n\u001b[1;32m----> 6\u001b[1;33m             \u001b[0mf_list\u001b[0m \u001b[1;33m=\u001b[0m \u001b[0mnp\u001b[0m\u001b[1;33m.\u001b[0m\u001b[0mconcatenate\u001b[0m\u001b[1;33m(\u001b[0m\u001b[1;33m(\u001b[0m\u001b[0mf_list\u001b[0m\u001b[1;33m,\u001b[0m\u001b[1;33m[\u001b[0m\u001b[1;36m9\u001b[0m\u001b[1;33m]\u001b[0m\u001b[1;33m*\u001b[0m\u001b[0mlen\u001b[0m\u001b[1;33m(\u001b[0m\u001b[0mind\u001b[0m\u001b[1;33m[\u001b[0m\u001b[1;36m0\u001b[0m\u001b[1;33m]\u001b[0m\u001b[1;33m)\u001b[0m\u001b[1;33m)\u001b[0m\u001b[1;33m)\u001b[0m\u001b[1;33m\u001b[0m\u001b[1;33m\u001b[0m\u001b[0m\n\u001b[0m\u001b[0;32m      7\u001b[0m         \u001b[0mf_list\u001b[0m \u001b[1;33m=\u001b[0m \u001b[0mnew_day\u001b[0m\u001b[1;33m(\u001b[0m\u001b[0mf_list\u001b[0m\u001b[1;33m)\u001b[0m\u001b[1;33m\u001b[0m\u001b[1;33m\u001b[0m\u001b[0m\n\u001b[0;32m      8\u001b[0m     \u001b[1;32mreturn\u001b[0m \u001b[0mf_list\u001b[0m\u001b[1;33m\u001b[0m\u001b[1;33m\u001b[0m\u001b[0m\n",
      "\u001b[1;32m<__array_function__ internals>\u001b[0m in \u001b[0;36mconcatenate\u001b[1;34m(*args, **kwargs)\u001b[0m\n",
      "\u001b[1;31mMemoryError\u001b[0m: Unable to allocate 34.8 GiB for an array with shape (4673292954,) and data type float64"
     ]
    }
   ],
   "source": [
    "fishies = get_data('input.txt')\n",
    "start = time.time()\n",
    "fishies = go_days2(fishies, 256)\n",
    "print(len(fishies))\n",
    "end = time.time()\n",
    "print(end - start)"
   ]
  },
  {
   "cell_type": "code",
   "execution_count": 8,
   "id": "e224d605",
   "metadata": {},
   "outputs": [],
   "source": [
    "import time\n",
    "\n",
    "def get_data(fname):\n",
    "    with open(fname) as f:\n",
    "        lines = f.readline()\n",
    "        lines = lines.split(',')\n",
    "        for line in lines:\n",
    "            fish[int(line)] += 1\n",
    "\n",
    "fish = [0,0,0,0,0,0,0,0,0]\n",
    "lines = get_data('input.txt')\n",
    "days = 256"
   ]
  },
  {
   "cell_type": "code",
   "execution_count": 13,
   "id": "5e3171ce",
   "metadata": {},
   "outputs": [
    {
     "name": "stdout",
     "output_type": "stream",
     "text": [
      "Average time: 0.0002902388572692871\n"
     ]
    }
   ],
   "source": [
    "timez = []\n",
    "for i in range(100):\n",
    "    start = time.time()\n",
    "    for day in range(days):\n",
    "        temp_reset_fish = fish[0]\n",
    "        for i in range(1, 9):\n",
    "            fish[i-1] = fish[i]\n",
    "        fish[6] += temp_reset_fish\n",
    "        fish[8] = temp_reset_fish\n",
    "\n",
    "    end = time.time()\n",
    "    timez.append(end - start)\n",
    "    fish = [0,0,0,0,0,0,0,0,0]\n",
    "\n",
    "print(f'Average time: {sum(timez)/len(timez)}')\n",
    "\n",
    "#print(sum(fish))"
   ]
  }
 ],
 "metadata": {
  "kernelspec": {
   "display_name": "Python 3 (ipykernel)",
   "language": "python",
   "name": "python3"
  },
  "language_info": {
   "codemirror_mode": {
    "name": "ipython",
    "version": 3
   },
   "file_extension": ".py",
   "mimetype": "text/x-python",
   "name": "python",
   "nbconvert_exporter": "python",
   "pygments_lexer": "ipython3",
   "version": "3.7.7"
  }
 },
 "nbformat": 4,
 "nbformat_minor": 5
}
