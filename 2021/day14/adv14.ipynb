{
 "cells": [
  {
   "cell_type": "code",
   "execution_count": 131,
   "id": "2eb4d0f5",
   "metadata": {},
   "outputs": [],
   "source": [
    "import collections\n",
    "import time"
   ]
  },
  {
   "cell_type": "code",
   "execution_count": null,
   "id": "0c5b034b",
   "metadata": {},
   "outputs": [],
   "source": [
    "def get_data(fname):\n",
    "    d = {}\n",
    "    with open(fname) as f:\n",
    "        start_w = f.readline()\n",
    "        start_w = start_w.rstrip()\n",
    "        f.readline()\n",
    "        lines = f.readlines()\n",
    "        for line in lines:\n",
    "           (key, val) = line.rstrip().split(' -> ')\n",
    "           d[key] = val\n",
    "    return (start_w, d)"
   ]
  },
  {
   "cell_type": "code",
   "execution_count": 136,
   "id": "73b8f584",
   "metadata": {},
   "outputs": [],
   "source": [
    "def get_data2(fname):\n",
    "    d = {}\n",
    "    ps = {}\n",
    "    with open(fname) as f:\n",
    "        start_w = f.readline()\n",
    "        start_w = start_w.rstrip()\n",
    "        for i in range(0, len(start_w)-1, 1):\n",
    "            ps[start_w[i:i+2]] = 1\n",
    "        f.readline()\n",
    "        lines = f.readlines()\n",
    "        for line in lines:\n",
    "           (key, val) = line.rstrip().split(' -> ')\n",
    "           d[key] = val\n",
    "    return (ps, d)"
   ]
  },
  {
   "cell_type": "code",
   "execution_count": 238,
   "id": "4b2147dd",
   "metadata": {},
   "outputs": [
    {
     "name": "stdout",
     "output_type": "stream",
     "text": [
      "0\n",
      "1\n",
      "2\n",
      "3\n",
      "4\n",
      "5\n",
      "6\n",
      "7\n",
      "8\n",
      "9\n",
      "0.010509252548217773\n"
     ]
    }
   ],
   "source": [
    "start = time.time()\n",
    "(in_word, w_dict) = get_data('input.txt')\n",
    "steps = 10\n",
    "for s in range(steps):\n",
    "    print(s)\n",
    "    w = ''\n",
    "    for i in range(0, len(in_word)-1, 1):\n",
    "        ins_char = w_dict[in_word[i:i+2]]\n",
    "        w += in_word[i] + ins_char\n",
    "    w += in_word[len(in_word)-1]\n",
    "    in_word = w\n",
    "end = time.time()\n",
    "print(end - start)"
   ]
  },
  {
   "cell_type": "code",
   "execution_count": 242,
   "id": "73148c81",
   "metadata": {},
   "outputs": [
    {
     "name": "stdout",
     "output_type": "stream",
     "text": [
      "{'PS': 1, 'SV': 1, 'VV': 1, 'VK': 1, 'KK': 1, 'KC': 1, 'CN': 1, 'NB': 1, 'BP': 1, 'PN': 1, 'BB': 1, 'BH': 1, 'HN': 1, 'NS': 1, 'SF': 1, 'FK': 1, 'KB': 1, 'BO': 1}\n",
      "0.0030031204223632812\n"
     ]
    }
   ],
   "source": [
    "pairs = {}\n",
    "start = time.time()\n",
    "(pairs, w_dict) = get_data2('input.txt')\n",
    "print(pairs)\n",
    "pairs2 = {}\n",
    "pps = list(pairs.keys())\n",
    "steps = 40\n",
    "for s in range(steps):\n",
    "    pairs2 = {}\n",
    "    for x in pps:\n",
    "        nc = w_dict[x]\n",
    "        pairs2[x[0]+nc] = pairs2.get(x[0]+nc, 0) + pairs[x]\n",
    "        pairs2[nc+x[1]] = pairs2.get(nc+x[1], 0) + pairs[x]\n",
    "    pps = list(pairs2.keys())\n",
    "    pairs = pairs2\n",
    "end = time.time()\n",
    "print(end - start)"
   ]
  },
  {
   "cell_type": "code",
   "execution_count": 243,
   "id": "3d0fdfbe",
   "metadata": {},
   "outputs": [],
   "source": [
    "result = {}\n",
    "for key in pairs2.keys():\n",
    "    if key[0] not in result.keys():\n",
    "        result[key[0]] = 0\n",
    "    if key[1] not in result.keys():\n",
    "        result[key[1]] = 0\n",
    "    result[key[0]] += pairs2[key]/2\n",
    "    result[key[1]] += pairs2[key]/2"
   ]
  },
  {
   "cell_type": "code",
   "execution_count": 244,
   "id": "800770d9",
   "metadata": {},
   "outputs": [
    {
     "name": "stdout",
     "output_type": "stream",
     "text": [
      "3605805746074.5\n"
     ]
    }
   ],
   "source": [
    "print(max(result.values()) - min(result.values()))"
   ]
  },
  {
   "cell_type": "code",
   "execution_count": 226,
   "id": "cfa45aff",
   "metadata": {},
   "outputs": [
    {
     "name": "stdout",
     "output_type": "stream",
     "text": [
      "4056258043747.0\n"
     ]
    }
   ],
   "source": [
    "print(max(result.values()))"
   ]
  },
  {
   "cell_type": "code",
   "execution_count": 228,
   "id": "069c00fb",
   "metadata": {},
   "outputs": [
    {
     "data": {
      "text/plain": [
       "3605805746074"
      ]
     },
     "execution_count": 228,
     "metadata": {},
     "output_type": "execute_result"
    }
   ],
   "source": [
    "4056258043747-450452297673"
   ]
  },
  {
   "cell_type": "code",
   "execution_count": 227,
   "id": "9efbf5e2",
   "metadata": {},
   "outputs": [
    {
     "name": "stdout",
     "output_type": "stream",
     "text": [
      "450452297672.5\n"
     ]
    }
   ],
   "source": [
    "print(min(result.values()))"
   ]
  },
  {
   "cell_type": "code",
   "execution_count": 168,
   "id": "e29d21b1",
   "metadata": {},
   "outputs": [],
   "source": [
    "letters = ''.join(set(''.join(pairs2.keys())))"
   ]
  },
  {
   "cell_type": "code",
   "execution_count": 169,
   "id": "460aa221",
   "metadata": {},
   "outputs": [],
   "source": [
    "wc_d = {}\n",
    "for l in letters:\n",
    "    for i,n in enumerate(list(pairs2.keys())):\n",
    "        if l in n:\n",
    "            wc_d[l] = wc_d.get(l, 0) + pairs2.get(n)"
   ]
  },
  {
   "cell_type": "code",
   "execution_count": 170,
   "id": "9e280ec3",
   "metadata": {},
   "outputs": [
    {
     "data": {
      "text/plain": [
       "{'H': 1, 'N': 4, 'B': 2, 'C': 4}"
      ]
     },
     "execution_count": 170,
     "metadata": {},
     "output_type": "execute_result"
    }
   ],
   "source": [
    "wc_d"
   ]
  },
  {
   "cell_type": "code",
   "execution_count": 239,
   "id": "beda4bb3",
   "metadata": {},
   "outputs": [],
   "source": [
    "most_common = collections.Counter(w).most_common(1)[0]\n",
    "least_common = collections.Counter(w).most_common()[-1]"
   ]
  },
  {
   "cell_type": "code",
   "execution_count": 241,
   "id": "f5cfc4bd",
   "metadata": {},
   "outputs": [
    {
     "data": {
      "text/plain": [
       "[('F', 3098),\n",
       " ('H', 3092),\n",
       " ('K', 2467),\n",
       " ('P', 2201),\n",
       " ('C', 2181),\n",
       " ('S', 1699),\n",
       " ('B', 1492),\n",
       " ('N', 1491),\n",
       " ('V', 1222),\n",
       " ('O', 514)]"
      ]
     },
     "execution_count": 241,
     "metadata": {},
     "output_type": "execute_result"
    }
   ],
   "source": [
    "collections.Counter(w).most_common()"
   ]
  },
  {
   "cell_type": "code",
   "execution_count": 240,
   "id": "11e7326a",
   "metadata": {},
   "outputs": [
    {
     "name": "stdout",
     "output_type": "stream",
     "text": [
      "2584\n"
     ]
    }
   ],
   "source": [
    "print(most_common[1]-least_common[1])"
   ]
  }
 ],
 "metadata": {
  "kernelspec": {
   "display_name": "Python 3 (ipykernel)",
   "language": "python",
   "name": "python3"
  },
  "language_info": {
   "codemirror_mode": {
    "name": "ipython",
    "version": 3
   },
   "file_extension": ".py",
   "mimetype": "text/x-python",
   "name": "python",
   "nbconvert_exporter": "python",
   "pygments_lexer": "ipython3",
   "version": "3.7.7"
  }
 },
 "nbformat": 4,
 "nbformat_minor": 5
}
