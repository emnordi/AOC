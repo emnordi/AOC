{
 "cells": [
  {
   "cell_type": "code",
   "execution_count": 64,
   "id": "01f4a995",
   "metadata": {},
   "outputs": [],
   "source": [
    "import numpy as np\n",
    "import time\n",
    "from collections import defaultdict"
   ]
  },
  {
   "cell_type": "code",
   "execution_count": 66,
   "id": "91d257fd",
   "metadata": {},
   "outputs": [],
   "source": [
    "def cube_vol(b):\n",
    "    x1, x2 = b[0]\n",
    "    y1, y2 = b[1]\n",
    "    z1, z2 = b[2]\n",
    "    return (abs(x2 - x1) + 1) * (abs(y2 - y1) + 1) * (abs(z2 - z1) + 1)"
   ]
  },
  {
   "cell_type": "code",
   "execution_count": 54,
   "id": "abf21606",
   "metadata": {},
   "outputs": [],
   "source": [
    "def get_data(fname):\n",
    "    arr = []\n",
    "    with open(fname) as f:\n",
    "        lines = f.readlines() \n",
    "        for l in lines:\n",
    "            status, line = l.rstrip().split(' ')\n",
    "            if status == 'on':\n",
    "                status = 1\n",
    "            else:\n",
    "                status = 0\n",
    "            line = line.split(',')\n",
    "            arr.append((status, (tuple(list(map(int, line[0][2:].split('..')))),\n",
    "                                       tuple(list(map(int, line[1][2:].split('..')))),\n",
    "                                       tuple(list(map(int, line[2][2:].split('..')))))))\n",
    "    return arr"
   ]
  },
  {
   "cell_type": "code",
   "execution_count": 28,
   "id": "fe80b04c",
   "metadata": {},
   "outputs": [],
   "source": [
    "def get_min_max(dat):\n",
    "    min_x = int(dat[0][1][0])\n",
    "    max_x = int(dat[0][1][1])\n",
    "    min_y = int(dat[0][2][0])\n",
    "    max_y = int(dat[0][2][1])\n",
    "    min_z = int(dat[0][3][0])\n",
    "    max_z = int(dat[0][3][1])\n",
    "    for d in dat[1:]:\n",
    "        x1 = int(d[1][0])\n",
    "        x2 = int(d[1][1])\n",
    "        y1 = int(d[2][0])\n",
    "        y2 = int(d[2][1])\n",
    "        z1 = int(d[3][0])\n",
    "        z2 = int(d[3][1])\n",
    "        if x1 < min_x:\n",
    "            min_x = x1\n",
    "        if x2 > max_x:\n",
    "            max_x = x2\n",
    "        if y1 < min_y:\n",
    "            min_y = y1\n",
    "        if y2 > max_y:\n",
    "            max_y = y2\n",
    "        if z1 < min_z:\n",
    "            min_z = z1\n",
    "        if z2 > max_z:\n",
    "            max_z = z2\n",
    "    return min_x, max_x, min_y, max_y, min_z, max_z"
   ]
  },
  {
   "cell_type": "code",
   "execution_count": 7,
   "id": "6c7fdbba",
   "metadata": {},
   "outputs": [],
   "source": [
    "data = get_data('input.txt')"
   ]
  },
  {
   "cell_type": "code",
   "execution_count": 30,
   "id": "91db75a4",
   "metadata": {},
   "outputs": [],
   "source": [
    "min_x, max_x, min_y, max_y, min_z, max_z = get_min_max(data)"
   ]
  },
  {
   "cell_type": "code",
   "execution_count": 42,
   "id": "e7282ee6",
   "metadata": {},
   "outputs": [
    {
     "name": "stdout",
     "output_type": "stream",
     "text": [
      "-98592\n",
      "196691\n",
      "-93976\n",
      "190409\n",
      "-97578\n",
      "191754\n"
     ]
    }
   ],
   "source": [
    "print(min_x)\n",
    "print(max_x + abs(min_x))\n",
    "print(min_y)\n",
    "print(max_y + abs(min_y))\n",
    "print(min_z)\n",
    "print(max_z + abs(min_y))"
   ]
  },
  {
   "cell_type": "code",
   "execution_count": 70,
   "id": "04565c22",
   "metadata": {},
   "outputs": [
    {
     "name": "stdout",
     "output_type": "stream",
     "text": [
      "time: 0.004015445709228516\n"
     ]
    },
    {
     "data": {
      "text/plain": [
       "610196"
      ]
     },
     "execution_count": 70,
     "metadata": {},
     "output_type": "execute_result"
    }
   ],
   "source": [
    "data = get_data('input.txt')\n",
    "cuboids = np.zeros((101, 101, 101))\n",
    "t0 = time.time()\n",
    "for ind, d in enumerate(data):\n",
    "    status, bounds = d\n",
    "    x1, x2 = bounds[0]\n",
    "    y1, y2 = bounds[1]\n",
    "    z1, z2 = bounds[2]\n",
    "    \n",
    "    x1 += 50\n",
    "    x2 += 50\n",
    "    y1 += 50\n",
    "    y2 += 50\n",
    "    z1 += 50\n",
    "    z2 += 50\n",
    "\n",
    "    if x1 > 100:\n",
    "        continue\n",
    "        \n",
    "    if y1 > 100:\n",
    "        continue\n",
    "        \n",
    "    if z1 > 100:\n",
    "        continue\n",
    "    \n",
    "    if x1 <= 0:\n",
    "        x1 = 0\n",
    "        if x2 < 0:\n",
    "            continue\n",
    "        if x2 > 100:\n",
    "            x2 = 100\n",
    "        \n",
    "    if y1 <= 0:\n",
    "        y1 = 0\n",
    "        if y2 < 0:\n",
    "            continue\n",
    "        if y2 > 100:\n",
    "            y2 = 100\n",
    "        \n",
    "    if z1 <= 0 and z2 >= 0:\n",
    "        z1 = 0\n",
    "        if z2 < 0:\n",
    "            continue\n",
    "        if z2 > 100:\n",
    "            z2 = 100\n",
    "    cuboids[x1:x2+1,y1:y2+1, z1:z2+1] = d[0]\n",
    "t1 = time.time()\n",
    "total = t1-t0\n",
    "print(f'time: {total}')\n",
    "len(np.where(cuboids == 1)[0])"
   ]
  },
  {
   "cell_type": "code",
   "execution_count": 62,
   "id": "2b876612",
   "metadata": {},
   "outputs": [],
   "source": [
    "def overlaps(b1, b2):\n",
    "    ans = []\n",
    "    for n1, n2 in zip(b1, b2):\n",
    "        if n1[1] < n2[0] or n2[1] < n1[0]:\n",
    "            return None\n",
    "        bounds = (max(n1[0], n2[0]), min(n1[1], n2[1]))\n",
    "        ans.append(bounds)\n",
    "    return tuple(ans)"
   ]
  },
  {
   "cell_type": "code",
   "execution_count": 61,
   "id": "950c9f7c",
   "metadata": {},
   "outputs": [],
   "source": [
    "def count(steps):\n",
    "    counts = defaultdict(int)\n",
    "    for s in steps:\n",
    "        switch, bounds = s\n",
    "        updates = defaultdict(int)\n",
    "        keys = set(counts.keys())\n",
    "        for cube in keys:\n",
    "            overlapping = overlaps(bounds, cube)\n",
    "            if not overlapping:\n",
    "                continue\n",
    "            updates[overlapping] -= counts[cube]\n",
    "        if switch == 1:\n",
    "            updates[bounds] += 1\n",
    "        for c in updates:\n",
    "            counts[c] += updates[c]\n",
    "    return counts"
   ]
  },
  {
   "cell_type": "code",
   "execution_count": 57,
   "id": "29600786",
   "metadata": {},
   "outputs": [],
   "source": [
    "data = get_data('input.txt')"
   ]
  },
  {
   "cell_type": "code",
   "execution_count": 71,
   "id": "f182df0a",
   "metadata": {},
   "outputs": [
    {
     "name": "stdout",
     "output_type": "stream",
     "text": [
      "Part 2: 1282401587270826\n"
     ]
    }
   ],
   "source": [
    "counts = count(data)\n",
    "p2 = 0\n",
    "for cube in counts:\n",
    "    p2 += cube_vol(cube) * counts[cube]\n",
    "print(f\"Part 2: {p2}\")"
   ]
  }
 ],
 "metadata": {
  "kernelspec": {
   "display_name": "Python 3 (ipykernel)",
   "language": "python",
   "name": "python3"
  },
  "language_info": {
   "codemirror_mode": {
    "name": "ipython",
    "version": 3
   },
   "file_extension": ".py",
   "mimetype": "text/x-python",
   "name": "python",
   "nbconvert_exporter": "python",
   "pygments_lexer": "ipython3",
   "version": "3.10.1"
  }
 },
 "nbformat": 4,
 "nbformat_minor": 5
}
