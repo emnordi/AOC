{
 "cells": [
  {
   "cell_type": "code",
   "execution_count": 137,
   "id": "a83e37aa",
   "metadata": {},
   "outputs": [],
   "source": [
    "def get_graph(fname):\n",
    "    graph = {}\n",
    "    with open(fname) as f:\n",
    "        lines = f.readlines()\n",
    "        for line in lines:\n",
    "            a,b = line.rstrip().split('-')\n",
    "            if b != 'start':\n",
    "                graph.setdefault(a,[]).append(b)\n",
    "            if a != 'start':\n",
    "                graph.setdefault(b,[]).append(a)\n",
    "    return graph"
   ]
  },
  {
   "cell_type": "code",
   "execution_count": 174,
   "id": "1d455561",
   "metadata": {},
   "outputs": [],
   "source": [
    "full_paths = []\n",
    "def go_cave(visited, cur):\n",
    "    visited.append(cur)\n",
    "    v2 = visited.copy()\n",
    "    for el in graph_elements[cur]:\n",
    "        if el == 'end':\n",
    "            visited.append(el)\n",
    "            #print(visited)\n",
    "            return [visited]\n",
    "        else:\n",
    "            if (el.islower() and el not in visited) or el.isupper():    \n",
    "                fp = go_cave(visited, el)\n",
    "                if fp:\n",
    "                    full_paths.append(fp)\n",
    "                visited = v2"
   ]
  },
  {
   "cell_type": "code",
   "execution_count": 175,
   "id": "31f40a02",
   "metadata": {},
   "outputs": [],
   "source": [
    "graph_elements = get_graph('input.txt')"
   ]
  },
  {
   "cell_type": "code",
   "execution_count": 150,
   "id": "307e761f",
   "metadata": {},
   "outputs": [
    {
     "data": {
      "text/plain": [
       "{'start': ['A', 'b'],\n",
       " 'A': ['c', 'b', 'end'],\n",
       " 'c': ['A'],\n",
       " 'b': ['A', 'd', 'end'],\n",
       " 'd': ['b'],\n",
       " 'end': ['A', 'b']}"
      ]
     },
     "execution_count": 150,
     "metadata": {},
     "output_type": "execute_result"
    }
   ],
   "source": [
    "graph_elements"
   ]
  },
  {
   "cell_type": "code",
   "execution_count": 176,
   "id": "fd369c29",
   "metadata": {},
   "outputs": [],
   "source": [
    "go_cave([], 'start')"
   ]
  },
  {
   "cell_type": "code",
   "execution_count": 177,
   "id": "7f3349c5",
   "metadata": {},
   "outputs": [
    {
     "name": "stdout",
     "output_type": "stream",
     "text": [
      "116\n"
     ]
    }
   ],
   "source": [
    "print(len(full_paths))"
   ]
  },
  {
   "cell_type": "code",
   "execution_count": 173,
   "id": "98aedf9b",
   "metadata": {},
   "outputs": [
    {
     "name": "stdout",
     "output_type": "stream",
     "text": [
      "Solution 1: 5920\n",
      "Solution 2: 155477\n"
     ]
    }
   ],
   "source": [
    "from typing import Set\n",
    "from networkx import Graph\n",
    "\n",
    "def path_count(current:str,target:str,seen:Set[str],\n",
    "               graph:Graph,doubled_used:bool) -> int:\n",
    "    \"\"\"Count the paths through the cave system\"\"\"\n",
    "\n",
    "    if current == target:        \n",
    "        return 1\n",
    "    seen = seen if current.isupper() else seen | {current}\n",
    "\n",
    "    count = 0\n",
    "    for neighbor in graph[current]:\n",
    "        if neighbor in seen and not doubled_used and neighbor != 'start':\n",
    "            count += path_count(neighbor,target,seen,graph,True)\n",
    "        elif neighbor not in seen:\n",
    "            count += path_count(neighbor,target,seen,graph,doubled_used)\n",
    "    return count\n",
    "\n",
    "graph = Graph()\n",
    "with open('input.txt') as f:\n",
    "    lines = f.read().strip().split()\n",
    "    edges = [line.strip().split('-') for line in lines]\n",
    "    graph.add_edges_from(edges)\n",
    "\n",
    "print('Solution 1:', path_count('start', 'end',{'start'}, graph, doubled_used=True))\n",
    "print('Solution 2:', path_count('start', 'end', {'start'}, graph, doubled_used=False))"
   ]
  },
  {
   "cell_type": "code",
   "execution_count": 172,
   "id": "279ba907",
   "metadata": {},
   "outputs": [
    {
     "name": "stdout",
     "output_type": "stream",
     "text": [
      "Collecting networkx\n",
      "  Downloading networkx-2.6.3-py3-none-any.whl (1.9 MB)\n",
      "Installing collected packages: networkx\n",
      "Successfully installed networkx-2.6.3\n"
     ]
    }
   ],
   "source": [
    "!pip install networkx"
   ]
  }
 ],
 "metadata": {
  "kernelspec": {
   "display_name": "Python 3 (ipykernel)",
   "language": "python",
   "name": "python3"
  },
  "language_info": {
   "codemirror_mode": {
    "name": "ipython",
    "version": 3
   },
   "file_extension": ".py",
   "mimetype": "text/x-python",
   "name": "python",
   "nbconvert_exporter": "python",
   "pygments_lexer": "ipython3",
   "version": "3.7.7"
  }
 },
 "nbformat": 4,
 "nbformat_minor": 5
}
