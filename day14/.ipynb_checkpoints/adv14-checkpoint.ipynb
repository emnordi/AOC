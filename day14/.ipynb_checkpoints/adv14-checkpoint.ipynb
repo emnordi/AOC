{
 "cells": [
  {
   "cell_type": "code",
   "execution_count": 108,
   "id": "77874bdf",
   "metadata": {},
   "outputs": [],
   "source": [
    "import collections"
   ]
  },
  {
   "cell_type": "code",
   "execution_count": 62,
   "id": "7108fb83",
   "metadata": {},
   "outputs": [],
   "source": [
    "def get_data(fname):\n",
    "    d = {}\n",
    "    with open(fname) as f:\n",
    "        start_w = f.readline()\n",
    "        start_w = start_w.rstrip()\n",
    "        f.readline()\n",
    "        lines = f.readlines()\n",
    "        for line in lines:\n",
    "           (key, val) = line.rstrip().split(' -> ')\n",
    "           d[key] = val\n",
    "    return (start_w, d)"
   ]
  },
  {
   "cell_type": "code",
   "execution_count": 105,
   "id": "007cb9c6",
   "metadata": {},
   "outputs": [],
   "source": [
    "(in_word, w_dict) = get_data('test.txt')\n",
    "steps = 4\n",
    "for s in range(steps):\n",
    "    w = ''\n",
    "    for i in range(0, len(in_word)-1, 1):\n",
    "        ins_char = w_dict.get(in_word[i:i+2], 0)\n",
    "        if ins_char != 0:\n",
    "            w += in_word[i] + ins_char\n",
    "        else:\n",
    "            w += in_word[i]\n",
    "    w += in_word[len(in_word)-1]\n",
    "    in_word = w"
   ]
  },
  {
   "cell_type": "code",
   "execution_count": 112,
   "id": "f2c7113e",
   "metadata": {},
   "outputs": [],
   "source": [
    "most_common = collections.Counter(w).most_common(1)[0]\n",
    "least_common = collections.Counter(w).most_common()[-1]"
   ]
  },
  {
   "cell_type": "markdown",
   "id": "e215f02f",
   "metadata": {},
   "source": [
    "most_common"
   ]
  },
  {
   "cell_type": "code",
   "execution_count": 113,
   "id": "08eb4aa1",
   "metadata": {},
   "outputs": [
    {
     "ename": "TypeError",
     "evalue": "unsupported operand type(s) for -: 'tuple' and 'tuple'",
     "output_type": "error",
     "traceback": [
      "\u001b[1;31m---------------------------------------------------------------------------\u001b[0m",
      "\u001b[1;31mTypeError\u001b[0m                                 Traceback (most recent call last)",
      "\u001b[1;32m~\\AppData\\Local\\Temp/ipykernel_5752/1705199416.py\u001b[0m in \u001b[0;36m<module>\u001b[1;34m\u001b[0m\n\u001b[1;32m----> 1\u001b[1;33m \u001b[0mprint\u001b[0m\u001b[1;33m(\u001b[0m\u001b[0mmost_common\u001b[0m\u001b[1;33m-\u001b[0m\u001b[0mleast_common\u001b[0m\u001b[1;33m)\u001b[0m\u001b[1;33m\u001b[0m\u001b[1;33m\u001b[0m\u001b[0m\n\u001b[0m",
      "\u001b[1;31mTypeError\u001b[0m: unsupported operand type(s) for -: 'tuple' and 'tuple'"
     ]
    }
   ],
   "source": [
    "print(most_common-least_common)"
   ]
  }
 ],
 "metadata": {
  "kernelspec": {
   "display_name": "Python 3 (ipykernel)",
   "language": "python",
   "name": "python3"
  },
  "language_info": {
   "codemirror_mode": {
    "name": "ipython",
    "version": 3
   },
   "file_extension": ".py",
   "mimetype": "text/x-python",
   "name": "python",
   "nbconvert_exporter": "python",
   "pygments_lexer": "ipython3",
   "version": "3.7.7"
  }
 },
 "nbformat": 4,
 "nbformat_minor": 5
}
