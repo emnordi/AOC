{
 "cells": [
  {
   "cell_type": "code",
   "execution_count": 3,
   "id": "7f93b3a7",
   "metadata": {},
   "outputs": [],
   "source": [
    "import collections\n",
    "import time"
   ]
  },
  {
   "cell_type": "code",
   "execution_count": 2,
   "id": "0818c6c0",
   "metadata": {},
   "outputs": [],
   "source": [
    "def get_data(fname):\n",
    "    d = {}\n",
    "    with open(fname) as f:\n",
    "        start_w = f.readline()\n",
    "        start_w = start_w.rstrip()\n",
    "        f.readline()\n",
    "        lines = f.readlines()\n",
    "        for line in lines:\n",
    "           (key, val) = line.rstrip().split(' -> ')\n",
    "           d[key] = val\n",
    "    return (start_w, d)"
   ]
  },
  {
   "cell_type": "code",
   "execution_count": 17,
   "id": "e7b5d452",
   "metadata": {},
   "outputs": [
    {
     "name": "stdout",
     "output_type": "stream",
     "text": [
      "0\n",
      "1\n",
      "2\n",
      "3\n",
      "4\n",
      "5\n",
      "6\n",
      "7\n",
      "8\n",
      "9\n",
      "10\n",
      "11\n",
      "12\n",
      "13\n",
      "14\n",
      "15\n",
      "16\n",
      "17\n",
      "18\n",
      "19\n",
      "20\n",
      "21\n",
      "22\n",
      "23\n",
      "24\n"
     ]
    },
    {
     "ename": "KeyboardInterrupt",
     "evalue": "",
     "output_type": "error",
     "traceback": [
      "\u001b[1;31m---------------------------------------------------------------------------\u001b[0m",
      "\u001b[1;31mKeyboardInterrupt\u001b[0m                         Traceback (most recent call last)",
      "\u001b[1;32m~\\AppData\\Local\\Temp/ipykernel_25148/730032716.py\u001b[0m in \u001b[0;36m<module>\u001b[1;34m\u001b[0m\n\u001b[0;32m      7\u001b[0m     \u001b[1;32mfor\u001b[0m \u001b[0mi\u001b[0m \u001b[1;32min\u001b[0m \u001b[0mrange\u001b[0m\u001b[1;33m(\u001b[0m\u001b[1;36m0\u001b[0m\u001b[1;33m,\u001b[0m \u001b[0mlen\u001b[0m\u001b[1;33m(\u001b[0m\u001b[0min_word\u001b[0m\u001b[1;33m)\u001b[0m\u001b[1;33m-\u001b[0m\u001b[1;36m1\u001b[0m\u001b[1;33m,\u001b[0m \u001b[1;36m1\u001b[0m\u001b[1;33m)\u001b[0m\u001b[1;33m:\u001b[0m\u001b[1;33m\u001b[0m\u001b[1;33m\u001b[0m\u001b[0m\n\u001b[0;32m      8\u001b[0m         \u001b[0mins_char\u001b[0m \u001b[1;33m=\u001b[0m \u001b[0mw_dict\u001b[0m\u001b[1;33m[\u001b[0m\u001b[0min_word\u001b[0m\u001b[1;33m[\u001b[0m\u001b[0mi\u001b[0m\u001b[1;33m:\u001b[0m\u001b[0mi\u001b[0m\u001b[1;33m+\u001b[0m\u001b[1;36m2\u001b[0m\u001b[1;33m]\u001b[0m\u001b[1;33m]\u001b[0m\u001b[1;33m\u001b[0m\u001b[1;33m\u001b[0m\u001b[0m\n\u001b[1;32m----> 9\u001b[1;33m         \u001b[0mw\u001b[0m \u001b[1;33m+=\u001b[0m \u001b[0min_word\u001b[0m\u001b[1;33m[\u001b[0m\u001b[0mi\u001b[0m\u001b[1;33m]\u001b[0m \u001b[1;33m+\u001b[0m \u001b[0mins_char\u001b[0m\u001b[1;33m\u001b[0m\u001b[1;33m\u001b[0m\u001b[0m\n\u001b[0m\u001b[0;32m     10\u001b[0m     \u001b[0mw\u001b[0m \u001b[1;33m+=\u001b[0m \u001b[0min_word\u001b[0m\u001b[1;33m[\u001b[0m\u001b[0mlen\u001b[0m\u001b[1;33m(\u001b[0m\u001b[0min_word\u001b[0m\u001b[1;33m)\u001b[0m\u001b[1;33m-\u001b[0m\u001b[1;36m1\u001b[0m\u001b[1;33m]\u001b[0m\u001b[1;33m\u001b[0m\u001b[1;33m\u001b[0m\u001b[0m\n\u001b[0;32m     11\u001b[0m     \u001b[0min_word\u001b[0m \u001b[1;33m=\u001b[0m \u001b[0mw\u001b[0m\u001b[1;33m\u001b[0m\u001b[1;33m\u001b[0m\u001b[0m\n",
      "\u001b[1;31mKeyboardInterrupt\u001b[0m: "
     ]
    }
   ],
   "source": [
    "start = time.time()\n",
    "(in_word, w_dict) = get_data('input.txt')\n",
    "steps = 40\n",
    "for s in range(steps):\n",
    "    print(s)\n",
    "    w = ''\n",
    "    for i in range(0, len(in_word)-1, 1):\n",
    "        ins_char = w_dict[in_word[i:i+2]]\n",
    "        w += in_word[i] + ins_char\n",
    "    w += in_word[len(in_word)-1]\n",
    "    in_word = w\n",
    "end = time.time()\n",
    "print(end - start)"
   ]
  },
  {
   "cell_type": "code",
   "execution_count": null,
   "id": "66210cb7",
   "metadata": {},
   "outputs": [],
   "source": [
    "most_common = collections.Counter(w).most_common(1)[0]\n",
    "least_common = collections.Counter(w).most_common()[-1]"
   ]
  },
  {
   "cell_type": "code",
   "execution_count": null,
   "id": "75e75fab",
   "metadata": {},
   "outputs": [],
   "source": [
    "print(most_common[1]-least_common[1])"
   ]
  },
  {
   "cell_type": "code",
   "execution_count": 21,
   "id": "472632b1",
   "metadata": {},
   "outputs": [],
   "source": [
    "def aoc14(filename):\n",
    "    import copy\n",
    "    polymer = ''\n",
    "    rules = {}\n",
    "\n",
    "    with open(filename, 'r') as f:\n",
    "        for line in f.readlines():\n",
    "            if len(line.strip()) == 0:\n",
    "                continue\n",
    "            if line.find('->') != -1:\n",
    "                a = line.strip().split(' ')\n",
    "                rules[a[0]] = a[2]\n",
    "                continue\n",
    "            polymer = line.strip()\n",
    "\n",
    "    pairs = {}\n",
    "    for key in rules.keys():\n",
    "        pairs[key] = 0\n",
    "\n",
    "    for i in range(0, len(polymer) - 1):\n",
    "        pairs[polymer[i:i+2]] += 1\n",
    "\n",
    "    for step in range(0, 10):\n",
    "        inserts = copy.deepcopy(pairs)\n",
    "        for pair in inserts:\n",
    "            count = inserts[pair]\n",
    "\n",
    "            pairs[pair[0] + rules[pair]] += count\n",
    "            pairs[rules[pair] + pair[1]] += count\n",
    "            pairs[pair] -= count\n",
    "    result = {}\n",
    "    for key in pairs.keys():\n",
    "        if key[0] not in result.keys():\n",
    "            result[key[0]] = 0\n",
    "        if key[1] not in result.keys():\n",
    "            result[key[1]] = 0\n",
    "        result[key[0]] += pairs[key]/2\n",
    "        result[key[1]] += pairs[key]/2\n",
    "\n",
    "    print(max(result.values()) - min(result.values()))"
   ]
  },
  {
   "cell_type": "code",
   "execution_count": 22,
   "id": "7e8f07e3",
   "metadata": {},
   "outputs": [
    {
     "name": "stdout",
     "output_type": "stream",
     "text": [
      "{'CF': 428, 'PP': 388, 'SP': 218, 'NO': 2, 'SF': 766, 'FS': 524, 'OF': 51, 'PN': 0, 'SH': 0, 'BO': 0, 'ON': 85, 'VP': 410, 'HN': 369, 'PS': 236, 'FV': 51, 'NC': 142, 'FN': 404, 'PF': 263, 'BF': 50, 'NB': 0, 'HS': 251, 'SC': 0, 'PC': 112, 'KF': 762, 'HC': 737, 'OK': 64, 'KS': 0, 'VF': 17, 'NV': 0, 'KK': 724, 'HV': 93, 'SV': 236, 'KC': 93, 'HF': 207, 'SN': 252, 'VS': 218, 'VN': 31, 'VH': 0, 'OB': 0, 'VV': 124, 'VC': 69, 'KP': 241, 'OP': 26, 'HO': 0, 'NP': 0, 'HB': 244, 'CS': 248, 'OO': 0, 'CV': 139, 'BS': 57, 'BH': 152, 'HP': 562, 'PK': 452, 'BB': 139, 'PV': 0, 'VO': 128, 'SS': 120, 'CC': 589, 'BC': 107, 'FF': 527, 'HK': 23, 'OH': 149, 'BV': 194, 'CP': 12, 'KN': 97, 'NN': 82, 'FB': 0, 'PH': 264, 'FH': 521, 'FK': 511, 'CK': 89, 'CN': 0, 'BP': 73, 'CH': 207, 'FP': 270, 'HH': 606, 'NF': 27, 'VB': 170, 'FO': 0, 'PB': 229, 'KH': 0, 'PO': 257, 'OV': 96, 'NH': 1193, 'KV': 289, 'OS': 0, 'OC': 42, 'FC': 290, 'SO': 0, 'KO': 127, 'NS': 45, 'CB': 469, 'CO': 0, 'KB': 134, 'BK': 549, 'NK': 0, 'SK': 0, 'SB': 107, 'VK': 55, 'BN': 171}\n",
      "2584.5\n"
     ]
    }
   ],
   "source": [
    "aoc14('input.txt')"
   ]
  }
 ],
 "metadata": {
  "kernelspec": {
   "display_name": "Python 3 (ipykernel)",
   "language": "python",
   "name": "python3"
  },
  "language_info": {
   "codemirror_mode": {
    "name": "ipython",
    "version": 3
   },
   "file_extension": ".py",
   "mimetype": "text/x-python",
   "name": "python",
   "nbconvert_exporter": "python",
   "pygments_lexer": "ipython3",
   "version": "3.7.7"
  }
 },
 "nbformat": 4,
 "nbformat_minor": 5
}
