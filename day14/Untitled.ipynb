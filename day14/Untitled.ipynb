{
 "cells": [
  {
   "cell_type": "code",
   "execution_count": 3,
   "id": "b7411592",
   "metadata": {},
   "outputs": [],
   "source": [
    "import collections\n",
    "import time"
   ]
  },
  {
   "cell_type": "code",
   "execution_count": 2,
   "id": "a9b1a198",
   "metadata": {},
   "outputs": [],
   "source": [
    "def get_data(fname):\n",
    "    d = {}\n",
    "    with open(fname) as f:\n",
    "        start_w = f.readline()\n",
    "        start_w = start_w.rstrip()\n",
    "        f.readline()\n",
    "        lines = f.readlines()\n",
    "        for line in lines:\n",
    "           (key, val) = line.rstrip().split(' -> ')\n",
    "           d[key] = val\n",
    "    return (start_w, d)"
   ]
  },
  {
   "cell_type": "code",
   "execution_count": 17,
   "id": "c0b4614b",
   "metadata": {},
   "outputs": [
    {
     "name": "stdout",
     "output_type": "stream",
     "text": [
      "0\n",
      "1\n",
      "2\n",
      "3\n",
      "4\n",
      "5\n",
      "6\n",
      "7\n",
      "8\n",
      "9\n",
      "10\n",
      "11\n",
      "12\n",
      "13\n",
      "14\n",
      "15\n",
      "16\n",
      "17\n",
      "18\n",
      "19\n",
      "20\n",
      "21\n",
      "22\n",
      "23\n",
      "24\n"
     ]
    },
    {
     "ename": "KeyboardInterrupt",
     "evalue": "",
     "output_type": "error",
     "traceback": [
      "\u001b[1;31m---------------------------------------------------------------------------\u001b[0m",
      "\u001b[1;31mKeyboardInterrupt\u001b[0m                         Traceback (most recent call last)",
      "\u001b[1;32m~\\AppData\\Local\\Temp/ipykernel_25148/730032716.py\u001b[0m in \u001b[0;36m<module>\u001b[1;34m\u001b[0m\n\u001b[0;32m      7\u001b[0m     \u001b[1;32mfor\u001b[0m \u001b[0mi\u001b[0m \u001b[1;32min\u001b[0m \u001b[0mrange\u001b[0m\u001b[1;33m(\u001b[0m\u001b[1;36m0\u001b[0m\u001b[1;33m,\u001b[0m \u001b[0mlen\u001b[0m\u001b[1;33m(\u001b[0m\u001b[0min_word\u001b[0m\u001b[1;33m)\u001b[0m\u001b[1;33m-\u001b[0m\u001b[1;36m1\u001b[0m\u001b[1;33m,\u001b[0m \u001b[1;36m1\u001b[0m\u001b[1;33m)\u001b[0m\u001b[1;33m:\u001b[0m\u001b[1;33m\u001b[0m\u001b[1;33m\u001b[0m\u001b[0m\n\u001b[0;32m      8\u001b[0m         \u001b[0mins_char\u001b[0m \u001b[1;33m=\u001b[0m \u001b[0mw_dict\u001b[0m\u001b[1;33m[\u001b[0m\u001b[0min_word\u001b[0m\u001b[1;33m[\u001b[0m\u001b[0mi\u001b[0m\u001b[1;33m:\u001b[0m\u001b[0mi\u001b[0m\u001b[1;33m+\u001b[0m\u001b[1;36m2\u001b[0m\u001b[1;33m]\u001b[0m\u001b[1;33m]\u001b[0m\u001b[1;33m\u001b[0m\u001b[1;33m\u001b[0m\u001b[0m\n\u001b[1;32m----> 9\u001b[1;33m         \u001b[0mw\u001b[0m \u001b[1;33m+=\u001b[0m \u001b[0min_word\u001b[0m\u001b[1;33m[\u001b[0m\u001b[0mi\u001b[0m\u001b[1;33m]\u001b[0m \u001b[1;33m+\u001b[0m \u001b[0mins_char\u001b[0m\u001b[1;33m\u001b[0m\u001b[1;33m\u001b[0m\u001b[0m\n\u001b[0m\u001b[0;32m     10\u001b[0m     \u001b[0mw\u001b[0m \u001b[1;33m+=\u001b[0m \u001b[0min_word\u001b[0m\u001b[1;33m[\u001b[0m\u001b[0mlen\u001b[0m\u001b[1;33m(\u001b[0m\u001b[0min_word\u001b[0m\u001b[1;33m)\u001b[0m\u001b[1;33m-\u001b[0m\u001b[1;36m1\u001b[0m\u001b[1;33m]\u001b[0m\u001b[1;33m\u001b[0m\u001b[1;33m\u001b[0m\u001b[0m\n\u001b[0;32m     11\u001b[0m     \u001b[0min_word\u001b[0m \u001b[1;33m=\u001b[0m \u001b[0mw\u001b[0m\u001b[1;33m\u001b[0m\u001b[1;33m\u001b[0m\u001b[0m\n",
      "\u001b[1;31mKeyboardInterrupt\u001b[0m: "
     ]
    }
   ],
   "source": [
    "start = time.time()\n",
    "(in_word, w_dict) = get_data('input.txt')\n",
    "steps = 40\n",
    "for s in range(steps):\n",
    "    print(s)\n",
    "    w = ''\n",
    "    for i in range(0, len(in_word)-1, 1):\n",
    "        ins_char = w_dict[in_word[i:i+2]]\n",
    "        w += in_word[i] + ins_char\n",
    "    w += in_word[len(in_word)-1]\n",
    "    in_word = w\n",
    "end = time.time()\n",
    "print(end - start)"
   ]
  },
  {
   "cell_type": "code",
   "execution_count": null,
   "id": "570f7008",
   "metadata": {},
   "outputs": [],
   "source": [
    "most_common = collections.Counter(w).most_common(1)[0]\n",
    "least_common = collections.Counter(w).most_common()[-1]"
   ]
  },
  {
   "cell_type": "code",
   "execution_count": null,
   "id": "1bd9c7ba",
   "metadata": {},
   "outputs": [],
   "source": [
    "print(most_common[1]-least_common[1])"
   ]
  },
  {
   "cell_type": "code",
   "execution_count": 25,
   "id": "5c985b3c",
   "metadata": {},
   "outputs": [],
   "source": [
    "def aoc14(filename):\n",
    "    import copy\n",
    "    polymer = ''\n",
    "    rules = {}\n",
    "\n",
    "    with open(filename, 'r') as f:\n",
    "        for line in f.readlines():\n",
    "            if len(line.strip()) == 0:\n",
    "                continue\n",
    "            if line.find('->') != -1:\n",
    "                a = line.strip().split(' ')\n",
    "                rules[a[0]] = a[2]\n",
    "                continue\n",
    "            polymer = line.strip()\n",
    "\n",
    "    pairs = {}\n",
    "    for key in rules.keys():\n",
    "        pairs[key] = 0\n",
    "\n",
    "    for i in range(0, len(polymer) - 1):\n",
    "        pairs[polymer[i:i+2]] += 1\n",
    "\n",
    "    for step in range(0, 10):\n",
    "        inserts = copy.deepcopy(pairs)\n",
    "        for pair in inserts:\n",
    "            count = inserts[pair]\n",
    "\n",
    "            pairs[pair[0] + rules[pair]] += count\n",
    "            pairs[rules[pair] + pair[1]] += count\n",
    "            pairs[pair] -= count\n",
    "    result = {}\n",
    "    for key in pairs.keys():\n",
    "        if key[0] not in result.keys():\n",
    "            result[key[0]] = 0\n",
    "        if key[1] not in result.keys():\n",
    "            result[key[1]] = 0\n",
    "        result[key[0]] += pairs[key]/2\n",
    "        result[key[1]] += pairs[key]/2\n",
    "\n",
    "    print(max(result.values()) - min(result.values()))"
   ]
  },
  {
   "cell_type": "code",
   "execution_count": 26,
   "id": "8e2f25dc",
   "metadata": {},
   "outputs": [
    {
     "name": "stdout",
     "output_type": "stream",
     "text": [
      "2584.5\n"
     ]
    }
   ],
   "source": [
    "aoc14('input.txt')"
   ]
  }
 ],
 "metadata": {
  "kernelspec": {
   "display_name": "Python 3 (ipykernel)",
   "language": "python",
   "name": "python3"
  },
  "language_info": {
   "codemirror_mode": {
    "name": "ipython",
    "version": 3
   },
   "file_extension": ".py",
   "mimetype": "text/x-python",
   "name": "python",
   "nbconvert_exporter": "python",
   "pygments_lexer": "ipython3",
   "version": "3.7.7"
  }
 },
 "nbformat": 4,
 "nbformat_minor": 5
}
